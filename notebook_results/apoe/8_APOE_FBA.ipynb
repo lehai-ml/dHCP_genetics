{
 "cells": [
  {
   "cell_type": "code",
   "execution_count": 1,
   "id": "d8f79647",
   "metadata": {},
   "outputs": [],
   "source": [
    "import sys\n",
    "sys.path.append('../../')\n",
    "sys.path.append('../')\n",
    "\n",
    "from codes.docs.analysis import data_preprocessing, genetic_file_preprocess\n",
    "from codes.docs.analysis.nimagen import genes, stats, visualisation\n",
    "\n",
    "import matplotlib.pyplot as plt\n",
    "import seaborn as sns\n",
    "import numpy as np\n",
    "import pandas as pd\n",
    "import scipy.io\n",
    "import glob\n",
    "from collections import defaultdict\n",
    "%matplotlib inline"
   ]
  },
  {
   "cell_type": "code",
   "execution_count": 2,
   "id": "b62868e5",
   "metadata": {},
   "outputs": [],
   "source": [
    "european_term = pd.read_csv('../../dataset/preprocessed_dataset/imaging_data/log_file/rel3/volumetric/european_volumetric_df_rel3_batch2.csv')"
   ]
  },
  {
   "cell_type": "code",
   "execution_count": 3,
   "id": "314d8f67",
   "metadata": {},
   "outputs": [],
   "source": [
    "european_term = european_term[~european_term['available_dmri'].isna()]"
   ]
  },
  {
   "cell_type": "code",
   "execution_count": 4,
   "id": "44d308fe",
   "metadata": {},
   "outputs": [],
   "source": [
    "european_term = european_term.drop_duplicates(subset=['ID'],keep='first')"
   ]
  },
  {
   "cell_type": "code",
   "execution_count": 5,
   "id": "314f8cf2",
   "metadata": {},
   "outputs": [],
   "source": [
    "#to use in FBA we need to transform ID and Session to sub- and ses-\n",
    "# european_term['ID'] =  'sub-' + european_term['ID']\n",
    "# european_term['Session'] =  'ses-' + european_term['Session'].astype('str')\n",
    "european_term['ID/Session'] = 'sub-' + european_term['ID'] +'/'+'ses-' + european_term['Session'].astype('str')"
   ]
  },
  {
   "cell_type": "code",
   "execution_count": 6,
   "id": "4eceb72f",
   "metadata": {},
   "outputs": [],
   "source": [
    "european_term['ID/Session'].to_csv('../../codes/FBA/all_european_term.txt',header=None,index=False)"
   ]
  },
  {
   "cell_type": "code",
   "execution_count": 7,
   "id": "636b0e9d",
   "metadata": {},
   "outputs": [],
   "source": [
    "to_exclude=['sub-CC01105XX08/ses-99330','sub-CC00545XX18/ses-170400'] # bad mask"
   ]
  },
  {
   "cell_type": "code",
   "execution_count": 8,
   "id": "e5838151",
   "metadata": {},
   "outputs": [],
   "source": [
    "european_term = european_term[~european_term['ID/Session'].isin(to_exclude)]"
   ]
  },
  {
   "cell_type": "code",
   "execution_count": 9,
   "id": "f1e94435",
   "metadata": {},
   "outputs": [],
   "source": [
    "#we remove outliers related to ancestry\n",
    "df = european_term.copy()\n",
    "\n",
    "ancestry = [f'euro_Anc_PC{i}'\n",
    "            for i in range(1, 4)]  # remove any ancestry outliers\n",
    "\n",
    "df = stats.MassUnivariate.remove_outliers(\n",
    "    df,\n",
    "    col=ancestry,\n",
    "    threshold=3.5,\n",
    "    remove_schemes='any',\n",
    "    percentage_of_outlier=0.1)\n",
    "\n",
    "\n",
    "\n",
    "#divide into high and low risk in three quarters"
   ]
  },
  {
   "cell_type": "code",
   "execution_count": 10,
   "id": "735f8457",
   "metadata": {},
   "outputs": [
    {
     "data": {
      "image/png": "[encoded data removed]",
      "text/plain": [
       "<Figure size 640x480 with 1 Axes>"
      ]
     },
     "metadata": {},
     "output_type": "display_data"
    }
   ],
   "source": [
    "_ , _ = genetic_file_preprocess.Cohort.remove_outliers(\n",
    "    european_term,\n",
    "    to_examine=['euro_Anc_PC2', 'euro_Anc_PC3'],\n",
    "    to_annotate='ID')"
   ]
  },
  {
   "cell_type": "code",
   "execution_count": 84,
   "id": "7a56afda",
   "metadata": {},
   "outputs": [],
   "source": [
    "allele_C = genetic_file_preprocess.Cohort.preprocess_PRSice_PRS_Anc_files('../../dataset/APOE/dHCP_rs429358.raw')\n",
    "allele_T = genetic_file_preprocess.Cohort.preprocess_PRSice_PRS_Anc_files('../../dataset/APOE/dHCP_rs7412.raw')"
   ]
  },
  {
   "cell_type": "code",
   "execution_count": 85,
   "id": "d5caf485",
   "metadata": {},
   "outputs": [],
   "source": [
    "allele_C=allele_C[['ID','19:45411941_C']]\n",
    "allele_T=allele_T[['ID','19:45412079_T']]"
   ]
  },
  {
   "cell_type": "code",
   "execution_count": 86,
   "id": "38c71445",
   "metadata": {},
   "outputs": [],
   "source": [
    "apoe_genotype = allele_C.merge(allele_T)"
   ]
  },
  {
   "cell_type": "code",
   "execution_count": 87,
   "id": "6895ade7",
   "metadata": {},
   "outputs": [],
   "source": [
    "apoe_genotype.columns = ['ID','codon112','codon158']"
   ]
  },
  {
   "cell_type": "code",
   "execution_count": 88,
   "id": "491f0b23",
   "metadata": {},
   "outputs": [],
   "source": [
    "apoe_genotype = apoe_genotype.dropna()"
   ]
  },
  {
   "cell_type": "code",
   "execution_count": 89,
   "id": "8aa4e2ef",
   "metadata": {},
   "outputs": [],
   "source": [
    "apoe_genotype['codon112'] = apoe_genotype['codon112'].astype('int64')\n",
    "apoe_genotype['codon158'] = apoe_genotype['codon158'].astype('int64')"
   ]
  },
  {
   "cell_type": "code",
   "execution_count": 104,
   "id": "16d0128a",
   "metadata": {},
   "outputs": [],
   "source": [
    "apoe_genotype['genotype'] = ['e3/e3' if (codon112==0 and codon158==0) or (codon112==2 and codon158==2) \n",
    "                             else 'e2/e3' if (codon112==0 and codon158==1) or (codon112==1 and codon158==2) \n",
    "                             else 'e2/e2' if (codon112==0 and codon158==2) \n",
    "                             else 'e3/e4' if (codon112==1 and codon158==0) or (codon112==2 and codon158==1) \n",
    "                             else 'e2/e4' if (codon112==1 and codon158==1) \n",
    "                             else 'e4/e4' for codon112,codon158 in apoe_genotype[['codon112','codon158']].itertuples(index=False,name=None)]"
   ]
  },
  {
   "cell_type": "code",
   "execution_count": 110,
   "id": "0a958d27",
   "metadata": {},
   "outputs": [
    {
     "data": {
      "text/html": [
       "<div>\n",
       "<style scoped>\n",
       "    .dataframe tbody tr th:only-of-type {\n",
       "        vertical-align: middle;\n",
       "    }\n",
       "\n",
       "    .dataframe tbody tr th {\n",
       "        vertical-align: top;\n",
       "    }\n",
       "\n",
       "    .dataframe thead th {\n",
       "        text-align: right;\n",
       "    }\n",
       "</style>\n",
       "<table border=\"1\" class=\"dataframe\">\n",
       "  <thead>\n",
       "    <tr style=\"text-align: right;\">\n",
       "      <th></th>\n",
       "      <th>ID</th>\n",
       "      <th>codon112</th>\n",
       "      <th>codon158</th>\n",
       "      <th>genotype</th>\n",
       "    </tr>\n",
       "  </thead>\n",
       "  <tbody>\n",
       "    <tr>\n",
       "      <th>4</th>\n",
       "      <td>CC00037XX13</td>\n",
       "      <td>1</td>\n",
       "      <td>0</td>\n",
       "      <td>e3/e4</td>\n",
       "    </tr>\n",
       "    <tr>\n",
       "      <th>9</th>\n",
       "      <td>CC00056XX07</td>\n",
       "      <td>1</td>\n",
       "      <td>0</td>\n",
       "      <td>e3/e4</td>\n",
       "    </tr>\n",
       "    <tr>\n",
       "      <th>18</th>\n",
       "      <td>CC00064XX07</td>\n",
       "      <td>1</td>\n",
       "      <td>0</td>\n",
       "      <td>e3/e4</td>\n",
       "    </tr>\n",
       "    <tr>\n",
       "      <th>20</th>\n",
       "      <td>CC00066XX09</td>\n",
       "      <td>1</td>\n",
       "      <td>0</td>\n",
       "      <td>e3/e4</td>\n",
       "    </tr>\n",
       "    <tr>\n",
       "      <th>21</th>\n",
       "      <td>CC00067XX10</td>\n",
       "      <td>1</td>\n",
       "      <td>0</td>\n",
       "      <td>e3/e4</td>\n",
       "    </tr>\n",
       "    <tr>\n",
       "      <th>...</th>\n",
       "      <td>...</td>\n",
       "      <td>...</td>\n",
       "      <td>...</td>\n",
       "      <td>...</td>\n",
       "    </tr>\n",
       "    <tr>\n",
       "      <th>799</th>\n",
       "      <td>CC01206XX10</td>\n",
       "      <td>1</td>\n",
       "      <td>0</td>\n",
       "      <td>e3/e4</td>\n",
       "    </tr>\n",
       "    <tr>\n",
       "      <th>800</th>\n",
       "      <td>CC01207XX11</td>\n",
       "      <td>1</td>\n",
       "      <td>0</td>\n",
       "      <td>e3/e4</td>\n",
       "    </tr>\n",
       "    <tr>\n",
       "      <th>803</th>\n",
       "      <td>CC01211XX07</td>\n",
       "      <td>1</td>\n",
       "      <td>0</td>\n",
       "      <td>e3/e4</td>\n",
       "    </tr>\n",
       "    <tr>\n",
       "      <th>809</th>\n",
       "      <td>CC01232AN12</td>\n",
       "      <td>1</td>\n",
       "      <td>0</td>\n",
       "      <td>e3/e4</td>\n",
       "    </tr>\n",
       "    <tr>\n",
       "      <th>813</th>\n",
       "      <td>CC01236XX16</td>\n",
       "      <td>1</td>\n",
       "      <td>0</td>\n",
       "      <td>e3/e4</td>\n",
       "    </tr>\n",
       "  </tbody>\n",
       "</table>\n",
       "<p>196 rows × 4 columns</p>\n",
       "</div>"
      ],
      "text/plain": [
       "              ID  codon112  codon158 genotype\n",
       "4    CC00037XX13         1         0    e3/e4\n",
       "9    CC00056XX07         1         0    e3/e4\n",
       "18   CC00064XX07         1         0    e3/e4\n",
       "20   CC00066XX09         1         0    e3/e4\n",
       "21   CC00067XX10         1         0    e3/e4\n",
       "..           ...       ...       ...      ...\n",
       "799  CC01206XX10         1         0    e3/e4\n",
       "800  CC01207XX11         1         0    e3/e4\n",
       "803  CC01211XX07         1         0    e3/e4\n",
       "809  CC01232AN12         1         0    e3/e4\n",
       "813  CC01236XX16         1         0    e3/e4\n",
       "\n",
       "[196 rows x 4 columns]"
      ]
     },
     "execution_count": 110,
     "metadata": {},
     "output_type": "execute_result"
    }
   ],
   "source": [
    "apoe_genotype[apoe_genotype['genotype'] == 'e3/e4']"
   ]
  },
  {
   "cell_type": "code",
   "execution_count": 113,
   "id": "e12d4f36",
   "metadata": {},
   "outputs": [],
   "source": [
    "df = df.merge(apoe_genotype,on=['ID'])"
   ]
  },
  {
   "cell_type": "code",
   "execution_count": 121,
   "id": "6725d9f7",
   "metadata": {},
   "outputs": [
    {
     "data": {
      "text/plain": [
       "e3/e3    136\n",
       "e3/e4     53\n",
       "e2/e3     32\n",
       "e4/e4      5\n",
       "e2/e4      2\n",
       "e2/e2      1\n",
       "Name: genotype, dtype: int64"
      ]
     },
     "execution_count": 121,
     "metadata": {},
     "output_type": "execute_result"
    }
   ],
   "source": [
    "\n",
    "df.genotype.value_counts()"
   ]
  },
  {
   "cell_type": "code",
   "execution_count": 122,
   "id": "17637bd5",
   "metadata": {},
   "outputs": [],
   "source": [
    "df['carrier'] = ['carrier' if 'e4' in i else 'non-carrier' for i in df.genotype]"
   ]
  },
  {
   "cell_type": "code",
   "execution_count": 126,
   "id": "3c881cb7",
   "metadata": {},
   "outputs": [
    {
     "data": {
      "text/plain": [
       "non-carrier    169\n",
       "carrier         60\n",
       "Name: carrier, dtype: int64"
      ]
     },
     "execution_count": 126,
     "metadata": {},
     "output_type": "execute_result"
    }
   ],
   "source": [
    "df['carrier'].value_counts()"
   ]
  },
  {
   "cell_type": "code",
   "execution_count": 128,
   "id": "eb82fbf6",
   "metadata": {},
   "outputs": [],
   "source": [
    "df[['ID/Session','sex','PMA','GA','ICV','TBV','carrier']+[f'euro_Anc_PC{i}' for i in range(1,4)]].to_csv('../../codes/FBA/available_subjects_APOE.txt',header=None,index=False)"
   ]
  },
  {
   "cell_type": "code",
   "execution_count": null,
   "id": "640e8a41",
   "metadata": {},
   "outputs": [],
   "source": []
  }
 ],
 "metadata": {
  "kernelspec": {
   "display_name": "Python 3 (ipykernel)",
   "language": "python",
   "name": "python3"
  },
  "language_info": {
   "codemirror_mode": {
    "name": "ipython",
    "version": 3
   },
   "file_extension": ".py",
   "mimetype": "text/x-python",
   "name": "python",
   "nbconvert_exporter": "python",
   "pygments_lexer": "ipython3",
   "version": "3.9.13"
  }
 },
 "nbformat": 4,
 "nbformat_minor": 5
}
