{
 "cells": [
  {
   "cell_type": "code",
   "execution_count": 1,
   "metadata": {
    "ExecuteTime": {
     "end_time": "2022-06-29T12:43:19.853734Z",
     "start_time": "2022-06-29T12:43:19.834746Z"
    }
   },
   "outputs": [],
   "source": [
    "import sys\n",
    "sys.path.append('../../')\n",
    "sys.path.append('../')"
   ]
  },
  {
   "cell_type": "code",
   "execution_count": 2,
   "metadata": {
    "ExecuteTime": {
     "end_time": "2022-06-29T12:43:20.616736Z",
     "start_time": "2022-06-29T12:43:20.601747Z"
    }
   },
   "outputs": [],
   "source": [
    "dataset_path = \"../../dataset\"\n",
    "preprocessed_dataset_path = \"preprocessed_dataset\""
   ]
  },
  {
   "cell_type": "code",
   "execution_count": 3,
   "metadata": {
    "ExecuteTime": {
     "end_time": "2022-06-29T12:43:32.411682Z",
     "start_time": "2022-06-29T12:43:21.081749Z"
    }
   },
   "outputs": [],
   "source": [
    "from codes.docs.analysis import data_preprocessing,visualisation\n",
    "from codes.docs.analysis.gene_analysis import genetic_file_preprocess"
   ]
  },
  {
   "cell_type": "code",
   "execution_count": 4,
   "metadata": {
    "ExecuteTime": {
     "end_time": "2022-06-29T12:43:38.277874Z",
     "start_time": "2022-06-29T12:43:38.033715Z"
    }
   },
   "outputs": [],
   "source": [
    "import matplotlib.pyplot as plt\n",
    "import numpy as np\n",
    "import pandas as pd\n",
    "import scipy.io\n",
    "import glob\n",
    "from collections import defaultdict\n",
    "%matplotlib inline"
   ]
  },
  {
   "cell_type": "markdown",
   "metadata": {},
   "source": [
    "Notebook 1 description: \n",
    "1. Imaging data is imported and preprocessed\n",
    "\n",
    "Available informations\n",
    "- Volumetric dataset (dHCP) - 675 individuals\n",
    "- Diffusion dataset - 432 individuals\n",
    "- Microstructure - 318 individuals\n",
    "- Cortical thickness - 234 individuals\n",
    "2. Genetic data is added and outliers removed\n",
    "- Schizophrenia - PRS calculated from GWAS 2020 (Ripke et al., 2020)"
   ]
  },
  {
   "cell_type": "markdown",
   "metadata": {},
   "source": [
    "# 1. Data Preprocessing and Importing"
   ]
  },
  {
   "cell_type": "markdown",
   "metadata": {
    "deletable": false,
    "editable": false,
    "run_control": {
     "frozen": true
    }
   },
   "source": [
    "## Importing volumetric, diffusion, microstructural, cortical thickness dataset"
   ]
  },
  {
   "cell_type": "markdown",
   "metadata": {},
   "source": [
    "### Metadata "
   ]
  },
  {
   "cell_type": "markdown",
   "metadata": {},
   "source": [
    "The `dHCP_release3_metadata.tsv` is downloaded from [here](https://biomedia.github.io/dHCP-release-notes/download.html). Total rows = 887\n",
    "\n",
    "saved in `dataset/participant_info/`\n",
    "\n",
    "* Of these, 5 were removed for bad radiology image (3 of which are repeat scans)"
   ]
  },
  {
   "cell_type": "code",
   "execution_count": 5,
   "metadata": {},
   "outputs": [],
   "source": [
    "dHCP_metadata = pd.read_csv('../../dataset/participant_info/dHCP_release3_metadata.tsv',sep='\\t')\n",
    "dHCP_metadata.rename(columns={'participant_id':'ID',\n",
    "                     'session_id':'Session',\n",
    "                     'birth_age':'GA',\n",
    "                     'scan_age':'PMA'},inplace=True)"
   ]
  },
  {
   "cell_type": "code",
   "execution_count": 6,
   "metadata": {},
   "outputs": [],
   "source": [
    "dHCP_metadata = dHCP_metadata[~dHCP_metadata['radiology_low_image_quality']] # remove low_radiology_scores`"
   ]
  },
  {
   "cell_type": "code",
   "execution_count": 7,
   "metadata": {},
   "outputs": [
    {
     "data": {
      "text/plain": [
       "(882, 39)"
      ]
     },
     "execution_count": 7,
     "metadata": {},
     "output_type": "execute_result"
    }
   ],
   "source": [
    "dHCP_metadata.shape"
   ]
  },
  {
   "cell_type": "markdown",
   "metadata": {},
   "source": [
    "### Volumetric dataset"
   ]
  },
  {
   "cell_type": "markdown",
   "metadata": {},
   "source": [
    "The `volumetric_dataset` contains all the volumetric information for the full cohort. Labels are saved in `Imperial_label` and `AAL_label`.\n",
    "\n",
    "* AAL is derived by Dafnis.\n",
    "* DrawEM (preferred method) is part of dHCP pipeline.\n",
    "\n",
    "Volume are calculated directly from segmentation, where for each label, number of voxel is multiplied by the voxel dimension\n",
    "\n",
    "`fslstats -t segmented.file -l label-1 -t label+1 -v | awk \"{print $2}\"`"
   ]
  },
  {
   "cell_type": "markdown",
   "metadata": {},
   "source": [
    "The following files are available (saved in dataset/volumetric/full_dataset/)\n",
    "\n",
    "* `allSubjectsWithKANA_AALVolumes_mm3_4Harriet_withCovariates_withImperialLegendsOK.xlsx` created by Dafnis. The last subject ID is 1074. Total rows = 750. Contains AAL and DrawEM (750 includes repeated measures)\n",
    "* `neonatal_release3_DrawEM_Volume_Hai.tsv` created by Hai using segementation files in dhcp-pipeline-data/BIDS_public/rel3_dhcp_anat_pipeline/ \n"
   ]
  },
  {
   "cell_type": "code",
   "execution_count": 363,
   "metadata": {},
   "outputs": [],
   "source": [
    "#Volumetric dataset\n",
    "volumetric_dataset = pd.read_excel(open(\n",
    "    dataset_path +\n",
    "    '/volumetric/full_dataset/allSubjectsWithKANA_AALVolumes_mm3_4Harriet_withCovariates_withImperialLegendsOK.xlsx',\n",
    "    'rb'),\n",
    "                             sheet_name='allSubjectsWithKANA_AALVolumes').drop(\n",
    "                                 'ID', axis=1)\n",
    "volumetric_dataset = volumetric_dataset.rename({'Subject': 'ID'}, axis=1)\n",
    "volumetric_dataset.rename(columns={\n",
    "    'GA at birth': 'GA',\n",
    "    'PMA at birth': 'PMA'\n",
    "},\n",
    "                    inplace=True)"
   ]
  },
  {
   "cell_type": "code",
   "execution_count": 8,
   "metadata": {},
   "outputs": [],
   "source": [
    "Imperial_label = pd.read_excel(open(\n",
    "    f'{dataset_path}/volumetric/full_dataset/allSubjectsWithKANA_AALVolumes_mm3_4Harriet_withCovariates_withImperialLegendsOK.xlsx',\n",
    "    'rb'),\n",
    "                               sheet_name='IMPERIAL ROIs LEGEND',\n",
    "                               header=None).drop([0, 1], axis=1)\n",
    "AAL_label = pd.read_excel(open(\n",
    "    f'{dataset_path}/volumetric/full_dataset/allSubjectsWithKANA_AALVolumes_mm3_4Harriet_withCovariates_withImperialLegendsOK.xlsx',\n",
    "    'rb'),\n",
    "                          sheet_name='AAL LEGEND',\n",
    "                          header=None).drop(0, axis=1)\n",
    "\n",
    "from string import digits\n",
    "\n",
    "AAL_label = np.asarray(\n",
    "    [str.split(i, ' ')[1] for i in np.asarray(AAL_label).reshape(-1)])\n",
    "Imperial_label = np.asarray([\n",
    "    str.strip(i.translate({ord(c): None\n",
    "                           for c in digits}))\n",
    "    for i in (np.asarray(Imperial_label)).reshape(-1)\n",
    "])"
   ]
  },
  {
   "cell_type": "code",
   "execution_count": 425,
   "metadata": {},
   "outputs": [
    {
     "name": "stdout",
     "output_type": "stream",
     "text": [
      "volumetric dataset\n"
     ]
    },
    {
     "data": {
      "text/plain": [
       "(750, 201)"
      ]
     },
     "execution_count": 425,
     "metadata": {},
     "output_type": "execute_result"
    }
   ],
   "source": [
    "print('volumetric dataset')\n",
    "volumetric_dataset.shape"
   ]
  },
  {
   "cell_type": "code",
   "execution_count": null,
   "metadata": {
    "deletable": false,
    "editable": false,
    "run_control": {
     "frozen": true
    }
   },
   "outputs": [],
   "source": [
    "volumetric_dataset.to_csv(f'{preprocessed_dataset_path}/imaging_data/log_file/volumetric_dataset_dafnis.csv',\n",
    "    index=False)"
   ]
  },
  {
   "cell_type": "code",
   "execution_count": 59,
   "metadata": {},
   "outputs": [],
   "source": [
    "volumetric_dataset = pd.read_table('../../dataset/volumetric/full_dataset/neonatal_release3_DrawEM_Volume_Hai.tsv',delim_whitespace=True,header=None)\n",
    "volumetric_dataset.columns = ['ID/ses'] + [f'Imperial {i}' for i in range(1,88)]\n",
    "volumetric_dataset['ID'] = [i.split('/')[0].replace('sub-','') for i in new_vols['ID/ses']]\n",
    "volumetric_dataset['Session'] = [i.split('/')[1].replace('ses-','') for i in new_vols['ID/ses']]\n",
    "volumetric_dataset['Session'] = new_vols['Session'].astype('int64')"
   ]
  },
  {
   "cell_type": "code",
   "execution_count": 60,
   "metadata": {},
   "outputs": [],
   "source": [
    "volumetric_dataset = volumetric_dataset[['ID','Session']+[f'Imperial {i}' for i in range(1,88)]]"
   ]
  },
  {
   "cell_type": "code",
   "execution_count": 61,
   "metadata": {},
   "outputs": [
    {
     "data": {
      "text/html": [
       "<div>\n",
       "<style scoped>\n",
       "    .dataframe tbody tr th:only-of-type {\n",
       "        vertical-align: middle;\n",
       "    }\n",
       "\n",
       "    .dataframe tbody tr th {\n",
       "        vertical-align: top;\n",
       "    }\n",
       "\n",
       "    .dataframe thead th {\n",
       "        text-align: right;\n",
       "    }\n",
       "</style>\n",
       "<table border=\"1\" class=\"dataframe\">\n",
       "  <thead>\n",
       "    <tr style=\"text-align: right;\">\n",
       "      <th></th>\n",
       "      <th>ID</th>\n",
       "      <th>Session</th>\n",
       "      <th>Imperial 1</th>\n",
       "      <th>Imperial 2</th>\n",
       "      <th>Imperial 3</th>\n",
       "      <th>Imperial 4</th>\n",
       "      <th>Imperial 5</th>\n",
       "      <th>Imperial 6</th>\n",
       "      <th>Imperial 7</th>\n",
       "      <th>Imperial 8</th>\n",
       "      <th>...</th>\n",
       "      <th>Imperial 78</th>\n",
       "      <th>Imperial 79</th>\n",
       "      <th>Imperial 80</th>\n",
       "      <th>Imperial 81</th>\n",
       "      <th>Imperial 82</th>\n",
       "      <th>Imperial 83</th>\n",
       "      <th>Imperial 84</th>\n",
       "      <th>Imperial 85</th>\n",
       "      <th>Imperial 86</th>\n",
       "      <th>Imperial 87</th>\n",
       "    </tr>\n",
       "  </thead>\n",
       "  <tbody>\n",
       "    <tr>\n",
       "      <th>0</th>\n",
       "      <td>CC00072XX07</td>\n",
       "      <td>27600</td>\n",
       "      <td>570.125</td>\n",
       "      <td>566.125</td>\n",
       "      <td>326.625</td>\n",
       "      <td>398.375</td>\n",
       "      <td>670.625</td>\n",
       "      <td>663.750</td>\n",
       "      <td>569.000</td>\n",
       "      <td>642.000</td>\n",
       "      <td>...</td>\n",
       "      <td>847.125</td>\n",
       "      <td>20604.625</td>\n",
       "      <td>20701.250</td>\n",
       "      <td>12167.000</td>\n",
       "      <td>12511.375</td>\n",
       "      <td>51264.500</td>\n",
       "      <td>34827.750</td>\n",
       "      <td>5648.375</td>\n",
       "      <td>319.500</td>\n",
       "      <td>294.250</td>\n",
       "    </tr>\n",
       "    <tr>\n",
       "      <th>1</th>\n",
       "      <td>CC01027XX13</td>\n",
       "      <td>82630</td>\n",
       "      <td>756.000</td>\n",
       "      <td>884.000</td>\n",
       "      <td>521.000</td>\n",
       "      <td>644.125</td>\n",
       "      <td>1058.625</td>\n",
       "      <td>1017.500</td>\n",
       "      <td>1042.625</td>\n",
       "      <td>993.875</td>\n",
       "      <td>...</td>\n",
       "      <td>1290.625</td>\n",
       "      <td>31565.500</td>\n",
       "      <td>30879.375</td>\n",
       "      <td>17786.500</td>\n",
       "      <td>17019.750</td>\n",
       "      <td>82196.125</td>\n",
       "      <td>43985.375</td>\n",
       "      <td>7703.625</td>\n",
       "      <td>491.875</td>\n",
       "      <td>424.625</td>\n",
       "    </tr>\n",
       "    <tr>\n",
       "      <th>2</th>\n",
       "      <td>CC00150AN02</td>\n",
       "      <td>54800</td>\n",
       "      <td>819.125</td>\n",
       "      <td>838.000</td>\n",
       "      <td>481.375</td>\n",
       "      <td>568.625</td>\n",
       "      <td>1054.375</td>\n",
       "      <td>1129.000</td>\n",
       "      <td>1121.500</td>\n",
       "      <td>1175.000</td>\n",
       "      <td>...</td>\n",
       "      <td>1303.250</td>\n",
       "      <td>35563.125</td>\n",
       "      <td>35701.000</td>\n",
       "      <td>19258.750</td>\n",
       "      <td>19559.500</td>\n",
       "      <td>73745.125</td>\n",
       "      <td>45095.625</td>\n",
       "      <td>8404.375</td>\n",
       "      <td>420.125</td>\n",
       "      <td>429.875</td>\n",
       "    </tr>\n",
       "    <tr>\n",
       "      <th>3</th>\n",
       "      <td>CC00410XX06</td>\n",
       "      <td>125800</td>\n",
       "      <td>751.750</td>\n",
       "      <td>906.875</td>\n",
       "      <td>476.500</td>\n",
       "      <td>558.625</td>\n",
       "      <td>724.875</td>\n",
       "      <td>785.125</td>\n",
       "      <td>1026.625</td>\n",
       "      <td>948.000</td>\n",
       "      <td>...</td>\n",
       "      <td>1212.500</td>\n",
       "      <td>30817.125</td>\n",
       "      <td>31117.125</td>\n",
       "      <td>15947.000</td>\n",
       "      <td>16077.375</td>\n",
       "      <td>62841.375</td>\n",
       "      <td>43032.250</td>\n",
       "      <td>7442.875</td>\n",
       "      <td>462.375</td>\n",
       "      <td>358.500</td>\n",
       "    </tr>\n",
       "    <tr>\n",
       "      <th>4</th>\n",
       "      <td>CC00586XX18</td>\n",
       "      <td>179000</td>\n",
       "      <td>702.875</td>\n",
       "      <td>760.000</td>\n",
       "      <td>456.875</td>\n",
       "      <td>457.625</td>\n",
       "      <td>777.125</td>\n",
       "      <td>803.500</td>\n",
       "      <td>907.000</td>\n",
       "      <td>849.125</td>\n",
       "      <td>...</td>\n",
       "      <td>1101.625</td>\n",
       "      <td>25189.750</td>\n",
       "      <td>25174.625</td>\n",
       "      <td>14327.250</td>\n",
       "      <td>13987.250</td>\n",
       "      <td>51900.500</td>\n",
       "      <td>40194.500</td>\n",
       "      <td>6876.000</td>\n",
       "      <td>405.250</td>\n",
       "      <td>412.875</td>\n",
       "    </tr>\n",
       "    <tr>\n",
       "      <th>...</th>\n",
       "      <td>...</td>\n",
       "      <td>...</td>\n",
       "      <td>...</td>\n",
       "      <td>...</td>\n",
       "      <td>...</td>\n",
       "      <td>...</td>\n",
       "      <td>...</td>\n",
       "      <td>...</td>\n",
       "      <td>...</td>\n",
       "      <td>...</td>\n",
       "      <td>...</td>\n",
       "      <td>...</td>\n",
       "      <td>...</td>\n",
       "      <td>...</td>\n",
       "      <td>...</td>\n",
       "      <td>...</td>\n",
       "      <td>...</td>\n",
       "      <td>...</td>\n",
       "      <td>...</td>\n",
       "      <td>...</td>\n",
       "      <td>...</td>\n",
       "    </tr>\n",
       "    <tr>\n",
       "      <th>777</th>\n",
       "      <td>CC00355XX09</td>\n",
       "      <td>112600</td>\n",
       "      <td>628.625</td>\n",
       "      <td>715.875</td>\n",
       "      <td>430.125</td>\n",
       "      <td>458.250</td>\n",
       "      <td>918.625</td>\n",
       "      <td>837.750</td>\n",
       "      <td>880.125</td>\n",
       "      <td>863.625</td>\n",
       "      <td>...</td>\n",
       "      <td>1183.875</td>\n",
       "      <td>30545.500</td>\n",
       "      <td>28959.000</td>\n",
       "      <td>18526.875</td>\n",
       "      <td>17842.125</td>\n",
       "      <td>71669.750</td>\n",
       "      <td>48989.000</td>\n",
       "      <td>7155.375</td>\n",
       "      <td>338.125</td>\n",
       "      <td>310.250</td>\n",
       "    </tr>\n",
       "    <tr>\n",
       "      <th>778</th>\n",
       "      <td>CC01020XX06</td>\n",
       "      <td>72930</td>\n",
       "      <td>779.750</td>\n",
       "      <td>735.125</td>\n",
       "      <td>552.625</td>\n",
       "      <td>526.750</td>\n",
       "      <td>458.000</td>\n",
       "      <td>735.625</td>\n",
       "      <td>689.500</td>\n",
       "      <td>789.250</td>\n",
       "      <td>...</td>\n",
       "      <td>1307.000</td>\n",
       "      <td>29975.125</td>\n",
       "      <td>30973.875</td>\n",
       "      <td>15545.125</td>\n",
       "      <td>16042.625</td>\n",
       "      <td>99712.000</td>\n",
       "      <td>46866.125</td>\n",
       "      <td>7928.250</td>\n",
       "      <td>421.375</td>\n",
       "      <td>355.250</td>\n",
       "    </tr>\n",
       "    <tr>\n",
       "      <th>779</th>\n",
       "      <td>CC00924XX17</td>\n",
       "      <td>36330</td>\n",
       "      <td>769.625</td>\n",
       "      <td>892.875</td>\n",
       "      <td>484.625</td>\n",
       "      <td>553.000</td>\n",
       "      <td>921.625</td>\n",
       "      <td>1052.750</td>\n",
       "      <td>809.000</td>\n",
       "      <td>801.500</td>\n",
       "      <td>...</td>\n",
       "      <td>1172.125</td>\n",
       "      <td>28528.000</td>\n",
       "      <td>27988.250</td>\n",
       "      <td>17431.500</td>\n",
       "      <td>17590.000</td>\n",
       "      <td>66218.750</td>\n",
       "      <td>107401.750</td>\n",
       "      <td>7536.625</td>\n",
       "      <td>581.375</td>\n",
       "      <td>411.000</td>\n",
       "    </tr>\n",
       "    <tr>\n",
       "      <th>780</th>\n",
       "      <td>CC00492AN15</td>\n",
       "      <td>140900</td>\n",
       "      <td>634.125</td>\n",
       "      <td>680.250</td>\n",
       "      <td>403.625</td>\n",
       "      <td>426.250</td>\n",
       "      <td>678.250</td>\n",
       "      <td>811.000</td>\n",
       "      <td>671.000</td>\n",
       "      <td>602.125</td>\n",
       "      <td>...</td>\n",
       "      <td>1063.250</td>\n",
       "      <td>25740.500</td>\n",
       "      <td>24934.250</td>\n",
       "      <td>13702.625</td>\n",
       "      <td>13582.000</td>\n",
       "      <td>68667.750</td>\n",
       "      <td>39774.750</td>\n",
       "      <td>6774.750</td>\n",
       "      <td>224.625</td>\n",
       "      <td>190.375</td>\n",
       "    </tr>\n",
       "    <tr>\n",
       "      <th>781</th>\n",
       "      <td>CC00411XX07</td>\n",
       "      <td>126200</td>\n",
       "      <td>702.125</td>\n",
       "      <td>790.750</td>\n",
       "      <td>439.750</td>\n",
       "      <td>511.375</td>\n",
       "      <td>851.500</td>\n",
       "      <td>745.500</td>\n",
       "      <td>974.625</td>\n",
       "      <td>1029.875</td>\n",
       "      <td>...</td>\n",
       "      <td>1169.750</td>\n",
       "      <td>28851.500</td>\n",
       "      <td>29538.375</td>\n",
       "      <td>16324.000</td>\n",
       "      <td>16334.375</td>\n",
       "      <td>45564.750</td>\n",
       "      <td>45833.250</td>\n",
       "      <td>7760.000</td>\n",
       "      <td>451.125</td>\n",
       "      <td>342.625</td>\n",
       "    </tr>\n",
       "  </tbody>\n",
       "</table>\n",
       "<p>782 rows × 89 columns</p>\n",
       "</div>"
      ],
      "text/plain": [
       "              ID  Session  Imperial 1  Imperial 2  Imperial 3  Imperial 4  \\\n",
       "0    CC00072XX07    27600     570.125     566.125     326.625     398.375   \n",
       "1    CC01027XX13    82630     756.000     884.000     521.000     644.125   \n",
       "2    CC00150AN02    54800     819.125     838.000     481.375     568.625   \n",
       "3    CC00410XX06   125800     751.750     906.875     476.500     558.625   \n",
       "4    CC00586XX18   179000     702.875     760.000     456.875     457.625   \n",
       "..           ...      ...         ...         ...         ...         ...   \n",
       "777  CC00355XX09   112600     628.625     715.875     430.125     458.250   \n",
       "778  CC01020XX06    72930     779.750     735.125     552.625     526.750   \n",
       "779  CC00924XX17    36330     769.625     892.875     484.625     553.000   \n",
       "780  CC00492AN15   140900     634.125     680.250     403.625     426.250   \n",
       "781  CC00411XX07   126200     702.125     790.750     439.750     511.375   \n",
       "\n",
       "     Imperial 5  Imperial 6  Imperial 7  Imperial 8  ...  Imperial 78  \\\n",
       "0       670.625     663.750     569.000     642.000  ...      847.125   \n",
       "1      1058.625    1017.500    1042.625     993.875  ...     1290.625   \n",
       "2      1054.375    1129.000    1121.500    1175.000  ...     1303.250   \n",
       "3       724.875     785.125    1026.625     948.000  ...     1212.500   \n",
       "4       777.125     803.500     907.000     849.125  ...     1101.625   \n",
       "..          ...         ...         ...         ...  ...          ...   \n",
       "777     918.625     837.750     880.125     863.625  ...     1183.875   \n",
       "778     458.000     735.625     689.500     789.250  ...     1307.000   \n",
       "779     921.625    1052.750     809.000     801.500  ...     1172.125   \n",
       "780     678.250     811.000     671.000     602.125  ...     1063.250   \n",
       "781     851.500     745.500     974.625    1029.875  ...     1169.750   \n",
       "\n",
       "     Imperial 79  Imperial 80  Imperial 81  Imperial 82  Imperial 83  \\\n",
       "0      20604.625    20701.250    12167.000    12511.375    51264.500   \n",
       "1      31565.500    30879.375    17786.500    17019.750    82196.125   \n",
       "2      35563.125    35701.000    19258.750    19559.500    73745.125   \n",
       "3      30817.125    31117.125    15947.000    16077.375    62841.375   \n",
       "4      25189.750    25174.625    14327.250    13987.250    51900.500   \n",
       "..           ...          ...          ...          ...          ...   \n",
       "777    30545.500    28959.000    18526.875    17842.125    71669.750   \n",
       "778    29975.125    30973.875    15545.125    16042.625    99712.000   \n",
       "779    28528.000    27988.250    17431.500    17590.000    66218.750   \n",
       "780    25740.500    24934.250    13702.625    13582.000    68667.750   \n",
       "781    28851.500    29538.375    16324.000    16334.375    45564.750   \n",
       "\n",
       "     Imperial 84  Imperial 85  Imperial 86  Imperial 87  \n",
       "0      34827.750     5648.375      319.500      294.250  \n",
       "1      43985.375     7703.625      491.875      424.625  \n",
       "2      45095.625     8404.375      420.125      429.875  \n",
       "3      43032.250     7442.875      462.375      358.500  \n",
       "4      40194.500     6876.000      405.250      412.875  \n",
       "..           ...          ...          ...          ...  \n",
       "777    48989.000     7155.375      338.125      310.250  \n",
       "778    46866.125     7928.250      421.375      355.250  \n",
       "779   107401.750     7536.625      581.375      411.000  \n",
       "780    39774.750     6774.750      224.625      190.375  \n",
       "781    45833.250     7760.000      451.125      342.625  \n",
       "\n",
       "[782 rows x 89 columns]"
      ]
     },
     "execution_count": 61,
     "metadata": {},
     "output_type": "execute_result"
    }
   ],
   "source": [
    "volumetric_dataset"
   ]
  },
  {
   "cell_type": "code",
   "execution_count": 63,
   "metadata": {},
   "outputs": [],
   "source": [
    "dafnis_volumetric_data = pd.read_csv('./preprocessed_dataset/imaging_data/log_file/volumetric_dataset_dafnis.csv')"
   ]
  },
  {
   "cell_type": "code",
   "execution_count": null,
   "metadata": {},
   "outputs": [],
   "source": [
    "test = european_cohort.volumetric_df.merge(new_vols,on=['ID','Session'],how='inner',suffixes=['_old','_new'])\n",
    "\n",
    "test.shape\n",
    "\n",
    "from codes.docs.analysis import visualisation, data_exploration\n",
    "\n",
    "test['total_new'] = test[[i for i in test.columns if 'new' in i]].sum(axis=1)\n",
    "test['total_old'] = test[[i for i in test.columns if 'old' in i]].sum(axis=1)\n",
    "\n",
    "(test['total_new'] - test['total_old']).hist(bins=100)\n",
    "\n",
    "visualisation.simple_plots.Scatter(x='total_new',\n",
    "                                  y='total_old',\n",
    "                                  data=test,scaling=None)\n",
    "ax = plt.gca()\n",
    "ax.plot([200000,700000],[200000,700000],label='$\\hat{y}$=y')\n",
    "# ax.plot([-3,2],[-3,2])\n",
    "plt.legend()"
   ]
  },
  {
   "cell_type": "code",
   "execution_count": 68,
   "metadata": {},
   "outputs": [
    {
     "data": {
      "text/plain": [
       "[<matplotlib.lines.Line2D at 0x7f1fdc37a6d0>]"
      ]
     },
     "execution_count": 68,
     "metadata": {},
     "output_type": "execute_result"
    },
    {
     "data": {
      "image/png": "[encoded data removed]",
      "text/plain": [
       "<Figure size 432x288 with 1 Axes>"
      ]
     },
     "metadata": {
      "needs_background": "light"
     },
     "output_type": "display_data"
    },
    {
     "data": {
      "image/png": "[encoded data removed]",
      "text/plain": [
       "<Figure size 432x288 with 1 Axes>"
      ]
     },
     "metadata": {
      "needs_background": "light"
     },
     "output_type": "display_data"
    }
   ],
   "source": [
    "test = pd.merge(dafnis_volumetric_data,volumetric_dataset,on=['ID','Session'],how='inner',suffixes=['_dafnis','_hai'])\n",
    "test['total_dafnis'] = test[[i for i in test.columns if '_dafnis' in i]].sum(axis=1)\n",
    "test['total_hai'] = test[[i for i in test.columns if '_hai' in i]].sum(axis=1)\n",
    "\n",
    "(test['total_dafnis'] - test['total_hai']).hist(bins=100)\n",
    "\n",
    "visualisation.simple_plots.Scatter(x='total_dafnis',\n",
    "                                  y='total_hai',\n",
    "                                  data=test,scaling=None)\n",
    "ax = plt.gca()\n",
    "ax.plot([200000,700000],[200000,700000],label='$\\hat{y}$=y')"
   ]
  },
  {
   "cell_type": "markdown",
   "metadata": {
    "deletable": false,
    "editable": false,
    "heading_collapsed": true,
    "run_control": {
     "frozen": true
    }
   },
   "source": [
    "### Diffusion dataset"
   ]
  },
  {
   "cell_type": "markdown",
   "metadata": {
    "hidden": true
   },
   "source": [
    "The diffusion dataset is saved in the matlab file. \n",
    "It is saved in the `diffusion_full_dataset`\n",
    "\n",
    "The labels are saved in the `ROIs_combinations`"
   ]
  },
  {
   "cell_type": "code",
   "execution_count": 427,
   "metadata": {
    "deletable": false,
    "editable": false,
    "hidden": true,
    "run_control": {
     "frozen": true
    }
   },
   "outputs": [],
   "source": [
    "ROIs_combinations = data_preprocessing.Diffusion.create_ROIs_combinations(\n",
    "    f'../../dataset/diff_dataset/Regions_of_Interests.csv')"
   ]
  },
  {
   "cell_type": "code",
   "execution_count": 428,
   "metadata": {
    "deletable": false,
    "editable": false,
    "hidden": true,
    "run_control": {
     "frozen": true
    }
   },
   "outputs": [],
   "source": [
    "#Diffusion dataset\n",
    "diffusion_full_dataset = scipy.io.loadmat(\n",
    "    f'../../dataset/diff_dataset/2020_04_MASTER_connectomes90_433subj_SCandFC_TermScansVolOK.mat'\n",
    ")\n",
    "diffusion_matrices = diffusion_full_dataset[\n",
    "    'SCmu']  #use the Structural Connectivity (SIFT2-weighted * Mu) [equivalent to raw connectivity, see SIFT2 paper]\n",
    "diffusion_matrices = [\n",
    "    diffusion_matrices[:, :, i] for i in range(diffusion_matrices.shape[2])\n",
    "]  # rearranged them into (433,90,90)\n",
    "diffusion_matrices = np.asarray(diffusion_matrices)"
   ]
  },
  {
   "cell_type": "code",
   "execution_count": 429,
   "metadata": {
    "deletable": false,
    "editable": false,
    "hidden": true,
    "run_control": {
     "frozen": true
    }
   },
   "outputs": [],
   "source": [
    "diffusion_matrices = np.asarray([\n",
    "    data_preprocessing.Diffusion.lower_triangle(diffusion_matrices[i])\n",
    "    for i in range(diffusion_matrices.shape[0])\n",
    "])\n",
    "diffusion_matrices = pd.DataFrame(diffusion_matrices)"
   ]
  },
  {
   "cell_type": "code",
   "execution_count": 430,
   "metadata": {
    "deletable": false,
    "editable": false,
    "hidden": true,
    "run_control": {
     "frozen": true
    }
   },
   "outputs": [],
   "source": [
    "diffusion_matrices.columns = data_preprocessing.Diffusion.lower_triangle(\n",
    "    ROIs_combinations)"
   ]
  },
  {
   "cell_type": "code",
   "execution_count": 431,
   "metadata": {
    "deletable": false,
    "editable": false,
    "hidden": true,
    "run_control": {
     "frozen": true
    }
   },
   "outputs": [],
   "source": [
    "diffusion_subject_id = diffusion_full_dataset['sub'].reshape(-1, 1)\n",
    "diffusion_subject_id = [\n",
    "    i[0][0].replace('sub-', '') for i in diffusion_subject_id\n",
    "]\n",
    "diffusion_subject_sess = diffusion_full_dataset['ses'].reshape(-1, 1)\n",
    "diffusion_subject_sess = [\n",
    "    i[0][0].replace('ses-', '') for i in diffusion_subject_sess\n",
    "]\n",
    "diffusion_subject_pma = diffusion_full_dataset['pma'].reshape(-1)\n",
    "diffusion_subject_ga = diffusion_full_dataset['ga'].reshape(-1)\n",
    "\n",
    "diffusion_dataset = pd.DataFrame({\n",
    "    'ID': diffusion_subject_id,\n",
    "    'Session': diffusion_subject_sess,\n",
    "    'GA': diffusion_subject_ga,\n",
    "    'PMA': diffusion_subject_pma\n",
    "})\n",
    "\n",
    "# diffusion_dataset['Gender'] = diffusion_full_dataset['sex'].reshape(-1)\n",
    "\n",
    "#match the ID to the diffusion matrices\n",
    "diffusion_dataset = pd.concat((diffusion_dataset, diffusion_matrices), axis=1)\n",
    "diffusion_dataset['Session'] = diffusion_dataset['Session'].astype('int64')\n",
    "#rearrange by the session, drop the duplicates and keep the last session\n",
    "# diffusion_dataset = diffusion_dataset.sort_values(by='Session',\n",
    "#                                                   ascending=False)\n",
    "# diffusion_dataset = diffusion_dataset.drop_duplicates(subset='ID', keep='last')\n",
    "# diffusion_dataset = diffusion_dataset.reset_index(drop=True)"
   ]
  },
  {
   "cell_type": "code",
   "execution_count": 432,
   "metadata": {
    "deletable": false,
    "editable": false,
    "hidden": true,
    "run_control": {
     "frozen": true
    }
   },
   "outputs": [
    {
     "name": "stdout",
     "output_type": "stream",
     "text": [
      "diffusion dataset\n"
     ]
    },
    {
     "data": {
      "text/plain": [
       "(433, 4009)"
      ]
     },
     "execution_count": 432,
     "metadata": {},
     "output_type": "execute_result"
    }
   ],
   "source": [
    "print('diffusion dataset')\n",
    "diffusion_dataset.shape"
   ]
  },
  {
   "cell_type": "code",
   "execution_count": 434,
   "metadata": {
    "deletable": false,
    "editable": false,
    "hidden": true,
    "run_control": {
     "frozen": true
    }
   },
   "outputs": [],
   "source": [
    "diffusion_dataset.to_csv(\n",
    "    f'{preprocessed_dataset_path}/imaging_data/log_file/diffusion_dataset.csv',\n",
    "    index=False)"
   ]
  },
  {
   "cell_type": "markdown",
   "metadata": {
    "deletable": false,
    "editable": false,
    "heading_collapsed": true,
    "run_control": {
     "frozen": true
    }
   },
   "source": [
    "### microstructure dataset"
   ]
  },
  {
   "cell_type": "markdown",
   "metadata": {
    "hidden": true
   },
   "source": [
    "microstructure data contains `FA`, `MD`, etc. "
   ]
  },
  {
   "cell_type": "code",
   "execution_count": 469,
   "metadata": {
    "hidden": true
   },
   "outputs": [],
   "source": [
    "# Importing the microstructure files\n",
    "micro_dict_europeans_df = defaultdict(pd.DataFrame)\n",
    "for file in glob.glob(microstructure_file_path +\n",
    "                      '/europeans/*-wm-*-stats*.csv'):\n",
    "    micro = str.split(file, '-')[-3]\n",
    "    micro_dict_europeans_df[micro] = pd.read_csv(file).dropna(how='any',\n",
    "                                                              axis=1)\n",
    "    micro_dict_europeans_df[micro].columns = [\n",
    "        i + str.upper('_' + micro) if i != 'id' else 'ID'\n",
    "        for i in micro_dict_europeans_df[micro].columns\n",
    "    ]  # adding the microstructure name to each of the feature\n",
    "    micro_dict_europeans_df[micro]['ID'] = [\n",
    "        i.split('-')[2].split('_')[0]\n",
    "        for i in micro_dict_europeans_df[micro]['ID']\n",
    "    ]  # change the ID format\n",
    "\n",
    "# Adding the microstructure files together into one table.\n",
    "from functools import reduce\n",
    "\n",
    "dHCP_microstructure_europeans = reduce(\n",
    "    lambda left, right: pd.merge(left, right, on='ID', how='outer'), [\n",
    "        micro_dict_europeans_df['fa'], micro_dict_europeans_df['md'],\n",
    "        micro_dict_europeans_df['t12'], micro_dict_europeans_df['t2'],\n",
    "        micro_dict_europeans_df['fiso']\n",
    "    ])"
   ]
  },
  {
   "cell_type": "code",
   "execution_count": 470,
   "metadata": {
    "hidden": true
   },
   "outputs": [],
   "source": [
    "#### adding asians microstructure files\n",
    "micro_dict_asians_df = defaultdict(pd.DataFrame)\n",
    "for file in glob.glob(microstructure_file_path + '/asians/*-wm-*-stats*.csv'):\n",
    "    micro = str.split(file, '-')[-3]\n",
    "    micro_dict_asians_df[micro] = pd.read_csv(file).dropna(how='any', axis=1)\n",
    "    micro_dict_asians_df[micro].columns = [\n",
    "        i + str.upper('_' + micro) if i != 'id' else 'ID'\n",
    "        for i in micro_dict_asians_df[micro].columns\n",
    "    ]  # adding the microstructure name to each of the feature\n",
    "    micro_dict_asians_df[micro]['ID'] = [\n",
    "        i.split('-')[2].split('_')[0]\n",
    "        for i in micro_dict_asians_df[micro]['ID']\n",
    "    ]  # change the ID format\n",
    "\n",
    "from functools import reduce\n",
    "\n",
    "dHCP_microstructure_asians = reduce(\n",
    "    lambda left, right: pd.merge(left, right, on='ID', how='outer'), [\n",
    "        micro_dict_asians_df['fa'], micro_dict_asians_df['md'],\n",
    "        micro_dict_asians_df['t12'], micro_dict_asians_df['t2'],\n",
    "        micro_dict_asians_df['fiso']\n",
    "    ])"
   ]
  },
  {
   "cell_type": "code",
   "execution_count": 471,
   "metadata": {
    "hidden": true
   },
   "outputs": [],
   "source": [
    "dHCP_microstructure = pd.concat(\n",
    "    [dHCP_microstructure_europeans,\n",
    "     dHCP_microstructure_asians]).reset_index(drop=True)"
   ]
  },
  {
   "cell_type": "code",
   "execution_count": 440,
   "metadata": {
    "deletable": false,
    "editable": false,
    "hidden": true,
    "run_control": {
     "frozen": true
    }
   },
   "outputs": [
    {
     "name": "stdout",
     "output_type": "stream",
     "text": [
      "microstructure info\n"
     ]
    },
    {
     "data": {
      "text/plain": [
       "(318, 276)"
      ]
     },
     "execution_count": 440,
     "metadata": {},
     "output_type": "execute_result"
    }
   ],
   "source": [
    "print('microstructure info')\n",
    "dHCP_microstructure_info.shape"
   ]
  },
  {
   "cell_type": "code",
   "execution_count": 472,
   "metadata": {
    "hidden": true
   },
   "outputs": [],
   "source": [
    "dHCP_microstructure.to_csv(f'{preprocessed_dataset_path}/imaging_data/log_file/microstructure_dataset.csv',index=False)"
   ]
  },
  {
   "cell_type": "markdown",
   "metadata": {
    "deletable": false,
    "editable": false,
    "heading_collapsed": true,
    "run_control": {
     "frozen": true
    }
   },
   "source": [
    "### Cortical Thickness dataset"
   ]
  },
  {
   "cell_type": "markdown",
   "metadata": {
    "hidden": true
   },
   "source": [
    "`cortical_thickness_df` contains the mean cortical thickness information."
   ]
  },
  {
   "cell_type": "code",
   "execution_count": 447,
   "metadata": {
    "hidden": true
   },
   "outputs": [],
   "source": [
    "cortical_thickness_df = pd.read_csv('../../dataset/cortical_thickness/cortical_thickness_updated.csv')\n",
    "cortical_thickness_df.rename(columns={'session':'Session'},inplace=True)\n",
    "# cortical_thickness_df.drop('session', axis=1, inplace=True)"
   ]
  },
  {
   "cell_type": "code",
   "execution_count": 448,
   "metadata": {
    "hidden": true
   },
   "outputs": [
    {
     "data": {
      "text/html": [
       "<div>\n",
       "<style scoped>\n",
       "    .dataframe tbody tr th:only-of-type {\n",
       "        vertical-align: middle;\n",
       "    }\n",
       "\n",
       "    .dataframe tbody tr th {\n",
       "        vertical-align: top;\n",
       "    }\n",
       "\n",
       "    .dataframe thead th {\n",
       "        text-align: right;\n",
       "    }\n",
       "</style>\n",
       "<table border=\"1\" class=\"dataframe\">\n",
       "  <thead>\n",
       "    <tr style=\"text-align: right;\">\n",
       "      <th></th>\n",
       "      <th>ID</th>\n",
       "      <th>Session</th>\n",
       "      <th>mean_CC</th>\n",
       "    </tr>\n",
       "  </thead>\n",
       "  <tbody>\n",
       "    <tr>\n",
       "      <th>0</th>\n",
       "      <td>CC00328XX15</td>\n",
       "      <td>104800</td>\n",
       "      <td>1.609608</td>\n",
       "    </tr>\n",
       "    <tr>\n",
       "      <th>1</th>\n",
       "      <td>CC00540XX13</td>\n",
       "      <td>164400</td>\n",
       "      <td>1.662574</td>\n",
       "    </tr>\n",
       "    <tr>\n",
       "      <th>2</th>\n",
       "      <td>CC00882XX17</td>\n",
       "      <td>13030</td>\n",
       "      <td>1.622470</td>\n",
       "    </tr>\n",
       "    <tr>\n",
       "      <th>3</th>\n",
       "      <td>CC00257XX10</td>\n",
       "      <td>84700</td>\n",
       "      <td>1.533126</td>\n",
       "    </tr>\n",
       "    <tr>\n",
       "      <th>4</th>\n",
       "      <td>CC00286XX15</td>\n",
       "      <td>91700</td>\n",
       "      <td>1.788949</td>\n",
       "    </tr>\n",
       "    <tr>\n",
       "      <th>...</th>\n",
       "      <td>...</td>\n",
       "      <td>...</td>\n",
       "      <td>...</td>\n",
       "    </tr>\n",
       "    <tr>\n",
       "      <th>229</th>\n",
       "      <td>CC00217XX11</td>\n",
       "      <td>73700</td>\n",
       "      <td>1.646990</td>\n",
       "    </tr>\n",
       "    <tr>\n",
       "      <th>230</th>\n",
       "      <td>CC00255XX08</td>\n",
       "      <td>84400</td>\n",
       "      <td>1.859827</td>\n",
       "    </tr>\n",
       "    <tr>\n",
       "      <th>231</th>\n",
       "      <td>CC00675XX16</td>\n",
       "      <td>219100</td>\n",
       "      <td>1.496696</td>\n",
       "    </tr>\n",
       "    <tr>\n",
       "      <th>232</th>\n",
       "      <td>CC00247XX17</td>\n",
       "      <td>82801</td>\n",
       "      <td>1.617542</td>\n",
       "    </tr>\n",
       "    <tr>\n",
       "      <th>233</th>\n",
       "      <td>CC00325XX12</td>\n",
       "      <td>103900</td>\n",
       "      <td>1.585910</td>\n",
       "    </tr>\n",
       "  </tbody>\n",
       "</table>\n",
       "<p>234 rows × 3 columns</p>\n",
       "</div>"
      ],
      "text/plain": [
       "              ID  Session   mean_CC\n",
       "0    CC00328XX15   104800  1.609608\n",
       "1    CC00540XX13   164400  1.662574\n",
       "2    CC00882XX17    13030  1.622470\n",
       "3    CC00257XX10    84700  1.533126\n",
       "4    CC00286XX15    91700  1.788949\n",
       "..           ...      ...       ...\n",
       "229  CC00217XX11    73700  1.646990\n",
       "230  CC00255XX08    84400  1.859827\n",
       "231  CC00675XX16   219100  1.496696\n",
       "232  CC00247XX17    82801  1.617542\n",
       "233  CC00325XX12   103900  1.585910\n",
       "\n",
       "[234 rows x 3 columns]"
      ]
     },
     "execution_count": 448,
     "metadata": {},
     "output_type": "execute_result"
    }
   ],
   "source": [
    "cortical_thickness_df['Session']"
   ]
  },
  {
   "cell_type": "code",
   "execution_count": 459,
   "metadata": {
    "hidden": true
   },
   "outputs": [],
   "source": [
    "cortical_thickness_df.to_csv(f'{preprocessed_dataset_path}/imaging_data/log_file/cortical_thickness_df.csv',index=False)"
   ]
  },
  {
   "cell_type": "markdown",
   "metadata": {
    "deletable": false,
    "editable": false,
    "run_control": {
     "frozen": true
    }
   },
   "source": [
    "## Merging all data with PRS scores"
   ]
  },
  {
   "cell_type": "markdown",
   "metadata": {},
   "source": [
    "- PRS file contains PRS at 11 P-value thresholds, which ranges from 1e-8 to 1.\n",
    "- The Ancestry files contains the first 10 PCs of the genetic data\n",
    "- The data can be divided into 3 different ethnic groups: European, South Asian and African\n",
    "- The outliers are removed to each cohort separately (i.e., European, European + South Asian (called mixed cohort), and European + South Asian + Africans (called full cohort)"
   ]
  },
  {
   "cell_type": "code",
   "execution_count": 8,
   "metadata": {
    "ExecuteTime": {
     "end_time": "2022-06-29T12:43:44.772680Z",
     "start_time": "2022-06-29T12:43:43.697776Z"
    },
    "deletable": false,
    "editable": false
   },
   "outputs": [],
   "source": [
    "volumetric_dataset = pd.read_csv(f'{preprocessed_dataset_path}/imaging_data/log_file/volumetric_dataset_dafnis.csv')\n",
    "cortical_thickness_df = pd.read_csv(f'{preprocessed_dataset_path}/imaging_data/log_file/cortical_thickness_df.csv')\n",
    "diffusion_dataset = pd.read_csv(f'{preprocessed_dataset_path}/imaging_data/log_file/diffusion_dataset.csv')\n",
    "microstructure_dataset = pd.read_csv(f'{preprocessed_dataset_path}/imaging_data/log_file/microstructure_dataset.csv')"
   ]
  },
  {
   "cell_type": "code",
   "execution_count": 9,
   "metadata": {
    "deletable": false,
    "editable": false
   },
   "outputs": [],
   "source": [
    "full_dataset = volumetric_dataset.merge(diffusion_dataset,\n",
    "                                  on=['ID','Session'],\n",
    "                                  suffixes=('_vol', '_diff'),\n",
    "                                  how='outer')  #merging the diffusion dataset\n",
    "full_dataset = full_dataset.merge(dHCP_metadata,on=['ID','Session'],how='right')"
   ]
  },
  {
   "cell_type": "code",
   "execution_count": 87,
   "metadata": {},
   "outputs": [],
   "source": [
    "# #Merge the diffusion with structural data together\n",
    "# full_dataset = volumetric_dataset.merge(diffusion_dataset,\n",
    "#                                   on='ID',\n",
    "#                                   suffixes=('_vol', '_diff'),\n",
    "#                                   how='outer')  #merging the diffusion dataset\n",
    "# full_dataset = full_dataset.merge(\n",
    "#     dHCP_microstructure_info, on='ID',\n",
    "#     how='outer')  # merging the microstructure dataset\n",
    "\n",
    "# full_dataset = full_dataset.merge(cortical_thickness_df, on='ID',\n",
    "#                                   how='outer')  # merging the cortical dataset\n",
    "\n",
    "# dHCP_participants_info = pd.read_csv(\n",
    "#     f'{dataset_path}/participant_info/dHCP_release3_metadata.tsv',sep='\\t'\n",
    "# )\n",
    "# dHCP_participants_info = dHCP_participants_info[[\n",
    "#     'participant_id', 'sex', 'birth_age', 'scan_age','birth_weight','head_circumference_scan','singleton'\n",
    "# ]]\n",
    "# dHCP_participants_info = dHCP_participants_info.rename(\n",
    "#     {\n",
    "#         'sex':'Gender',\n",
    "#         'participant_id':'ID',\n",
    "#         'birth_age': 'GA_full',\n",
    "#         'scan_age': 'PMA_full'\n",
    "#     }, axis=1)\n",
    "# dHCP_participants_info = dHCP_participants_info.drop_duplicates(subset='ID',\n",
    "#                                                                 keep='last')\n",
    "# full_dataset = full_dataset.merge(dHCP_participants_info, on='ID',\n",
    "#                                   how='outer')  #added gender info\n",
    "\n",
    "# ####### Given that the GA and PMA information is likely to come from the full dataset, I will just define the missing GA_micro and PMA micro information to the GA_full and PMA_full (from the full dataset)\n",
    "# full_dataset['GA_micro'] = full_dataset['GA_full']\n",
    "# full_dataset['PMA_micro'] = full_dataset['PMA_full']"
   ]
  },
  {
   "cell_type": "code",
   "execution_count": 10,
   "metadata": {
    "deletable": false,
    "editable": false,
    "run_control": {
     "frozen": true
    }
   },
   "outputs": [],
   "source": [
    "full_dataset.to_csv(f'{preprocessed_dataset_path}/imaging_data/log_file/combined_imaging_full_dataset.csv',index=False)"
   ]
  },
  {
   "cell_type": "code",
   "execution_count": 9,
   "metadata": {
    "ExecuteTime": {
     "end_time": "2022-06-29T12:43:51.392994Z",
     "start_time": "2022-06-29T12:43:49.681931Z"
    },
    "deletable": false,
    "editable": false
   },
   "outputs": [],
   "source": [
    "full_dataset = pd.read_csv(f'{preprocessed_dataset_path}/imaging_data/log_file/combined_imaging_full_dataset.csv',index_col=[0])"
   ]
  },
  {
   "cell_type": "code",
   "execution_count": 10,
   "metadata": {
    "ExecuteTime": {
     "end_time": "2022-06-29T12:43:55.843939Z",
     "start_time": "2022-06-29T12:43:55.305790Z"
    }
   },
   "outputs": [],
   "source": [
    "pheno = 'scz'\n",
    "european_cohort = genetic_file_preprocess.Cohort(\n",
    "    cohort_name='euro',\n",
    "    PRS_file_path=\n",
    "    f'{dataset_path}/PRS/{pheno}/SCZ3_lifted37_dHCP_merged_cleaned_EUROPEANS_updated.gwas.all.score',\n",
    "    Ancestry_file_path=\n",
    "    f'{dataset_path}/ancestry_PCs/file3_only_europ_10pcs_pca.eigenvec',\n",
    "    imaging_df=full_dataset)\n",
    "mixed_cohort = genetic_file_preprocess.Cohort(\n",
    "    cohort_name='mixed',\n",
    "    PRS_file_path=\n",
    "    f'{dataset_path}/PRS/{pheno}/SCZ3_lifted37_dHCP_merged_cleaned_EUROPEANS_ASIAN_361.gwas.all.score',\n",
    "    Ancestry_file_path=\n",
    "    f'{dataset_path}/ancestry_PCs/euro_asian_361_file3_pca.eigenvec',\n",
    "    imaging_df=full_dataset)\n",
    "full_cohort = genetic_file_preprocess.Cohort(\n",
    "    cohort_name='full',\n",
    "    PRS_file_path=\n",
    "    f'{dataset_path}/PRS/{pheno}/SCZ3_lifted37_dHCP_merged_cleaned_ALL_562.gwas.all.score',\n",
    "    Ancestry_file_path=f'{dataset_path}/ancestry_PCs/file3_all_pca.eigenvec',\n",
    "    imaging_df=full_dataset)"
   ]
  },
  {
   "cell_type": "code",
   "execution_count": 10,
   "metadata": {},
   "outputs": [],
   "source": [
    "##########################BATCH 2##########################pheno = 'scz'\n",
    "european_cohort_batch_2 = genetic_file_preprocess.Cohort(\n",
    "    cohort_name='euro',\n",
    "    PRS_file_path=\n",
    "    f'{dataset_path}/PRS/{pheno}/SCZ3core_nodups_euro_batch2_genotyped.gwas.all_score',\n",
    "    Ancestry_file_path=\n",
    "    f'{dataset_path}/ancestry_PCs/euro_batch2_genotyped_PCA_result.eigenvec',\n",
    "    imaging_df=full_dataset)\n",
    "european_cohort_batch_2.cohort_data['cohort'] = 'EUR'\n",
    "#####################GENOTYPE EUR##########################"
   ]
  },
  {
   "cell_type": "code",
   "execution_count": 11,
   "metadata": {
    "ExecuteTime": {
     "end_time": "2022-06-29T12:43:59.946751Z",
     "start_time": "2022-06-29T12:43:59.897797Z"
    }
   },
   "outputs": [],
   "source": [
    "#european_ID and asian_ID\n",
    "european_ID = european_cohort.cohort_data.ID.tolist()\n",
    "asian_ID = [\n",
    "    i for i in mixed_cohort.cohort_data.ID.tolist()\n",
    "    if i not in european_ID\n",
    "]\n",
    "african_ID = [\n",
    "    i for i in full_cohort.cohort_data.ID.tolist()\n",
    "    if (i not in european_ID) and (i not in asian_ID)\n",
    "]\n",
    "cohort_list = pd.DataFrame({'ID':full_cohort.cohort_data.ID.tolist(),\n",
    "             'cohort':['EUR' if i in european_ID else 'ASI' if i in asian_ID else 'AFR' for i in full_cohort.cohort_data.ID.tolist()]})\n",
    "\n",
    "european_cohort.append_cohort_list(cohort_list)\n",
    "mixed_cohort.append_cohort_list(cohort_list)\n",
    "full_cohort.append_cohort_list(cohort_list)"
   ]
  },
  {
   "cell_type": "markdown",
   "metadata": {
    "heading_collapsed": true
   },
   "source": [
    "### saving full dataset"
   ]
  },
  {
   "cell_type": "code",
   "execution_count": 13,
   "metadata": {
    "hidden": true
   },
   "outputs": [
    {
     "data": {
      "text/html": [
       "<div>\n",
       "<style scoped>\n",
       "    .dataframe tbody tr th:only-of-type {\n",
       "        vertical-align: middle;\n",
       "    }\n",
       "\n",
       "    .dataframe tbody tr th {\n",
       "        vertical-align: top;\n",
       "    }\n",
       "\n",
       "    .dataframe thead th {\n",
       "        text-align: right;\n",
       "    }\n",
       "</style>\n",
       "<table border=\"1\" class=\"dataframe\">\n",
       "  <thead>\n",
       "    <tr style=\"text-align: right;\">\n",
       "      <th></th>\n",
       "      <th></th>\n",
       "      <th>GA_vol</th>\n",
       "      <th>PMA_vol</th>\n",
       "      <th>cohort</th>\n",
       "    </tr>\n",
       "    <tr>\n",
       "      <th>cohort</th>\n",
       "      <th>termness</th>\n",
       "      <th></th>\n",
       "      <th></th>\n",
       "      <th></th>\n",
       "    </tr>\n",
       "  </thead>\n",
       "  <tbody>\n",
       "    <tr>\n",
       "      <th rowspan=\"3\" valign=\"top\">EUR</th>\n",
       "      <th>preterm</th>\n",
       "      <td>33.091837</td>\n",
       "      <td>34.765306</td>\n",
       "      <td>22</td>\n",
       "    </tr>\n",
       "    <tr>\n",
       "      <th>preterm/term_at_scan</th>\n",
       "      <td>31.922306</td>\n",
       "      <td>40.669173</td>\n",
       "      <td>63</td>\n",
       "    </tr>\n",
       "    <tr>\n",
       "      <th>term</th>\n",
       "      <td>40.107719</td>\n",
       "      <td>41.652074</td>\n",
       "      <td>292</td>\n",
       "    </tr>\n",
       "  </tbody>\n",
       "</table>\n",
       "</div>"
      ],
      "text/plain": [
       "                                GA_vol    PMA_vol  cohort\n",
       "cohort termness                                          \n",
       "EUR    preterm               33.091837  34.765306      22\n",
       "       preterm/term_at_scan  31.922306  40.669173      63\n",
       "       term                  40.107719  41.652074     292"
      ]
     },
     "execution_count": 13,
     "metadata": {},
     "output_type": "execute_result"
    }
   ],
   "source": [
    "pd.pivot_table(european_cohort_batch_2.cohort_data,\n",
    "               values=['GA_vol','PMA_vol'],\n",
    "               index=['cohort','termness'],\n",
    "               aggfunc={'cohort':np.count_nonzero,\n",
    "                        'GA_vol':np.mean,\n",
    "                        'PMA_vol':np.mean})"
   ]
  },
  {
   "cell_type": "code",
   "execution_count": 10,
   "metadata": {
    "hidden": true
   },
   "outputs": [
    {
     "data": {
      "text/html": [
       "<div>\n",
       "<style scoped>\n",
       "    .dataframe tbody tr th:only-of-type {\n",
       "        vertical-align: middle;\n",
       "    }\n",
       "\n",
       "    .dataframe tbody tr th {\n",
       "        vertical-align: top;\n",
       "    }\n",
       "\n",
       "    .dataframe thead th {\n",
       "        text-align: right;\n",
       "    }\n",
       "</style>\n",
       "<table border=\"1\" class=\"dataframe\">\n",
       "  <thead>\n",
       "    <tr style=\"text-align: right;\">\n",
       "      <th></th>\n",
       "      <th></th>\n",
       "      <th>GA_vol</th>\n",
       "      <th>PMA_vol</th>\n",
       "      <th>cohort</th>\n",
       "    </tr>\n",
       "    <tr>\n",
       "      <th>cohort</th>\n",
       "      <th>termness</th>\n",
       "      <th></th>\n",
       "      <th></th>\n",
       "      <th></th>\n",
       "    </tr>\n",
       "  </thead>\n",
       "  <tbody>\n",
       "    <tr>\n",
       "      <th rowspan=\"3\" valign=\"top\">EUR</th>\n",
       "      <th>preterm</th>\n",
       "      <td>32.857143</td>\n",
       "      <td>34.610390</td>\n",
       "      <td>13</td>\n",
       "    </tr>\n",
       "    <tr>\n",
       "      <th>preterm/term_at_scan</th>\n",
       "      <td>31.849351</td>\n",
       "      <td>36.688312</td>\n",
       "      <td>56</td>\n",
       "    </tr>\n",
       "    <tr>\n",
       "      <th>term</th>\n",
       "      <td>40.079515</td>\n",
       "      <td>41.522237</td>\n",
       "      <td>219</td>\n",
       "    </tr>\n",
       "  </tbody>\n",
       "</table>\n",
       "</div>"
      ],
      "text/plain": [
       "                                GA_vol    PMA_vol  cohort\n",
       "cohort termness                                          \n",
       "EUR    preterm               32.857143  34.610390      13\n",
       "       preterm/term_at_scan  31.849351  36.688312      56\n",
       "       term                  40.079515  41.522237     219"
      ]
     },
     "execution_count": 10,
     "metadata": {},
     "output_type": "execute_result"
    }
   ],
   "source": [
    "pd.pivot_table(european_cohort.cohort_data,\n",
    "               values=['GA_vol','PMA_vol'],\n",
    "               index=['cohort','termness'],\n",
    "               aggfunc={'cohort':np.count_nonzero,\n",
    "                        'GA_vol':np.mean,\n",
    "                        'PMA_vol':np.mean})"
   ]
  },
  {
   "cell_type": "code",
   "execution_count": 30,
   "metadata": {
    "hidden": true
   },
   "outputs": [
    {
     "data": {
      "text/html": [
       "<div>\n",
       "<style scoped>\n",
       "    .dataframe tbody tr th:only-of-type {\n",
       "        vertical-align: middle;\n",
       "    }\n",
       "\n",
       "    .dataframe tbody tr th {\n",
       "        vertical-align: top;\n",
       "    }\n",
       "\n",
       "    .dataframe thead th {\n",
       "        text-align: right;\n",
       "    }\n",
       "</style>\n",
       "<table border=\"1\" class=\"dataframe\">\n",
       "  <thead>\n",
       "    <tr style=\"text-align: right;\">\n",
       "      <th></th>\n",
       "      <th></th>\n",
       "      <th>GA_vol</th>\n",
       "      <th>PMA_vol</th>\n",
       "      <th>cohort</th>\n",
       "    </tr>\n",
       "    <tr>\n",
       "      <th>cohort</th>\n",
       "      <th>termness</th>\n",
       "      <th></th>\n",
       "      <th></th>\n",
       "      <th></th>\n",
       "    </tr>\n",
       "  </thead>\n",
       "  <tbody>\n",
       "    <tr>\n",
       "      <th rowspan=\"3\" valign=\"top\">AFR</th>\n",
       "      <th>preterm</th>\n",
       "      <td>33.297619</td>\n",
       "      <td>35.238095</td>\n",
       "      <td>12</td>\n",
       "    </tr>\n",
       "    <tr>\n",
       "      <th>preterm/term_at_scan</th>\n",
       "      <td>30.066327</td>\n",
       "      <td>35.581633</td>\n",
       "      <td>28</td>\n",
       "    </tr>\n",
       "    <tr>\n",
       "      <th>term</th>\n",
       "      <td>39.887955</td>\n",
       "      <td>40.791783</td>\n",
       "      <td>153</td>\n",
       "    </tr>\n",
       "    <tr>\n",
       "      <th rowspan=\"3\" valign=\"top\">ASI</th>\n",
       "      <th>preterm</th>\n",
       "      <td>32.214286</td>\n",
       "      <td>34.142857</td>\n",
       "      <td>2</td>\n",
       "    </tr>\n",
       "    <tr>\n",
       "      <th>preterm/term_at_scan</th>\n",
       "      <td>33.321429</td>\n",
       "      <td>35.446429</td>\n",
       "      <td>8</td>\n",
       "    </tr>\n",
       "    <tr>\n",
       "      <th>term</th>\n",
       "      <td>39.982456</td>\n",
       "      <td>41.127820</td>\n",
       "      <td>57</td>\n",
       "    </tr>\n",
       "    <tr>\n",
       "      <th rowspan=\"3\" valign=\"top\">EUR</th>\n",
       "      <th>preterm</th>\n",
       "      <td>32.857143</td>\n",
       "      <td>34.610390</td>\n",
       "      <td>13</td>\n",
       "    </tr>\n",
       "    <tr>\n",
       "      <th>preterm/term_at_scan</th>\n",
       "      <td>31.849351</td>\n",
       "      <td>36.688312</td>\n",
       "      <td>56</td>\n",
       "    </tr>\n",
       "    <tr>\n",
       "      <th>term</th>\n",
       "      <td>40.079515</td>\n",
       "      <td>41.522237</td>\n",
       "      <td>219</td>\n",
       "    </tr>\n",
       "  </tbody>\n",
       "</table>\n",
       "</div>"
      ],
      "text/plain": [
       "                                GA_vol    PMA_vol  cohort\n",
       "cohort termness                                          \n",
       "AFR    preterm               33.297619  35.238095      12\n",
       "       preterm/term_at_scan  30.066327  35.581633      28\n",
       "       term                  39.887955  40.791783     153\n",
       "ASI    preterm               32.214286  34.142857       2\n",
       "       preterm/term_at_scan  33.321429  35.446429       8\n",
       "       term                  39.982456  41.127820      57\n",
       "EUR    preterm               32.857143  34.610390      13\n",
       "       preterm/term_at_scan  31.849351  36.688312      56\n",
       "       term                  40.079515  41.522237     219"
      ]
     },
     "execution_count": 30,
     "metadata": {},
     "output_type": "execute_result"
    }
   ],
   "source": [
    "pd.pivot_table(full_cohort.cohort_data,\n",
    "               values=['GA_vol','PMA_vol'],\n",
    "               index=['cohort','termness'],\n",
    "               aggfunc={'cohort':np.count_nonzero,\n",
    "                        'GA_vol':np.mean,\n",
    "                        'PMA_vol':np.mean})"
   ]
  },
  {
   "cell_type": "code",
   "execution_count": 27,
   "metadata": {
    "hidden": true
   },
   "outputs": [],
   "source": [
    "full_cohort.cohort_data.to_csv(f'{preprocessed_dataset_path}/imaging_data/log_file/combined_imaging_genetic_pre_outliers_full_dataset.csv')"
   ]
  },
  {
   "cell_type": "code",
   "execution_count": 11,
   "metadata": {
    "hidden": true,
    "scrolled": true
   },
   "outputs": [],
   "source": [
    "# full_dataset.drop(columns=['Session_vol','Session_diff'],inplace=True)\n",
    "# full_dataset = data_preprocessing.move_multiple_columns(full_dataset,cols_to_move=['Gender','GA_diff','PMA_diff'],ref_col='ID',place='After')"
   ]
  },
  {
   "cell_type": "markdown",
   "metadata": {},
   "source": [
    "### Removing outliers"
   ]
  },
  {
   "cell_type": "markdown",
   "metadata": {},
   "source": [
    "Outlier is defined using the Anc PCs. Should I do the this for each dataset or all of them together? Note that the ancestry components for european cohort alone is different from ancestry PCs for european from european and asian cohort mixed"
   ]
  },
  {
   "cell_type": "markdown",
   "metadata": {},
   "source": [
    "European: 7 term scans were rescanned (excluded duplicates)\n",
    "Mixed: 7 term scans were rescanned (excluded duplicates) (7 Europeans)\n",
    "Full: 7 term scans were rescanned (excluded duplicates) (7 Europeans)\n"
   ]
  },
  {
   "cell_type": "code",
   "execution_count": 12,
   "metadata": {
    "ExecuteTime": {
     "end_time": "2022-06-29T12:50:59.266563Z",
     "start_time": "2022-06-29T12:50:59.190608Z"
    }
   },
   "outputs": [],
   "source": [
    "european_cohort.extract_neonates_data(termness = 'term',get_data=['volumetric','diffusion'],remove_duplicates=True) # other options = preterm/term_at_scan\n",
    "mixed_cohort.extract_neonates_data(termness = 'term',get_data=['volumetric','diffusion'],remove_duplicates=True)\n",
    "full_cohort.extract_neonates_data(termness = 'term',get_data=['volumetric','diffusion'],remove_duplicates=True)"
   ]
  },
  {
   "cell_type": "code",
   "execution_count": 13,
   "metadata": {},
   "outputs": [
    {
     "name": "stdout",
     "output_type": "stream",
     "text": [
      "available number of subjects in each dataset before removing outliers\n"
     ]
    },
    {
     "data": {
      "text/html": [
       "<div>\n",
       "<style scoped>\n",
       "    .dataframe tbody tr th:only-of-type {\n",
       "        vertical-align: middle;\n",
       "    }\n",
       "\n",
       "    .dataframe tbody tr th {\n",
       "        vertical-align: top;\n",
       "    }\n",
       "\n",
       "    .dataframe thead th {\n",
       "        text-align: right;\n",
       "    }\n",
       "</style>\n",
       "<table border=\"1\" class=\"dataframe\">\n",
       "  <thead>\n",
       "    <tr style=\"text-align: right;\">\n",
       "      <th></th>\n",
       "      <th>Dataset</th>\n",
       "      <th>euro_number</th>\n",
       "      <th>mixed_number</th>\n",
       "      <th>full_number</th>\n",
       "    </tr>\n",
       "  </thead>\n",
       "  <tbody>\n",
       "    <tr>\n",
       "      <th>0</th>\n",
       "      <td>Vol</td>\n",
       "      <td>211</td>\n",
       "      <td>267</td>\n",
       "      <td>419</td>\n",
       "    </tr>\n",
       "    <tr>\n",
       "      <th>1</th>\n",
       "      <td>Diff</td>\n",
       "      <td>159</td>\n",
       "      <td>194</td>\n",
       "      <td>303</td>\n",
       "    </tr>\n",
       "  </tbody>\n",
       "</table>\n",
       "</div>"
      ],
      "text/plain": [
       "  Dataset  euro_number  mixed_number  full_number\n",
       "0     Vol          211           267          419\n",
       "1    Diff          159           194          303"
      ]
     },
     "execution_count": 13,
     "metadata": {},
     "output_type": "execute_result"
    }
   ],
   "source": [
    "print('available number of subjects in each dataset before removing outliers')\n",
    "pd.DataFrame({\n",
    "    'Dataset': ['Vol', 'Diff',],\n",
    "    'euro_number': [\n",
    "        european_cohort.volumetric_df.shape[0],\n",
    "        european_cohort.diffusion_df.shape[0],\n",
    "#         european_cohort.micro_df.shape[0]\n",
    "    ],\n",
    "    'mixed_number': [\n",
    "        mixed_cohort.volumetric_df.shape[0],\n",
    "        mixed_cohort.diffusion_df.shape[0],\n",
    "#         mixed_cohort.micro_df.shape[0]\n",
    "    ],\n",
    "    'full_number': [\n",
    "        full_cohort.volumetric_df.shape[0],\n",
    "        full_cohort.diffusion_df.shape[0],\n",
    "#         full_cohort.micro_df.shape[0]\n",
    "    ]\n",
    "})"
   ]
  },
  {
   "cell_type": "code",
   "execution_count": 94,
   "metadata": {},
   "outputs": [],
   "source": [
    "european_cohort_batch_2.extract_neonates_data(termness='term')"
   ]
  },
  {
   "cell_type": "markdown",
   "metadata": {},
   "source": [
    "Outliers are defined if they have more than 3.5 standard deviation on the AncPC2 and AncPC3"
   ]
  },
  {
   "cell_type": "code",
   "execution_count": 16,
   "metadata": {
    "ExecuteTime": {
     "end_time": "2022-06-29T12:52:22.669694Z",
     "start_time": "2022-06-29T12:52:20.845672Z"
    }
   },
   "outputs": [
    {
     "data": {
      "image/png": "[encoded data removed]",
      "text/plain": [
       "<Figure size 432x288 with 1 Axes>"
      ]
     },
     "metadata": {
      "needs_background": "light"
     },
     "output_type": "display_data"
    },
    {
     "data": {
      "image/png": "[encoded data removed]",
      "text/plain": [
       "<Figure size 432x288 with 1 Axes>"
      ]
     },
     "metadata": {
      "needs_background": "light"
     },
     "output_type": "display_data"
    },
    {
     "data": {
      "image/png": "[encoded data removed]",
      "text/plain": [
       "<Figure size 432x288 with 1 Axes>"
      ]
     },
     "metadata": {
      "needs_background": "light"
     },
     "output_type": "display_data"
    }
   ],
   "source": [
    "european_cohort.volumetric_df, _ = genetic_file_preprocess.Cohort.remove_outliers(\n",
    "    european_cohort.volumetric_df,\n",
    "    to_examine=['euro_Anc_PC2', 'euro_Anc_PC3'],hue='cohort',\n",
    "    to_annotate='ID')\n",
    "\n",
    "mixed_cohort.volumetric_df, _ = genetic_file_preprocess.Cohort.remove_outliers(\n",
    "    mixed_cohort.volumetric_df,\n",
    "    to_examine=['mixed_Anc_PC4', 'mixed_Anc_PC5'],hue='cohort',\n",
    "    to_annotate='ID')\n",
    "\n",
    "full_cohort.volumetric_df, _ = genetic_file_preprocess.Cohort.remove_outliers(\n",
    "    full_cohort.volumetric_df,\n",
    "    to_examine=['full_Anc_PC7', 'full_Anc_PC8'],hue='cohort',\n",
    "    to_annotate='ID')"
   ]
  },
  {
   "cell_type": "markdown",
   "metadata": {},
   "source": [
    "### saving preprocessed data without outliers"
   ]
  },
  {
   "cell_type": "code",
   "execution_count": 15,
   "metadata": {},
   "outputs": [],
   "source": [
    "european_cohort.diffusion_df.to_csv(f'{preprocessed_dataset_path}/imaging_data/diffusion/term/european_diffusion_df.csv')\n",
    "mixed_cohort.diffusion_df.to_csv(f'{preprocessed_dataset_path}/imaging_data/diffusion/term/mixed_diffusion_df.csv')\n",
    "# full_cohort.diffusion_df.to_csv(f'{preprocessed_dataset_path}/imaging_data/diffusion/term/full_diffusion_df.csv')\n",
    "\n",
    "# european_volumetric_term_dataset.to_csv('./preprocessed_data/volumetric/term/european_volumetric_term_dataset.csv',index=False)\n",
    "# european_microstructure_term_dataset.to_csv('./preprocessed_data/microstructure/term/european_microstructure_term_dataset.csv',index=False)\n",
    "\n",
    "\n",
    "# mixed_diffusion_term_dataset.to_csv('./preprocessed_data/diffusion/term/mixed_diffusion_term_dataset.csv',index=False)\n",
    "# mixed_volumetric_term_dataset.to_csv('./preprocessed_data/volumetric/term/mixed_volumetric_term_dataset.csv',index=False)\n",
    "# mixed_microstructure_term_dataset.to_csv('./preprocessed_data/microstructure/term/mixed_microstructure_term_dataset.csv',index=False)\n",
    "\n",
    "# full_cohort_diffusion_term_dataset.to_csv('./preprocessed_data/diffusion/term/full_cohort_diffusion_term_dataset.csv',index=False)\n",
    "# full_cohort_volumetric_term_dataset.to_csv('./preprocessed_data/volumetric/term/full_cohort_volumetric_term_dataset.csv',index=False)\n",
    "# full_cohort_microstructure_term_dataset.to_csv('./preprocessed_data/microstructure/term/full_cohort_microstructure_term_dataset.csv',index=False)\n"
   ]
  }
 ],
 "metadata": {
  "hide_input": false,
  "kernelspec": {
   "display_name": "Python 3 (ipykernel)",
   "language": "python",
   "name": "python3"
  },
  "language_info": {
   "codemirror_mode": {
    "name": "ipython",
    "version": 3
   },
   "file_extension": ".py",
   "mimetype": "text/x-python",
   "name": "python",
   "nbconvert_exporter": "python",
   "pygments_lexer": "ipython3",
   "version": "3.9.12"
  },
  "varInspector": {
   "cols": {
    "lenName": 16,
    "lenType": 16,
    "lenVar": 40
   },
   "kernels_config": {
    "python": {
     "delete_cmd_postfix": "",
     "delete_cmd_prefix": "del ",
     "library": "var_list.py",
     "varRefreshCmd": "print(var_dic_list())"
    },
    "r": {
     "delete_cmd_postfix": ") ",
     "delete_cmd_prefix": "rm(",
     "library": "var_list.r",
     "varRefreshCmd": "cat(var_dic_list()) "
    }
   },
   "types_to_exclude": [
    "module",
    "function",
    "builtin_function_or_method",
    "instance",
    "_Feature"
   ],
   "window_display": false
  }
 },
 "nbformat": 4,
 "nbformat_minor": 2
}
