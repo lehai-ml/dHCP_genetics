{
 "cells": [
  {
   "cell_type": "code",
   "execution_count": 2,
   "metadata": {
    "ExecuteTime": {
     "end_time": "2022-06-29T12:43:19.853734Z",
     "start_time": "2022-06-29T12:43:19.834746Z"
    }
   },
   "outputs": [],
   "source": [
    "import sys\n",
    "sys.path.append('../../')\n",
    "sys.path.append('../')"
   ]
  },
  {
   "cell_type": "code",
   "execution_count": 3,
   "metadata": {
    "ExecuteTime": {
     "end_time": "2022-06-29T12:43:20.616736Z",
     "start_time": "2022-06-29T12:43:20.601747Z"
    }
   },
   "outputs": [],
   "source": [
    "dataset_path = \"../../dataset\"\n",
    "preprocessed_dataset_path = \"preprocessed_dataset\""
   ]
  },
  {
   "cell_type": "code",
   "execution_count": 4,
   "metadata": {
    "ExecuteTime": {
     "end_time": "2022-06-29T12:43:32.411682Z",
     "start_time": "2022-06-29T12:43:21.081749Z"
    }
   },
   "outputs": [],
   "source": [
    "from codes.docs.analysis import data_preprocessing\n",
    "from codes.docs.analysis.gene_analysis import genetic_file_preprocess"
   ]
  },
  {
   "cell_type": "code",
   "execution_count": 5,
   "metadata": {
    "ExecuteTime": {
     "end_time": "2022-06-29T12:43:38.277874Z",
     "start_time": "2022-06-29T12:43:38.033715Z"
    }
   },
   "outputs": [],
   "source": [
    "import matplotlib.pyplot as plt\n",
    "import numpy as np\n",
    "import pandas as pd\n",
    "import scipy.io\n",
    "import glob\n",
    "from collections import defaultdict\n",
    "%matplotlib inline"
   ]
  },
  {
   "cell_type": "markdown",
   "metadata": {},
   "source": [
    "Notebook 1 description: \n",
    "1. Imaging data is imported and preprocessed\n",
    "\n",
    "Available informations\n",
    "- Volumetric dataset (dHCP) - 675 individuals\n",
    "- Diffusion dataset - 432 individuals\n",
    "- Microstructure - 318 individuals\n",
    "- Cortical thickness - 234 individuals\n",
    "2. Genetic data is added and outliers removed\n",
    "- Schizophrenia - PRS calculated from GWAS 2020 (Ripke et al., 2020)"
   ]
  },
  {
   "cell_type": "markdown",
   "metadata": {},
   "source": [
    "# 1. Data Preprocessing and Importing"
   ]
  },
  {
   "cell_type": "markdown",
   "metadata": {
    "deletable": false,
    "editable": false,
    "run_control": {
     "frozen": true
    }
   },
   "source": [
    "## Importing volumetric, diffusion, microstructural, cortical thickness dataset"
   ]
  },
  {
   "cell_type": "markdown",
   "metadata": {
    "deletable": false,
    "editable": false,
    "run_control": {
     "frozen": true
    }
   },
   "source": [
    "### Volumetric dataset"
   ]
  },
  {
   "cell_type": "markdown",
   "metadata": {},
   "source": [
    "The `full_dataset` contains all the volumetric information for the full cohort. Labels are saved in `Imperial_label` and `AAL_label`"
   ]
  },
  {
   "cell_type": "code",
   "execution_count": 5,
   "metadata": {},
   "outputs": [],
   "source": [
    "#Volumetric dataset\n",
    "full_dataset = pd.read_excel(open(\n",
    "    dataset_path +\n",
    "    '/volumetric/full_dataset/allSubjectsWithKANA_AALVolumes_mm3_4Harriet_withCovariates_withImperialLegendsOK.xlsx',\n",
    "    'rb'),\n",
    "                             sheet_name='allSubjectsWithKANA_AALVolumes').drop(\n",
    "                                 'ID', axis=1)\n",
    "full_dataset = full_dataset.rename({'Subject': 'ID'}, axis=1)\n",
    "full_dataset.rename(columns={\n",
    "    'GA at birth': 'GA',\n",
    "    'PMA at birth': 'PMA'\n",
    "},\n",
    "                    inplace=True)\n",
    "full_dataset = full_dataset.sort_values(by='Session', ascending=False)\n",
    "full_dataset = full_dataset.drop_duplicates(subset='ID', keep='last')\n",
    "full_dataset = full_dataset.reset_index(drop=True)"
   ]
  },
  {
   "cell_type": "code",
   "execution_count": 8,
   "metadata": {},
   "outputs": [],
   "source": [
    "Imperial_label = pd.read_excel(open(\n",
    "    f'{dataset_path}/volumetric/full_dataset/allSubjectsWithKANA_AALVolumes_mm3_4Harriet_withCovariates_withImperialLegendsOK.xlsx',\n",
    "    'rb'),\n",
    "                               sheet_name='IMPERIAL ROIs LEGEND',\n",
    "                               header=None).drop([0, 1], axis=1)\n",
    "AAL_label = pd.read_excel(open(\n",
    "    f'{dataset_path}/volumetric/full_dataset/allSubjectsWithKANA_AALVolumes_mm3_4Harriet_withCovariates_withImperialLegendsOK.xlsx',\n",
    "    'rb'),\n",
    "                          sheet_name='AAL LEGEND',\n",
    "                          header=None).drop(0, axis=1)\n",
    "\n",
    "from string import digits\n",
    "\n",
    "AAL_label = np.asarray(\n",
    "    [str.split(i, ' ')[1] for i in np.asarray(AAL_label).reshape(-1)])\n",
    "Imperial_label = np.asarray([\n",
    "    str.strip(i.translate({ord(c): None\n",
    "                           for c in digits}))\n",
    "    for i in (np.asarray(Imperial_label)).reshape(-1)\n",
    "])"
   ]
  },
  {
   "cell_type": "code",
   "execution_count": 9,
   "metadata": {},
   "outputs": [
    {
     "name": "stdout",
     "output_type": "stream",
     "text": [
      "volumetric dataset\n"
     ]
    },
    {
     "data": {
      "text/plain": [
       "(675, 204)"
      ]
     },
     "execution_count": 9,
     "metadata": {},
     "output_type": "execute_result"
    }
   ],
   "source": [
    "print('volumetric dataset')\n",
    "full_dataset.shape"
   ]
  },
  {
   "cell_type": "code",
   "execution_count": 11,
   "metadata": {
    "deletable": false,
    "editable": false,
    "run_control": {
     "frozen": true
    }
   },
   "outputs": [],
   "source": [
    "full_dataset.to_csv(f'{preprocessed_dataset_path}/imaging_data/log_file/full_dataset.csv',index=False)"
   ]
  },
  {
   "cell_type": "markdown",
   "metadata": {
    "deletable": false,
    "editable": false,
    "heading_collapsed": true,
    "run_control": {
     "frozen": true
    }
   },
   "source": [
    "### Diffusion dataset"
   ]
  },
  {
   "cell_type": "markdown",
   "metadata": {
    "hidden": true
   },
   "source": [
    "The diffusion dataset is saved in the matlab file. \n",
    "It is saved in the `diffusion_full_dataset`\n",
    "\n",
    "The labels are saved in the `ROIs_combinations`"
   ]
  },
  {
   "cell_type": "code",
   "execution_count": 13,
   "metadata": {
    "hidden": true
   },
   "outputs": [],
   "source": [
    "ROIs_combinations = data_preprocessing.Diffusion.create_ROIs_combinations(\n",
    "    f'{dataset_path}/diff_dataset/Regions_of_interests.csv')"
   ]
  },
  {
   "cell_type": "code",
   "execution_count": 14,
   "metadata": {
    "hidden": true
   },
   "outputs": [],
   "source": [
    "#Diffusion dataset\n",
    "diffusion_full_dataset = scipy.io.loadmat(\n",
    "    f'{dataset_path}/diff_dataset/2020_04_MASTER_connectomes90_433subj_SCandFC_TermScansVolOK.mat'\n",
    ")\n",
    "diffusion_matrices = diffusion_full_dataset[\n",
    "    'SCmu']  #use the Structural Connectivity (SIFT2-weighted * Mu) [equivalent to raw connectivity, see SIFT2 paper]\n",
    "diffusion_matrices = [\n",
    "    diffusion_matrices[:, :, i] for i in range(diffusion_matrices.shape[2])\n",
    "]  # rearranged them into (433,90,90)\n",
    "diffusion_matrices = np.asarray(diffusion_matrices)"
   ]
  },
  {
   "cell_type": "code",
   "execution_count": 15,
   "metadata": {
    "hidden": true
   },
   "outputs": [],
   "source": [
    "diffusion_matrices = np.asarray([\n",
    "    data_preprocessing.Diffusion.lower_triangle(diffusion_matrices[i])\n",
    "    for i in range(diffusion_matrices.shape[0])\n",
    "])\n",
    "diffusion_matrices = pd.DataFrame(diffusion_matrices)"
   ]
  },
  {
   "cell_type": "code",
   "execution_count": 16,
   "metadata": {
    "hidden": true
   },
   "outputs": [],
   "source": [
    "diffusion_matrices.columns = data_preprocessing.Diffusion.lower_triangle(\n",
    "    ROIs_combinations)"
   ]
  },
  {
   "cell_type": "code",
   "execution_count": 17,
   "metadata": {
    "hidden": true
   },
   "outputs": [],
   "source": [
    "diffusion_subject_id = diffusion_full_dataset['sub'].reshape(-1, 1)\n",
    "diffusion_subject_id = [\n",
    "    i[0][0].replace('sub-', '') for i in diffusion_subject_id\n",
    "]\n",
    "diffusion_subject_sess = diffusion_full_dataset['ses'].reshape(-1, 1)\n",
    "diffusion_subject_sess = [\n",
    "    i[0][0].replace('ses-', '') for i in diffusion_subject_sess\n",
    "]\n",
    "diffusion_subject_pma = diffusion_full_dataset['pma'].reshape(-1)\n",
    "diffusion_subject_ga = diffusion_full_dataset['ga'].reshape(-1)\n",
    "\n",
    "diffusion_dataset = pd.DataFrame({\n",
    "    'ID': diffusion_subject_id,\n",
    "    'Session': diffusion_subject_sess,\n",
    "    'GA': diffusion_subject_ga,\n",
    "    'PMA': diffusion_subject_pma\n",
    "})\n",
    "\n",
    "# diffusion_dataset['Gender'] = diffusion_full_dataset['sex'].reshape(-1)\n",
    "\n",
    "#match the ID to the diffusion matrices\n",
    "diffusion_dataset = pd.concat((diffusion_dataset, diffusion_matrices), axis=1)\n",
    "#rearrange by the session, drop the duplicates and keep the last session\n",
    "diffusion_dataset = diffusion_dataset.sort_values(by='Session',\n",
    "                                                  ascending=False)\n",
    "diffusion_dataset = diffusion_dataset.drop_duplicates(subset='ID', keep='last')\n",
    "diffusion_dataset = diffusion_dataset.reset_index(drop=True)"
   ]
  },
  {
   "cell_type": "code",
   "execution_count": 12,
   "metadata": {
    "hidden": true
   },
   "outputs": [
    {
     "name": "stdout",
     "output_type": "stream",
     "text": [
      "diffusion dataset\n"
     ]
    },
    {
     "data": {
      "text/plain": [
       "(432, 4009)"
      ]
     },
     "execution_count": 12,
     "metadata": {},
     "output_type": "execute_result"
    }
   ],
   "source": [
    "print('diffusion dataset')\n",
    "diffusion_dataset.shape"
   ]
  },
  {
   "cell_type": "code",
   "execution_count": 18,
   "metadata": {
    "deletable": false,
    "editable": false,
    "hidden": true,
    "run_control": {
     "frozen": true
    }
   },
   "outputs": [],
   "source": [
    "diffusion_dataset.to_csv(\n",
    "    f'{preprocessed_dataset_path}/imaging_data/log_file/diffusion_dataset.csv',\n",
    "    index=False)"
   ]
  },
  {
   "cell_type": "markdown",
   "metadata": {
    "deletable": false,
    "editable": false,
    "heading_collapsed": true,
    "run_control": {
     "frozen": true
    }
   },
   "source": [
    "### microstructure dataset"
   ]
  },
  {
   "cell_type": "markdown",
   "metadata": {
    "hidden": true
   },
   "source": [
    "microstructure data contains `FA`, `MD`, etc. "
   ]
  },
  {
   "cell_type": "code",
   "execution_count": 19,
   "metadata": {
    "hidden": true
   },
   "outputs": [],
   "source": [
    "#microstructure dataset\n",
    "microstructure_file_path = f'{dataset_path}/microstructure/052021/'\n",
    "dHCP_microstructure_info = pd.read_excel(\n",
    "    microstructure_file_path +\n",
    "    'dHCP-info-for-H_outcomes_and_rad_scores_05_2021.xlsx')\n",
    "dHCP_microstructure_info = dHCP_microstructure_info[[\n",
    "    'ID', 'potential registration artefacts', 'GA at birth', 'GA at scan ',\n",
    "    'Birth weight', 'Head circumference at scan', 'dmri', 't2ms'\n",
    "]]\n",
    "dHCP_microstructure_info.columns = [\n",
    "    'ID', 'potential registration artefacts', 'GA_micro', 'PMA_micro',\n",
    "    'Birth weight', 'Head circumference at scan', 'dmri', 't2ms'\n",
    "]"
   ]
  },
  {
   "cell_type": "code",
   "execution_count": 20,
   "metadata": {
    "hidden": true
   },
   "outputs": [],
   "source": [
    "# Importing the microstructure files\n",
    "micro_dict_europeans_df = defaultdict(pd.DataFrame)\n",
    "for file in glob.glob(microstructure_file_path +\n",
    "                      '/europeans/*-wm-*-stats*.csv'):\n",
    "    micro = str.split(file, '-')[-3]\n",
    "    micro_dict_europeans_df[micro] = pd.read_csv(file).dropna(how='any',\n",
    "                                                              axis=1)\n",
    "    micro_dict_europeans_df[micro].columns = [\n",
    "        i + str.upper('_' + micro) if i != 'id' else 'ID'\n",
    "        for i in micro_dict_europeans_df[micro].columns\n",
    "    ]  # adding the microstructure name to each of the feature\n",
    "    micro_dict_europeans_df[micro]['ID'] = [\n",
    "        i.split('-')[2].split('_')[0]\n",
    "        for i in micro_dict_europeans_df[micro]['ID']\n",
    "    ]  # change the ID format\n",
    "\n",
    "# Adding the microstructure files together into one table.\n",
    "from functools import reduce\n",
    "\n",
    "dHCP_microstructure_europeans = reduce(\n",
    "    lambda left, right: pd.merge(left, right, on='ID', how='outer'), [\n",
    "        micro_dict_europeans_df['fa'], micro_dict_europeans_df['md'],\n",
    "        micro_dict_europeans_df['t12'], micro_dict_europeans_df['t2'],\n",
    "        micro_dict_europeans_df['fiso']\n",
    "    ])"
   ]
  },
  {
   "cell_type": "code",
   "execution_count": 21,
   "metadata": {
    "hidden": true
   },
   "outputs": [],
   "source": [
    "#### adding asians microstructure files\n",
    "micro_dict_asians_df = defaultdict(pd.DataFrame)\n",
    "for file in glob.glob(microstructure_file_path + '/asians/*-wm-*-stats*.csv'):\n",
    "    micro = str.split(file, '-')[-3]\n",
    "    micro_dict_asians_df[micro] = pd.read_csv(file).dropna(how='any', axis=1)\n",
    "    micro_dict_asians_df[micro].columns = [\n",
    "        i + str.upper('_' + micro) if i != 'id' else 'ID'\n",
    "        for i in micro_dict_asians_df[micro].columns\n",
    "    ]  # adding the microstructure name to each of the feature\n",
    "    micro_dict_asians_df[micro]['ID'] = [\n",
    "        i.split('-')[2].split('_')[0]\n",
    "        for i in micro_dict_asians_df[micro]['ID']\n",
    "    ]  # change the ID format\n",
    "\n",
    "from functools import reduce\n",
    "\n",
    "dHCP_microstructure_asians = reduce(\n",
    "    lambda left, right: pd.merge(left, right, on='ID', how='outer'), [\n",
    "        micro_dict_asians_df['fa'], micro_dict_asians_df['md'],\n",
    "        micro_dict_asians_df['t12'], micro_dict_asians_df['t2'],\n",
    "        micro_dict_asians_df['fiso']\n",
    "    ])"
   ]
  },
  {
   "cell_type": "code",
   "execution_count": 22,
   "metadata": {
    "hidden": true
   },
   "outputs": [],
   "source": [
    "dHCP_microstructure = pd.concat(\n",
    "    [dHCP_microstructure_europeans,\n",
    "     dHCP_microstructure_asians]).reset_index(drop=True)\n",
    "\n",
    "#merge the information with the available data\n",
    "\n",
    "dHCP_microstructure_info = dHCP_microstructure.merge(dHCP_microstructure_info,\n",
    "                                                     on='ID',\n",
    "                                                     how='outer')"
   ]
  },
  {
   "cell_type": "code",
   "execution_count": 23,
   "metadata": {
    "hidden": true
   },
   "outputs": [],
   "source": [
    "not_usable_subj_micro = dHCP_microstructure_info[(\n",
    "    dHCP_microstructure_info['potential registration artefacts'].notna()\n",
    ")]  #removed anything that has not OK dmri or t2ms or potential registration artefacts\n",
    "\n",
    "dHCP_microstructure_info = dHCP_microstructure_info.drop(\n",
    "    index=not_usable_subj_micro.index).reset_index(drop=True).drop(\n",
    "        labels=['potential registration artefacts', 'dmri', 't2ms'], axis=1)"
   ]
  },
  {
   "cell_type": "code",
   "execution_count": 24,
   "metadata": {
    "hidden": true
   },
   "outputs": [
    {
     "name": "stdout",
     "output_type": "stream",
     "text": [
      "microstructure info\n"
     ]
    },
    {
     "data": {
      "text/plain": [
       "(318, 275)"
      ]
     },
     "execution_count": 24,
     "metadata": {},
     "output_type": "execute_result"
    }
   ],
   "source": [
    "print('microstructure info')\n",
    "dHCP_microstructure_info.shape"
   ]
  },
  {
   "cell_type": "code",
   "execution_count": 25,
   "metadata": {
    "deletable": false,
    "editable": false,
    "hidden": true,
    "run_control": {
     "frozen": true
    }
   },
   "outputs": [],
   "source": [
    "dHCP_microstructure_info.to_csv(f'{preprocessed_dataset_path}/imaging_data/log_file/dHCP_microstructure_info.csv',index=False)"
   ]
  },
  {
   "cell_type": "markdown",
   "metadata": {
    "deletable": false,
    "editable": false,
    "heading_collapsed": true,
    "run_control": {
     "frozen": true
    }
   },
   "source": [
    "### Cortical Thickness dataset"
   ]
  },
  {
   "cell_type": "markdown",
   "metadata": {
    "hidden": true
   },
   "source": [
    "`cortical_thickness_df` contains the mean cortical thickness information."
   ]
  },
  {
   "cell_type": "code",
   "execution_count": 26,
   "metadata": {
    "hidden": true
   },
   "outputs": [],
   "source": [
    "cortical_thickness_df = pd.read_csv('./dataset/cortical_thickness/cortical_thickness_updated.csv')\n",
    "cortical_thickness_df['Session_cortical'] = cortical_thickness_df['session']\n",
    "cortical_thickness_df.drop('session', axis=1, inplace=True)"
   ]
  },
  {
   "cell_type": "code",
   "execution_count": 20,
   "metadata": {
    "hidden": true
   },
   "outputs": [
    {
     "data": {
      "text/plain": [
       "(234, 3)"
      ]
     },
     "execution_count": 20,
     "metadata": {},
     "output_type": "execute_result"
    }
   ],
   "source": [
    "cortical_thickness_df.shape"
   ]
  },
  {
   "cell_type": "code",
   "execution_count": 27,
   "metadata": {
    "deletable": false,
    "editable": false,
    "hidden": true,
    "run_control": {
     "frozen": true
    }
   },
   "outputs": [],
   "source": [
    "cortical_thickness_df.to_csv(f'{preprocessed_dataset_path}/imaging_data/log_file/cortical_thickness_df.csv',index=False)"
   ]
  },
  {
   "cell_type": "markdown",
   "metadata": {
    "deletable": false,
    "editable": false,
    "run_control": {
     "frozen": true
    }
   },
   "source": [
    "## Merging all data with PRS scores"
   ]
  },
  {
   "cell_type": "markdown",
   "metadata": {},
   "source": [
    "- PRS file contains PRS at 11 P-value thresholds, which ranges from 1e-8 to 1.\n",
    "- The Ancestry files contains the first 10 PCs of the genetic data\n",
    "- The data can be divided into 3 different ethnic groups: European, South Asian and African\n",
    "- The outliers are removed to each cohort separately (i.e., European, European + South Asian (called mixed cohort), and European + South Asian + Africans (called full cohort)"
   ]
  },
  {
   "cell_type": "code",
   "execution_count": 19,
   "metadata": {
    "ExecuteTime": {
     "end_time": "2022-06-29T12:43:44.772680Z",
     "start_time": "2022-06-29T12:43:43.697776Z"
    },
    "deletable": false,
    "editable": false
   },
   "outputs": [],
   "source": [
    "full_dataset = pd.read_csv(f'{preprocessed_dataset_path}/imaging_data/log_file/full_dataset.csv')\n",
    "cortical_thickness_df = pd.read_csv(f'{preprocessed_dataset_path}/imaging_data/log_file/cortical_thickness_df.csv')\n",
    "diffusion_dataset = pd.read_csv(f'{preprocessed_dataset_path}/imaging_data/log_file/diffusion_dataset.csv')\n",
    "dHCP_microstructure_info = pd.read_csv(f'{preprocessed_dataset_path}/imaging_data/log_file/dHCP_microstructure_info.csv')"
   ]
  },
  {
   "cell_type": "code",
   "execution_count": 21,
   "metadata": {
    "deletable": false,
    "editable": false
   },
   "outputs": [],
   "source": [
    "#Merge the diffusion with structural data together\n",
    "full_dataset = full_dataset.merge(diffusion_dataset,\n",
    "                                  on='ID',\n",
    "                                  suffixes=('_vol', '_diff'),\n",
    "                                  how='outer')  #merging the diffusion dataset\n",
    "full_dataset = full_dataset.merge(\n",
    "    dHCP_microstructure_info, on='ID',\n",
    "    how='outer')  # merging the microstructure dataset\n",
    "\n",
    "full_dataset = full_dataset.merge(cortical_thickness_df, on='ID',\n",
    "                                  how='outer')  # merging the cortical dataset\n",
    "\n",
    "dHCP_participants_info = pd.read_csv(\n",
    "    f'{dataset_path}/participant_info/dHCP Neonatal Data Release 3 subjects - Participant info & reconstruction.csv'\n",
    ")\n",
    "dHCP_participants_info = dHCP_participants_info[[\n",
    "    'ID', 'Gender', 'GA at birth', 'GA at scan ','Birth weight'\n",
    "]]\n",
    "dHCP_participants_info = dHCP_participants_info.rename(\n",
    "    {\n",
    "        'GA at birth': 'GA_full',\n",
    "        'GA at scan ': 'PMA_full',\n",
    "        'Birth weight': 'Birth weight full'\n",
    "    }, axis=1)\n",
    "dHCP_participants_info = dHCP_participants_info.drop_duplicates(subset='ID',\n",
    "                                                                keep='last')\n",
    "full_dataset = full_dataset.merge(dHCP_participants_info, on='ID',\n",
    "                                  how='left')  #added gender info\n",
    "\n",
    "####### Given that the GA and PMA information is likely to come from the full dataset, I will just define the missing GA_micro and PMA micro information to the GA_full and PMA_full (from the full dataset)\n",
    "full_dataset['GA_micro'] = full_dataset['GA_full']\n",
    "full_dataset['PMA_micro'] = full_dataset['PMA_full']\n",
    "full_dataset['Birth weight'] = full_dataset['Birth weight full']"
   ]
  },
  {
   "cell_type": "code",
   "execution_count": 22,
   "metadata": {
    "deletable": false,
    "editable": false,
    "run_control": {
     "frozen": true
    }
   },
   "outputs": [],
   "source": [
    "full_dataset.to_csv(f'{preprocessed_dataset_path}/imaging_data/log_file/combined_imaging_full_dataset.csv',index=False)"
   ]
  },
  {
   "cell_type": "code",
   "execution_count": 23,
   "metadata": {
    "ExecuteTime": {
     "end_time": "2022-06-29T12:43:51.392994Z",
     "start_time": "2022-06-29T12:43:49.681931Z"
    },
    "deletable": false,
    "editable": false
   },
   "outputs": [],
   "source": [
    "full_dataset = pd.read_csv(f'{preprocessed_dataset_path}/imaging_data/log_file/combined_imaging_full_dataset.csv',index_col=[0])"
   ]
  },
  {
   "cell_type": "code",
   "execution_count": 24,
   "metadata": {
    "ExecuteTime": {
     "end_time": "2022-06-29T12:43:55.843939Z",
     "start_time": "2022-06-29T12:43:55.305790Z"
    }
   },
   "outputs": [],
   "source": [
    "pheno = 'scz'\n",
    "european_cohort = genetic_file_preprocess.Cohort(\n",
    "    cohort_name='euro',\n",
    "    PRS_file_path=\n",
    "    f'{dataset_path}/PRS/{pheno}/SCZ3_lifted37_dHCP_merged_cleaned_EUROPEANS_updated.gwas.all.score',\n",
    "    Ancestry_file_path=\n",
    "    f'{dataset_path}/ancestry_PCs/file3_only_europ_10pcs_pca.eigenvec',\n",
    "    imaging_df=full_dataset)\n",
    "mixed_cohort = genetic_file_preprocess.Cohort(\n",
    "    cohort_name='mixed',\n",
    "    PRS_file_path=\n",
    "    f'{dataset_path}/PRS/{pheno}/SCZ3_lifted37_dHCP_merged_cleaned_EUROPEANS_ASIAN_361.gwas.all.score',\n",
    "    Ancestry_file_path=\n",
    "    f'{dataset_path}/ancestry_PCs/euro_asian_361_file3_pca.eigenvec',\n",
    "    imaging_df=full_dataset)\n",
    "full_cohort = genetic_file_preprocess.Cohort(\n",
    "    cohort_name='full',\n",
    "    PRS_file_path=\n",
    "    f'{dataset_path}/PRS/{pheno}/SCZ3_lifted37_dHCP_merged_cleaned_ALL_562.gwas.all.score',\n",
    "    Ancestry_file_path=f'{dataset_path}/ancestry_PCs/file3_all_pca.eigenvec',\n",
    "    imaging_df=full_dataset)"
   ]
  },
  {
   "cell_type": "code",
   "execution_count": 25,
   "metadata": {
    "ExecuteTime": {
     "end_time": "2022-06-29T12:43:59.946751Z",
     "start_time": "2022-06-29T12:43:59.897797Z"
    }
   },
   "outputs": [],
   "source": [
    "#european_ID and asian_ID\n",
    "european_ID = european_cohort.cohort_data.index.tolist()\n",
    "asian_ID = [\n",
    "    i for i in mixed_cohort.cohort_data.index.tolist()\n",
    "    if i not in european_ID\n",
    "]\n",
    "african_ID = [\n",
    "    i for i in full_cohort.cohort_data.index.tolist()\n",
    "    if (i not in european_ID) and (i not in asian_ID)\n",
    "]\n",
    "cohort_list = pd.DataFrame({'ID':full_cohort.cohort_data.index.tolist(),\n",
    "             'cohort':['EUR' if i in european_ID else 'ASI' if i in asian_ID else 'AFR' for i in full_cohort.cohort_data.index.tolist()]})\n",
    "cohort_list = cohort_list.set_index('ID')\n",
    "\n",
    "european_cohort.append_cohort_list(cohort_list)\n",
    "mixed_cohort.append_cohort_list(cohort_list)\n",
    "full_cohort.append_cohort_list(cohort_list)"
   ]
  },
  {
   "cell_type": "markdown",
   "metadata": {},
   "source": [
    "### saving full dataset"
   ]
  },
  {
   "cell_type": "code",
   "execution_count": 26,
   "metadata": {},
   "outputs": [
    {
     "data": {
      "text/html": [
       "<div>\n",
       "<style scoped>\n",
       "    .dataframe tbody tr th:only-of-type {\n",
       "        vertical-align: middle;\n",
       "    }\n",
       "\n",
       "    .dataframe tbody tr th {\n",
       "        vertical-align: top;\n",
       "    }\n",
       "\n",
       "    .dataframe thead th {\n",
       "        text-align: right;\n",
       "    }\n",
       "</style>\n",
       "<table border=\"1\" class=\"dataframe\">\n",
       "  <thead>\n",
       "    <tr style=\"text-align: right;\">\n",
       "      <th></th>\n",
       "      <th></th>\n",
       "      <th>GA_vol</th>\n",
       "      <th>PMA_vol</th>\n",
       "      <th>cohort</th>\n",
       "    </tr>\n",
       "    <tr>\n",
       "      <th>cohort</th>\n",
       "      <th>termness</th>\n",
       "      <th></th>\n",
       "      <th></th>\n",
       "      <th></th>\n",
       "    </tr>\n",
       "  </thead>\n",
       "  <tbody>\n",
       "    <tr>\n",
       "      <th rowspan=\"3\" valign=\"top\">AFR</th>\n",
       "      <th>preterm</th>\n",
       "      <td>33.297619</td>\n",
       "      <td>35.238095</td>\n",
       "      <td>12</td>\n",
       "    </tr>\n",
       "    <tr>\n",
       "      <th>preterm/term_at_scan</th>\n",
       "      <td>30.066327</td>\n",
       "      <td>35.581633</td>\n",
       "      <td>28</td>\n",
       "    </tr>\n",
       "    <tr>\n",
       "      <th>term</th>\n",
       "      <td>39.887955</td>\n",
       "      <td>40.791783</td>\n",
       "      <td>153</td>\n",
       "    </tr>\n",
       "    <tr>\n",
       "      <th rowspan=\"3\" valign=\"top\">ASI</th>\n",
       "      <th>preterm</th>\n",
       "      <td>32.214286</td>\n",
       "      <td>34.142857</td>\n",
       "      <td>2</td>\n",
       "    </tr>\n",
       "    <tr>\n",
       "      <th>preterm/term_at_scan</th>\n",
       "      <td>33.321429</td>\n",
       "      <td>35.446429</td>\n",
       "      <td>8</td>\n",
       "    </tr>\n",
       "    <tr>\n",
       "      <th>term</th>\n",
       "      <td>39.982456</td>\n",
       "      <td>41.127820</td>\n",
       "      <td>57</td>\n",
       "    </tr>\n",
       "    <tr>\n",
       "      <th rowspan=\"3\" valign=\"top\">EUR</th>\n",
       "      <th>preterm</th>\n",
       "      <td>32.857143</td>\n",
       "      <td>34.610390</td>\n",
       "      <td>13</td>\n",
       "    </tr>\n",
       "    <tr>\n",
       "      <th>preterm/term_at_scan</th>\n",
       "      <td>31.849351</td>\n",
       "      <td>36.688312</td>\n",
       "      <td>56</td>\n",
       "    </tr>\n",
       "    <tr>\n",
       "      <th>term</th>\n",
       "      <td>40.079515</td>\n",
       "      <td>41.522237</td>\n",
       "      <td>219</td>\n",
       "    </tr>\n",
       "  </tbody>\n",
       "</table>\n",
       "</div>"
      ],
      "text/plain": [
       "                                GA_vol    PMA_vol  cohort\n",
       "cohort termness                                          \n",
       "AFR    preterm               33.297619  35.238095      12\n",
       "       preterm/term_at_scan  30.066327  35.581633      28\n",
       "       term                  39.887955  40.791783     153\n",
       "ASI    preterm               32.214286  34.142857       2\n",
       "       preterm/term_at_scan  33.321429  35.446429       8\n",
       "       term                  39.982456  41.127820      57\n",
       "EUR    preterm               32.857143  34.610390      13\n",
       "       preterm/term_at_scan  31.849351  36.688312      56\n",
       "       term                  40.079515  41.522237     219"
      ]
     },
     "execution_count": 26,
     "metadata": {},
     "output_type": "execute_result"
    }
   ],
   "source": [
    "pd.pivot_table(full_cohort.cohort_data,\n",
    "               values=['GA_vol','PMA_vol'],\n",
    "               index=['cohort','termness'],\n",
    "               aggfunc={'cohort':np.count_nonzero,\n",
    "                        'GA_vol':np.mean,\n",
    "                        'PMA_vol':np.mean})"
   ]
  },
  {
   "cell_type": "code",
   "execution_count": 27,
   "metadata": {},
   "outputs": [],
   "source": [
    "full_cohort.cohort_data.to_csv(f'{preprocessed_dataset_path}/imaging_data/log_file/combined_imaging_genetic_pre_outliers_full_dataset.csv')"
   ]
  },
  {
   "cell_type": "code",
   "execution_count": 11,
   "metadata": {
    "scrolled": true
   },
   "outputs": [],
   "source": [
    "# full_dataset.drop(columns=['Session_vol','Session_diff'],inplace=True)\n",
    "# full_dataset = data_preprocessing.move_multiple_columns(full_dataset,cols_to_move=['Gender','GA_diff','PMA_diff'],ref_col='ID',place='After')"
   ]
  },
  {
   "cell_type": "markdown",
   "metadata": {},
   "source": [
    "### Removing outliers"
   ]
  },
  {
   "cell_type": "markdown",
   "metadata": {},
   "source": [
    "Outlier is defined using the Anc PCs. Should I do the this for each dataset or all of them together? Note that the ancestry components for european cohort alone is different from ancestry PCs for european from european and asian cohort mixed"
   ]
  },
  {
   "cell_type": "code",
   "execution_count": 28,
   "metadata": {
    "ExecuteTime": {
     "end_time": "2022-06-29T12:50:59.266563Z",
     "start_time": "2022-06-29T12:50:59.190608Z"
    }
   },
   "outputs": [],
   "source": [
    "european_cohort.extract_neonates_data(termness = 'term') # other options = preterm/term_at_scan\n",
    "mixed_cohort.extract_neonates_data(termness = 'term')\n",
    "full_cohort.extract_neonates_data(termness = 'term')"
   ]
  },
  {
   "cell_type": "code",
   "execution_count": 29,
   "metadata": {
    "ExecuteTime": {
     "end_time": "2022-06-29T12:52:17.334866Z",
     "start_time": "2022-06-29T12:52:17.318877Z"
    }
   },
   "outputs": [
    {
     "name": "stdout",
     "output_type": "stream",
     "text": [
      "available number of subjects in each dataset before removing outliers\n"
     ]
    },
    {
     "data": {
      "text/html": [
       "<div>\n",
       "<style scoped>\n",
       "    .dataframe tbody tr th:only-of-type {\n",
       "        vertical-align: middle;\n",
       "    }\n",
       "\n",
       "    .dataframe tbody tr th {\n",
       "        vertical-align: top;\n",
       "    }\n",
       "\n",
       "    .dataframe thead th {\n",
       "        text-align: right;\n",
       "    }\n",
       "</style>\n",
       "<table border=\"1\" class=\"dataframe\">\n",
       "  <thead>\n",
       "    <tr style=\"text-align: right;\">\n",
       "      <th></th>\n",
       "      <th>Dataset</th>\n",
       "      <th>euro_number</th>\n",
       "      <th>mixed_number</th>\n",
       "      <th>full_number</th>\n",
       "    </tr>\n",
       "  </thead>\n",
       "  <tbody>\n",
       "    <tr>\n",
       "      <th>0</th>\n",
       "      <td>Vol</td>\n",
       "      <td>212</td>\n",
       "      <td>269</td>\n",
       "      <td>422</td>\n",
       "    </tr>\n",
       "    <tr>\n",
       "      <th>1</th>\n",
       "      <td>Diff</td>\n",
       "      <td>159</td>\n",
       "      <td>195</td>\n",
       "      <td>304</td>\n",
       "    </tr>\n",
       "    <tr>\n",
       "      <th>2</th>\n",
       "      <td>Micro</td>\n",
       "      <td>163</td>\n",
       "      <td>194</td>\n",
       "      <td>194</td>\n",
       "    </tr>\n",
       "  </tbody>\n",
       "</table>\n",
       "</div>"
      ],
      "text/plain": [
       "  Dataset  euro_number  mixed_number  full_number\n",
       "0     Vol          212           269          422\n",
       "1    Diff          159           195          304\n",
       "2   Micro          163           194          194"
      ]
     },
     "execution_count": 29,
     "metadata": {},
     "output_type": "execute_result"
    }
   ],
   "source": [
    "print('available number of subjects in each dataset before removing outliers')\n",
    "pd.DataFrame({\n",
    "    'Dataset': ['Vol', 'Diff', 'Micro'],\n",
    "    'euro_number': [\n",
    "        european_cohort.volumetric_df.shape[0],\n",
    "        european_cohort.diffusion_df.shape[0],\n",
    "        european_cohort.micro_df.shape[0]\n",
    "    ],\n",
    "    'mixed_number': [\n",
    "        mixed_cohort.volumetric_df.shape[0],\n",
    "        mixed_cohort.diffusion_df.shape[0],\n",
    "        mixed_cohort.micro_df.shape[0]\n",
    "    ],\n",
    "    'full_number': [\n",
    "        full_cohort.volumetric_df.shape[0],\n",
    "        full_cohort.diffusion_df.shape[0],\n",
    "        full_cohort.micro_df.shape[0]\n",
    "    ]\n",
    "})"
   ]
  },
  {
   "cell_type": "markdown",
   "metadata": {},
   "source": [
    "Outliers are defined if they have more than 3.5 standard deviation on the AncPC2 and AncPC3"
   ]
  },
  {
   "cell_type": "code",
   "execution_count": 30,
   "metadata": {
    "ExecuteTime": {
     "end_time": "2022-06-29T12:52:22.669694Z",
     "start_time": "2022-06-29T12:52:20.845672Z"
    }
   },
   "outputs": [
    {
     "data": {
      "image/png": "[encoded data removed]",
      "text/plain": [
       "<Figure size 432x288 with 1 Axes>"
      ]
     },
     "metadata": {
      "needs_background": "light"
     },
     "output_type": "display_data"
    },
    {
     "data": {
      "image/png": "[encoded data removed]",
      "text/plain": [
       "<Figure size 432x288 with 1 Axes>"
      ]
     },
     "metadata": {
      "needs_background": "light"
     },
     "output_type": "display_data"
    },
    {
     "data": {
      "image/png": "[encoded data removed]",
      "text/plain": [
       "<Figure size 432x288 with 1 Axes>"
      ]
     },
     "metadata": {
      "needs_background": "light"
     },
     "output_type": "display_data"
    }
   ],
   "source": [
    "european_cohort.volumetric_df,_ = genetic_file_preprocess.Cohort.remove_outliers(european_cohort.volumetric_df,\n",
    "                                                     ancestry_PCs=['euro_Anc_PC2','euro_Anc_PC3'])\n",
    "mixed_cohort.volumetric_df,_ = genetic_file_preprocess.Cohort.remove_outliers(mixed_cohort.volumetric_df,\n",
    "                                                     ancestry_PCs=['mixed_Anc_PC4','mixed_Anc_PC5'])\n",
    "full_cohort.volumetric_df,_ = genetic_file_preprocess.Cohort.remove_outliers(full_cohort.volumetric_df,\n",
    "                                                     ancestry_PCs=['full_Anc_PC7','full_Anc_PC8'])"
   ]
  },
  {
   "cell_type": "code",
   "execution_count": 31,
   "metadata": {
    "scrolled": true
   },
   "outputs": [
    {
     "data": {
      "image/png": "[encoded data removed]",
      "text/plain": [
       "<Figure size 432x288 with 1 Axes>"
      ]
     },
     "metadata": {
      "needs_background": "light"
     },
     "output_type": "display_data"
    },
    {
     "data": {
      "image/png": "[encoded data removed]",
      "text/plain": [
       "<Figure size 432x288 with 1 Axes>"
      ]
     },
     "metadata": {
      "needs_background": "light"
     },
     "output_type": "display_data"
    },
    {
     "data": {
      "image/png": "[encoded data removed]",
      "text/plain": [
       "<Figure size 432x288 with 1 Axes>"
      ]
     },
     "metadata": {
      "needs_background": "light"
     },
     "output_type": "display_data"
    }
   ],
   "source": [
    "european_cohort.diffusion_df, _ = genetic_file_preprocess.Cohort.remove_outliers(european_cohort.diffusion_df,\n",
    "                                            ancestry_PCs=['euro_Anc_PC2','euro_Anc_PC3'])\n",
    "mixed_cohort.diffusion_df, _ = genetic_file_preprocess.Cohort.remove_outliers(mixed_cohort.diffusion_df,\n",
    "                                                     ancestry_PCs=['mixed_Anc_PC4','mixed_Anc_PC5'])\n",
    "full_cohort.diffusion_df, _ = genetic_file_preprocess.Cohort.remove_outliers(full_cohort.diffusion_df,\n",
    "                                                     ancestry_PCs=['full_Anc_PC7','full_Anc_PC8'])"
   ]
  },
  {
   "cell_type": "markdown",
   "metadata": {},
   "source": [
    "### saving preprocessed data without outliers"
   ]
  },
  {
   "cell_type": "code",
   "execution_count": 15,
   "metadata": {},
   "outputs": [],
   "source": [
    "european_cohort.diffusion_df.to_csv(f'{preprocessed_dataset_path}/imaging_data/diffusion/term/european_diffusion_df.csv')\n",
    "mixed_cohort.diffusion_df.to_csv(f'{preprocessed_dataset_path}/imaging_data/diffusion/term/mixed_diffusion_df.csv')\n",
    "# full_cohort.diffusion_df.to_csv(f'{preprocessed_dataset_path}/imaging_data/diffusion/term/full_diffusion_df.csv')\n",
    "\n",
    "# european_volumetric_term_dataset.to_csv('./preprocessed_data/volumetric/term/european_volumetric_term_dataset.csv',index=False)\n",
    "# european_microstructure_term_dataset.to_csv('./preprocessed_data/microstructure/term/european_microstructure_term_dataset.csv',index=False)\n",
    "\n",
    "\n",
    "# mixed_diffusion_term_dataset.to_csv('./preprocessed_data/diffusion/term/mixed_diffusion_term_dataset.csv',index=False)\n",
    "# mixed_volumetric_term_dataset.to_csv('./preprocessed_data/volumetric/term/mixed_volumetric_term_dataset.csv',index=False)\n",
    "# mixed_microstructure_term_dataset.to_csv('./preprocessed_data/microstructure/term/mixed_microstructure_term_dataset.csv',index=False)\n",
    "\n",
    "# full_cohort_diffusion_term_dataset.to_csv('./preprocessed_data/diffusion/term/full_cohort_diffusion_term_dataset.csv',index=False)\n",
    "# full_cohort_volumetric_term_dataset.to_csv('./preprocessed_data/volumetric/term/full_cohort_volumetric_term_dataset.csv',index=False)\n",
    "# full_cohort_microstructure_term_dataset.to_csv('./preprocessed_data/microstructure/term/full_cohort_microstructure_term_dataset.csv',index=False)\n"
   ]
  },
  {
   "cell_type": "code",
   "execution_count": 34,
   "metadata": {},
   "outputs": [],
   "source": [
    "european_cohort.volumetric_df.to_csv(f'{preprocessed_dataset_path}/imaging_data/volumetric/term/european_volumetric_df.csv')\n",
    "\n",
    "mixed_cohort.volumetric_df.to_csv(f'{preprocessed_dataset_path}/imaging_data/volumetric/term/mixed_volumetric_df.csv')\n",
    "\n",
    "full_cohort.volumetric_df.to_csv(f'{preprocessed_dataset_path}/imaging_data/volumetric/term/full_volumetric_df.csv')"
   ]
  },
  {
   "cell_type": "code",
   "execution_count": null,
   "metadata": {},
   "outputs": [],
   "source": []
  }
 ],
 "metadata": {
  "hide_input": false,
  "kernelspec": {
   "display_name": "Python 3 (ipykernel)",
   "language": "python",
   "name": "python3"
  },
  "language_info": {
   "codemirror_mode": {
    "name": "ipython",
    "version": 3
   },
   "file_extension": ".py",
   "mimetype": "text/x-python",
   "name": "python",
   "nbconvert_exporter": "python",
   "pygments_lexer": "ipython3",
   "version": "3.9.12"
  },
  "varInspector": {
   "cols": {
    "lenName": 16,
    "lenType": 16,
    "lenVar": 40
   },
   "kernels_config": {
    "python": {
     "delete_cmd_postfix": "",
     "delete_cmd_prefix": "del ",
     "library": "var_list.py",
     "varRefreshCmd": "print(var_dic_list())"
    },
    "r": {
     "delete_cmd_postfix": ") ",
     "delete_cmd_prefix": "rm(",
     "library": "var_list.r",
     "varRefreshCmd": "cat(var_dic_list()) "
    }
   },
   "types_to_exclude": [
    "module",
    "function",
    "builtin_function_or_method",
    "instance",
    "_Feature"
   ],
   "window_display": false
  }
 },
 "nbformat": 4,
 "nbformat_minor": 2
}
