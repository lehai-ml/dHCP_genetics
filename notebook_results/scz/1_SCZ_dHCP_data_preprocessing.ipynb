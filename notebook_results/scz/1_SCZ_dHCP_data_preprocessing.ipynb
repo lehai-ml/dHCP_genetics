{
 "cells": [
  {
   "cell_type": "code",
   "execution_count": 1,
   "metadata": {
    "ExecuteTime": {
     "end_time": "2022-06-29T12:43:19.853734Z",
     "start_time": "2022-06-29T12:43:19.834746Z"
    }
   },
   "outputs": [],
   "source": [
    "import sys\n",
    "sys.path.append('../../')\n",
    "sys.path.append('../')"
   ]
  },
  {
   "cell_type": "code",
   "execution_count": 2,
   "metadata": {
    "ExecuteTime": {
     "end_time": "2022-06-29T12:43:20.616736Z",
     "start_time": "2022-06-29T12:43:20.601747Z"
    }
   },
   "outputs": [],
   "source": [
    "dataset_path = \"../../dataset\"\n",
    "preprocessed_dataset_path = \"preprocessed_dataset\""
   ]
  },
  {
   "cell_type": "code",
   "execution_count": 3,
   "metadata": {
    "ExecuteTime": {
     "end_time": "2022-06-29T12:43:32.411682Z",
     "start_time": "2022-06-29T12:43:21.081749Z"
    }
   },
   "outputs": [],
   "source": [
    "from codes.docs.analysis import data_preprocessing\n",
    "from codes.docs.analysis.gene_analysis import genetic_file_preprocess"
   ]
  },
  {
   "cell_type": "code",
   "execution_count": 4,
   "metadata": {
    "ExecuteTime": {
     "end_time": "2022-06-29T12:43:38.277874Z",
     "start_time": "2022-06-29T12:43:38.033715Z"
    }
   },
   "outputs": [],
   "source": [
    "import matplotlib.pyplot as plt\n",
    "import numpy as np\n",
    "import pandas as pd\n",
    "import scipy.io\n",
    "import glob\n",
    "from collections import defaultdict\n",
    "%matplotlib inline"
   ]
  },
  {
   "cell_type": "markdown",
   "metadata": {},
   "source": [
    "Notebook 1 description: \n",
    "1. Imaging data is imported and preprocessed\n",
    "\n",
    "Available informations\n",
    "- Volumetric dataset (dHCP) - 675 individuals\n",
    "- Diffusion dataset - 432 individuals\n",
    "- Microstructure - 318 individuals\n",
    "- Cortical thickness - 234 individuals\n",
    "2. Genetic data is added and outliers removed\n",
    "- Schizophrenia - PRS calculated from GWAS 2020 (Ripke et al., 2020)"
   ]
  },
  {
   "cell_type": "markdown",
   "metadata": {},
   "source": [
    "# 1. Data Preprocessing and Importing"
   ]
  },
  {
   "cell_type": "markdown",
   "metadata": {
    "deletable": false,
    "editable": false,
    "run_control": {
     "frozen": true
    }
   },
   "source": [
    "## Importing volumetric, diffusion, microstructural, cortical thickness dataset"
   ]
  },
  {
   "cell_type": "markdown",
   "metadata": {
    "deletable": false,
    "editable": false,
    "run_control": {
     "frozen": true
    }
   },
   "source": [
    "### Volumetric dataset"
   ]
  },
  {
   "cell_type": "markdown",
   "metadata": {},
   "source": [
    "The `full_dataset` contains all the volumetric information for the full cohort. Labels are saved in `Imperial_label` and `AAL_label`"
   ]
  },
  {
   "cell_type": "code",
   "execution_count": 5,
   "metadata": {},
   "outputs": [],
   "source": [
    "#Volumetric dataset\n",
    "full_dataset = pd.read_excel(open(\n",
    "    dataset_path +\n",
    "    '/volumetric/full_dataset/allSubjectsWithKANA_AALVolumes_mm3_4Harriet_withCovariates_withImperialLegendsOK.xlsx',\n",
    "    'rb'),\n",
    "                             sheet_name='allSubjectsWithKANA_AALVolumes').drop(\n",
    "                                 'ID', axis=1)\n",
    "full_dataset = full_dataset.rename({'Subject': 'ID'}, axis=1)\n",
    "full_dataset.rename(columns={\n",
    "    'GA at birth': 'GA',\n",
    "    'PMA at birth': 'PMA'\n",
    "},\n",
    "                    inplace=True)\n",
    "full_dataset = full_dataset.sort_values(by='Session', ascending=False)\n",
    "full_dataset = full_dataset.drop_duplicates(subset='ID', keep='last')\n",
    "full_dataset = full_dataset.reset_index(drop=True)"
   ]
  },
  {
   "cell_type": "code",
   "execution_count": 8,
   "metadata": {},
   "outputs": [],
   "source": [
    "Imperial_label = pd.read_excel(open(\n",
    "    f'{dataset_path}/volumetric/full_dataset/allSubjectsWithKANA_AALVolumes_mm3_4Harriet_withCovariates_withImperialLegendsOK.xlsx',\n",
    "    'rb'),\n",
    "                               sheet_name='IMPERIAL ROIs LEGEND',\n",
    "                               header=None).drop([0, 1], axis=1)\n",
    "AAL_label = pd.read_excel(open(\n",
    "    f'{dataset_path}/volumetric/full_dataset/allSubjectsWithKANA_AALVolumes_mm3_4Harriet_withCovariates_withImperialLegendsOK.xlsx',\n",
    "    'rb'),\n",
    "                          sheet_name='AAL LEGEND',\n",
    "                          header=None).drop(0, axis=1)\n",
    "\n",
    "from string import digits\n",
    "\n",
    "AAL_label = np.asarray(\n",
    "    [str.split(i, ' ')[1] for i in np.asarray(AAL_label).reshape(-1)])\n",
    "Imperial_label = np.asarray([\n",
    "    str.strip(i.translate({ord(c): None\n",
    "                           for c in digits}))\n",
    "    for i in (np.asarray(Imperial_label)).reshape(-1)\n",
    "])"
   ]
  },
  {
   "cell_type": "code",
   "execution_count": 9,
   "metadata": {},
   "outputs": [
    {
     "name": "stdout",
     "output_type": "stream",
     "text": [
      "volumetric dataset\n"
     ]
    },
    {
     "data": {
      "text/plain": [
       "(675, 204)"
      ]
     },
     "execution_count": 9,
     "metadata": {},
     "output_type": "execute_result"
    }
   ],
   "source": [
    "print('volumetric dataset')\n",
    "full_dataset.shape"
   ]
  },
  {
   "cell_type": "code",
   "execution_count": 11,
   "metadata": {
    "deletable": false,
    "editable": false,
    "run_control": {
     "frozen": true
    }
   },
   "outputs": [],
   "source": [
    "full_dataset.to_csv(f'{preprocessed_dataset_path}/imaging_data/log_file/full_dataset.csv',index=False)"
   ]
  },
  {
   "cell_type": "markdown",
   "metadata": {
    "deletable": false,
    "editable": false,
    "heading_collapsed": true,
    "run_control": {
     "frozen": true
    }
   },
   "source": [
    "### Diffusion dataset"
   ]
  },
  {
   "cell_type": "markdown",
   "metadata": {
    "hidden": true
   },
   "source": [
    "The diffusion dataset is saved in the matlab file. \n",
    "It is saved in the `diffusion_full_dataset`\n",
    "\n",
    "The labels are saved in the `ROIs_combinations`"
   ]
  },
  {
   "cell_type": "code",
   "execution_count": 13,
   "metadata": {
    "hidden": true
   },
   "outputs": [],
   "source": [
    "ROIs_combinations = data_preprocessing.Diffusion.create_ROIs_combinations(\n",
    "    f'{dataset_path}/diff_dataset/Regions_of_interests.csv')"
   ]
  },
  {
   "cell_type": "code",
   "execution_count": 14,
   "metadata": {
    "hidden": true
   },
   "outputs": [],
   "source": [
    "#Diffusion dataset\n",
    "diffusion_full_dataset = scipy.io.loadmat(\n",
    "    f'{dataset_path}/diff_dataset/2020_04_MASTER_connectomes90_433subj_SCandFC_TermScansVolOK.mat'\n",
    ")\n",
    "diffusion_matrices = diffusion_full_dataset[\n",
    "    'SCmu']  #use the Structural Connectivity (SIFT2-weighted * Mu) [equivalent to raw connectivity, see SIFT2 paper]\n",
    "diffusion_matrices = [\n",
    "    diffusion_matrices[:, :, i] for i in range(diffusion_matrices.shape[2])\n",
    "]  # rearranged them into (433,90,90)\n",
    "diffusion_matrices = np.asarray(diffusion_matrices)"
   ]
  },
  {
   "cell_type": "code",
   "execution_count": 15,
   "metadata": {
    "hidden": true
   },
   "outputs": [],
   "source": [
    "diffusion_matrices = np.asarray([\n",
    "    data_preprocessing.Diffusion.lower_triangle(diffusion_matrices[i])\n",
    "    for i in range(diffusion_matrices.shape[0])\n",
    "])\n",
    "diffusion_matrices = pd.DataFrame(diffusion_matrices)"
   ]
  },
  {
   "cell_type": "code",
   "execution_count": 16,
   "metadata": {
    "hidden": true
   },
   "outputs": [],
   "source": [
    "diffusion_matrices.columns = data_preprocessing.Diffusion.lower_triangle(\n",
    "    ROIs_combinations)"
   ]
  },
  {
   "cell_type": "code",
   "execution_count": 17,
   "metadata": {
    "hidden": true
   },
   "outputs": [],
   "source": [
    "diffusion_subject_id = diffusion_full_dataset['sub'].reshape(-1, 1)\n",
    "diffusion_subject_id = [\n",
    "    i[0][0].replace('sub-', '') for i in diffusion_subject_id\n",
    "]\n",
    "diffusion_subject_sess = diffusion_full_dataset['ses'].reshape(-1, 1)\n",
    "diffusion_subject_sess = [\n",
    "    i[0][0].replace('ses-', '') for i in diffusion_subject_sess\n",
    "]\n",
    "diffusion_subject_pma = diffusion_full_dataset['pma'].reshape(-1)\n",
    "diffusion_subject_ga = diffusion_full_dataset['ga'].reshape(-1)\n",
    "\n",
    "diffusion_dataset = pd.DataFrame({\n",
    "    'ID': diffusion_subject_id,\n",
    "    'Session': diffusion_subject_sess,\n",
    "    'GA': diffusion_subject_ga,\n",
    "    'PMA': diffusion_subject_pma\n",
    "})\n",
    "\n",
    "# diffusion_dataset['Gender'] = diffusion_full_dataset['sex'].reshape(-1)\n",
    "\n",
    "#match the ID to the diffusion matrices\n",
    "diffusion_dataset = pd.concat((diffusion_dataset, diffusion_matrices), axis=1)\n",
    "#rearrange by the session, drop the duplicates and keep the last session\n",
    "diffusion_dataset = diffusion_dataset.sort_values(by='Session',\n",
    "                                                  ascending=False)\n",
    "diffusion_dataset = diffusion_dataset.drop_duplicates(subset='ID', keep='last')\n",
    "diffusion_dataset = diffusion_dataset.reset_index(drop=True)"
   ]
  },
  {
   "cell_type": "code",
   "execution_count": 12,
   "metadata": {
    "hidden": true
   },
   "outputs": [
    {
     "name": "stdout",
     "output_type": "stream",
     "text": [
      "diffusion dataset\n"
     ]
    },
    {
     "data": {
      "text/plain": [
       "(432, 4009)"
      ]
     },
     "execution_count": 12,
     "metadata": {},
     "output_type": "execute_result"
    }
   ],
   "source": [
    "print('diffusion dataset')\n",
    "diffusion_dataset.shape"
   ]
  },
  {
   "cell_type": "code",
   "execution_count": 18,
   "metadata": {
    "deletable": false,
    "editable": false,
    "hidden": true,
    "run_control": {
     "frozen": true
    }
   },
   "outputs": [],
   "source": [
    "diffusion_dataset.to_csv(\n",
    "    f'{preprocessed_dataset_path}/imaging_data/log_file/diffusion_dataset.csv',\n",
    "    index=False)"
   ]
  },
  {
   "cell_type": "markdown",
   "metadata": {
    "deletable": false,
    "editable": false,
    "heading_collapsed": true,
    "run_control": {
     "frozen": true
    }
   },
   "source": [
    "### microstructure dataset"
   ]
  },
  {
   "cell_type": "markdown",
   "metadata": {
    "hidden": true
   },
   "source": [
    "microstructure data contains `FA`, `MD`, etc. "
   ]
  },
  {
   "cell_type": "code",
   "execution_count": 19,
   "metadata": {
    "hidden": true
   },
   "outputs": [],
   "source": [
    "#microstructure dataset\n",
    "microstructure_file_path = f'{dataset_path}/microstructure/052021/'\n",
    "dHCP_microstructure_info = pd.read_excel(\n",
    "    microstructure_file_path +\n",
    "    'dHCP-info-for-H_outcomes_and_rad_scores_05_2021.xlsx')\n",
    "dHCP_microstructure_info = dHCP_microstructure_info[[\n",
    "    'ID', 'potential registration artefacts', 'GA at birth', 'GA at scan ',\n",
    "    'Birth weight', 'Head circumference at scan', 'dmri', 't2ms'\n",
    "]]\n",
    "dHCP_microstructure_info.columns = [\n",
    "    'ID', 'potential registration artefacts', 'GA_micro', 'PMA_micro',\n",
    "    'Birth weight', 'Head circumference at scan', 'dmri', 't2ms'\n",
    "]"
   ]
  },
  {
   "cell_type": "code",
   "execution_count": 20,
   "metadata": {
    "hidden": true
   },
   "outputs": [],
   "source": [
    "# Importing the microstructure files\n",
    "micro_dict_europeans_df = defaultdict(pd.DataFrame)\n",
    "for file in glob.glob(microstructure_file_path +\n",
    "                      '/europeans/*-wm-*-stats*.csv'):\n",
    "    micro = str.split(file, '-')[-3]\n",
    "    micro_dict_europeans_df[micro] = pd.read_csv(file).dropna(how='any',\n",
    "                                                              axis=1)\n",
    "    micro_dict_europeans_df[micro].columns = [\n",
    "        i + str.upper('_' + micro) if i != 'id' else 'ID'\n",
    "        for i in micro_dict_europeans_df[micro].columns\n",
    "    ]  # adding the microstructure name to each of the feature\n",
    "    micro_dict_europeans_df[micro]['ID'] = [\n",
    "        i.split('-')[2].split('_')[0]\n",
    "        for i in micro_dict_europeans_df[micro]['ID']\n",
    "    ]  # change the ID format\n",
    "\n",
    "# Adding the microstructure files together into one table.\n",
    "from functools import reduce\n",
    "\n",
    "dHCP_microstructure_europeans = reduce(\n",
    "    lambda left, right: pd.merge(left, right, on='ID', how='outer'), [\n",
    "        micro_dict_europeans_df['fa'], micro_dict_europeans_df['md'],\n",
    "        micro_dict_europeans_df['t12'], micro_dict_europeans_df['t2'],\n",
    "        micro_dict_europeans_df['fiso']\n",
    "    ])"
   ]
  },
  {
   "cell_type": "code",
   "execution_count": 21,
   "metadata": {
    "hidden": true
   },
   "outputs": [],
   "source": [
    "#### adding asians microstructure files\n",
    "micro_dict_asians_df = defaultdict(pd.DataFrame)\n",
    "for file in glob.glob(microstructure_file_path + '/asians/*-wm-*-stats*.csv'):\n",
    "    micro = str.split(file, '-')[-3]\n",
    "    micro_dict_asians_df[micro] = pd.read_csv(file).dropna(how='any', axis=1)\n",
    "    micro_dict_asians_df[micro].columns = [\n",
    "        i + str.upper('_' + micro) if i != 'id' else 'ID'\n",
    "        for i in micro_dict_asians_df[micro].columns\n",
    "    ]  # adding the microstructure name to each of the feature\n",
    "    micro_dict_asians_df[micro]['ID'] = [\n",
    "        i.split('-')[2].split('_')[0]\n",
    "        for i in micro_dict_asians_df[micro]['ID']\n",
    "    ]  # change the ID format\n",
    "\n",
    "from functools import reduce\n",
    "\n",
    "dHCP_microstructure_asians = reduce(\n",
    "    lambda left, right: pd.merge(left, right, on='ID', how='outer'), [\n",
    "        micro_dict_asians_df['fa'], micro_dict_asians_df['md'],\n",
    "        micro_dict_asians_df['t12'], micro_dict_asians_df['t2'],\n",
    "        micro_dict_asians_df['fiso']\n",
    "    ])"
   ]
  },
  {
   "cell_type": "code",
   "execution_count": 22,
   "metadata": {
    "hidden": true
   },
   "outputs": [],
   "source": [
    "dHCP_microstructure = pd.concat(\n",
    "    [dHCP_microstructure_europeans,\n",
    "     dHCP_microstructure_asians]).reset_index(drop=True)\n",
    "\n",
    "#merge the information with the available data\n",
    "\n",
    "dHCP_microstructure_info = dHCP_microstructure.merge(dHCP_microstructure_info,\n",
    "                                                     on='ID',\n",
    "                                                     how='outer')"
   ]
  },
  {
   "cell_type": "code",
   "execution_count": 23,
   "metadata": {
    "hidden": true
   },
   "outputs": [],
   "source": [
    "not_usable_subj_micro = dHCP_microstructure_info[(\n",
    "    dHCP_microstructure_info['potential registration artefacts'].notna()\n",
    ")]  #removed anything that has not OK dmri or t2ms or potential registration artefacts\n",
    "\n",
    "dHCP_microstructure_info = dHCP_microstructure_info.drop(\n",
    "    index=not_usable_subj_micro.index).reset_index(drop=True).drop(\n",
    "        labels=['potential registration artefacts', 'dmri', 't2ms'], axis=1)"
   ]
  },
  {
   "cell_type": "code",
   "execution_count": 24,
   "metadata": {
    "hidden": true
   },
   "outputs": [
    {
     "name": "stdout",
     "output_type": "stream",
     "text": [
      "microstructure info\n"
     ]
    },
    {
     "data": {
      "text/plain": [
       "(318, 275)"
      ]
     },
     "execution_count": 24,
     "metadata": {},
     "output_type": "execute_result"
    }
   ],
   "source": [
    "print('microstructure info')\n",
    "dHCP_microstructure_info.shape"
   ]
  },
  {
   "cell_type": "code",
   "execution_count": 25,
   "metadata": {
    "deletable": false,
    "editable": false,
    "hidden": true,
    "run_control": {
     "frozen": true
    }
   },
   "outputs": [],
   "source": [
    "dHCP_microstructure_info.to_csv(f'{preprocessed_dataset_path}/imaging_data/log_file/dHCP_microstructure_info.csv',index=False)"
   ]
  },
  {
   "cell_type": "markdown",
   "metadata": {
    "deletable": false,
    "editable": false,
    "heading_collapsed": true,
    "run_control": {
     "frozen": true
    }
   },
   "source": [
    "### Cortical Thickness dataset"
   ]
  },
  {
   "cell_type": "markdown",
   "metadata": {
    "hidden": true
   },
   "source": [
    "`cortical_thickness_df` contains the mean cortical thickness information."
   ]
  },
  {
   "cell_type": "code",
   "execution_count": 26,
   "metadata": {
    "hidden": true
   },
   "outputs": [],
   "source": [
    "cortical_thickness_df = pd.read_csv('./dataset/cortical_thickness/cortical_thickness_updated.csv')\n",
    "cortical_thickness_df['Session_cortical'] = cortical_thickness_df['session']\n",
    "cortical_thickness_df.drop('session', axis=1, inplace=True)"
   ]
  },
  {
   "cell_type": "code",
   "execution_count": 20,
   "metadata": {
    "hidden": true
   },
   "outputs": [
    {
     "data": {
      "text/plain": [
       "(234, 3)"
      ]
     },
     "execution_count": 20,
     "metadata": {},
     "output_type": "execute_result"
    }
   ],
   "source": [
    "cortical_thickness_df.shape"
   ]
  },
  {
   "cell_type": "code",
   "execution_count": 27,
   "metadata": {
    "deletable": false,
    "editable": false,
    "hidden": true,
    "run_control": {
     "frozen": true
    }
   },
   "outputs": [],
   "source": [
    "cortical_thickness_df.to_csv(f'{preprocessed_dataset_path}/imaging_data/log_file/cortical_thickness_df.csv',index=False)"
   ]
  },
  {
   "cell_type": "markdown",
   "metadata": {
    "deletable": false,
    "editable": false,
    "run_control": {
     "frozen": true
    }
   },
   "source": [
    "## Merging all data with PRS scores"
   ]
  },
  {
   "cell_type": "markdown",
   "metadata": {},
   "source": [
    "- PRS file contains PRS at 11 P-value thresholds, which ranges from 1e-8 to 1.\n",
    "- The Ancestry files contains the first 10 PCs of the genetic data\n",
    "- The data can be divided into 3 different ethnic groups: European, South Asian and African\n",
    "- The outliers are removed to each cohort separately (i.e., European, European + South Asian (called mixed cohort), and European + South Asian + Africans (called full cohort)"
   ]
  },
  {
   "cell_type": "code",
   "execution_count": 5,
   "metadata": {
    "ExecuteTime": {
     "end_time": "2022-06-29T12:43:44.772680Z",
     "start_time": "2022-06-29T12:43:43.697776Z"
    },
    "deletable": false,
    "editable": false
   },
   "outputs": [],
   "source": [
    "full_dataset = pd.read_csv(f'{preprocessed_dataset_path}/imaging_data/log_file/full_dataset.csv')\n",
    "cortical_thickness_df = pd.read_csv(f'{preprocessed_dataset_path}/imaging_data/log_file/cortical_thickness_df.csv')\n",
    "diffusion_dataset = pd.read_csv(f'{preprocessed_dataset_path}/imaging_data/log_file/diffusion_dataset.csv')\n",
    "dHCP_microstructure_info = pd.read_csv(f'{preprocessed_dataset_path}/imaging_data/log_file/dHCP_microstructure_info.csv')"
   ]
  },
  {
   "cell_type": "code",
   "execution_count": 6,
   "metadata": {
    "deletable": false,
    "editable": false
   },
   "outputs": [],
   "source": [
    "#Merge the diffusion with structural data together\n",
    "full_dataset = full_dataset.merge(diffusion_dataset,\n",
    "                                  on='ID',\n",
    "                                  suffixes=('_vol', '_diff'),\n",
    "                                  how='outer')  #merging the diffusion dataset\n",
    "full_dataset = full_dataset.merge(\n",
    "    dHCP_microstructure_info, on='ID',\n",
    "    how='outer')  # merging the microstructure dataset\n",
    "\n",
    "full_dataset = full_dataset.merge(cortical_thickness_df, on='ID',\n",
    "                                  how='outer')  # merging the cortical dataset\n",
    "\n",
    "dHCP_participants_info = pd.read_csv(\n",
    "    f'{dataset_path}/participant_info/dHCP Neonatal Data Release 3 subjects - Participant info & reconstruction.csv'\n",
    ")\n",
    "dHCP_participants_info = dHCP_participants_info[[\n",
    "    'ID', 'Gender', 'GA at birth', 'GA at scan '\n",
    "]]\n",
    "dHCP_participants_info = dHCP_participants_info.rename(\n",
    "    {\n",
    "        'GA at birth': 'GA_full',\n",
    "        'GA at scan ': 'PMA_full'\n",
    "    }, axis=1)\n",
    "dHCP_participants_info = dHCP_participants_info.drop_duplicates(subset='ID',\n",
    "                                                                keep='last')\n",
    "full_dataset = full_dataset.merge(dHCP_participants_info, on='ID',\n",
    "                                  how='left')  #added gender info\n",
    "\n",
    "####### Given that the GA and PMA information is likely to come from the full dataset, I will just define the missing GA_micro and PMA micro information to the GA_full and PMA_full (from the full dataset)\n",
    "full_dataset['GA_micro'] = full_dataset['GA_full']\n",
    "full_dataset['PMA_micro'] = full_dataset['PMA_full']"
   ]
  },
  {
   "cell_type": "code",
   "execution_count": 14,
   "metadata": {
    "deletable": false,
    "editable": false,
    "run_control": {
     "frozen": true
    }
   },
   "outputs": [],
   "source": [
    "full_dataset.to_csv(f'{preprocessed_dataset_path}/imaging_data/log_file/combined_imaging_full_dataset.csv',index=False)"
   ]
  },
  {
   "cell_type": "code",
   "execution_count": 5,
   "metadata": {
    "ExecuteTime": {
     "end_time": "2022-06-29T12:43:51.392994Z",
     "start_time": "2022-06-29T12:43:49.681931Z"
    },
    "deletable": false,
    "editable": false
   },
   "outputs": [],
   "source": [
    "full_dataset = pd.read_csv(f'{preprocessed_dataset_path}/imaging_data/log_file/combined_imaging_full_dataset.csv',index_col=[0])"
   ]
  },
  {
   "cell_type": "code",
   "execution_count": 6,
   "metadata": {
    "ExecuteTime": {
     "end_time": "2022-06-29T12:43:55.843939Z",
     "start_time": "2022-06-29T12:43:55.305790Z"
    }
   },
   "outputs": [],
   "source": [
    "pheno = 'scz'\n",
    "european_cohort = genetic_file_preprocess.Cohort(\n",
    "    cohort_name='euro',\n",
    "    PRS_file_path=\n",
    "    f'{dataset_path}/PRS/{pheno}/SCZ3_lifted37_dHCP_merged_cleaned_EUROPEANS_updated.gwas.all.score',\n",
    "    Ancestry_file_path=\n",
    "    f'{dataset_path}/ancestry_PCs/file3_only_europ_10pcs_pca.eigenvec',\n",
    "    imaging_df=full_dataset)\n",
    "mixed_cohort = genetic_file_preprocess.Cohort(\n",
    "    cohort_name='mixed',\n",
    "    PRS_file_path=\n",
    "    f'{dataset_path}/PRS/{pheno}/SCZ3_lifted37_dHCP_merged_cleaned_EUROPEANS_ASIAN_361.gwas.all.score',\n",
    "    Ancestry_file_path=\n",
    "    f'{dataset_path}/ancestry_PCs/euro_asian_361_file3_pca.eigenvec',\n",
    "    imaging_df=full_dataset)\n",
    "full_cohort = genetic_file_preprocess.Cohort(\n",
    "    cohort_name='full',\n",
    "    PRS_file_path=\n",
    "    f'{dataset_path}/PRS/{pheno}/SCZ3_lifted37_dHCP_merged_cleaned_ALL_562.gwas.all.score',\n",
    "    Ancestry_file_path=f'{dataset_path}/ancestry_PCs/file3_all_pca.eigenvec',\n",
    "    imaging_df=full_dataset)"
   ]
  },
  {
   "cell_type": "code",
   "execution_count": 27,
   "metadata": {},
   "outputs": [],
   "source": [
    "##########################BATCH 2##########################pheno = 'scz'\n",
    "european_cohort_batch_2 = genetic_file_preprocess.Cohort(\n",
    "    cohort_name='euro',\n",
    "    PRS_file_path=\n",
    "    f'{dataset_path}/PRS/{pheno}/SCZ3core_euro_batch2_genotyped.gwas.all.score',\n",
    "    Ancestry_file_path=\n",
    "    f'{dataset_path}/ancestry_PCs/euro_batch2_genotyped_PCA_result.eigenvec',\n",
    "    imaging_df=full_dataset)\n",
    "european_cohort_batch_2.cohort_data['cohort'] = 'EUR'\n",
    "#####################GENOTYPE EUR##########################"
   ]
  },
  {
   "cell_type": "code",
   "execution_count": 8,
   "metadata": {
    "ExecuteTime": {
     "end_time": "2022-06-29T12:43:59.946751Z",
     "start_time": "2022-06-29T12:43:59.897797Z"
    }
   },
   "outputs": [],
   "source": [
    "#european_ID and asian_ID\n",
    "european_ID = european_cohort.cohort_data.index.tolist()\n",
    "asian_ID = [\n",
    "    i for i in mixed_cohort.cohort_data.index.tolist()\n",
    "    if i not in european_ID\n",
    "]\n",
    "african_ID = [\n",
    "    i for i in full_cohort.cohort_data.index.tolist()\n",
    "    if (i not in european_ID) and (i not in asian_ID)\n",
    "]\n",
    "cohort_list = pd.DataFrame({'ID':full_cohort.cohort_data.index.tolist(),\n",
    "             'cohort':['EUR' if i in european_ID else 'ASI' if i in asian_ID else 'AFR' for i in full_cohort.cohort_data.index.tolist()]})\n",
    "cohort_list = cohort_list.set_index('ID')\n",
    "\n",
    "european_cohort.append_cohort_list(cohort_list)\n",
    "mixed_cohort.append_cohort_list(cohort_list)\n",
    "full_cohort.append_cohort_list(cohort_list)"
   ]
  },
  {
   "cell_type": "markdown",
   "metadata": {},
   "source": [
    "### saving full dataset"
   ]
  },
  {
   "cell_type": "code",
   "execution_count": 9,
   "metadata": {},
   "outputs": [
    {
     "data": {
      "text/html": [
       "<div>\n",
       "<style scoped>\n",
       "    .dataframe tbody tr th:only-of-type {\n",
       "        vertical-align: middle;\n",
       "    }\n",
       "\n",
       "    .dataframe tbody tr th {\n",
       "        vertical-align: top;\n",
       "    }\n",
       "\n",
       "    .dataframe thead th {\n",
       "        text-align: right;\n",
       "    }\n",
       "</style>\n",
       "<table border=\"1\" class=\"dataframe\">\n",
       "  <thead>\n",
       "    <tr style=\"text-align: right;\">\n",
       "      <th></th>\n",
       "      <th></th>\n",
       "      <th>GA_vol</th>\n",
       "      <th>PMA_vol</th>\n",
       "      <th>cohort</th>\n",
       "    </tr>\n",
       "    <tr>\n",
       "      <th>cohort</th>\n",
       "      <th>termness</th>\n",
       "      <th></th>\n",
       "      <th></th>\n",
       "      <th></th>\n",
       "    </tr>\n",
       "  </thead>\n",
       "  <tbody>\n",
       "    <tr>\n",
       "      <th rowspan=\"3\" valign=\"top\">EUR</th>\n",
       "      <th>preterm</th>\n",
       "      <td>33.000000</td>\n",
       "      <td>34.702381</td>\n",
       "      <td>14</td>\n",
       "    </tr>\n",
       "    <tr>\n",
       "      <th>preterm/term_at_scan</th>\n",
       "      <td>31.875576</td>\n",
       "      <td>36.723502</td>\n",
       "      <td>63</td>\n",
       "    </tr>\n",
       "    <tr>\n",
       "      <th>term</th>\n",
       "      <td>40.114286</td>\n",
       "      <td>41.628000</td>\n",
       "      <td>257</td>\n",
       "    </tr>\n",
       "  </tbody>\n",
       "</table>\n",
       "</div>"
      ],
      "text/plain": [
       "                                GA_vol    PMA_vol  cohort\n",
       "cohort termness                                          \n",
       "EUR    preterm               33.000000  34.702381      14\n",
       "       preterm/term_at_scan  31.875576  36.723502      63\n",
       "       term                  40.114286  41.628000     257"
      ]
     },
     "execution_count": 9,
     "metadata": {},
     "output_type": "execute_result"
    }
   ],
   "source": [
    "pd.pivot_table(european_cohort_batch_2.cohort_data,\n",
    "               values=['GA_vol','PMA_vol'],\n",
    "               index=['cohort','termness'],\n",
    "               aggfunc={'cohort':np.count_nonzero,\n",
    "                        'GA_vol':np.mean,\n",
    "                        'PMA_vol':np.mean})"
   ]
  },
  {
   "cell_type": "code",
   "execution_count": 10,
   "metadata": {},
   "outputs": [
    {
     "data": {
      "text/html": [
       "<div>\n",
       "<style scoped>\n",
       "    .dataframe tbody tr th:only-of-type {\n",
       "        vertical-align: middle;\n",
       "    }\n",
       "\n",
       "    .dataframe tbody tr th {\n",
       "        vertical-align: top;\n",
       "    }\n",
       "\n",
       "    .dataframe thead th {\n",
       "        text-align: right;\n",
       "    }\n",
       "</style>\n",
       "<table border=\"1\" class=\"dataframe\">\n",
       "  <thead>\n",
       "    <tr style=\"text-align: right;\">\n",
       "      <th></th>\n",
       "      <th></th>\n",
       "      <th>GA_vol</th>\n",
       "      <th>PMA_vol</th>\n",
       "      <th>cohort</th>\n",
       "    </tr>\n",
       "    <tr>\n",
       "      <th>cohort</th>\n",
       "      <th>termness</th>\n",
       "      <th></th>\n",
       "      <th></th>\n",
       "      <th></th>\n",
       "    </tr>\n",
       "  </thead>\n",
       "  <tbody>\n",
       "    <tr>\n",
       "      <th rowspan=\"3\" valign=\"top\">EUR</th>\n",
       "      <th>preterm</th>\n",
       "      <td>32.857143</td>\n",
       "      <td>34.610390</td>\n",
       "      <td>13</td>\n",
       "    </tr>\n",
       "    <tr>\n",
       "      <th>preterm/term_at_scan</th>\n",
       "      <td>31.849351</td>\n",
       "      <td>36.688312</td>\n",
       "      <td>56</td>\n",
       "    </tr>\n",
       "    <tr>\n",
       "      <th>term</th>\n",
       "      <td>40.079515</td>\n",
       "      <td>41.522237</td>\n",
       "      <td>219</td>\n",
       "    </tr>\n",
       "  </tbody>\n",
       "</table>\n",
       "</div>"
      ],
      "text/plain": [
       "                                GA_vol    PMA_vol  cohort\n",
       "cohort termness                                          \n",
       "EUR    preterm               32.857143  34.610390      13\n",
       "       preterm/term_at_scan  31.849351  36.688312      56\n",
       "       term                  40.079515  41.522237     219"
      ]
     },
     "execution_count": 10,
     "metadata": {},
     "output_type": "execute_result"
    }
   ],
   "source": [
    "pd.pivot_table(european_cohort.cohort_data,\n",
    "               values=['GA_vol','PMA_vol'],\n",
    "               index=['cohort','termness'],\n",
    "               aggfunc={'cohort':np.count_nonzero,\n",
    "                        'GA_vol':np.mean,\n",
    "                        'PMA_vol':np.mean})"
   ]
  },
  {
   "cell_type": "code",
   "execution_count": 30,
   "metadata": {},
   "outputs": [
    {
     "data": {
      "text/html": [
       "<div>\n",
       "<style scoped>\n",
       "    .dataframe tbody tr th:only-of-type {\n",
       "        vertical-align: middle;\n",
       "    }\n",
       "\n",
       "    .dataframe tbody tr th {\n",
       "        vertical-align: top;\n",
       "    }\n",
       "\n",
       "    .dataframe thead th {\n",
       "        text-align: right;\n",
       "    }\n",
       "</style>\n",
       "<table border=\"1\" class=\"dataframe\">\n",
       "  <thead>\n",
       "    <tr style=\"text-align: right;\">\n",
       "      <th></th>\n",
       "      <th></th>\n",
       "      <th>GA_vol</th>\n",
       "      <th>PMA_vol</th>\n",
       "      <th>cohort</th>\n",
       "    </tr>\n",
       "    <tr>\n",
       "      <th>cohort</th>\n",
       "      <th>termness</th>\n",
       "      <th></th>\n",
       "      <th></th>\n",
       "      <th></th>\n",
       "    </tr>\n",
       "  </thead>\n",
       "  <tbody>\n",
       "    <tr>\n",
       "      <th rowspan=\"3\" valign=\"top\">AFR</th>\n",
       "      <th>preterm</th>\n",
       "      <td>33.297619</td>\n",
       "      <td>35.238095</td>\n",
       "      <td>12</td>\n",
       "    </tr>\n",
       "    <tr>\n",
       "      <th>preterm/term_at_scan</th>\n",
       "      <td>30.066327</td>\n",
       "      <td>35.581633</td>\n",
       "      <td>28</td>\n",
       "    </tr>\n",
       "    <tr>\n",
       "      <th>term</th>\n",
       "      <td>39.887955</td>\n",
       "      <td>40.791783</td>\n",
       "      <td>153</td>\n",
       "    </tr>\n",
       "    <tr>\n",
       "      <th rowspan=\"3\" valign=\"top\">ASI</th>\n",
       "      <th>preterm</th>\n",
       "      <td>32.214286</td>\n",
       "      <td>34.142857</td>\n",
       "      <td>2</td>\n",
       "    </tr>\n",
       "    <tr>\n",
       "      <th>preterm/term_at_scan</th>\n",
       "      <td>33.321429</td>\n",
       "      <td>35.446429</td>\n",
       "      <td>8</td>\n",
       "    </tr>\n",
       "    <tr>\n",
       "      <th>term</th>\n",
       "      <td>39.982456</td>\n",
       "      <td>41.127820</td>\n",
       "      <td>57</td>\n",
       "    </tr>\n",
       "    <tr>\n",
       "      <th rowspan=\"3\" valign=\"top\">EUR</th>\n",
       "      <th>preterm</th>\n",
       "      <td>32.857143</td>\n",
       "      <td>34.610390</td>\n",
       "      <td>13</td>\n",
       "    </tr>\n",
       "    <tr>\n",
       "      <th>preterm/term_at_scan</th>\n",
       "      <td>31.849351</td>\n",
       "      <td>36.688312</td>\n",
       "      <td>56</td>\n",
       "    </tr>\n",
       "    <tr>\n",
       "      <th>term</th>\n",
       "      <td>40.079515</td>\n",
       "      <td>41.522237</td>\n",
       "      <td>219</td>\n",
       "    </tr>\n",
       "  </tbody>\n",
       "</table>\n",
       "</div>"
      ],
      "text/plain": [
       "                                GA_vol    PMA_vol  cohort\n",
       "cohort termness                                          \n",
       "AFR    preterm               33.297619  35.238095      12\n",
       "       preterm/term_at_scan  30.066327  35.581633      28\n",
       "       term                  39.887955  40.791783     153\n",
       "ASI    preterm               32.214286  34.142857       2\n",
       "       preterm/term_at_scan  33.321429  35.446429       8\n",
       "       term                  39.982456  41.127820      57\n",
       "EUR    preterm               32.857143  34.610390      13\n",
       "       preterm/term_at_scan  31.849351  36.688312      56\n",
       "       term                  40.079515  41.522237     219"
      ]
     },
     "execution_count": 30,
     "metadata": {},
     "output_type": "execute_result"
    }
   ],
   "source": [
    "pd.pivot_table(full_cohort.cohort_data,\n",
    "               values=['GA_vol','PMA_vol'],\n",
    "               index=['cohort','termness'],\n",
    "               aggfunc={'cohort':np.count_nonzero,\n",
    "                        'GA_vol':np.mean,\n",
    "                        'PMA_vol':np.mean})"
   ]
  },
  {
   "cell_type": "code",
   "execution_count": 9,
   "metadata": {},
   "outputs": [],
   "source": [
    "full_cohort.cohort_data.to_csv(f'{preprocessed_dataset_path}/imaging_data/log_file/combined_imaging_genetic_pre_outliers_full_dataset.csv')"
   ]
  },
  {
   "cell_type": "code",
   "execution_count": 11,
   "metadata": {
    "scrolled": true
   },
   "outputs": [],
   "source": [
    "# full_dataset.drop(columns=['Session_vol','Session_diff'],inplace=True)\n",
    "# full_dataset = data_preprocessing.move_multiple_columns(full_dataset,cols_to_move=['Gender','GA_diff','PMA_diff'],ref_col='ID',place='After')"
   ]
  },
  {
   "cell_type": "markdown",
   "metadata": {},
   "source": [
    "### Removing outliers"
   ]
  },
  {
   "cell_type": "markdown",
   "metadata": {},
   "source": [
    "Outlier is defined using the Anc PCs. Should I do the this for each dataset or all of them together? Note that the ancestry components for european cohort alone is different from ancestry PCs for european from european and asian cohort mixed"
   ]
  },
  {
   "cell_type": "code",
   "execution_count": 21,
   "metadata": {
    "ExecuteTime": {
     "end_time": "2022-06-29T12:50:59.266563Z",
     "start_time": "2022-06-29T12:50:59.190608Z"
    }
   },
   "outputs": [],
   "source": [
    "european_cohort.extract_neonates_data(termness = 'term') # other options = preterm/term_at_scan\n",
    "mixed_cohort.extract_neonates_data(termness = 'term')\n",
    "full_cohort.extract_neonates_data(termness = 'term')"
   ]
  },
  {
   "cell_type": "code",
   "execution_count": 22,
   "metadata": {
    "ExecuteTime": {
     "end_time": "2022-06-29T12:52:17.334866Z",
     "start_time": "2022-06-29T12:52:17.318877Z"
    }
   },
   "outputs": [
    {
     "name": "stdout",
     "output_type": "stream",
     "text": [
      "available number of subjects in each dataset before removing outliers\n"
     ]
    },
    {
     "data": {
      "text/html": [
       "<div>\n",
       "<style scoped>\n",
       "    .dataframe tbody tr th:only-of-type {\n",
       "        vertical-align: middle;\n",
       "    }\n",
       "\n",
       "    .dataframe tbody tr th {\n",
       "        vertical-align: top;\n",
       "    }\n",
       "\n",
       "    .dataframe thead th {\n",
       "        text-align: right;\n",
       "    }\n",
       "</style>\n",
       "<table border=\"1\" class=\"dataframe\">\n",
       "  <thead>\n",
       "    <tr style=\"text-align: right;\">\n",
       "      <th></th>\n",
       "      <th>Dataset</th>\n",
       "      <th>euro_number</th>\n",
       "      <th>mixed_number</th>\n",
       "      <th>full_number</th>\n",
       "    </tr>\n",
       "  </thead>\n",
       "  <tbody>\n",
       "    <tr>\n",
       "      <th>0</th>\n",
       "      <td>Vol</td>\n",
       "      <td>212</td>\n",
       "      <td>269</td>\n",
       "      <td>422</td>\n",
       "    </tr>\n",
       "    <tr>\n",
       "      <th>1</th>\n",
       "      <td>Diff</td>\n",
       "      <td>159</td>\n",
       "      <td>195</td>\n",
       "      <td>304</td>\n",
       "    </tr>\n",
       "    <tr>\n",
       "      <th>2</th>\n",
       "      <td>Micro</td>\n",
       "      <td>163</td>\n",
       "      <td>194</td>\n",
       "      <td>194</td>\n",
       "    </tr>\n",
       "  </tbody>\n",
       "</table>\n",
       "</div>"
      ],
      "text/plain": [
       "  Dataset  euro_number  mixed_number  full_number\n",
       "0     Vol          212           269          422\n",
       "1    Diff          159           195          304\n",
       "2   Micro          163           194          194"
      ]
     },
     "execution_count": 22,
     "metadata": {},
     "output_type": "execute_result"
    }
   ],
   "source": [
    "print('available number of subjects in each dataset before removing outliers')\n",
    "pd.DataFrame({\n",
    "    'Dataset': ['Vol', 'Diff', 'Micro'],\n",
    "    'euro_number': [\n",
    "        european_cohort.volumetric_df.shape[0],\n",
    "        european_cohort.diffusion_df.shape[0],\n",
    "        european_cohort.micro_df.shape[0]\n",
    "    ],\n",
    "    'mixed_number': [\n",
    "        mixed_cohort.volumetric_df.shape[0],\n",
    "        mixed_cohort.diffusion_df.shape[0],\n",
    "        mixed_cohort.micro_df.shape[0]\n",
    "    ],\n",
    "    'full_number': [\n",
    "        full_cohort.volumetric_df.shape[0],\n",
    "        full_cohort.diffusion_df.shape[0],\n",
    "        full_cohort.micro_df.shape[0]\n",
    "    ]\n",
    "})"
   ]
  },
  {
   "cell_type": "code",
   "execution_count": 28,
   "metadata": {},
   "outputs": [],
   "source": [
    "european_cohort_batch_2.extract_neonates_data(termness='term')"
   ]
  },
  {
   "cell_type": "code",
   "execution_count": 20,
   "metadata": {},
   "outputs": [
    {
     "name": "stdout",
     "output_type": "stream",
     "text": [
      "(250, 4530)\n",
      "(167, 4530)\n",
      "(165, 4530)\n"
     ]
    }
   ],
   "source": [
    "print(european_cohort_batch_2.volumetric_df.shape)b\n",
    "print(european_cohort_batch_2.diffusion_df.shape)\n",
    "print(european_cohort_batch_2.micro_df.shape)"
   ]
  },
  {
   "cell_type": "markdown",
   "metadata": {},
   "source": [
    "Outliers are defined if they have more than 3.5 standard deviation on the AncPC2 and AncPC3"
   ]
  },
  {
   "cell_type": "code",
   "execution_count": 9,
   "metadata": {
    "ExecuteTime": {
     "end_time": "2022-06-29T12:52:22.669694Z",
     "start_time": "2022-06-29T12:52:20.845672Z"
    }
   },
   "outputs": [
    {
     "data": {
      "image/png": "[encoded data removed]",
      "text/plain": [
       "<Figure size 432x288 with 1 Axes>"
      ]
     },
     "metadata": {
      "needs_background": "light"
     },
     "output_type": "display_data"
    }
   ],
   "source": [
    "european_cohort.volumetric_df,_ = genetic_file_preprocess.Cohort.remove_outliers(european_cohort.volumetric_df,\n",
    "                                                     ancestry_PCs=['euro_Anc_PC2','euro_Anc_PC3'])\n",
    "mixed_cohort.volumetric_df,_ = genetic_file_preprocess.Cohort.remove_outliers(mixed_cohort.volumetric_df,\n",
    "                                                     ancestry_PCs=['mixed_Anc_PC4','mixed_Anc_PC5'])\n",
    "full_cohort.volumetric_df,_ = genetic_file_preprocess.Cohort.remove_outliers(full_cohort.volumetric_df,\n",
    "                                                     ancestry_PCs=['full_Anc_PC7','full_Anc_PC8'])"
   ]
  },
  {
   "cell_type": "code",
   "execution_count": 44,
   "metadata": {},
   "outputs": [
    {
     "data": {
      "text/plain": [
       "Text(0, 0.5, 'euro_Anc_PC3')"
      ]
     },
     "execution_count": 44,
     "metadata": {},
     "output_type": "execute_result"
    },
    {
     "data": {
      "image/png": "[encoded data removed]",
      "text/plain": [
       "<Figure size 432x288 with 1 Axes>"
      ]
     },
     "metadata": {
      "needs_background": "light"
     },
     "output_type": "display_data"
    }
   ],
   "source": [
    "european_cohort_batch_2.volumetric_df,_ = genetic_file_preprocess.Cohort.remove_outliers(european_cohort_batch_2.volumetric_df,\n",
    "                                                     ancestry_PCs=['euro_Anc_PC2','euro_Anc_PC3'])\n",
    "ax = plt.gca()\n",
    "ax.set_xlabel('euro_Anc_PC2')\n",
    "ax.set_ylabel('euro_Anc_PC3')"
   ]
  },
  {
   "cell_type": "code",
   "execution_count": 26,
   "metadata": {},
   "outputs": [
    {
     "data": {
      "text/html": [
       "<div>\n",
       "<style scoped>\n",
       "    .dataframe tbody tr th:only-of-type {\n",
       "        vertical-align: middle;\n",
       "    }\n",
       "\n",
       "    .dataframe tbody tr th {\n",
       "        vertical-align: top;\n",
       "    }\n",
       "\n",
       "    .dataframe thead th {\n",
       "        text-align: right;\n",
       "    }\n",
       "</style>\n",
       "<table border=\"1\" class=\"dataframe\">\n",
       "  <thead>\n",
       "    <tr style=\"text-align: right;\">\n",
       "      <th></th>\n",
       "      <th>Session_vol</th>\n",
       "      <th>GA_vol</th>\n",
       "      <th>PMA_vol</th>\n",
       "      <th>17 ICV (all except bone)</th>\n",
       "      <th>17 TOTAL BRAIN TISSUE VOLUME (mm3)</th>\n",
       "      <th>19 Volume Pallidum (Bilateral) AAL, careful with preterm</th>\n",
       "      <th>28 Volume Mesencephalon (right cerebellum) (AAL, careful with preterm!)</th>\n",
       "      <th>28 Volume Mesencephalon (left cerebellum) (AAL, careful with preterm!)</th>\n",
       "      <th>28 Volume Mesencephalon (vermis) (AAL, careful with preterm!)</th>\n",
       "      <th>30 Volume Right Putamen (AAL, careful with preterm!)</th>\n",
       "      <th>...</th>\n",
       "      <th>euro_Anc_PC23</th>\n",
       "      <th>euro_Anc_PC24</th>\n",
       "      <th>euro_Anc_PC25</th>\n",
       "      <th>euro_Anc_PC26</th>\n",
       "      <th>euro_Anc_PC27</th>\n",
       "      <th>euro_Anc_PC28</th>\n",
       "      <th>euro_Anc_PC29</th>\n",
       "      <th>euro_Anc_PC30</th>\n",
       "      <th>termness</th>\n",
       "      <th>cohort</th>\n",
       "    </tr>\n",
       "    <tr>\n",
       "      <th>ID</th>\n",
       "      <th></th>\n",
       "      <th></th>\n",
       "      <th></th>\n",
       "      <th></th>\n",
       "      <th></th>\n",
       "      <th></th>\n",
       "      <th></th>\n",
       "      <th></th>\n",
       "      <th></th>\n",
       "      <th></th>\n",
       "      <th></th>\n",
       "      <th></th>\n",
       "      <th></th>\n",
       "      <th></th>\n",
       "      <th></th>\n",
       "      <th></th>\n",
       "      <th></th>\n",
       "      <th></th>\n",
       "      <th></th>\n",
       "      <th></th>\n",
       "      <th></th>\n",
       "    </tr>\n",
       "  </thead>\n",
       "  <tbody>\n",
       "    <tr>\n",
       "      <th>CC00798XX24</th>\n",
       "      <td>245400.0</td>\n",
       "      <td>39.000000</td>\n",
       "      <td>42.000000</td>\n",
       "      <td>564754.625</td>\n",
       "      <td>462612.875</td>\n",
       "      <td>1543.500</td>\n",
       "      <td>11471.750</td>\n",
       "      <td>11288.125</td>\n",
       "      <td>3067.500</td>\n",
       "      <td>2194.625</td>\n",
       "      <td>...</td>\n",
       "      <td>-0.001272</td>\n",
       "      <td>-0.003007</td>\n",
       "      <td>-0.022648</td>\n",
       "      <td>0.058973</td>\n",
       "      <td>0.029235</td>\n",
       "      <td>-0.002510</td>\n",
       "      <td>-0.007953</td>\n",
       "      <td>-0.043311</td>\n",
       "      <td>term</td>\n",
       "      <td>EUR</td>\n",
       "    </tr>\n",
       "    <tr>\n",
       "      <th>CC00777XX19</th>\n",
       "      <td>239102.0</td>\n",
       "      <td>39.714286</td>\n",
       "      <td>42.000000</td>\n",
       "      <td>500955.500</td>\n",
       "      <td>420747.125</td>\n",
       "      <td>1664.000</td>\n",
       "      <td>10856.875</td>\n",
       "      <td>10255.625</td>\n",
       "      <td>2783.500</td>\n",
       "      <td>2456.375</td>\n",
       "      <td>...</td>\n",
       "      <td>-0.082890</td>\n",
       "      <td>0.083907</td>\n",
       "      <td>-0.249807</td>\n",
       "      <td>-0.038731</td>\n",
       "      <td>0.002003</td>\n",
       "      <td>-0.046144</td>\n",
       "      <td>-0.108383</td>\n",
       "      <td>0.045664</td>\n",
       "      <td>term</td>\n",
       "      <td>EUR</td>\n",
       "    </tr>\n",
       "    <tr>\n",
       "      <th>CC00740XX15</th>\n",
       "      <td>238400.0</td>\n",
       "      <td>39.000000</td>\n",
       "      <td>42.857143</td>\n",
       "      <td>507580.625</td>\n",
       "      <td>407956.000</td>\n",
       "      <td>1489.000</td>\n",
       "      <td>11371.875</td>\n",
       "      <td>11533.250</td>\n",
       "      <td>3620.875</td>\n",
       "      <td>2301.125</td>\n",
       "      <td>...</td>\n",
       "      <td>-0.100184</td>\n",
       "      <td>-0.145018</td>\n",
       "      <td>0.109709</td>\n",
       "      <td>-0.002595</td>\n",
       "      <td>-0.103956</td>\n",
       "      <td>-0.032194</td>\n",
       "      <td>0.072047</td>\n",
       "      <td>0.067092</td>\n",
       "      <td>term</td>\n",
       "      <td>EUR</td>\n",
       "    </tr>\n",
       "    <tr>\n",
       "      <th>CC00713XX12</th>\n",
       "      <td>229000.0</td>\n",
       "      <td>41.571429</td>\n",
       "      <td>42.857143</td>\n",
       "      <td>550776.125</td>\n",
       "      <td>434524.125</td>\n",
       "      <td>1653.125</td>\n",
       "      <td>11838.125</td>\n",
       "      <td>11960.750</td>\n",
       "      <td>3511.250</td>\n",
       "      <td>2393.375</td>\n",
       "      <td>...</td>\n",
       "      <td>-0.016212</td>\n",
       "      <td>-0.001274</td>\n",
       "      <td>-0.035562</td>\n",
       "      <td>0.031314</td>\n",
       "      <td>0.023088</td>\n",
       "      <td>-0.000468</td>\n",
       "      <td>-0.025357</td>\n",
       "      <td>0.002550</td>\n",
       "      <td>term</td>\n",
       "      <td>EUR</td>\n",
       "    </tr>\n",
       "    <tr>\n",
       "      <th>CC00685XX18</th>\n",
       "      <td>226100.0</td>\n",
       "      <td>42.000000</td>\n",
       "      <td>43.285714</td>\n",
       "      <td>537297.375</td>\n",
       "      <td>424983.250</td>\n",
       "      <td>1578.250</td>\n",
       "      <td>11117.375</td>\n",
       "      <td>10924.250</td>\n",
       "      <td>3268.750</td>\n",
       "      <td>2317.625</td>\n",
       "      <td>...</td>\n",
       "      <td>0.016514</td>\n",
       "      <td>0.032285</td>\n",
       "      <td>0.000688</td>\n",
       "      <td>0.028250</td>\n",
       "      <td>0.008809</td>\n",
       "      <td>-0.002242</td>\n",
       "      <td>-0.004925</td>\n",
       "      <td>0.006188</td>\n",
       "      <td>term</td>\n",
       "      <td>EUR</td>\n",
       "    </tr>\n",
       "    <tr>\n",
       "      <th>...</th>\n",
       "      <td>...</td>\n",
       "      <td>...</td>\n",
       "      <td>...</td>\n",
       "      <td>...</td>\n",
       "      <td>...</td>\n",
       "      <td>...</td>\n",
       "      <td>...</td>\n",
       "      <td>...</td>\n",
       "      <td>...</td>\n",
       "      <td>...</td>\n",
       "      <td>...</td>\n",
       "      <td>...</td>\n",
       "      <td>...</td>\n",
       "      <td>...</td>\n",
       "      <td>...</td>\n",
       "      <td>...</td>\n",
       "      <td>...</td>\n",
       "      <td>...</td>\n",
       "      <td>...</td>\n",
       "      <td>...</td>\n",
       "      <td>...</td>\n",
       "    </tr>\n",
       "    <tr>\n",
       "      <th>CC00769XX19</th>\n",
       "      <td>4400.0</td>\n",
       "      <td>40.714286</td>\n",
       "      <td>41.000000</td>\n",
       "      <td>405822.500</td>\n",
       "      <td>344647.500</td>\n",
       "      <td>1271.250</td>\n",
       "      <td>8676.750</td>\n",
       "      <td>8283.750</td>\n",
       "      <td>2587.625</td>\n",
       "      <td>1858.375</td>\n",
       "      <td>...</td>\n",
       "      <td>0.014517</td>\n",
       "      <td>-0.030942</td>\n",
       "      <td>-0.063633</td>\n",
       "      <td>0.050850</td>\n",
       "      <td>0.001008</td>\n",
       "      <td>0.004704</td>\n",
       "      <td>0.043891</td>\n",
       "      <td>0.072047</td>\n",
       "      <td>term</td>\n",
       "      <td>EUR</td>\n",
       "    </tr>\n",
       "    <tr>\n",
       "      <th>CC00766XX16</th>\n",
       "      <td>4200.0</td>\n",
       "      <td>41.857143</td>\n",
       "      <td>42.000000</td>\n",
       "      <td>442639.375</td>\n",
       "      <td>360125.000</td>\n",
       "      <td>1335.375</td>\n",
       "      <td>10410.125</td>\n",
       "      <td>9897.625</td>\n",
       "      <td>2848.625</td>\n",
       "      <td>1812.250</td>\n",
       "      <td>...</td>\n",
       "      <td>-0.003800</td>\n",
       "      <td>-0.016265</td>\n",
       "      <td>0.032522</td>\n",
       "      <td>-0.041388</td>\n",
       "      <td>-0.002648</td>\n",
       "      <td>-0.029708</td>\n",
       "      <td>-0.002721</td>\n",
       "      <td>-0.021798</td>\n",
       "      <td>term</td>\n",
       "      <td>EUR</td>\n",
       "    </tr>\n",
       "    <tr>\n",
       "      <th>CC00815XX15</th>\n",
       "      <td>4120.0</td>\n",
       "      <td>37.714286</td>\n",
       "      <td>42.571429</td>\n",
       "      <td>454489.000</td>\n",
       "      <td>381684.875</td>\n",
       "      <td>1337.125</td>\n",
       "      <td>10101.500</td>\n",
       "      <td>9245.125</td>\n",
       "      <td>2742.250</td>\n",
       "      <td>1901.500</td>\n",
       "      <td>...</td>\n",
       "      <td>-0.041160</td>\n",
       "      <td>0.034031</td>\n",
       "      <td>0.025565</td>\n",
       "      <td>0.031279</td>\n",
       "      <td>-0.070182</td>\n",
       "      <td>-0.006584</td>\n",
       "      <td>-0.018679</td>\n",
       "      <td>0.034949</td>\n",
       "      <td>term</td>\n",
       "      <td>EUR</td>\n",
       "    </tr>\n",
       "    <tr>\n",
       "      <th>CC00818XX18</th>\n",
       "      <td>4020.0</td>\n",
       "      <td>41.142857</td>\n",
       "      <td>42.571429</td>\n",
       "      <td>495226.750</td>\n",
       "      <td>412848.375</td>\n",
       "      <td>1458.875</td>\n",
       "      <td>11586.625</td>\n",
       "      <td>10824.875</td>\n",
       "      <td>3032.875</td>\n",
       "      <td>2117.750</td>\n",
       "      <td>...</td>\n",
       "      <td>-0.055042</td>\n",
       "      <td>-0.032659</td>\n",
       "      <td>-0.012620</td>\n",
       "      <td>-0.052432</td>\n",
       "      <td>-0.022697</td>\n",
       "      <td>0.017716</td>\n",
       "      <td>-0.048771</td>\n",
       "      <td>-0.007292</td>\n",
       "      <td>term</td>\n",
       "      <td>EUR</td>\n",
       "    </tr>\n",
       "    <tr>\n",
       "      <th>CC00749XX24</th>\n",
       "      <td>2600.0</td>\n",
       "      <td>40.142857</td>\n",
       "      <td>44.000000</td>\n",
       "      <td>517132.000</td>\n",
       "      <td>425957.875</td>\n",
       "      <td>1457.375</td>\n",
       "      <td>12763.125</td>\n",
       "      <td>12213.750</td>\n",
       "      <td>3459.125</td>\n",
       "      <td>2172.500</td>\n",
       "      <td>...</td>\n",
       "      <td>-0.036465</td>\n",
       "      <td>-0.006812</td>\n",
       "      <td>-0.041459</td>\n",
       "      <td>0.024776</td>\n",
       "      <td>0.031175</td>\n",
       "      <td>-0.033195</td>\n",
       "      <td>-0.039940</td>\n",
       "      <td>0.021918</td>\n",
       "      <td>term</td>\n",
       "      <td>EUR</td>\n",
       "    </tr>\n",
       "  </tbody>\n",
       "</table>\n",
       "<p>245 rows × 4530 columns</p>\n",
       "</div>"
      ],
      "text/plain": [
       "             Session_vol     GA_vol    PMA_vol  17 ICV (all except bone)  \\\n",
       "ID                                                                         \n",
       "CC00798XX24     245400.0  39.000000  42.000000                564754.625   \n",
       "CC00777XX19     239102.0  39.714286  42.000000                500955.500   \n",
       "CC00740XX15     238400.0  39.000000  42.857143                507580.625   \n",
       "CC00713XX12     229000.0  41.571429  42.857143                550776.125   \n",
       "CC00685XX18     226100.0  42.000000  43.285714                537297.375   \n",
       "...                  ...        ...        ...                       ...   \n",
       "CC00769XX19       4400.0  40.714286  41.000000                405822.500   \n",
       "CC00766XX16       4200.0  41.857143  42.000000                442639.375   \n",
       "CC00815XX15       4120.0  37.714286  42.571429                454489.000   \n",
       "CC00818XX18       4020.0  41.142857  42.571429                495226.750   \n",
       "CC00749XX24       2600.0  40.142857  44.000000                517132.000   \n",
       "\n",
       "             17 TOTAL BRAIN TISSUE VOLUME (mm3)  \\\n",
       "ID                                                \n",
       "CC00798XX24                          462612.875   \n",
       "CC00777XX19                          420747.125   \n",
       "CC00740XX15                          407956.000   \n",
       "CC00713XX12                          434524.125   \n",
       "CC00685XX18                          424983.250   \n",
       "...                                         ...   \n",
       "CC00769XX19                          344647.500   \n",
       "CC00766XX16                          360125.000   \n",
       "CC00815XX15                          381684.875   \n",
       "CC00818XX18                          412848.375   \n",
       "CC00749XX24                          425957.875   \n",
       "\n",
       "             19 Volume Pallidum (Bilateral) AAL, careful with preterm  \\\n",
       "ID                                                                      \n",
       "CC00798XX24                                           1543.500          \n",
       "CC00777XX19                                           1664.000          \n",
       "CC00740XX15                                           1489.000          \n",
       "CC00713XX12                                           1653.125          \n",
       "CC00685XX18                                           1578.250          \n",
       "...                                                        ...          \n",
       "CC00769XX19                                           1271.250          \n",
       "CC00766XX16                                           1335.375          \n",
       "CC00815XX15                                           1337.125          \n",
       "CC00818XX18                                           1458.875          \n",
       "CC00749XX24                                           1457.375          \n",
       "\n",
       "             28 Volume Mesencephalon (right cerebellum) (AAL, careful with preterm!)  \\\n",
       "ID                                                                                     \n",
       "CC00798XX24                                          11471.750                         \n",
       "CC00777XX19                                          10856.875                         \n",
       "CC00740XX15                                          11371.875                         \n",
       "CC00713XX12                                          11838.125                         \n",
       "CC00685XX18                                          11117.375                         \n",
       "...                                                        ...                         \n",
       "CC00769XX19                                           8676.750                         \n",
       "CC00766XX16                                          10410.125                         \n",
       "CC00815XX15                                          10101.500                         \n",
       "CC00818XX18                                          11586.625                         \n",
       "CC00749XX24                                          12763.125                         \n",
       "\n",
       "             28 Volume Mesencephalon (left cerebellum) (AAL, careful with preterm!)  \\\n",
       "ID                                                                                    \n",
       "CC00798XX24                                          11288.125                        \n",
       "CC00777XX19                                          10255.625                        \n",
       "CC00740XX15                                          11533.250                        \n",
       "CC00713XX12                                          11960.750                        \n",
       "CC00685XX18                                          10924.250                        \n",
       "...                                                        ...                        \n",
       "CC00769XX19                                           8283.750                        \n",
       "CC00766XX16                                           9897.625                        \n",
       "CC00815XX15                                           9245.125                        \n",
       "CC00818XX18                                          10824.875                        \n",
       "CC00749XX24                                          12213.750                        \n",
       "\n",
       "             28 Volume Mesencephalon (vermis) (AAL, careful with preterm!)  \\\n",
       "ID                                                                           \n",
       "CC00798XX24                                           3067.500               \n",
       "CC00777XX19                                           2783.500               \n",
       "CC00740XX15                                           3620.875               \n",
       "CC00713XX12                                           3511.250               \n",
       "CC00685XX18                                           3268.750               \n",
       "...                                                        ...               \n",
       "CC00769XX19                                           2587.625               \n",
       "CC00766XX16                                           2848.625               \n",
       "CC00815XX15                                           2742.250               \n",
       "CC00818XX18                                           3032.875               \n",
       "CC00749XX24                                           3459.125               \n",
       "\n",
       "             30 Volume Right Putamen (AAL, careful with preterm!)  ...  \\\n",
       "ID                                                                 ...   \n",
       "CC00798XX24                                           2194.625     ...   \n",
       "CC00777XX19                                           2456.375     ...   \n",
       "CC00740XX15                                           2301.125     ...   \n",
       "CC00713XX12                                           2393.375     ...   \n",
       "CC00685XX18                                           2317.625     ...   \n",
       "...                                                        ...     ...   \n",
       "CC00769XX19                                           1858.375     ...   \n",
       "CC00766XX16                                           1812.250     ...   \n",
       "CC00815XX15                                           1901.500     ...   \n",
       "CC00818XX18                                           2117.750     ...   \n",
       "CC00749XX24                                           2172.500     ...   \n",
       "\n",
       "             euro_Anc_PC23  euro_Anc_PC24  euro_Anc_PC25  euro_Anc_PC26  \\\n",
       "ID                                                                        \n",
       "CC00798XX24      -0.001272      -0.003007      -0.022648       0.058973   \n",
       "CC00777XX19      -0.082890       0.083907      -0.249807      -0.038731   \n",
       "CC00740XX15      -0.100184      -0.145018       0.109709      -0.002595   \n",
       "CC00713XX12      -0.016212      -0.001274      -0.035562       0.031314   \n",
       "CC00685XX18       0.016514       0.032285       0.000688       0.028250   \n",
       "...                    ...            ...            ...            ...   \n",
       "CC00769XX19       0.014517      -0.030942      -0.063633       0.050850   \n",
       "CC00766XX16      -0.003800      -0.016265       0.032522      -0.041388   \n",
       "CC00815XX15      -0.041160       0.034031       0.025565       0.031279   \n",
       "CC00818XX18      -0.055042      -0.032659      -0.012620      -0.052432   \n",
       "CC00749XX24      -0.036465      -0.006812      -0.041459       0.024776   \n",
       "\n",
       "             euro_Anc_PC27  euro_Anc_PC28  euro_Anc_PC29  euro_Anc_PC30  \\\n",
       "ID                                                                        \n",
       "CC00798XX24       0.029235      -0.002510      -0.007953      -0.043311   \n",
       "CC00777XX19       0.002003      -0.046144      -0.108383       0.045664   \n",
       "CC00740XX15      -0.103956      -0.032194       0.072047       0.067092   \n",
       "CC00713XX12       0.023088      -0.000468      -0.025357       0.002550   \n",
       "CC00685XX18       0.008809      -0.002242      -0.004925       0.006188   \n",
       "...                    ...            ...            ...            ...   \n",
       "CC00769XX19       0.001008       0.004704       0.043891       0.072047   \n",
       "CC00766XX16      -0.002648      -0.029708      -0.002721      -0.021798   \n",
       "CC00815XX15      -0.070182      -0.006584      -0.018679       0.034949   \n",
       "CC00818XX18      -0.022697       0.017716      -0.048771      -0.007292   \n",
       "CC00749XX24       0.031175      -0.033195      -0.039940       0.021918   \n",
       "\n",
       "             termness  cohort  \n",
       "ID                             \n",
       "CC00798XX24      term     EUR  \n",
       "CC00777XX19      term     EUR  \n",
       "CC00740XX15      term     EUR  \n",
       "CC00713XX12      term     EUR  \n",
       "CC00685XX18      term     EUR  \n",
       "...               ...     ...  \n",
       "CC00769XX19      term     EUR  \n",
       "CC00766XX16      term     EUR  \n",
       "CC00815XX15      term     EUR  \n",
       "CC00818XX18      term     EUR  \n",
       "CC00749XX24      term     EUR  \n",
       "\n",
       "[245 rows x 4530 columns]"
      ]
     },
     "execution_count": 26,
     "metadata": {},
     "output_type": "execute_result"
    }
   ],
   "source": [
    "european_cohort_batch_2.volumetric_df"
   ]
  },
  {
   "cell_type": "code",
   "execution_count": 13,
   "metadata": {
    "scrolled": true
   },
   "outputs": [
    {
     "data": {
      "image/png": "[encoded data removed]",
      "text/plain": [
       "<Figure size 432x288 with 1 Axes>"
      ]
     },
     "metadata": {
      "needs_background": "light"
     },
     "output_type": "display_data"
    },
    {
     "data": {
      "image/png": "[encoded data removed]",
      "text/plain": [
       "<Figure size 432x288 with 1 Axes>"
      ]
     },
     "metadata": {
      "needs_background": "light"
     },
     "output_type": "display_data"
    },
    {
     "data": {
      "image/png": "[encoded data removed]",
      "text/plain": [
       "<Figure size 432x288 with 1 Axes>"
      ]
     },
     "metadata": {
      "needs_background": "light"
     },
     "output_type": "display_data"
    }
   ],
   "source": [
    "european_cohort.diffusion_df, _ = genetic_file_preprocess.Cohort.remove_outliers(european_cohort.diffusion_df,\n",
    "                                            ancestry_PCs=['euro_Anc_PC2','euro_Anc_PC3'])\n",
    "mixed_cohort.diffusion_df, _ = genetic_file_preprocess.Cohort.remove_outliers(mixed_cohort.diffusion_df,\n",
    "                                                     ancestry_PCs=['mixed_Anc_PC4','mixed_Anc_PC5'])\n",
    "full_cohort.diffusion_df, _ = genetic_file_preprocess.Cohort.remove_outliers(full_cohort.diffusion_df,\n",
    "                                                     ancestry_PCs=['full_Anc_PC7','full_Anc_PC8'])"
   ]
  },
  {
   "cell_type": "markdown",
   "metadata": {},
   "source": [
    "### saving preprocessed data without outliers"
   ]
  },
  {
   "cell_type": "code",
   "execution_count": 15,
   "metadata": {},
   "outputs": [],
   "source": [
    "european_cohort.diffusion_df.to_csv(f'{preprocessed_dataset_path}/imaging_data/diffusion/term/european_diffusion_df.csv')\n",
    "mixed_cohort.diffusion_df.to_csv(f'{preprocessed_dataset_path}/imaging_data/diffusion/term/mixed_diffusion_df.csv')\n",
    "# full_cohort.diffusion_df.to_csv(f'{preprocessed_dataset_path}/imaging_data/diffusion/term/full_diffusion_df.csv')\n",
    "\n",
    "# european_volumetric_term_dataset.to_csv('./preprocessed_data/volumetric/term/european_volumetric_term_dataset.csv',index=False)\n",
    "# european_microstructure_term_dataset.to_csv('./preprocessed_data/microstructure/term/european_microstructure_term_dataset.csv',index=False)\n",
    "\n",
    "\n",
    "# mixed_diffusion_term_dataset.to_csv('./preprocessed_data/diffusion/term/mixed_diffusion_term_dataset.csv',index=False)\n",
    "# mixed_volumetric_term_dataset.to_csv('./preprocessed_data/volumetric/term/mixed_volumetric_term_dataset.csv',index=False)\n",
    "# mixed_microstructure_term_dataset.to_csv('./preprocessed_data/microstructure/term/mixed_microstructure_term_dataset.csv',index=False)\n",
    "\n",
    "# full_cohort_diffusion_term_dataset.to_csv('./preprocessed_data/diffusion/term/full_cohort_diffusion_term_dataset.csv',index=False)\n",
    "# full_cohort_volumetric_term_dataset.to_csv('./preprocessed_data/volumetric/term/full_cohort_volumetric_term_dataset.csv',index=False)\n",
    "# full_cohort_microstructure_term_dataset.to_csv('./preprocessed_data/microstructure/term/full_cohort_microstructure_term_dataset.csv',index=False)\n"
   ]
  },
  {
   "cell_type": "code",
   "execution_count": 10,
   "metadata": {},
   "outputs": [],
   "source": [
    "european_cohort.volumetric_df.to_csv(f'{preprocessed_dataset_path}/imaging_data/volumetric/term/european_volumetric_df_imputed.csv')\n",
    "\n",
    "mixed_cohort.volumetric_df.to_csv(f'{preprocessed_dataset_path}/imaging_data/volumetric/term/mixed_volumetric_df.csv')"
   ]
  },
  {
   "cell_type": "code",
   "execution_count": 45,
   "metadata": {},
   "outputs": [],
   "source": [
    "european_cohort_batch_2.volumetric_df.to_csv(f'{preprocessed_dataset_path}/imaging_data/volumetric/term/european_volumetric_df_batch2.csv')"
   ]
  },
  {
   "cell_type": "code",
   "execution_count": 47,
   "metadata": {},
   "outputs": [
    {
     "data": {
      "text/plain": [
       "37"
      ]
     },
     "execution_count": 47,
     "metadata": {},
     "output_type": "execute_result"
    }
   ],
   "source": [
    "245-208"
   ]
  },
  {
   "cell_type": "code",
   "execution_count": null,
   "metadata": {},
   "outputs": [],
   "source": []
  }
 ],
 "metadata": {
  "hide_input": false,
  "kernelspec": {
   "display_name": "Python 3 (ipykernel)",
   "language": "python",
   "name": "python3"
  },
  "language_info": {
   "codemirror_mode": {
    "name": "ipython",
    "version": 3
   },
   "file_extension": ".py",
   "mimetype": "text/x-python",
   "name": "python",
   "nbconvert_exporter": "python",
   "pygments_lexer": "ipython3",
   "version": "3.9.12"
  },
  "varInspector": {
   "cols": {
    "lenName": 16,
    "lenType": 16,
    "lenVar": 40
   },
   "kernels_config": {
    "python": {
     "delete_cmd_postfix": "",
     "delete_cmd_prefix": "del ",
     "library": "var_list.py",
     "varRefreshCmd": "print(var_dic_list())"
    },
    "r": {
     "delete_cmd_postfix": ") ",
     "delete_cmd_prefix": "rm(",
     "library": "var_list.r",
     "varRefreshCmd": "cat(var_dic_list()) "
    }
   },
   "types_to_exclude": [
    "module",
    "function",
    "builtin_function_or_method",
    "instance",
    "_Feature"
   ],
   "window_display": false
  }
 },
 "nbformat": 4,
 "nbformat_minor": 2
}
