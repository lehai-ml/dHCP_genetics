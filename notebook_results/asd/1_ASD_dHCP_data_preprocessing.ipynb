{
 "cells": [
  {
   "cell_type": "code",
   "execution_count": 1,
   "metadata": {
    "ExecuteTime": {
     "end_time": "2022-06-29T12:43:19.853734Z",
     "start_time": "2022-06-29T12:43:19.834746Z"
    }
   },
   "outputs": [],
   "source": [
    "import sys\n",
    "sys.path.append('../../')\n",
    "sys.path.append('../')"
   ]
  },
  {
   "cell_type": "code",
   "execution_count": 2,
   "metadata": {
    "ExecuteTime": {
     "end_time": "2022-06-29T12:43:20.616736Z",
     "start_time": "2022-06-29T12:43:20.601747Z"
    }
   },
   "outputs": [],
   "source": [
    "dataset_path = \"../../dataset\"\n",
    "preprocessed_dataset_path = \"preprocessed_dataset\""
   ]
  },
  {
   "cell_type": "code",
   "execution_count": 3,
   "metadata": {
    "ExecuteTime": {
     "end_time": "2022-06-29T12:43:32.411682Z",
     "start_time": "2022-06-29T12:43:21.081749Z"
    }
   },
   "outputs": [],
   "source": [
    "from codes.docs.analysis import data_preprocessing\n",
    "from codes.docs.analysis.gene_analysis import genetic_file_preprocess"
   ]
  },
  {
   "cell_type": "code",
   "execution_count": 4,
   "metadata": {
    "ExecuteTime": {
     "end_time": "2022-06-29T12:43:38.277874Z",
     "start_time": "2022-06-29T12:43:38.033715Z"
    }
   },
   "outputs": [],
   "source": [
    "import matplotlib.pyplot as plt\n",
    "import numpy as np\n",
    "import pandas as pd\n",
    "import scipy.io\n",
    "import glob\n",
    "from collections import defaultdict\n",
    "%matplotlib inline"
   ]
  },
  {
   "cell_type": "markdown",
   "metadata": {},
   "source": [
    "Notebook 1 description: \n",
    "1. Imaging data is imported and preprocessed\n",
    "\n",
    "Available informations\n",
    "- Volumetric dataset (dHCP) - 675 individuals\n",
    "- Diffusion dataset - 432 individuals\n",
    "- Microstructure - 318 individuals\n",
    "- Cortical thickness - 234 individuals\n",
    "2. Genetic data is added and outliers removed\n",
    "- ASD - PRS calculated from GWAS 2019 [Grove et al., 2019](https://www.ncbi.nlm.nih.gov/pmc/articles/PMC6454898/)"
   ]
  },
  {
   "cell_type": "markdown",
   "metadata": {},
   "source": [
    "# 1. Data Preprocessing and Importing"
   ]
  },
  {
   "cell_type": "markdown",
   "metadata": {
    "deletable": false,
    "editable": false,
    "run_control": {
     "frozen": true
    }
   },
   "source": [
    "## Importing volumetric, diffusion, microstructural, cortical thickness dataset"
   ]
  },
  {
   "cell_type": "markdown",
   "metadata": {
    "deletable": false,
    "editable": false,
    "run_control": {
     "frozen": true
    }
   },
   "source": [
    "### Volumetric dataset"
   ]
  },
  {
   "cell_type": "markdown",
   "metadata": {},
   "source": [
    "The `full_dataset` contains all the volumetric information for the full cohort. Labels are saved in `Imperial_label` and `AAL_label`"
   ]
  },
  {
   "cell_type": "code",
   "execution_count": 6,
   "metadata": {},
   "outputs": [],
   "source": [
    "#Volumetric dataset\n",
    "full_dataset = pd.read_excel(open(\n",
    "    dataset_path +\n",
    "    '/volumetric/full_dataset/allSubjectsWithKANA_AALVolumes_mm3_4Harriet_withCovariates_withImperialLegendsOK.xlsx',\n",
    "    'rb'),\n",
    "                             sheet_name='allSubjectsWithKANA_AALVolumes').drop(\n",
    "                                 'ID', axis=1)\n",
    "full_dataset = full_dataset.rename({'Subject': 'ID'}, axis=1)\n",
    "full_dataset.rename(columns={\n",
    "    'GA at birth': 'GA',\n",
    "    'PMA at birth': 'PMA'\n",
    "},\n",
    "                    inplace=True)\n",
    "full_dataset = full_dataset.sort_values(by='Session', ascending=False)\n",
    "full_dataset = full_dataset.drop_duplicates(subset='ID', keep='last')\n",
    "full_dataset = full_dataset.reset_index(drop=True)"
   ]
  },
  {
   "cell_type": "code",
   "execution_count": 7,
   "metadata": {},
   "outputs": [],
   "source": [
    "Imperial_label = pd.read_excel(open(\n",
    "    f'{dataset_path}/volumetric/full_dataset/allSubjectsWithKANA_AALVolumes_mm3_4Harriet_withCovariates_withImperialLegendsOK.xlsx',\n",
    "    'rb'),\n",
    "                               sheet_name='IMPERIAL ROIs LEGEND',\n",
    "                               header=None).drop([0, 1], axis=1)\n",
    "AAL_label = pd.read_excel(open(\n",
    "    f'{dataset_path}/volumetric/full_dataset/allSubjectsWithKANA_AALVolumes_mm3_4Harriet_withCovariates_withImperialLegendsOK.xlsx',\n",
    "    'rb'),\n",
    "                          sheet_name='AAL LEGEND',\n",
    "                          header=None).drop(0, axis=1)\n",
    "\n",
    "from string import digits\n",
    "\n",
    "AAL_label = np.asarray(\n",
    "    [str.split(i, ' ')[1] for i in np.asarray(AAL_label).reshape(-1)])\n",
    "Imperial_label = np.asarray([\n",
    "    str.strip(i.translate({ord(c): None\n",
    "                           for c in digits}))\n",
    "    for i in (np.asarray(Imperial_label)).reshape(-1)\n",
    "])"
   ]
  },
  {
   "cell_type": "code",
   "execution_count": 8,
   "metadata": {},
   "outputs": [],
   "source": [
    "full_dataset = full_dataset.rename(columns = dict(zip((full_dataset.loc[:,\"'1 Precentral_L 2001'\":\"'93 Vermis'\"].columns.tolist()),[f'AAL {i}' for i in range(1,94)])))"
   ]
  },
  {
   "cell_type": "code",
   "execution_count": 9,
   "metadata": {},
   "outputs": [
    {
     "name": "stdout",
     "output_type": "stream",
     "text": [
      "volumetric dataset\n"
     ]
    },
    {
     "data": {
      "text/plain": [
       "(675, 201)"
      ]
     },
     "execution_count": 9,
     "metadata": {},
     "output_type": "execute_result"
    }
   ],
   "source": [
    "print('volumetric dataset')\n",
    "full_dataset.shape"
   ]
  },
  {
   "cell_type": "code",
   "execution_count": 11,
   "metadata": {},
   "outputs": [],
   "source": [
    "full_dataset.to_csv(f'{preprocessed_dataset_path}/imaging_data/log_file/full_dataset.csv',index=False)"
   ]
  },
  {
   "cell_type": "markdown",
   "metadata": {
    "deletable": false,
    "editable": false,
    "heading_collapsed": true,
    "run_control": {
     "frozen": true
    }
   },
   "source": [
    "### Diffusion dataset"
   ]
  },
  {
   "cell_type": "markdown",
   "metadata": {
    "hidden": true
   },
   "source": [
    "The diffusion dataset is saved in the matlab file. \n",
    "It is saved in the `diffusion_full_dataset`\n",
    "\n",
    "The labels are saved in the `ROIs_combinations`"
   ]
  },
  {
   "cell_type": "code",
   "execution_count": 13,
   "metadata": {
    "hidden": true
   },
   "outputs": [],
   "source": [
    "ROIs_combinations = data_preprocessing.Diffusion.create_ROIs_combinations(\n",
    "    f'{dataset_path}/diff_dataset/Regions_of_interests.csv')"
   ]
  },
  {
   "cell_type": "code",
   "execution_count": 14,
   "metadata": {
    "hidden": true
   },
   "outputs": [],
   "source": [
    "#Diffusion dataset\n",
    "diffusion_full_dataset = scipy.io.loadmat(\n",
    "    f'{dataset_path}/diff_dataset/2020_04_MASTER_connectomes90_433subj_SCandFC_TermScansVolOK.mat'\n",
    ")\n",
    "diffusion_matrices = diffusion_full_dataset[\n",
    "    'SCmu']  #use the Structural Connectivity (SIFT2-weighted * Mu) [equivalent to raw connectivity, see SIFT2 paper]\n",
    "diffusion_matrices = [\n",
    "    diffusion_matrices[:, :, i] for i in range(diffusion_matrices.shape[2])\n",
    "]  # rearranged them into (433,90,90)\n",
    "diffusion_matrices = np.asarray(diffusion_matrices)"
   ]
  },
  {
   "cell_type": "code",
   "execution_count": 15,
   "metadata": {
    "hidden": true
   },
   "outputs": [],
   "source": [
    "diffusion_matrices = np.asarray([\n",
    "    data_preprocessing.Diffusion.lower_triangle(diffusion_matrices[i])\n",
    "    for i in range(diffusion_matrices.shape[0])\n",
    "])\n",
    "diffusion_matrices = pd.DataFrame(diffusion_matrices)"
   ]
  },
  {
   "cell_type": "code",
   "execution_count": 16,
   "metadata": {
    "hidden": true
   },
   "outputs": [],
   "source": [
    "diffusion_matrices.columns = data_preprocessing.Diffusion.lower_triangle(\n",
    "    ROIs_combinations)"
   ]
  },
  {
   "cell_type": "code",
   "execution_count": 17,
   "metadata": {
    "hidden": true
   },
   "outputs": [],
   "source": [
    "diffusion_subject_id = diffusion_full_dataset['sub'].reshape(-1, 1)\n",
    "diffusion_subject_id = [\n",
    "    i[0][0].replace('sub-', '') for i in diffusion_subject_id\n",
    "]\n",
    "diffusion_subject_sess = diffusion_full_dataset['ses'].reshape(-1, 1)\n",
    "diffusion_subject_sess = [\n",
    "    i[0][0].replace('ses-', '') for i in diffusion_subject_sess\n",
    "]\n",
    "diffusion_subject_pma = diffusion_full_dataset['pma'].reshape(-1)\n",
    "diffusion_subject_ga = diffusion_full_dataset['ga'].reshape(-1)\n",
    "\n",
    "diffusion_dataset = pd.DataFrame({\n",
    "    'ID': diffusion_subject_id,\n",
    "    'Session': diffusion_subject_sess,\n",
    "    'GA': diffusion_subject_ga,\n",
    "    'PMA': diffusion_subject_pma\n",
    "})\n",
    "\n",
    "# diffusion_dataset['Gender'] = diffusion_full_dataset['sex'].reshape(-1)\n",
    "\n",
    "#match the ID to the diffusion matrices\n",
    "diffusion_dataset = pd.concat((diffusion_dataset, diffusion_matrices), axis=1)\n",
    "#rearrange by the session, drop the duplicates and keep the last session\n",
    "diffusion_dataset = diffusion_dataset.sort_values(by='Session',\n",
    "                                                  ascending=False)\n",
    "diffusion_dataset = diffusion_dataset.drop_duplicates(subset='ID', keep='last')\n",
    "diffusion_dataset = diffusion_dataset.reset_index(drop=True)"
   ]
  },
  {
   "cell_type": "code",
   "execution_count": 12,
   "metadata": {
    "hidden": true
   },
   "outputs": [
    {
     "name": "stdout",
     "output_type": "stream",
     "text": [
      "diffusion dataset\n"
     ]
    },
    {
     "data": {
      "text/plain": [
       "(432, 4009)"
      ]
     },
     "execution_count": 12,
     "metadata": {},
     "output_type": "execute_result"
    }
   ],
   "source": [
    "print('diffusion dataset')\n",
    "diffusion_dataset.shape"
   ]
  },
  {
   "cell_type": "code",
   "execution_count": 18,
   "metadata": {
    "deletable": false,
    "editable": false,
    "hidden": true,
    "run_control": {
     "frozen": true
    }
   },
   "outputs": [],
   "source": [
    "diffusion_dataset.to_csv(\n",
    "    f'{preprocessed_dataset_path}/imaging_data/log_file/diffusion_dataset.csv',\n",
    "    index=False)"
   ]
  },
  {
   "cell_type": "markdown",
   "metadata": {
    "deletable": false,
    "editable": false,
    "heading_collapsed": true,
    "run_control": {
     "frozen": true
    }
   },
   "source": [
    "### microstructure dataset"
   ]
  },
  {
   "cell_type": "markdown",
   "metadata": {
    "hidden": true
   },
   "source": [
    "microstructure data contains `FA`, `MD`, etc. "
   ]
  },
  {
   "cell_type": "code",
   "execution_count": 19,
   "metadata": {
    "hidden": true
   },
   "outputs": [],
   "source": [
    "#microstructure dataset\n",
    "microstructure_file_path = f'{dataset_path}/microstructure/052021/'\n",
    "dHCP_microstructure_info = pd.read_excel(\n",
    "    microstructure_file_path +\n",
    "    'dHCP-info-for-H_outcomes_and_rad_scores_05_2021.xlsx')\n",
    "dHCP_microstructure_info = dHCP_microstructure_info[[\n",
    "    'ID', 'potential registration artefacts', 'GA at birth', 'GA at scan ',\n",
    "    'Birth weight', 'Head circumference at scan', 'dmri', 't2ms'\n",
    "]]\n",
    "dHCP_microstructure_info.columns = [\n",
    "    'ID', 'potential registration artefacts', 'GA_micro', 'PMA_micro',\n",
    "    'Birth weight', 'Head circumference at scan', 'dmri', 't2ms'\n",
    "]"
   ]
  },
  {
   "cell_type": "code",
   "execution_count": 20,
   "metadata": {
    "hidden": true
   },
   "outputs": [],
   "source": [
    "# Importing the microstructure files\n",
    "micro_dict_europeans_df = defaultdict(pd.DataFrame)\n",
    "for file in glob.glob(microstructure_file_path +\n",
    "                      '/europeans/*-wm-*-stats*.csv'):\n",
    "    micro = str.split(file, '-')[-3]\n",
    "    micro_dict_europeans_df[micro] = pd.read_csv(file).dropna(how='any',\n",
    "                                                              axis=1)\n",
    "    micro_dict_europeans_df[micro].columns = [\n",
    "        i + str.upper('_' + micro) if i != 'id' else 'ID'\n",
    "        for i in micro_dict_europeans_df[micro].columns\n",
    "    ]  # adding the microstructure name to each of the feature\n",
    "    micro_dict_europeans_df[micro]['ID'] = [\n",
    "        i.split('-')[2].split('_')[0]\n",
    "        for i in micro_dict_europeans_df[micro]['ID']\n",
    "    ]  # change the ID format\n",
    "\n",
    "# Adding the microstructure files together into one table.\n",
    "from functools import reduce\n",
    "\n",
    "dHCP_microstructure_europeans = reduce(\n",
    "    lambda left, right: pd.merge(left, right, on='ID', how='outer'), [\n",
    "        micro_dict_europeans_df['fa'], micro_dict_europeans_df['md'],\n",
    "        micro_dict_europeans_df['t12'], micro_dict_europeans_df['t2'],\n",
    "        micro_dict_europeans_df['fiso']\n",
    "    ])"
   ]
  },
  {
   "cell_type": "code",
   "execution_count": 21,
   "metadata": {
    "hidden": true
   },
   "outputs": [],
   "source": [
    "#### adding asians microstructure files\n",
    "micro_dict_asians_df = defaultdict(pd.DataFrame)\n",
    "for file in glob.glob(microstructure_file_path + '/asians/*-wm-*-stats*.csv'):\n",
    "    micro = str.split(file, '-')[-3]\n",
    "    micro_dict_asians_df[micro] = pd.read_csv(file).dropna(how='any', axis=1)\n",
    "    micro_dict_asians_df[micro].columns = [\n",
    "        i + str.upper('_' + micro) if i != 'id' else 'ID'\n",
    "        for i in micro_dict_asians_df[micro].columns\n",
    "    ]  # adding the microstructure name to each of the feature\n",
    "    micro_dict_asians_df[micro]['ID'] = [\n",
    "        i.split('-')[2].split('_')[0]\n",
    "        for i in micro_dict_asians_df[micro]['ID']\n",
    "    ]  # change the ID format\n",
    "\n",
    "from functools import reduce\n",
    "\n",
    "dHCP_microstructure_asians = reduce(\n",
    "    lambda left, right: pd.merge(left, right, on='ID', how='outer'), [\n",
    "        micro_dict_asians_df['fa'], micro_dict_asians_df['md'],\n",
    "        micro_dict_asians_df['t12'], micro_dict_asians_df['t2'],\n",
    "        micro_dict_asians_df['fiso']\n",
    "    ])"
   ]
  },
  {
   "cell_type": "code",
   "execution_count": 22,
   "metadata": {
    "hidden": true
   },
   "outputs": [],
   "source": [
    "dHCP_microstructure = pd.concat(\n",
    "    [dHCP_microstructure_europeans,\n",
    "     dHCP_microstructure_asians]).reset_index(drop=True)\n",
    "\n",
    "#merge the information with the available data\n",
    "\n",
    "dHCP_microstructure_info = dHCP_microstructure.merge(dHCP_microstructure_info,\n",
    "                                                     on='ID',\n",
    "                                                     how='outer')"
   ]
  },
  {
   "cell_type": "code",
   "execution_count": 23,
   "metadata": {
    "hidden": true
   },
   "outputs": [],
   "source": [
    "not_usable_subj_micro = dHCP_microstructure_info[(\n",
    "    dHCP_microstructure_info['potential registration artefacts'].notna()\n",
    ")]  #removed anything that has not OK dmri or t2ms or potential registration artefacts\n",
    "\n",
    "dHCP_microstructure_info = dHCP_microstructure_info.drop(\n",
    "    index=not_usable_subj_micro.index).reset_index(drop=True).drop(\n",
    "        labels=['potential registration artefacts', 'dmri', 't2ms'], axis=1)"
   ]
  },
  {
   "cell_type": "code",
   "execution_count": 24,
   "metadata": {
    "hidden": true
   },
   "outputs": [
    {
     "name": "stdout",
     "output_type": "stream",
     "text": [
      "microstructure info\n"
     ]
    },
    {
     "data": {
      "text/plain": [
       "(318, 275)"
      ]
     },
     "execution_count": 24,
     "metadata": {},
     "output_type": "execute_result"
    }
   ],
   "source": [
    "print('microstructure info')\n",
    "dHCP_microstructure_info.shape"
   ]
  },
  {
   "cell_type": "code",
   "execution_count": 25,
   "metadata": {
    "deletable": false,
    "editable": false,
    "hidden": true,
    "run_control": {
     "frozen": true
    }
   },
   "outputs": [],
   "source": [
    "dHCP_microstructure_info.to_csv(f'{preprocessed_dataset_path}/imaging_data/log_file/dHCP_microstructure_info.csv',index=False)"
   ]
  },
  {
   "cell_type": "markdown",
   "metadata": {
    "deletable": false,
    "editable": false,
    "heading_collapsed": true,
    "run_control": {
     "frozen": true
    }
   },
   "source": [
    "### Cortical Thickness dataset"
   ]
  },
  {
   "cell_type": "markdown",
   "metadata": {
    "hidden": true
   },
   "source": [
    "`cortical_thickness_df` contains the mean cortical thickness information."
   ]
  },
  {
   "cell_type": "code",
   "execution_count": 26,
   "metadata": {
    "hidden": true
   },
   "outputs": [],
   "source": [
    "cortical_thickness_df = pd.read_csv('./dataset/cortical_thickness/cortical_thickness_updated.csv')\n",
    "cortical_thickness_df['Session_cortical'] = cortical_thickness_df['session']\n",
    "cortical_thickness_df.drop('session', axis=1, inplace=True)"
   ]
  },
  {
   "cell_type": "code",
   "execution_count": 20,
   "metadata": {
    "hidden": true
   },
   "outputs": [
    {
     "data": {
      "text/plain": [
       "(234, 3)"
      ]
     },
     "execution_count": 20,
     "metadata": {},
     "output_type": "execute_result"
    }
   ],
   "source": [
    "cortical_thickness_df.shape"
   ]
  },
  {
   "cell_type": "code",
   "execution_count": 27,
   "metadata": {
    "deletable": false,
    "editable": false,
    "hidden": true,
    "run_control": {
     "frozen": true
    }
   },
   "outputs": [],
   "source": [
    "cortical_thickness_df.to_csv(f'{preprocessed_dataset_path}/imaging_data/log_file/cortical_thickness_df.csv',index=False)"
   ]
  },
  {
   "cell_type": "markdown",
   "metadata": {
    "deletable": false,
    "editable": false,
    "run_control": {
     "frozen": true
    }
   },
   "source": [
    "## Merging all data with PRS scores"
   ]
  },
  {
   "cell_type": "markdown",
   "metadata": {},
   "source": [
    "- PRS file contains PRS at 11 P-value thresholds, which ranges from 1e-8 to 1.\n",
    "- The Ancestry files contains the first 10 PCs of the genetic data\n",
    "- The data can be divided into 3 different ethnic groups: European, South Asian and African\n",
    "- The outliers are removed to each cohort separately (i.e., European, European + South Asian (called mixed cohort), and European + South Asian + Africans (called full cohort)"
   ]
  },
  {
   "cell_type": "code",
   "execution_count": 12,
   "metadata": {
    "ExecuteTime": {
     "end_time": "2022-06-29T12:43:44.772680Z",
     "start_time": "2022-06-29T12:43:43.697776Z"
    },
    "deletable": false,
    "editable": false
   },
   "outputs": [],
   "source": [
    "full_dataset = pd.read_csv(f'{preprocessed_dataset_path}/imaging_data/log_file/full_dataset.csv')\n",
    "cortical_thickness_df = pd.read_csv(f'{preprocessed_dataset_path}/imaging_data/log_file/cortical_thickness_df.csv')\n",
    "diffusion_dataset = pd.read_csv(f'{preprocessed_dataset_path}/imaging_data/log_file/diffusion_dataset.csv')\n",
    "dHCP_microstructure_info = pd.read_csv(f'{preprocessed_dataset_path}/imaging_data/log_file/dHCP_microstructure_info.csv')"
   ]
  },
  {
   "cell_type": "code",
   "execution_count": 6,
   "metadata": {
    "deletable": false,
    "editable": false
   },
   "outputs": [],
   "source": [
    "#Merge the diffusion with structural data together\n",
    "full_dataset = full_dataset.merge(diffusion_dataset,\n",
    "                                  on='ID',\n",
    "                                  suffixes=('_vol', '_diff'),\n",
    "                                  how='outer')  #merging the diffusion dataset\n",
    "full_dataset = full_dataset.merge(\n",
    "    dHCP_microstructure_info, on='ID',\n",
    "    how='outer')  # merging the microstructure dataset\n",
    "\n",
    "full_dataset = full_dataset.merge(cortical_thickness_df, on='ID',\n",
    "                                  how='outer')  # merging the cortical dataset\n",
    "\n",
    "dHCP_participants_info = pd.read_csv(\n",
    "    f'{dataset_path}/participant_info/dHCP Neonatal Data Release 3 subjects - Participant info & reconstruction.csv'\n",
    ")\n",
    "dHCP_participants_info = dHCP_participants_info[[\n",
    "    'ID', 'Gender', 'GA at birth', 'GA at scan '\n",
    "]]\n",
    "dHCP_participants_info = dHCP_participants_info.rename(\n",
    "    {\n",
    "        'GA at birth': 'GA_full',\n",
    "        'GA at scan ': 'PMA_full'\n",
    "    }, axis=1)\n",
    "dHCP_participants_info = dHCP_participants_info.drop_duplicates(subset='ID',\n",
    "                                                                keep='last')\n",
    "full_dataset = full_dataset.merge(dHCP_participants_info, on='ID',\n",
    "                                  how='left')  #added gender info\n",
    "\n",
    "####### Given that the GA and PMA information is likely to come from the full dataset, I will just define the missing GA_micro and PMA micro information to the GA_full and PMA_full (from the full dataset)\n",
    "full_dataset['GA_micro'] = full_dataset['GA_full']\n",
    "full_dataset['PMA_micro'] = full_dataset['PMA_full']"
   ]
  },
  {
   "cell_type": "code",
   "execution_count": 14,
   "metadata": {
    "deletable": false,
    "editable": false,
    "run_control": {
     "frozen": true
    }
   },
   "outputs": [],
   "source": [
    "full_dataset.to_csv(f'{preprocessed_dataset_path}/imaging_data/log_file/combined_imaging_full_dataset.csv',index=False)"
   ]
  },
  {
   "cell_type": "code",
   "execution_count": 5,
   "metadata": {
    "ExecuteTime": {
     "end_time": "2022-06-29T12:43:51.392994Z",
     "start_time": "2022-06-29T12:43:49.681931Z"
    },
    "deletable": false,
    "editable": false
   },
   "outputs": [],
   "source": [
    "full_dataset = pd.read_csv(f'{preprocessed_dataset_path}/imaging_data/log_file/combined_imaging_full_dataset.csv',index_col=[0])\n",
    "\n",
    "full_dataset = full_dataset.rename(columns = dict(zip((full_dataset.loc[:,\"'1 Precentral_L 2001'\":\"'93 Vermis'\"].columns.tolist()),[f'AAL {i}' for i in range(1,94)])))"
   ]
  },
  {
   "cell_type": "code",
   "execution_count": 13,
   "metadata": {},
   "outputs": [
    {
     "data": {
      "text/html": [
       "<div>\n",
       "<style scoped>\n",
       "    .dataframe tbody tr th:only-of-type {\n",
       "        vertical-align: middle;\n",
       "    }\n",
       "\n",
       "    .dataframe tbody tr th {\n",
       "        vertical-align: top;\n",
       "    }\n",
       "\n",
       "    .dataframe thead th {\n",
       "        text-align: right;\n",
       "    }\n",
       "</style>\n",
       "<table border=\"1\" class=\"dataframe\">\n",
       "  <thead>\n",
       "    <tr style=\"text-align: right;\">\n",
       "      <th></th>\n",
       "      <th>ID</th>\n",
       "      <th>Session</th>\n",
       "      <th>GA</th>\n",
       "      <th>PMA</th>\n",
       "      <th>PreCG.R_PreCG.L</th>\n",
       "      <th>SFGdor.L_PreCG.L</th>\n",
       "      <th>SFGdor.L_PreCG.R</th>\n",
       "      <th>SFGdor.R_PreCG.L</th>\n",
       "      <th>SFGdor.R_PreCG.R</th>\n",
       "      <th>SFGdor.R_SFGdor.L</th>\n",
       "      <th>...</th>\n",
       "      <th>ITG.R_HES.R</th>\n",
       "      <th>ITG.R_STG.L</th>\n",
       "      <th>ITG.R_STG.R</th>\n",
       "      <th>ITG.R_TPOsup.L</th>\n",
       "      <th>ITG.R_TPOsup.R</th>\n",
       "      <th>ITG.R_MTG.L</th>\n",
       "      <th>ITG.R_MTG.R</th>\n",
       "      <th>ITG.R_TPOmid.L</th>\n",
       "      <th>ITG.R_TPOmid.R</th>\n",
       "      <th>ITG.R_ITG.L</th>\n",
       "    </tr>\n",
       "  </thead>\n",
       "  <tbody>\n",
       "    <tr>\n",
       "      <th>0</th>\n",
       "      <td>CC00309BN12</td>\n",
       "      <td>99400</td>\n",
       "      <td>27.142857</td>\n",
       "      <td>43.571429</td>\n",
       "      <td>0.110269</td>\n",
       "      <td>2.734645</td>\n",
       "      <td>0.022175</td>\n",
       "      <td>0.053020</td>\n",
       "      <td>2.703169</td>\n",
       "      <td>0.066727</td>\n",
       "      <td>...</td>\n",
       "      <td>0.027096</td>\n",
       "      <td>0.000328</td>\n",
       "      <td>0.553082</td>\n",
       "      <td>0.000000</td>\n",
       "      <td>1.354229</td>\n",
       "      <td>0.000269</td>\n",
       "      <td>9.224019</td>\n",
       "      <td>0.000000</td>\n",
       "      <td>3.536425</td>\n",
       "      <td>0.000000</td>\n",
       "    </tr>\n",
       "    <tr>\n",
       "      <th>1</th>\n",
       "      <td>CC00308XX11</td>\n",
       "      <td>98900</td>\n",
       "      <td>37.285714</td>\n",
       "      <td>37.428571</td>\n",
       "      <td>0.070403</td>\n",
       "      <td>1.424295</td>\n",
       "      <td>0.028932</td>\n",
       "      <td>0.054429</td>\n",
       "      <td>1.604058</td>\n",
       "      <td>0.097780</td>\n",
       "      <td>...</td>\n",
       "      <td>0.015710</td>\n",
       "      <td>0.000247</td>\n",
       "      <td>0.512309</td>\n",
       "      <td>0.000378</td>\n",
       "      <td>1.462916</td>\n",
       "      <td>0.000916</td>\n",
       "      <td>6.572805</td>\n",
       "      <td>0.000224</td>\n",
       "      <td>1.907144</td>\n",
       "      <td>0.000534</td>\n",
       "    </tr>\n",
       "    <tr>\n",
       "      <th>2</th>\n",
       "      <td>CC00306XX09</td>\n",
       "      <td>98700</td>\n",
       "      <td>39.714286</td>\n",
       "      <td>40.285714</td>\n",
       "      <td>0.146737</td>\n",
       "      <td>2.298130</td>\n",
       "      <td>0.040217</td>\n",
       "      <td>0.118238</td>\n",
       "      <td>2.568366</td>\n",
       "      <td>0.203279</td>\n",
       "      <td>...</td>\n",
       "      <td>0.028501</td>\n",
       "      <td>0.000093</td>\n",
       "      <td>0.710438</td>\n",
       "      <td>0.000075</td>\n",
       "      <td>1.410843</td>\n",
       "      <td>0.000321</td>\n",
       "      <td>8.158628</td>\n",
       "      <td>0.000263</td>\n",
       "      <td>2.735754</td>\n",
       "      <td>0.000335</td>\n",
       "    </tr>\n",
       "    <tr>\n",
       "      <th>3</th>\n",
       "      <td>CC00303XX06</td>\n",
       "      <td>96900</td>\n",
       "      <td>40.000000</td>\n",
       "      <td>43.428571</td>\n",
       "      <td>0.035978</td>\n",
       "      <td>2.288692</td>\n",
       "      <td>0.025000</td>\n",
       "      <td>0.055896</td>\n",
       "      <td>2.960535</td>\n",
       "      <td>0.077182</td>\n",
       "      <td>...</td>\n",
       "      <td>0.040646</td>\n",
       "      <td>0.000059</td>\n",
       "      <td>2.271606</td>\n",
       "      <td>0.000000</td>\n",
       "      <td>0.733402</td>\n",
       "      <td>0.000172</td>\n",
       "      <td>16.157624</td>\n",
       "      <td>0.000000</td>\n",
       "      <td>3.695710</td>\n",
       "      <td>0.000050</td>\n",
       "    </tr>\n",
       "    <tr>\n",
       "      <th>4</th>\n",
       "      <td>CC00300XX03</td>\n",
       "      <td>96000</td>\n",
       "      <td>40.857143</td>\n",
       "      <td>41.000000</td>\n",
       "      <td>0.070895</td>\n",
       "      <td>2.382008</td>\n",
       "      <td>0.040690</td>\n",
       "      <td>0.057860</td>\n",
       "      <td>2.498296</td>\n",
       "      <td>0.076400</td>\n",
       "      <td>...</td>\n",
       "      <td>0.007220</td>\n",
       "      <td>0.000317</td>\n",
       "      <td>0.464629</td>\n",
       "      <td>0.000314</td>\n",
       "      <td>1.537647</td>\n",
       "      <td>0.000274</td>\n",
       "      <td>5.961699</td>\n",
       "      <td>0.000120</td>\n",
       "      <td>2.654921</td>\n",
       "      <td>0.000049</td>\n",
       "    </tr>\n",
       "    <tr>\n",
       "      <th>...</th>\n",
       "      <td>...</td>\n",
       "      <td>...</td>\n",
       "      <td>...</td>\n",
       "      <td>...</td>\n",
       "      <td>...</td>\n",
       "      <td>...</td>\n",
       "      <td>...</td>\n",
       "      <td>...</td>\n",
       "      <td>...</td>\n",
       "      <td>...</td>\n",
       "      <td>...</td>\n",
       "      <td>...</td>\n",
       "      <td>...</td>\n",
       "      <td>...</td>\n",
       "      <td>...</td>\n",
       "      <td>...</td>\n",
       "      <td>...</td>\n",
       "      <td>...</td>\n",
       "      <td>...</td>\n",
       "      <td>...</td>\n",
       "      <td>...</td>\n",
       "    </tr>\n",
       "    <tr>\n",
       "      <th>427</th>\n",
       "      <td>CC00320XX07</td>\n",
       "      <td>102300</td>\n",
       "      <td>40.142857</td>\n",
       "      <td>40.285714</td>\n",
       "      <td>0.076912</td>\n",
       "      <td>1.338250</td>\n",
       "      <td>0.047047</td>\n",
       "      <td>0.052825</td>\n",
       "      <td>2.850952</td>\n",
       "      <td>0.058209</td>\n",
       "      <td>...</td>\n",
       "      <td>0.012262</td>\n",
       "      <td>0.000400</td>\n",
       "      <td>0.444422</td>\n",
       "      <td>0.000000</td>\n",
       "      <td>1.467041</td>\n",
       "      <td>0.000629</td>\n",
       "      <td>8.040303</td>\n",
       "      <td>0.000000</td>\n",
       "      <td>1.673678</td>\n",
       "      <td>0.000221</td>\n",
       "    </tr>\n",
       "    <tr>\n",
       "      <th>428</th>\n",
       "      <td>CC00316XX11</td>\n",
       "      <td>101300</td>\n",
       "      <td>41.857143</td>\n",
       "      <td>44.428571</td>\n",
       "      <td>0.078410</td>\n",
       "      <td>2.342964</td>\n",
       "      <td>0.034629</td>\n",
       "      <td>0.035002</td>\n",
       "      <td>2.420588</td>\n",
       "      <td>0.079499</td>\n",
       "      <td>...</td>\n",
       "      <td>0.010862</td>\n",
       "      <td>0.000690</td>\n",
       "      <td>0.482336</td>\n",
       "      <td>0.000129</td>\n",
       "      <td>0.577948</td>\n",
       "      <td>0.000618</td>\n",
       "      <td>10.861935</td>\n",
       "      <td>0.000092</td>\n",
       "      <td>3.125806</td>\n",
       "      <td>0.000221</td>\n",
       "    </tr>\n",
       "    <tr>\n",
       "      <th>429</th>\n",
       "      <td>CC00271XX08</td>\n",
       "      <td>100400</td>\n",
       "      <td>35.571429</td>\n",
       "      <td>41.285714</td>\n",
       "      <td>0.059972</td>\n",
       "      <td>3.462783</td>\n",
       "      <td>0.031845</td>\n",
       "      <td>0.069406</td>\n",
       "      <td>3.571624</td>\n",
       "      <td>0.089493</td>\n",
       "      <td>...</td>\n",
       "      <td>0.016398</td>\n",
       "      <td>0.000000</td>\n",
       "      <td>0.687483</td>\n",
       "      <td>0.000000</td>\n",
       "      <td>1.435458</td>\n",
       "      <td>0.000000</td>\n",
       "      <td>9.969748</td>\n",
       "      <td>0.000000</td>\n",
       "      <td>3.560822</td>\n",
       "      <td>0.000000</td>\n",
       "    </tr>\n",
       "    <tr>\n",
       "      <th>430</th>\n",
       "      <td>CC00314XX09</td>\n",
       "      <td>100101</td>\n",
       "      <td>39.285714</td>\n",
       "      <td>39.428571</td>\n",
       "      <td>0.097975</td>\n",
       "      <td>2.506941</td>\n",
       "      <td>0.064908</td>\n",
       "      <td>0.082034</td>\n",
       "      <td>2.025905</td>\n",
       "      <td>0.116798</td>\n",
       "      <td>...</td>\n",
       "      <td>0.027440</td>\n",
       "      <td>0.002208</td>\n",
       "      <td>0.826016</td>\n",
       "      <td>0.000395</td>\n",
       "      <td>1.376335</td>\n",
       "      <td>0.003893</td>\n",
       "      <td>8.209560</td>\n",
       "      <td>0.000286</td>\n",
       "      <td>2.046850</td>\n",
       "      <td>0.002457</td>\n",
       "    </tr>\n",
       "    <tr>\n",
       "      <th>431</th>\n",
       "      <td>CC00313XX08</td>\n",
       "      <td>100000</td>\n",
       "      <td>38.857143</td>\n",
       "      <td>39.142857</td>\n",
       "      <td>0.047282</td>\n",
       "      <td>1.908566</td>\n",
       "      <td>0.049419</td>\n",
       "      <td>0.040934</td>\n",
       "      <td>2.346921</td>\n",
       "      <td>0.134456</td>\n",
       "      <td>...</td>\n",
       "      <td>0.006587</td>\n",
       "      <td>0.001653</td>\n",
       "      <td>0.508264</td>\n",
       "      <td>0.000175</td>\n",
       "      <td>0.990893</td>\n",
       "      <td>0.001658</td>\n",
       "      <td>8.200116</td>\n",
       "      <td>0.000105</td>\n",
       "      <td>2.987640</td>\n",
       "      <td>0.000331</td>\n",
       "    </tr>\n",
       "  </tbody>\n",
       "</table>\n",
       "<p>432 rows × 4009 columns</p>\n",
       "</div>"
      ],
      "text/plain": [
       "              ID  Session         GA        PMA  PreCG.R_PreCG.L  \\\n",
       "0    CC00309BN12    99400  27.142857  43.571429         0.110269   \n",
       "1    CC00308XX11    98900  37.285714  37.428571         0.070403   \n",
       "2    CC00306XX09    98700  39.714286  40.285714         0.146737   \n",
       "3    CC00303XX06    96900  40.000000  43.428571         0.035978   \n",
       "4    CC00300XX03    96000  40.857143  41.000000         0.070895   \n",
       "..           ...      ...        ...        ...              ...   \n",
       "427  CC00320XX07   102300  40.142857  40.285714         0.076912   \n",
       "428  CC00316XX11   101300  41.857143  44.428571         0.078410   \n",
       "429  CC00271XX08   100400  35.571429  41.285714         0.059972   \n",
       "430  CC00314XX09   100101  39.285714  39.428571         0.097975   \n",
       "431  CC00313XX08   100000  38.857143  39.142857         0.047282   \n",
       "\n",
       "     SFGdor.L_PreCG.L  SFGdor.L_PreCG.R  SFGdor.R_PreCG.L  SFGdor.R_PreCG.R  \\\n",
       "0            2.734645          0.022175          0.053020          2.703169   \n",
       "1            1.424295          0.028932          0.054429          1.604058   \n",
       "2            2.298130          0.040217          0.118238          2.568366   \n",
       "3            2.288692          0.025000          0.055896          2.960535   \n",
       "4            2.382008          0.040690          0.057860          2.498296   \n",
       "..                ...               ...               ...               ...   \n",
       "427          1.338250          0.047047          0.052825          2.850952   \n",
       "428          2.342964          0.034629          0.035002          2.420588   \n",
       "429          3.462783          0.031845          0.069406          3.571624   \n",
       "430          2.506941          0.064908          0.082034          2.025905   \n",
       "431          1.908566          0.049419          0.040934          2.346921   \n",
       "\n",
       "     SFGdor.R_SFGdor.L  ...  ITG.R_HES.R  ITG.R_STG.L  ITG.R_STG.R  \\\n",
       "0             0.066727  ...     0.027096     0.000328     0.553082   \n",
       "1             0.097780  ...     0.015710     0.000247     0.512309   \n",
       "2             0.203279  ...     0.028501     0.000093     0.710438   \n",
       "3             0.077182  ...     0.040646     0.000059     2.271606   \n",
       "4             0.076400  ...     0.007220     0.000317     0.464629   \n",
       "..                 ...  ...          ...          ...          ...   \n",
       "427           0.058209  ...     0.012262     0.000400     0.444422   \n",
       "428           0.079499  ...     0.010862     0.000690     0.482336   \n",
       "429           0.089493  ...     0.016398     0.000000     0.687483   \n",
       "430           0.116798  ...     0.027440     0.002208     0.826016   \n",
       "431           0.134456  ...     0.006587     0.001653     0.508264   \n",
       "\n",
       "     ITG.R_TPOsup.L  ITG.R_TPOsup.R  ITG.R_MTG.L  ITG.R_MTG.R  ITG.R_TPOmid.L  \\\n",
       "0          0.000000        1.354229     0.000269     9.224019        0.000000   \n",
       "1          0.000378        1.462916     0.000916     6.572805        0.000224   \n",
       "2          0.000075        1.410843     0.000321     8.158628        0.000263   \n",
       "3          0.000000        0.733402     0.000172    16.157624        0.000000   \n",
       "4          0.000314        1.537647     0.000274     5.961699        0.000120   \n",
       "..              ...             ...          ...          ...             ...   \n",
       "427        0.000000        1.467041     0.000629     8.040303        0.000000   \n",
       "428        0.000129        0.577948     0.000618    10.861935        0.000092   \n",
       "429        0.000000        1.435458     0.000000     9.969748        0.000000   \n",
       "430        0.000395        1.376335     0.003893     8.209560        0.000286   \n",
       "431        0.000175        0.990893     0.001658     8.200116        0.000105   \n",
       "\n",
       "     ITG.R_TPOmid.R  ITG.R_ITG.L  \n",
       "0          3.536425     0.000000  \n",
       "1          1.907144     0.000534  \n",
       "2          2.735754     0.000335  \n",
       "3          3.695710     0.000050  \n",
       "4          2.654921     0.000049  \n",
       "..              ...          ...  \n",
       "427        1.673678     0.000221  \n",
       "428        3.125806     0.000221  \n",
       "429        3.560822     0.000000  \n",
       "430        2.046850     0.002457  \n",
       "431        2.987640     0.000331  \n",
       "\n",
       "[432 rows x 4009 columns]"
      ]
     },
     "execution_count": 13,
     "metadata": {},
     "output_type": "execute_result"
    },
    {
     "data": {
      "text/html": [
       "<div>\n",
       "<style scoped>\n",
       "    .dataframe tbody tr th:only-of-type {\n",
       "        vertical-align: middle;\n",
       "    }\n",
       "\n",
       "    .dataframe tbody tr th {\n",
       "        vertical-align: top;\n",
       "    }\n",
       "\n",
       "    .dataframe thead th {\n",
       "        text-align: right;\n",
       "    }\n",
       "</style>\n",
       "<table border=\"1\" class=\"dataframe\">\n",
       "  <thead>\n",
       "    <tr style=\"text-align: right;\">\n",
       "      <th></th>\n",
       "      <th>ID</th>\n",
       "      <th>Session</th>\n",
       "      <th>GA</th>\n",
       "      <th>PMA</th>\n",
       "      <th>PreCG.R_PreCG.L</th>\n",
       "      <th>SFGdor.L_PreCG.L</th>\n",
       "      <th>SFGdor.L_PreCG.R</th>\n",
       "      <th>SFGdor.R_PreCG.L</th>\n",
       "      <th>SFGdor.R_PreCG.R</th>\n",
       "      <th>SFGdor.R_SFGdor.L</th>\n",
       "      <th>...</th>\n",
       "      <th>ITG.R_HES.R</th>\n",
       "      <th>ITG.R_STG.L</th>\n",
       "      <th>ITG.R_STG.R</th>\n",
       "      <th>ITG.R_TPOsup.L</th>\n",
       "      <th>ITG.R_TPOsup.R</th>\n",
       "      <th>ITG.R_MTG.L</th>\n",
       "      <th>ITG.R_MTG.R</th>\n",
       "      <th>ITG.R_TPOmid.L</th>\n",
       "      <th>ITG.R_TPOmid.R</th>\n",
       "      <th>ITG.R_ITG.L</th>\n",
       "    </tr>\n",
       "  </thead>\n",
       "  <tbody>\n",
       "    <tr>\n",
       "      <th>0</th>\n",
       "      <td>CC00309BN12</td>\n",
       "      <td>99400</td>\n",
       "      <td>27.142857</td>\n",
       "      <td>43.571429</td>\n",
       "      <td>0.110269</td>\n",
       "      <td>2.734645</td>\n",
       "      <td>0.022175</td>\n",
       "      <td>0.053020</td>\n",
       "      <td>2.703169</td>\n",
       "      <td>0.066727</td>\n",
       "      <td>...</td>\n",
       "      <td>0.027096</td>\n",
       "      <td>0.000328</td>\n",
       "      <td>0.553082</td>\n",
       "      <td>0.000000</td>\n",
       "      <td>1.354229</td>\n",
       "      <td>0.000269</td>\n",
       "      <td>9.224019</td>\n",
       "      <td>0.000000</td>\n",
       "      <td>3.536425</td>\n",
       "      <td>0.000000</td>\n",
       "    </tr>\n",
       "    <tr>\n",
       "      <th>1</th>\n",
       "      <td>CC00308XX11</td>\n",
       "      <td>98900</td>\n",
       "      <td>37.285714</td>\n",
       "      <td>37.428571</td>\n",
       "      <td>0.070403</td>\n",
       "      <td>1.424295</td>\n",
       "      <td>0.028932</td>\n",
       "      <td>0.054429</td>\n",
       "      <td>1.604058</td>\n",
       "      <td>0.097780</td>\n",
       "      <td>...</td>\n",
       "      <td>0.015710</td>\n",
       "      <td>0.000247</td>\n",
       "      <td>0.512309</td>\n",
       "      <td>0.000378</td>\n",
       "      <td>1.462916</td>\n",
       "      <td>0.000916</td>\n",
       "      <td>6.572805</td>\n",
       "      <td>0.000224</td>\n",
       "      <td>1.907144</td>\n",
       "      <td>0.000534</td>\n",
       "    </tr>\n",
       "    <tr>\n",
       "      <th>2</th>\n",
       "      <td>CC00306XX09</td>\n",
       "      <td>98700</td>\n",
       "      <td>39.714286</td>\n",
       "      <td>40.285714</td>\n",
       "      <td>0.146737</td>\n",
       "      <td>2.298130</td>\n",
       "      <td>0.040217</td>\n",
       "      <td>0.118238</td>\n",
       "      <td>2.568366</td>\n",
       "      <td>0.203279</td>\n",
       "      <td>...</td>\n",
       "      <td>0.028501</td>\n",
       "      <td>0.000093</td>\n",
       "      <td>0.710438</td>\n",
       "      <td>0.000075</td>\n",
       "      <td>1.410843</td>\n",
       "      <td>0.000321</td>\n",
       "      <td>8.158628</td>\n",
       "      <td>0.000263</td>\n",
       "      <td>2.735754</td>\n",
       "      <td>0.000335</td>\n",
       "    </tr>\n",
       "    <tr>\n",
       "      <th>3</th>\n",
       "      <td>CC00303XX06</td>\n",
       "      <td>96900</td>\n",
       "      <td>40.000000</td>\n",
       "      <td>43.428571</td>\n",
       "      <td>0.035978</td>\n",
       "      <td>2.288692</td>\n",
       "      <td>0.025000</td>\n",
       "      <td>0.055896</td>\n",
       "      <td>2.960535</td>\n",
       "      <td>0.077182</td>\n",
       "      <td>...</td>\n",
       "      <td>0.040646</td>\n",
       "      <td>0.000059</td>\n",
       "      <td>2.271606</td>\n",
       "      <td>0.000000</td>\n",
       "      <td>0.733402</td>\n",
       "      <td>0.000172</td>\n",
       "      <td>16.157624</td>\n",
       "      <td>0.000000</td>\n",
       "      <td>3.695710</td>\n",
       "      <td>0.000050</td>\n",
       "    </tr>\n",
       "    <tr>\n",
       "      <th>4</th>\n",
       "      <td>CC00300XX03</td>\n",
       "      <td>96000</td>\n",
       "      <td>40.857143</td>\n",
       "      <td>41.000000</td>\n",
       "      <td>0.070895</td>\n",
       "      <td>2.382008</td>\n",
       "      <td>0.040690</td>\n",
       "      <td>0.057860</td>\n",
       "      <td>2.498296</td>\n",
       "      <td>0.076400</td>\n",
       "      <td>...</td>\n",
       "      <td>0.007220</td>\n",
       "      <td>0.000317</td>\n",
       "      <td>0.464629</td>\n",
       "      <td>0.000314</td>\n",
       "      <td>1.537647</td>\n",
       "      <td>0.000274</td>\n",
       "      <td>5.961699</td>\n",
       "      <td>0.000120</td>\n",
       "      <td>2.654921</td>\n",
       "      <td>0.000049</td>\n",
       "    </tr>\n",
       "    <tr>\n",
       "      <th>...</th>\n",
       "      <td>...</td>\n",
       "      <td>...</td>\n",
       "      <td>...</td>\n",
       "      <td>...</td>\n",
       "      <td>...</td>\n",
       "      <td>...</td>\n",
       "      <td>...</td>\n",
       "      <td>...</td>\n",
       "      <td>...</td>\n",
       "      <td>...</td>\n",
       "      <td>...</td>\n",
       "      <td>...</td>\n",
       "      <td>...</td>\n",
       "      <td>...</td>\n",
       "      <td>...</td>\n",
       "      <td>...</td>\n",
       "      <td>...</td>\n",
       "      <td>...</td>\n",
       "      <td>...</td>\n",
       "      <td>...</td>\n",
       "      <td>...</td>\n",
       "    </tr>\n",
       "    <tr>\n",
       "      <th>427</th>\n",
       "      <td>CC00320XX07</td>\n",
       "      <td>102300</td>\n",
       "      <td>40.142857</td>\n",
       "      <td>40.285714</td>\n",
       "      <td>0.076912</td>\n",
       "      <td>1.338250</td>\n",
       "      <td>0.047047</td>\n",
       "      <td>0.052825</td>\n",
       "      <td>2.850952</td>\n",
       "      <td>0.058209</td>\n",
       "      <td>...</td>\n",
       "      <td>0.012262</td>\n",
       "      <td>0.000400</td>\n",
       "      <td>0.444422</td>\n",
       "      <td>0.000000</td>\n",
       "      <td>1.467041</td>\n",
       "      <td>0.000629</td>\n",
       "      <td>8.040303</td>\n",
       "      <td>0.000000</td>\n",
       "      <td>1.673678</td>\n",
       "      <td>0.000221</td>\n",
       "    </tr>\n",
       "    <tr>\n",
       "      <th>428</th>\n",
       "      <td>CC00316XX11</td>\n",
       "      <td>101300</td>\n",
       "      <td>41.857143</td>\n",
       "      <td>44.428571</td>\n",
       "      <td>0.078410</td>\n",
       "      <td>2.342964</td>\n",
       "      <td>0.034629</td>\n",
       "      <td>0.035002</td>\n",
       "      <td>2.420588</td>\n",
       "      <td>0.079499</td>\n",
       "      <td>...</td>\n",
       "      <td>0.010862</td>\n",
       "      <td>0.000690</td>\n",
       "      <td>0.482336</td>\n",
       "      <td>0.000129</td>\n",
       "      <td>0.577948</td>\n",
       "      <td>0.000618</td>\n",
       "      <td>10.861935</td>\n",
       "      <td>0.000092</td>\n",
       "      <td>3.125806</td>\n",
       "      <td>0.000221</td>\n",
       "    </tr>\n",
       "    <tr>\n",
       "      <th>429</th>\n",
       "      <td>CC00271XX08</td>\n",
       "      <td>100400</td>\n",
       "      <td>35.571429</td>\n",
       "      <td>41.285714</td>\n",
       "      <td>0.059972</td>\n",
       "      <td>3.462783</td>\n",
       "      <td>0.031845</td>\n",
       "      <td>0.069406</td>\n",
       "      <td>3.571624</td>\n",
       "      <td>0.089493</td>\n",
       "      <td>...</td>\n",
       "      <td>0.016398</td>\n",
       "      <td>0.000000</td>\n",
       "      <td>0.687483</td>\n",
       "      <td>0.000000</td>\n",
       "      <td>1.435458</td>\n",
       "      <td>0.000000</td>\n",
       "      <td>9.969748</td>\n",
       "      <td>0.000000</td>\n",
       "      <td>3.560822</td>\n",
       "      <td>0.000000</td>\n",
       "    </tr>\n",
       "    <tr>\n",
       "      <th>430</th>\n",
       "      <td>CC00314XX09</td>\n",
       "      <td>100101</td>\n",
       "      <td>39.285714</td>\n",
       "      <td>39.428571</td>\n",
       "      <td>0.097975</td>\n",
       "      <td>2.506941</td>\n",
       "      <td>0.064908</td>\n",
       "      <td>0.082034</td>\n",
       "      <td>2.025905</td>\n",
       "      <td>0.116798</td>\n",
       "      <td>...</td>\n",
       "      <td>0.027440</td>\n",
       "      <td>0.002208</td>\n",
       "      <td>0.826016</td>\n",
       "      <td>0.000395</td>\n",
       "      <td>1.376335</td>\n",
       "      <td>0.003893</td>\n",
       "      <td>8.209560</td>\n",
       "      <td>0.000286</td>\n",
       "      <td>2.046850</td>\n",
       "      <td>0.002457</td>\n",
       "    </tr>\n",
       "    <tr>\n",
       "      <th>431</th>\n",
       "      <td>CC00313XX08</td>\n",
       "      <td>100000</td>\n",
       "      <td>38.857143</td>\n",
       "      <td>39.142857</td>\n",
       "      <td>0.047282</td>\n",
       "      <td>1.908566</td>\n",
       "      <td>0.049419</td>\n",
       "      <td>0.040934</td>\n",
       "      <td>2.346921</td>\n",
       "      <td>0.134456</td>\n",
       "      <td>...</td>\n",
       "      <td>0.006587</td>\n",
       "      <td>0.001653</td>\n",
       "      <td>0.508264</td>\n",
       "      <td>0.000175</td>\n",
       "      <td>0.990893</td>\n",
       "      <td>0.001658</td>\n",
       "      <td>8.200116</td>\n",
       "      <td>0.000105</td>\n",
       "      <td>2.987640</td>\n",
       "      <td>0.000331</td>\n",
       "    </tr>\n",
       "  </tbody>\n",
       "</table>\n",
       "<p>432 rows × 4009 columns</p>\n",
       "</div>"
      ],
      "text/plain": [
       "              ID  Session         GA        PMA  PreCG.R_PreCG.L  \\\n",
       "0    CC00309BN12    99400  27.142857  43.571429         0.110269   \n",
       "1    CC00308XX11    98900  37.285714  37.428571         0.070403   \n",
       "2    CC00306XX09    98700  39.714286  40.285714         0.146737   \n",
       "3    CC00303XX06    96900  40.000000  43.428571         0.035978   \n",
       "4    CC00300XX03    96000  40.857143  41.000000         0.070895   \n",
       "..           ...      ...        ...        ...              ...   \n",
       "427  CC00320XX07   102300  40.142857  40.285714         0.076912   \n",
       "428  CC00316XX11   101300  41.857143  44.428571         0.078410   \n",
       "429  CC00271XX08   100400  35.571429  41.285714         0.059972   \n",
       "430  CC00314XX09   100101  39.285714  39.428571         0.097975   \n",
       "431  CC00313XX08   100000  38.857143  39.142857         0.047282   \n",
       "\n",
       "     SFGdor.L_PreCG.L  SFGdor.L_PreCG.R  SFGdor.R_PreCG.L  SFGdor.R_PreCG.R  \\\n",
       "0            2.734645          0.022175          0.053020          2.703169   \n",
       "1            1.424295          0.028932          0.054429          1.604058   \n",
       "2            2.298130          0.040217          0.118238          2.568366   \n",
       "3            2.288692          0.025000          0.055896          2.960535   \n",
       "4            2.382008          0.040690          0.057860          2.498296   \n",
       "..                ...               ...               ...               ...   \n",
       "427          1.338250          0.047047          0.052825          2.850952   \n",
       "428          2.342964          0.034629          0.035002          2.420588   \n",
       "429          3.462783          0.031845          0.069406          3.571624   \n",
       "430          2.506941          0.064908          0.082034          2.025905   \n",
       "431          1.908566          0.049419          0.040934          2.346921   \n",
       "\n",
       "     SFGdor.R_SFGdor.L  ...  ITG.R_HES.R  ITG.R_STG.L  ITG.R_STG.R  \\\n",
       "0             0.066727  ...     0.027096     0.000328     0.553082   \n",
       "1             0.097780  ...     0.015710     0.000247     0.512309   \n",
       "2             0.203279  ...     0.028501     0.000093     0.710438   \n",
       "3             0.077182  ...     0.040646     0.000059     2.271606   \n",
       "4             0.076400  ...     0.007220     0.000317     0.464629   \n",
       "..                 ...  ...          ...          ...          ...   \n",
       "427           0.058209  ...     0.012262     0.000400     0.444422   \n",
       "428           0.079499  ...     0.010862     0.000690     0.482336   \n",
       "429           0.089493  ...     0.016398     0.000000     0.687483   \n",
       "430           0.116798  ...     0.027440     0.002208     0.826016   \n",
       "431           0.134456  ...     0.006587     0.001653     0.508264   \n",
       "\n",
       "     ITG.R_TPOsup.L  ITG.R_TPOsup.R  ITG.R_MTG.L  ITG.R_MTG.R  ITG.R_TPOmid.L  \\\n",
       "0          0.000000        1.354229     0.000269     9.224019        0.000000   \n",
       "1          0.000378        1.462916     0.000916     6.572805        0.000224   \n",
       "2          0.000075        1.410843     0.000321     8.158628        0.000263   \n",
       "3          0.000000        0.733402     0.000172    16.157624        0.000000   \n",
       "4          0.000314        1.537647     0.000274     5.961699        0.000120   \n",
       "..              ...             ...          ...          ...             ...   \n",
       "427        0.000000        1.467041     0.000629     8.040303        0.000000   \n",
       "428        0.000129        0.577948     0.000618    10.861935        0.000092   \n",
       "429        0.000000        1.435458     0.000000     9.969748        0.000000   \n",
       "430        0.000395        1.376335     0.003893     8.209560        0.000286   \n",
       "431        0.000175        0.990893     0.001658     8.200116        0.000105   \n",
       "\n",
       "     ITG.R_TPOmid.R  ITG.R_ITG.L  \n",
       "0          3.536425     0.000000  \n",
       "1          1.907144     0.000534  \n",
       "2          2.735754     0.000335  \n",
       "3          3.695710     0.000050  \n",
       "4          2.654921     0.000049  \n",
       "..              ...          ...  \n",
       "427        1.673678     0.000221  \n",
       "428        3.125806     0.000221  \n",
       "429        3.560822     0.000000  \n",
       "430        2.046850     0.002457  \n",
       "431        2.987640     0.000331  \n",
       "\n",
       "[432 rows x 4009 columns]"
      ]
     },
     "execution_count": 13,
     "metadata": {},
     "output_type": "execute_result"
    }
   ],
   "source": []
  },
  {
   "cell_type": "code",
   "execution_count": 11,
   "metadata": {
    "ExecuteTime": {
     "end_time": "2022-06-29T12:43:55.843939Z",
     "start_time": "2022-06-29T12:43:55.305790Z"
    }
   },
   "outputs": [],
   "source": [
    "pheno = 'asd'\n",
    "european_cohort = genetic_file_preprocess.Cohort(\n",
    "    cohort_name='euro',\n",
    "    PRS_file_path=\n",
    "    f'{dataset_path}/PRS/{pheno}/ASD_lifted37_dHCP_merged_cleaned_EUROPEANS.gwas.all.score',\n",
    "    Ancestry_file_path=\n",
    "    f'{dataset_path}/ancestry_PCs/file3_only_europ_10pcs_pca.eigenvec',\n",
    "    imaging_df=full_dataset)\n",
    "mixed_cohort = genetic_file_preprocess.Cohort(\n",
    "    cohort_name='mixed',\n",
    "    PRS_file_path=\n",
    "    f'{dataset_path}/PRS/{pheno}/ASD_eurold_lifted37_dHCP_merged_cleaned_EUROPEAN_ASIAN.gwas.all.score',\n",
    "    Ancestry_file_path=\n",
    "    f'{dataset_path}/ancestry_PCs/euro_asian_361_file3_pca.eigenvec',\n",
    "    imaging_df=full_dataset)\n",
    "full_cohort = genetic_file_preprocess.Cohort(\n",
    "    cohort_name='full',\n",
    "    PRS_file_path=\n",
    "    f'{dataset_path}/PRS/{pheno}/ASD_eurold_lifted37_dHCP_merged_cleaned_FULL.gwas.all.score',\n",
    "    Ancestry_file_path=f'{dataset_path}/ancestry_PCs/file3_all_pca.eigenvec',\n",
    "    imaging_df=full_dataset)\n"
   ]
  },
  {
   "cell_type": "code",
   "execution_count": 6,
   "metadata": {},
   "outputs": [],
   "source": [
    "pheno = 'asd'\n",
    "european_cohort_batch2 = genetic_file_preprocess.Cohort(\n",
    "    cohort_name='euro',\n",
    "    PRS_file_path=\n",
    "    f'{dataset_path}/PRS/{pheno}/ASD_euro_batch2_genotyped.gwas.all.score',\n",
    "    Ancestry_file_path=\n",
    "    f'{dataset_path}/ancestry_PCs/euro_batch2_genotyped_PCA_result.eigenvec',\n",
    "    imaging_df=full_dataset)"
   ]
  },
  {
   "cell_type": "code",
   "execution_count": 7,
   "metadata": {},
   "outputs": [],
   "source": [
    "european_cohort_batch2.cohort_data['cohort']='EUR'"
   ]
  },
  {
   "cell_type": "code",
   "execution_count": 14,
   "metadata": {
    "ExecuteTime": {
     "end_time": "2022-06-29T12:43:59.946751Z",
     "start_time": "2022-06-29T12:43:59.897797Z"
    }
   },
   "outputs": [],
   "source": [
    "# european_ID and asian_ID\n",
    "european_ID = european_cohort.cohort_data.index.tolist()\n",
    "asian_ID = [\n",
    "    i for i in mixed_cohort.cohort_data.index.tolist()\n",
    "    if i not in european_ID\n",
    "]\n",
    "african_ID = [\n",
    "    i for i in full_cohort.cohort_data.index.tolist()\n",
    "    if (i not in european_ID) and (i not in asian_ID)\n",
    "]\n",
    "cohort_list = pd.DataFrame({'ID':full_cohort.cohort_data.index.tolist(),\n",
    "             'cohort':['EUR' if i in european_ID else 'ASI' if i in asian_ID else 'AFR' for i in full_cohort.cohort_data.index.tolist()]})\n",
    "cohort_list = cohort_list.set_index('ID')\n",
    "\n",
    "european_cohort.append_cohort_list(cohort_list)\n",
    "mixed_cohort.append_cohort_list(cohort_list)\n",
    "full_cohort.append_cohort_list(cohort_list)\n",
    "# european_cohort.cohort_data['cohort'] = 'EUR'"
   ]
  },
  {
   "cell_type": "markdown",
   "metadata": {},
   "source": [
    "### saving full dataset"
   ]
  },
  {
   "cell_type": "code",
   "execution_count": 18,
   "metadata": {},
   "outputs": [
    {
     "data": {
      "text/html": [
       "<div>\n",
       "<style scoped>\n",
       "    .dataframe tbody tr th:only-of-type {\n",
       "        vertical-align: middle;\n",
       "    }\n",
       "\n",
       "    .dataframe tbody tr th {\n",
       "        vertical-align: top;\n",
       "    }\n",
       "\n",
       "    .dataframe thead th {\n",
       "        text-align: right;\n",
       "    }\n",
       "</style>\n",
       "<table border=\"1\" class=\"dataframe\">\n",
       "  <thead>\n",
       "    <tr style=\"text-align: right;\">\n",
       "      <th></th>\n",
       "      <th></th>\n",
       "      <th>GA_vol</th>\n",
       "      <th>PMA_vol</th>\n",
       "      <th>cohort</th>\n",
       "    </tr>\n",
       "    <tr>\n",
       "      <th>cohort</th>\n",
       "      <th>termness</th>\n",
       "      <th></th>\n",
       "      <th></th>\n",
       "      <th></th>\n",
       "    </tr>\n",
       "  </thead>\n",
       "  <tbody>\n",
       "    <tr>\n",
       "      <th rowspan=\"3\" valign=\"top\">EUR</th>\n",
       "      <th>preterm</th>\n",
       "      <td>33.000000</td>\n",
       "      <td>34.702381</td>\n",
       "      <td>14</td>\n",
       "    </tr>\n",
       "    <tr>\n",
       "      <th>preterm/term_at_scan</th>\n",
       "      <td>31.875576</td>\n",
       "      <td>36.723502</td>\n",
       "      <td>63</td>\n",
       "    </tr>\n",
       "    <tr>\n",
       "      <th>term</th>\n",
       "      <td>40.114286</td>\n",
       "      <td>41.628000</td>\n",
       "      <td>257</td>\n",
       "    </tr>\n",
       "  </tbody>\n",
       "</table>\n",
       "</div>"
      ],
      "text/plain": [
       "                                GA_vol    PMA_vol  cohort\n",
       "cohort termness                                          \n",
       "EUR    preterm               33.000000  34.702381      14\n",
       "       preterm/term_at_scan  31.875576  36.723502      63\n",
       "       term                  40.114286  41.628000     257"
      ]
     },
     "execution_count": 18,
     "metadata": {},
     "output_type": "execute_result"
    }
   ],
   "source": [
    "pd.pivot_table(european_cohort_batch2.cohort_data,\n",
    "               values=['GA_vol','PMA_vol'],\n",
    "               index=['cohort','termness'],\n",
    "               aggfunc={'cohort':np.count_nonzero,\n",
    "                        'GA_vol':np.mean,\n",
    "                        'PMA_vol':np.mean})"
   ]
  },
  {
   "cell_type": "code",
   "execution_count": 12,
   "metadata": {},
   "outputs": [
    {
     "data": {
      "text/html": [
       "<div>\n",
       "<style scoped>\n",
       "    .dataframe tbody tr th:only-of-type {\n",
       "        vertical-align: middle;\n",
       "    }\n",
       "\n",
       "    .dataframe tbody tr th {\n",
       "        vertical-align: top;\n",
       "    }\n",
       "\n",
       "    .dataframe thead th {\n",
       "        text-align: right;\n",
       "    }\n",
       "</style>\n",
       "<table border=\"1\" class=\"dataframe\">\n",
       "  <thead>\n",
       "    <tr style=\"text-align: right;\">\n",
       "      <th></th>\n",
       "      <th></th>\n",
       "      <th>GA_vol</th>\n",
       "      <th>PMA_vol</th>\n",
       "      <th>cohort</th>\n",
       "    </tr>\n",
       "    <tr>\n",
       "      <th>cohort</th>\n",
       "      <th>termness</th>\n",
       "      <th></th>\n",
       "      <th></th>\n",
       "      <th></th>\n",
       "    </tr>\n",
       "  </thead>\n",
       "  <tbody>\n",
       "    <tr>\n",
       "      <th rowspan=\"3\" valign=\"top\">AFR</th>\n",
       "      <th>preterm</th>\n",
       "      <td>33.297619</td>\n",
       "      <td>35.238095</td>\n",
       "      <td>12</td>\n",
       "    </tr>\n",
       "    <tr>\n",
       "      <th>preterm/term_at_scan</th>\n",
       "      <td>30.118227</td>\n",
       "      <td>35.532020</td>\n",
       "      <td>29</td>\n",
       "    </tr>\n",
       "    <tr>\n",
       "      <th>term</th>\n",
       "      <td>39.876424</td>\n",
       "      <td>40.744084</td>\n",
       "      <td>163</td>\n",
       "    </tr>\n",
       "    <tr>\n",
       "      <th rowspan=\"3\" valign=\"top\">ASI</th>\n",
       "      <th>preterm</th>\n",
       "      <td>32.214286</td>\n",
       "      <td>34.142857</td>\n",
       "      <td>2</td>\n",
       "    </tr>\n",
       "    <tr>\n",
       "      <th>preterm/term_at_scan</th>\n",
       "      <td>33.571429</td>\n",
       "      <td>35.632653</td>\n",
       "      <td>7</td>\n",
       "    </tr>\n",
       "    <tr>\n",
       "      <th>term</th>\n",
       "      <td>40.042553</td>\n",
       "      <td>41.364742</td>\n",
       "      <td>47</td>\n",
       "    </tr>\n",
       "    <tr>\n",
       "      <th rowspan=\"3\" valign=\"top\">EUR</th>\n",
       "      <th>preterm</th>\n",
       "      <td>32.857143</td>\n",
       "      <td>34.610390</td>\n",
       "      <td>13</td>\n",
       "    </tr>\n",
       "    <tr>\n",
       "      <th>preterm/term_at_scan</th>\n",
       "      <td>31.849351</td>\n",
       "      <td>36.688312</td>\n",
       "      <td>56</td>\n",
       "    </tr>\n",
       "    <tr>\n",
       "      <th>term</th>\n",
       "      <td>40.079515</td>\n",
       "      <td>41.522237</td>\n",
       "      <td>219</td>\n",
       "    </tr>\n",
       "  </tbody>\n",
       "</table>\n",
       "</div>"
      ],
      "text/plain": [
       "                                GA_vol    PMA_vol  cohort\n",
       "cohort termness                                          \n",
       "AFR    preterm               33.297619  35.238095      12\n",
       "       preterm/term_at_scan  30.118227  35.532020      29\n",
       "       term                  39.876424  40.744084     163\n",
       "ASI    preterm               32.214286  34.142857       2\n",
       "       preterm/term_at_scan  33.571429  35.632653       7\n",
       "       term                  40.042553  41.364742      47\n",
       "EUR    preterm               32.857143  34.610390      13\n",
       "       preterm/term_at_scan  31.849351  36.688312      56\n",
       "       term                  40.079515  41.522237     219"
      ]
     },
     "execution_count": 12,
     "metadata": {},
     "output_type": "execute_result"
    }
   ],
   "source": [
    "pd.pivot_table(full_cohort.cohort_data,\n",
    "               values=['GA_vol','PMA_vol'],\n",
    "               index=['cohort','termness'],\n",
    "               aggfunc={'cohort':np.count_nonzero,\n",
    "                        'GA_vol':np.mean,\n",
    "                        'PMA_vol':np.mean})"
   ]
  },
  {
   "cell_type": "code",
   "execution_count": 13,
   "metadata": {},
   "outputs": [],
   "source": [
    "full_cohort.cohort_data.to_csv(f'{preprocessed_dataset_path}/imaging_data/log_file/combined_imaging_genetic_pre_outliers_full_dataset.csv')"
   ]
  },
  {
   "cell_type": "code",
   "execution_count": 11,
   "metadata": {
    "scrolled": true
   },
   "outputs": [],
   "source": [
    "# full_dataset.drop(columns=['Session_vol','Session_diff'],inplace=True)\n",
    "# full_dataset = data_preprocessing.move_multiple_columns(full_dataset,cols_to_move=['Gender','GA_diff','PMA_diff'],ref_col='ID',place='After')"
   ]
  },
  {
   "cell_type": "markdown",
   "metadata": {},
   "source": [
    "### Removing outliers"
   ]
  },
  {
   "cell_type": "markdown",
   "metadata": {},
   "source": [
    "Outlier is defined using the Anc PCs. Should I do the this for each dataset or all of them together? Note that the ancestry components for european cohort alone is different from ancestry PCs for european from european and asian cohort mixed"
   ]
  },
  {
   "cell_type": "code",
   "execution_count": 14,
   "metadata": {
    "ExecuteTime": {
     "end_time": "2022-06-29T12:50:59.266563Z",
     "start_time": "2022-06-29T12:50:59.190608Z"
    }
   },
   "outputs": [],
   "source": [
    "# european_cohort.extract_neonates_data(termness = 'preterm/term_at_scan') # other options = preterm/term_at_scan\n",
    "mixed_cohort.extract_neonates_data(termness = 'term')\n",
    "full_cohort.extract_neonates_data(termness = 'term')"
   ]
  },
  {
   "cell_type": "code",
   "execution_count": 13,
   "metadata": {},
   "outputs": [],
   "source": [
    "european_cohort_batch2.extract_neonates_data(termness = 'term')"
   ]
  },
  {
   "cell_type": "code",
   "execution_count": 17,
   "metadata": {
    "ExecuteTime": {
     "end_time": "2022-06-29T12:52:17.334866Z",
     "start_time": "2022-06-29T12:52:17.318877Z"
    }
   },
   "outputs": [
    {
     "name": "stdout",
     "output_type": "stream",
     "text": [
      "available number of subjects in each dataset before removing outliers\n"
     ]
    },
    {
     "data": {
      "text/html": [
       "<div>\n",
       "<style scoped>\n",
       "    .dataframe tbody tr th:only-of-type {\n",
       "        vertical-align: middle;\n",
       "    }\n",
       "\n",
       "    .dataframe tbody tr th {\n",
       "        vertical-align: top;\n",
       "    }\n",
       "\n",
       "    .dataframe thead th {\n",
       "        text-align: right;\n",
       "    }\n",
       "</style>\n",
       "<table border=\"1\" class=\"dataframe\">\n",
       "  <thead>\n",
       "    <tr style=\"text-align: right;\">\n",
       "      <th></th>\n",
       "      <th>Dataset</th>\n",
       "      <th>euro_number</th>\n",
       "    </tr>\n",
       "  </thead>\n",
       "  <tbody>\n",
       "    <tr>\n",
       "      <th>0</th>\n",
       "      <td>Vol</td>\n",
       "      <td>55</td>\n",
       "    </tr>\n",
       "    <tr>\n",
       "      <th>1</th>\n",
       "      <td>Diff</td>\n",
       "      <td>44</td>\n",
       "    </tr>\n",
       "    <tr>\n",
       "      <th>2</th>\n",
       "      <td>Micro</td>\n",
       "      <td>35</td>\n",
       "    </tr>\n",
       "  </tbody>\n",
       "</table>\n",
       "</div>"
      ],
      "text/plain": [
       "  Dataset  euro_number\n",
       "0     Vol           55\n",
       "1    Diff           44\n",
       "2   Micro           35"
      ]
     },
     "execution_count": 17,
     "metadata": {},
     "output_type": "execute_result"
    }
   ],
   "source": [
    "print('available number of subjects in each dataset before removing outliers')\n",
    "pd.DataFrame({\n",
    "    'Dataset': ['Vol', 'Diff', 'Micro'],\n",
    "    'euro_number': [\n",
    "        european_cohort.volumetric_df.shape[0],\n",
    "        european_cohort.diffusion_df.shape[0],\n",
    "        european_cohort.micro_df.shape[0]]\n",
    "#     ],\n",
    "#     'mixed_number': [\n",
    "#         mixed_cohort.volumetric_df.shape[0],\n",
    "#         mixed_cohort.diffusion_df.shape[0],\n",
    "#         mixed_cohort.micro_df.shape[0]\n",
    "#     ],\n",
    "#     'full_number': [\n",
    "#         full_cohort.volumetric_df.shape[0],\n",
    "#         full_cohort.diffusion_df.shape[0],\n",
    "#         full_cohort.micro_df.shape[0]\n",
    "#     ]\n",
    "})"
   ]
  },
  {
   "cell_type": "markdown",
   "metadata": {},
   "source": [
    "Outliers are defined if they have more than 3.5 standard deviation on the AncPC2 and AncPC3"
   ]
  },
  {
   "cell_type": "code",
   "execution_count": 21,
   "metadata": {},
   "outputs": [
    {
     "data": {
      "image/png": "[encoded data removed]",
      "text/plain": [
       "<Figure size 432x288 with 1 Axes>"
      ]
     },
     "metadata": {
      "needs_background": "light"
     },
     "output_type": "display_data"
    }
   ],
   "source": [
    "european_cohort_batch2.volumetric_df,_ = genetic_file_preprocess.Cohort.remove_outliers(european_cohort_batch2.volumetric_df,\n",
    "                                                     ancestry_PCs=['euro_Anc_PC2','euro_Anc_PC3'])\n"
   ]
  },
  {
   "cell_type": "code",
   "execution_count": 15,
   "metadata": {
    "ExecuteTime": {
     "end_time": "2022-06-29T12:52:22.669694Z",
     "start_time": "2022-06-29T12:52:20.845672Z"
    }
   },
   "outputs": [
    {
     "data": {
      "image/png": "[encoded data removed]",
      "text/plain": [
       "<Figure size 432x288 with 1 Axes>"
      ]
     },
     "metadata": {
      "needs_background": "light"
     },
     "output_type": "display_data"
    },
    {
     "data": {
      "image/png": "[encoded data removed]",
      "text/plain": [
       "<Figure size 432x288 with 1 Axes>"
      ]
     },
     "metadata": {
      "needs_background": "light"
     },
     "output_type": "display_data"
    }
   ],
   "source": [
    "# european_cohort.volumetric_df,_ = genetic_file_preprocess.Cohort.remove_outliers(european_cohort.volumetric_df,\n",
    "#                                                      ancestry_PCs=['euro_Anc_PC2','euro_Anc_PC3'])\n",
    "mixed_cohort.volumetric_df,_ = genetic_file_preprocess.Cohort.remove_outliers(mixed_cohort.volumetric_df,\n",
    "                                                     ancestry_PCs=['mixed_Anc_PC4','mixed_Anc_PC5'])\n",
    "full_cohort.volumetric_df,_ = genetic_file_preprocess.Cohort.remove_outliers(full_cohort.volumetric_df,\n",
    "                                                     ancestry_PCs=['full_Anc_PC7','full_Anc_PC8'])"
   ]
  },
  {
   "cell_type": "code",
   "execution_count": 16,
   "metadata": {
    "scrolled": true
   },
   "outputs": [
    {
     "data": {
      "image/png": "[encoded data removed]",
      "text/plain": [
       "<Figure size 432x288 with 1 Axes>"
      ]
     },
     "metadata": {
      "needs_background": "light"
     },
     "output_type": "display_data"
    },
    {
     "data": {
      "image/png": "[encoded data removed]",
      "text/plain": [
       "<Figure size 432x288 with 1 Axes>"
      ]
     },
     "metadata": {
      "needs_background": "light"
     },
     "output_type": "display_data"
    }
   ],
   "source": [
    "# european_cohort.diffusion_df, _ = genetic_file_preprocess.Cohort.remove_outliers(european_cohort.diffusion_df,\n",
    "#                                             ancestry_PCs=['euro_Anc_PC2','euro_Anc_PC3'])\n",
    "mixed_cohort.diffusion_df, _ = genetic_file_preprocess.Cohort.remove_outliers(mixed_cohort.diffusion_df,\n",
    "                                                     ancestry_PCs=['mixed_Anc_PC4','mixed_Anc_PC5'])\n",
    "full_cohort.diffusion_df, _ = genetic_file_preprocess.Cohort.remove_outliers(full_cohort.diffusion_df,\n",
    "                                                     ancestry_PCs=['full_Anc_PC7','full_Anc_PC8'])"
   ]
  },
  {
   "cell_type": "markdown",
   "metadata": {},
   "source": [
    "### saving preprocessed data without outliers"
   ]
  },
  {
   "cell_type": "code",
   "execution_count": 12,
   "metadata": {},
   "outputs": [],
   "source": [
    "european_cohort.diffusion_df.to_csv(f'{preprocessed_dataset_path}/imaging_data/diffusion/term/european_diffusion_df.csv')\n",
    "# mixed_cohort.diffusion_df.to_csv(f'{preprocessed_dataset_path}/imaging_data/diffusion/term/mixed_diffusion_df.csv')\n",
    "# full_cohort.diffusion_df.to_csv(f'{preprocessed_dataset_path}/imaging_data/diffusion/term/full_diffusion_df.csv')\n",
    "\n",
    "# european_volumetric_term_dataset.to_csv('./preprocessed_data/volumetric/term/european_volumetric_term_dataset.csv',index=False)\n",
    "# european_microstructure_term_dataset.to_csv('./preprocessed_data/microstructure/term/european_microstructure_term_dataset.csv',index=False)\n",
    "\n",
    "\n",
    "# mixed_diffusion_term_dataset.to_csv('./preprocessed_data/diffusion/term/mixed_diffusion_term_dataset.csv',index=False)\n",
    "# mixed_volumetric_term_dataset.to_csv('./preprocessed_data/volumetric/term/mixed_volumetric_term_dataset.csv',index=False)\n",
    "# mixed_microstructure_term_dataset.to_csv('./preprocessed_data/microstructure/term/mixed_microstructure_term_dataset.csv',index=False)\n",
    "\n",
    "# full_cohort_diffusion_term_dataset.to_csv('./preprocessed_data/diffusion/term/full_cohort_diffusion_term_dataset.csv',index=False)\n",
    "# full_cohort_volumetric_term_dataset.to_csv('./preprocessed_data/volumetric/term/full_cohort_volumetric_term_dataset.csv',index=False)\n",
    "# full_cohort_microstructure_term_dataset.to_csv('./preprocessed_data/microstructure/term/full_cohort_microstructure_term_dataset.csv',index=False)\n"
   ]
  },
  {
   "cell_type": "code",
   "execution_count": 19,
   "metadata": {},
   "outputs": [],
   "source": [
    "european_cohort.volumetric_df.to_csv(f'{preprocessed_dataset_path}/imaging_data/volumetric/preterm/european_volumetric_df.csv')\n",
    "# mixed_cohort.volumetric_df.to_csv(f'{preprocessed_dataset_path}/imaging_data/volumetric/term/mixed_volumetric_df.csv')"
   ]
  },
  {
   "cell_type": "code",
   "execution_count": 17,
   "metadata": {},
   "outputs": [],
   "source": [
    "mixed_cohort.volumetric_df.to_csv(f'{preprocessed_dataset_path}/imaging_data/volumetric/term/mixed_volumetric_df.csv')"
   ]
  },
  {
   "cell_type": "code",
   "execution_count": 23,
   "metadata": {},
   "outputs": [],
   "source": [
    "european_cohort_batch2.volumetric_df.to_csv(f'{preprocessed_dataset_path}/imaging_data/volumetric/term/european_volumetric_df_batch2.csv')"
   ]
  },
  {
   "cell_type": "code",
   "execution_count": null,
   "metadata": {},
   "outputs": [],
   "source": []
  }
 ],
 "metadata": {
  "hide_input": false,
  "kernelspec": {
   "display_name": "Python 3 (ipykernel)",
   "language": "python",
   "name": "python3"
  },
  "language_info": {
   "codemirror_mode": {
    "name": "ipython",
    "version": 3
   },
   "file_extension": ".py",
   "mimetype": "text/x-python",
   "name": "python",
   "nbconvert_exporter": "python",
   "pygments_lexer": "ipython3",
   "version": "3.9.12"
  },
  "varInspector": {
   "cols": {
    "lenName": 16,
    "lenType": 16,
    "lenVar": 40
   },
   "kernels_config": {
    "python": {
     "delete_cmd_postfix": "",
     "delete_cmd_prefix": "del ",
     "library": "var_list.py",
     "varRefreshCmd": "print(var_dic_list())"
    },
    "r": {
     "delete_cmd_postfix": ") ",
     "delete_cmd_prefix": "rm(",
     "library": "var_list.r",
     "varRefreshCmd": "cat(var_dic_list()) "
    }
   },
   "types_to_exclude": [
    "module",
    "function",
    "builtin_function_or_method",
    "instance",
    "_Feature"
   ],
   "window_display": false
  }
 },
 "nbformat": 4,
 "nbformat_minor": 2
}
