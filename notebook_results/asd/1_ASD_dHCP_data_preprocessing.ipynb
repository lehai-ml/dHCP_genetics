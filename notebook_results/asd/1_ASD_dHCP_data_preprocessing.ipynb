{
 "cells": [
  {
   "cell_type": "code",
   "execution_count": 1,
   "metadata": {
    "ExecuteTime": {
     "end_time": "2022-06-29T12:43:19.853734Z",
     "start_time": "2022-06-29T12:43:19.834746Z"
    }
   },
   "outputs": [],
   "source": [
    "import sys\n",
    "sys.path.append('../../')\n",
    "sys.path.append('../')"
   ]
  },
  {
   "cell_type": "code",
   "execution_count": 2,
   "metadata": {
    "ExecuteTime": {
     "end_time": "2022-06-29T12:43:20.616736Z",
     "start_time": "2022-06-29T12:43:20.601747Z"
    }
   },
   "outputs": [],
   "source": [
    "dataset_path = \"../../dataset\"\n",
    "preprocessed_dataset_path = f\"{dataset_path}/preprocessed_dataset/\""
   ]
  },
  {
   "cell_type": "code",
   "execution_count": 3,
   "metadata": {
    "ExecuteTime": {
     "end_time": "2022-06-29T12:43:32.411682Z",
     "start_time": "2022-06-29T12:43:21.081749Z"
    }
   },
   "outputs": [],
   "source": [
    "from codes.docs.analysis import data_preprocessing\n",
    "from codes.docs.analysis.gene_analysis import genetic_file_preprocess"
   ]
  },
  {
   "cell_type": "code",
   "execution_count": 4,
   "metadata": {
    "ExecuteTime": {
     "end_time": "2022-06-29T12:43:38.277874Z",
     "start_time": "2022-06-29T12:43:38.033715Z"
    }
   },
   "outputs": [],
   "source": [
    "import matplotlib.pyplot as plt\n",
    "import numpy as np\n",
    "import pandas as pd\n",
    "import scipy.io\n",
    "import glob\n",
    "from collections import defaultdict\n",
    "%matplotlib inline"
   ]
  },
  {
   "cell_type": "markdown",
   "metadata": {},
   "source": [
    "Notebook 1 description: \n",
    "1. Imaging data is imported and preprocessed\n",
    "\n",
    "Available informations\n",
    "- Volumetric dataset (dHCP) - 675 individuals\n",
    "- Diffusion dataset - 432 individuals\n",
    "- Microstructure - 318 individuals\n",
    "- Cortical thickness - 234 individuals\n",
    "2. Genetic data is added and outliers removed\n",
    "- ASD - PRS calculated from GWAS (2019)[Grove et al., 2019](https://www.ncbi.nlm.nih.gov/pmc/articles/PMC6454898/)"
   ]
  },
  {
   "cell_type": "markdown",
   "metadata": {
    "deletable": false,
    "editable": false,
    "run_control": {
     "frozen": true
    }
   },
   "source": [
    "## Merging all data with PRS scores"
   ]
  },
  {
   "cell_type": "markdown",
   "metadata": {},
   "source": [
    "- PRS file contains PRS at 11 P-value thresholds, which ranges from 1e-8 to 1.\n",
    "- The Ancestry files contains the first 10 PCs of the genetic data\n",
    "- The data can be divided into 3 different ethnic groups: European, South Asian and African\n",
    "- The outliers are removed to each cohort separately (i.e., European, European + South Asian (called mixed cohort), and European + South Asian + Africans (called full cohort)"
   ]
  },
  {
   "cell_type": "code",
   "execution_count": 38,
   "metadata": {},
   "outputs": [],
   "source": [
    "# change the release number accordingly\n",
    "full_dataset = pd.read_csv(\n",
    "    f'{preprocessed_dataset_path}/imaging_data/log_file/combined_imaging_full_dataset_release2.csv',\n",
    "    index_col=[0])"
   ]
  },
  {
   "cell_type": "markdown",
   "metadata": {},
   "source": [
    "### batch 1 genetics"
   ]
  },
  {
   "cell_type": "code",
   "execution_count": 27,
   "metadata": {
    "ExecuteTime": {
     "end_time": "2022-06-29T12:43:55.843939Z",
     "start_time": "2022-06-29T12:43:55.305790Z"
    }
   },
   "outputs": [],
   "source": [
    "pheno = 'asd'\n",
    "european_cohort = genetic_file_preprocess.Cohort(\n",
    "    cohort_name='euro',\n",
    "    PRS_file_path=\n",
    "    f'{dataset_path}/PRS/{pheno}/ASD_lifted37_dHCP_merged_cleaned_EUROPEANS.gwas.all.score',\n",
    "    Ancestry_file_path=\n",
    "    f'{dataset_path}/ancestry_PCs/file3_only_europ_pca.eigenvec',\n",
    "    imaging_df=full_dataset)\n",
    "mixed_cohort = genetic_file_preprocess.Cohort(\n",
    "    cohort_name='mixed',\n",
    "    PRS_file_path=\n",
    "    f'{dataset_path}/PRS/{pheno}/ASD_eurold_lifted37_dHCP_merged_cleaned_EUROPEAN_ASIAN.gwas.all.score',\n",
    "    Ancestry_file_path=\n",
    "    f'{dataset_path}/ancestry_PCs/euro_asian_361_file3_pca.eigenvec',\n",
    "    imaging_df=full_dataset)\n",
    "full_cohort = genetic_file_preprocess.Cohort(\n",
    "    cohort_name='full',\n",
    "    PRS_file_path=\n",
    "    f'{dataset_path}/PRS/{pheno}/ASD_eurold_lifted37_dHCP_merged_cleaned_FULL.gwas.all.score',\n",
    "    Ancestry_file_path=f'{dataset_path}/ancestry_PCs/file3_all_pca.eigenvec',\n",
    "    imaging_df=full_dataset)"
   ]
  },
  {
   "cell_type": "code",
   "execution_count": 28,
   "metadata": {},
   "outputs": [],
   "source": [
    "#european_ID and asian_ID\n",
    "european_ID = european_cohort.cohort_data.ID.tolist()\n",
    "asian_ID = [\n",
    "    i for i in mixed_cohort.cohort_data.ID.tolist()\n",
    "    if i not in european_ID\n",
    "]\n",
    "african_ID = [\n",
    "    i for i in full_cohort.cohort_data.ID.tolist()\n",
    "    if (i not in european_ID) and (i not in asian_ID)\n",
    "]\n",
    "cohort_list = pd.DataFrame({'ID':full_cohort.cohort_data.ID.tolist(),\n",
    "             'cohort':['EUR' if i in european_ID else 'ASI' if i in asian_ID else 'AFR' for i in full_cohort.cohort_data.ID.tolist()]})\n",
    "\n",
    "european_cohort.append_cohort_list(cohort_list)\n",
    "mixed_cohort.append_cohort_list(cohort_list)\n",
    "full_cohort.append_cohort_list(cohort_list)"
   ]
  },
  {
   "cell_type": "markdown",
   "metadata": {},
   "source": [
    "### batch 2 genetics"
   ]
  },
  {
   "cell_type": "code",
   "execution_count": 49,
   "metadata": {},
   "outputs": [
    {
     "data": {
      "text/plain": [
       "ID\n",
       "CC00736XX19         NaN\n",
       "CC00798XX24    245400.0\n",
       "CC00737XX20         NaN\n",
       "CC00788XX22         NaN\n",
       "CC00714XX13    240900.0\n",
       "                 ...   \n",
       "CC00477XX16         NaN\n",
       "CC00551XX07         NaN\n",
       "CC00579XX19         NaN\n",
       "CC00663XX12         NaN\n",
       "CC00876XX19         NaN\n",
       "Name: Session_cortical, Length: 685, dtype: float64"
      ]
     },
     "execution_count": 49,
     "metadata": {},
     "output_type": "execute_result"
    }
   ],
   "source": [
    "full_dataset['Session_cortical']"
   ]
  },
  {
   "cell_type": "code",
   "execution_count": 50,
   "metadata": {},
   "outputs": [],
   "source": [
    "full_dataset = full_dataset.rename(columns={'GA_micro':'GA','PMA_micro':'PMA','Session_vol':'Session'})"
   ]
  },
  {
   "cell_type": "code",
   "execution_count": 51,
   "metadata": {},
   "outputs": [],
   "source": [
    "pheno = 'asd'\n",
    "european_cohort = genetic_file_preprocess.Cohort(\n",
    "    cohort_name='euro',\n",
    "    PRS_file_path=\n",
    "    f'{dataset_path}/PRS/{pheno}/ASD_nodups_euro_batch2_genotyped.gwas.all_score',\n",
    "    Ancestry_file_path=\n",
    "    f'{dataset_path}/ancestry_PCs/euro_batch2_genotyped_PCA_result.eigenvec',\n",
    "    imaging_df=full_dataset)\n"
   ]
  },
  {
   "cell_type": "code",
   "execution_count": 52,
   "metadata": {},
   "outputs": [],
   "source": [
    "european_cohort.cohort_data['cohort'] = 'EUR'"
   ]
  },
  {
   "cell_type": "markdown",
   "metadata": {
    "heading_collapsed": true
   },
   "source": [
    "### saving full dataset"
   ]
  },
  {
   "cell_type": "code",
   "execution_count": 18,
   "metadata": {
    "hidden": true
   },
   "outputs": [
    {
     "data": {
      "text/html": [
       "<div>\n",
       "<style scoped>\n",
       "    .dataframe tbody tr th:only-of-type {\n",
       "        vertical-align: middle;\n",
       "    }\n",
       "\n",
       "    .dataframe tbody tr th {\n",
       "        vertical-align: top;\n",
       "    }\n",
       "\n",
       "    .dataframe thead th {\n",
       "        text-align: right;\n",
       "    }\n",
       "</style>\n",
       "<table border=\"1\" class=\"dataframe\">\n",
       "  <thead>\n",
       "    <tr style=\"text-align: right;\">\n",
       "      <th></th>\n",
       "      <th></th>\n",
       "      <th>GA_vol</th>\n",
       "      <th>PMA_vol</th>\n",
       "      <th>cohort</th>\n",
       "    </tr>\n",
       "    <tr>\n",
       "      <th>cohort</th>\n",
       "      <th>termness</th>\n",
       "      <th></th>\n",
       "      <th></th>\n",
       "      <th></th>\n",
       "    </tr>\n",
       "  </thead>\n",
       "  <tbody>\n",
       "    <tr>\n",
       "      <th rowspan=\"3\" valign=\"top\">EUR</th>\n",
       "      <th>preterm</th>\n",
       "      <td>33.000000</td>\n",
       "      <td>34.702381</td>\n",
       "      <td>14</td>\n",
       "    </tr>\n",
       "    <tr>\n",
       "      <th>preterm/term_at_scan</th>\n",
       "      <td>31.875576</td>\n",
       "      <td>36.723502</td>\n",
       "      <td>63</td>\n",
       "    </tr>\n",
       "    <tr>\n",
       "      <th>term</th>\n",
       "      <td>40.114286</td>\n",
       "      <td>41.628000</td>\n",
       "      <td>257</td>\n",
       "    </tr>\n",
       "  </tbody>\n",
       "</table>\n",
       "</div>"
      ],
      "text/plain": [
       "                                GA_vol    PMA_vol  cohort\n",
       "cohort termness                                          \n",
       "EUR    preterm               33.000000  34.702381      14\n",
       "       preterm/term_at_scan  31.875576  36.723502      63\n",
       "       term                  40.114286  41.628000     257"
      ]
     },
     "execution_count": 18,
     "metadata": {},
     "output_type": "execute_result"
    }
   ],
   "source": [
    "pd.pivot_table(european_cohort_batch2.cohort_data,\n",
    "               values=['GA_vol','PMA_vol'],\n",
    "               index=['cohort','termness'],\n",
    "               aggfunc={'cohort':np.count_nonzero,\n",
    "                        'GA_vol':np.mean,\n",
    "                        'PMA_vol':np.mean})"
   ]
  },
  {
   "cell_type": "code",
   "execution_count": 12,
   "metadata": {
    "hidden": true
   },
   "outputs": [
    {
     "data": {
      "text/html": [
       "<div>\n",
       "<style scoped>\n",
       "    .dataframe tbody tr th:only-of-type {\n",
       "        vertical-align: middle;\n",
       "    }\n",
       "\n",
       "    .dataframe tbody tr th {\n",
       "        vertical-align: top;\n",
       "    }\n",
       "\n",
       "    .dataframe thead th {\n",
       "        text-align: right;\n",
       "    }\n",
       "</style>\n",
       "<table border=\"1\" class=\"dataframe\">\n",
       "  <thead>\n",
       "    <tr style=\"text-align: right;\">\n",
       "      <th></th>\n",
       "      <th></th>\n",
       "      <th>GA_vol</th>\n",
       "      <th>PMA_vol</th>\n",
       "      <th>cohort</th>\n",
       "    </tr>\n",
       "    <tr>\n",
       "      <th>cohort</th>\n",
       "      <th>termness</th>\n",
       "      <th></th>\n",
       "      <th></th>\n",
       "      <th></th>\n",
       "    </tr>\n",
       "  </thead>\n",
       "  <tbody>\n",
       "    <tr>\n",
       "      <th rowspan=\"3\" valign=\"top\">AFR</th>\n",
       "      <th>preterm</th>\n",
       "      <td>33.297619</td>\n",
       "      <td>35.238095</td>\n",
       "      <td>12</td>\n",
       "    </tr>\n",
       "    <tr>\n",
       "      <th>preterm/term_at_scan</th>\n",
       "      <td>30.118227</td>\n",
       "      <td>35.532020</td>\n",
       "      <td>29</td>\n",
       "    </tr>\n",
       "    <tr>\n",
       "      <th>term</th>\n",
       "      <td>39.876424</td>\n",
       "      <td>40.744084</td>\n",
       "      <td>163</td>\n",
       "    </tr>\n",
       "    <tr>\n",
       "      <th rowspan=\"3\" valign=\"top\">ASI</th>\n",
       "      <th>preterm</th>\n",
       "      <td>32.214286</td>\n",
       "      <td>34.142857</td>\n",
       "      <td>2</td>\n",
       "    </tr>\n",
       "    <tr>\n",
       "      <th>preterm/term_at_scan</th>\n",
       "      <td>33.571429</td>\n",
       "      <td>35.632653</td>\n",
       "      <td>7</td>\n",
       "    </tr>\n",
       "    <tr>\n",
       "      <th>term</th>\n",
       "      <td>40.042553</td>\n",
       "      <td>41.364742</td>\n",
       "      <td>47</td>\n",
       "    </tr>\n",
       "    <tr>\n",
       "      <th rowspan=\"3\" valign=\"top\">EUR</th>\n",
       "      <th>preterm</th>\n",
       "      <td>32.857143</td>\n",
       "      <td>34.610390</td>\n",
       "      <td>13</td>\n",
       "    </tr>\n",
       "    <tr>\n",
       "      <th>preterm/term_at_scan</th>\n",
       "      <td>31.849351</td>\n",
       "      <td>36.688312</td>\n",
       "      <td>56</td>\n",
       "    </tr>\n",
       "    <tr>\n",
       "      <th>term</th>\n",
       "      <td>40.079515</td>\n",
       "      <td>41.522237</td>\n",
       "      <td>219</td>\n",
       "    </tr>\n",
       "  </tbody>\n",
       "</table>\n",
       "</div>"
      ],
      "text/plain": [
       "                                GA_vol    PMA_vol  cohort\n",
       "cohort termness                                          \n",
       "AFR    preterm               33.297619  35.238095      12\n",
       "       preterm/term_at_scan  30.118227  35.532020      29\n",
       "       term                  39.876424  40.744084     163\n",
       "ASI    preterm               32.214286  34.142857       2\n",
       "       preterm/term_at_scan  33.571429  35.632653       7\n",
       "       term                  40.042553  41.364742      47\n",
       "EUR    preterm               32.857143  34.610390      13\n",
       "       preterm/term_at_scan  31.849351  36.688312      56\n",
       "       term                  40.079515  41.522237     219"
      ]
     },
     "execution_count": 12,
     "metadata": {},
     "output_type": "execute_result"
    }
   ],
   "source": [
    "pd.pivot_table(full_cohort.cohort_data,\n",
    "               values=['GA_vol','PMA_vol'],\n",
    "               index=['cohort','termness'],\n",
    "               aggfunc={'cohort':np.count_nonzero,\n",
    "                        'GA_vol':np.mean,\n",
    "                        'PMA_vol':np.mean})"
   ]
  },
  {
   "cell_type": "code",
   "execution_count": 111,
   "metadata": {
    "deletable": false,
    "editable": false,
    "hidden": true,
    "run_control": {
     "frozen": true
    }
   },
   "outputs": [],
   "source": [
    "full_cohort.cohort_data.to_csv(f'{preprocessed_dataset_path}/imaging_data/log_file/combined_imaging_genetic_pre_outliers_full_dataset.csv')"
   ]
  },
  {
   "cell_type": "code",
   "execution_count": 11,
   "metadata": {
    "hidden": true,
    "scrolled": true
   },
   "outputs": [],
   "source": [
    "# full_dataset.drop(columns=['Session_vol','Session_diff'],inplace=True)\n",
    "# full_dataset = data_preprocessing.move_multiple_columns(full_dataset,cols_to_move=['Gender','GA_diff','PMA_diff'],ref_col='ID',place='After')"
   ]
  },
  {
   "cell_type": "markdown",
   "metadata": {},
   "source": [
    "### Removing outliers"
   ]
  },
  {
   "cell_type": "markdown",
   "metadata": {},
   "source": [
    "Outlier is defined using the Anc PCs. Should I do the this for each dataset or all of them together? Note that the ancestry components for european cohort alone is different from ancestry PCs for european from european and asian cohort mixed"
   ]
  },
  {
   "cell_type": "code",
   "execution_count": 53,
   "metadata": {
    "ExecuteTime": {
     "end_time": "2022-06-29T12:50:59.266563Z",
     "start_time": "2022-06-29T12:50:59.190608Z"
    }
   },
   "outputs": [],
   "source": [
    "european_cohort.volumetric_df = european_cohort.extract_neonates_data(columns=['Imperial 1','termness'],criteria={'termness':'term'},remove_duplicates=True) # other options = preterm/term_at_scan\n",
    "# mixed_cohort.volumetric_df = mixed_cohort.extract_neonates_data(columns=['Imperial 1','termness'],criteria={'termness':'term'},remove_duplicates=True) # other options = preterm/term_at_scan\n",
    "# full_cohort.volumetric_df = full_cohort.extract_neonates_data(columns=['Imperial 1','termness'],criteria={'termness':'term'},remove_duplicates=True) # other options = preterm/term_at_scan"
   ]
  },
  {
   "cell_type": "code",
   "execution_count": 54,
   "metadata": {},
   "outputs": [
    {
     "data": {
      "text/html": [
       "<div>\n",
       "<style scoped>\n",
       "    .dataframe tbody tr th:only-of-type {\n",
       "        vertical-align: middle;\n",
       "    }\n",
       "\n",
       "    .dataframe tbody tr th {\n",
       "        vertical-align: top;\n",
       "    }\n",
       "\n",
       "    .dataframe thead th {\n",
       "        text-align: right;\n",
       "    }\n",
       "</style>\n",
       "<table border=\"1\" class=\"dataframe\">\n",
       "  <thead>\n",
       "    <tr style=\"text-align: right;\">\n",
       "      <th></th>\n",
       "      <th>ID</th>\n",
       "      <th>Session</th>\n",
       "      <th>GA_vol</th>\n",
       "      <th>PMA_vol</th>\n",
       "      <th>17 ICV (all except bone)</th>\n",
       "      <th>17 TOTAL BRAIN TISSUE VOLUME (mm3)</th>\n",
       "      <th>19 Volume Pallidum (Bilateral) AAL, careful with preterm</th>\n",
       "      <th>28 Volume Mesencephalon (right cerebellum) (AAL, careful with preterm!)</th>\n",
       "      <th>28 Volume Mesencephalon (left cerebellum) (AAL, careful with preterm!)</th>\n",
       "      <th>28 Volume Mesencephalon (vermis) (AAL, careful with preterm!)</th>\n",
       "      <th>...</th>\n",
       "      <th>euro_Anc_PC23</th>\n",
       "      <th>euro_Anc_PC24</th>\n",
       "      <th>euro_Anc_PC25</th>\n",
       "      <th>euro_Anc_PC26</th>\n",
       "      <th>euro_Anc_PC27</th>\n",
       "      <th>euro_Anc_PC28</th>\n",
       "      <th>euro_Anc_PC29</th>\n",
       "      <th>euro_Anc_PC30</th>\n",
       "      <th>termness</th>\n",
       "      <th>cohort</th>\n",
       "    </tr>\n",
       "  </thead>\n",
       "  <tbody>\n",
       "    <tr>\n",
       "      <th>320</th>\n",
       "      <td>CC00749XX24</td>\n",
       "      <td>2600.0</td>\n",
       "      <td>40.142857</td>\n",
       "      <td>44.000000</td>\n",
       "      <td>517132.000</td>\n",
       "      <td>425957.875</td>\n",
       "      <td>1457.375</td>\n",
       "      <td>12763.125</td>\n",
       "      <td>12213.750</td>\n",
       "      <td>3459.125</td>\n",
       "      <td>...</td>\n",
       "      <td>-0.036465</td>\n",
       "      <td>-0.006812</td>\n",
       "      <td>-0.041459</td>\n",
       "      <td>0.024776</td>\n",
       "      <td>0.031175</td>\n",
       "      <td>-0.033195</td>\n",
       "      <td>-0.039940</td>\n",
       "      <td>0.021918</td>\n",
       "      <td>term</td>\n",
       "      <td>EUR</td>\n",
       "    </tr>\n",
       "    <tr>\n",
       "      <th>319</th>\n",
       "      <td>CC00803XX11</td>\n",
       "      <td>2700.0</td>\n",
       "      <td>39.000000</td>\n",
       "      <td>40.857143</td>\n",
       "      <td>427069.875</td>\n",
       "      <td>341120.250</td>\n",
       "      <td>1333.125</td>\n",
       "      <td>9084.125</td>\n",
       "      <td>9237.875</td>\n",
       "      <td>2509.250</td>\n",
       "      <td>...</td>\n",
       "      <td>0.034618</td>\n",
       "      <td>-0.004943</td>\n",
       "      <td>0.009847</td>\n",
       "      <td>0.014269</td>\n",
       "      <td>-0.029915</td>\n",
       "      <td>0.010270</td>\n",
       "      <td>-0.060714</td>\n",
       "      <td>-0.053542</td>\n",
       "      <td>term</td>\n",
       "      <td>EUR</td>\n",
       "    </tr>\n",
       "    <tr>\n",
       "      <th>318</th>\n",
       "      <td>CC00818XX18</td>\n",
       "      <td>4020.0</td>\n",
       "      <td>41.142857</td>\n",
       "      <td>42.571429</td>\n",
       "      <td>495226.750</td>\n",
       "      <td>412848.375</td>\n",
       "      <td>1458.875</td>\n",
       "      <td>11586.625</td>\n",
       "      <td>10824.875</td>\n",
       "      <td>3032.875</td>\n",
       "      <td>...</td>\n",
       "      <td>-0.055042</td>\n",
       "      <td>-0.032659</td>\n",
       "      <td>-0.012620</td>\n",
       "      <td>-0.052432</td>\n",
       "      <td>-0.022697</td>\n",
       "      <td>0.017716</td>\n",
       "      <td>-0.048771</td>\n",
       "      <td>-0.007292</td>\n",
       "      <td>term</td>\n",
       "      <td>EUR</td>\n",
       "    </tr>\n",
       "    <tr>\n",
       "      <th>317</th>\n",
       "      <td>CC00815XX15</td>\n",
       "      <td>4120.0</td>\n",
       "      <td>37.714286</td>\n",
       "      <td>42.571429</td>\n",
       "      <td>454489.000</td>\n",
       "      <td>381684.875</td>\n",
       "      <td>1337.125</td>\n",
       "      <td>10101.500</td>\n",
       "      <td>9245.125</td>\n",
       "      <td>2742.250</td>\n",
       "      <td>...</td>\n",
       "      <td>-0.041160</td>\n",
       "      <td>0.034031</td>\n",
       "      <td>0.025565</td>\n",
       "      <td>0.031279</td>\n",
       "      <td>-0.070182</td>\n",
       "      <td>-0.006584</td>\n",
       "      <td>-0.018679</td>\n",
       "      <td>0.034949</td>\n",
       "      <td>term</td>\n",
       "      <td>EUR</td>\n",
       "    </tr>\n",
       "    <tr>\n",
       "      <th>316</th>\n",
       "      <td>CC00766XX16</td>\n",
       "      <td>4200.0</td>\n",
       "      <td>41.857143</td>\n",
       "      <td>42.000000</td>\n",
       "      <td>442639.375</td>\n",
       "      <td>360125.000</td>\n",
       "      <td>1335.375</td>\n",
       "      <td>10410.125</td>\n",
       "      <td>9897.625</td>\n",
       "      <td>2848.625</td>\n",
       "      <td>...</td>\n",
       "      <td>-0.003800</td>\n",
       "      <td>-0.016265</td>\n",
       "      <td>0.032522</td>\n",
       "      <td>-0.041388</td>\n",
       "      <td>-0.002648</td>\n",
       "      <td>-0.029708</td>\n",
       "      <td>-0.002721</td>\n",
       "      <td>-0.021798</td>\n",
       "      <td>term</td>\n",
       "      <td>EUR</td>\n",
       "    </tr>\n",
       "    <tr>\n",
       "      <th>...</th>\n",
       "      <td>...</td>\n",
       "      <td>...</td>\n",
       "      <td>...</td>\n",
       "      <td>...</td>\n",
       "      <td>...</td>\n",
       "      <td>...</td>\n",
       "      <td>...</td>\n",
       "      <td>...</td>\n",
       "      <td>...</td>\n",
       "      <td>...</td>\n",
       "      <td>...</td>\n",
       "      <td>...</td>\n",
       "      <td>...</td>\n",
       "      <td>...</td>\n",
       "      <td>...</td>\n",
       "      <td>...</td>\n",
       "      <td>...</td>\n",
       "      <td>...</td>\n",
       "      <td>...</td>\n",
       "      <td>...</td>\n",
       "      <td>...</td>\n",
       "    </tr>\n",
       "    <tr>\n",
       "      <th>6</th>\n",
       "      <td>CC00685XX18</td>\n",
       "      <td>226100.0</td>\n",
       "      <td>42.000000</td>\n",
       "      <td>43.285714</td>\n",
       "      <td>537297.375</td>\n",
       "      <td>424983.250</td>\n",
       "      <td>1578.250</td>\n",
       "      <td>11117.375</td>\n",
       "      <td>10924.250</td>\n",
       "      <td>3268.750</td>\n",
       "      <td>...</td>\n",
       "      <td>0.016514</td>\n",
       "      <td>0.032285</td>\n",
       "      <td>0.000688</td>\n",
       "      <td>0.028250</td>\n",
       "      <td>0.008809</td>\n",
       "      <td>-0.002242</td>\n",
       "      <td>-0.004925</td>\n",
       "      <td>0.006188</td>\n",
       "      <td>term</td>\n",
       "      <td>EUR</td>\n",
       "    </tr>\n",
       "    <tr>\n",
       "      <th>5</th>\n",
       "      <td>CC00713XX12</td>\n",
       "      <td>229000.0</td>\n",
       "      <td>41.571429</td>\n",
       "      <td>42.857143</td>\n",
       "      <td>550776.125</td>\n",
       "      <td>434524.125</td>\n",
       "      <td>1653.125</td>\n",
       "      <td>11838.125</td>\n",
       "      <td>11960.750</td>\n",
       "      <td>3511.250</td>\n",
       "      <td>...</td>\n",
       "      <td>-0.016212</td>\n",
       "      <td>-0.001274</td>\n",
       "      <td>-0.035562</td>\n",
       "      <td>0.031314</td>\n",
       "      <td>0.023088</td>\n",
       "      <td>-0.000468</td>\n",
       "      <td>-0.025357</td>\n",
       "      <td>0.002550</td>\n",
       "      <td>term</td>\n",
       "      <td>EUR</td>\n",
       "    </tr>\n",
       "    <tr>\n",
       "      <th>2</th>\n",
       "      <td>CC00740XX15</td>\n",
       "      <td>238400.0</td>\n",
       "      <td>39.000000</td>\n",
       "      <td>42.857143</td>\n",
       "      <td>507580.625</td>\n",
       "      <td>407956.000</td>\n",
       "      <td>1489.000</td>\n",
       "      <td>11371.875</td>\n",
       "      <td>11533.250</td>\n",
       "      <td>3620.875</td>\n",
       "      <td>...</td>\n",
       "      <td>-0.100184</td>\n",
       "      <td>-0.145018</td>\n",
       "      <td>0.109709</td>\n",
       "      <td>-0.002595</td>\n",
       "      <td>-0.103956</td>\n",
       "      <td>-0.032194</td>\n",
       "      <td>0.072047</td>\n",
       "      <td>0.067092</td>\n",
       "      <td>term</td>\n",
       "      <td>EUR</td>\n",
       "    </tr>\n",
       "    <tr>\n",
       "      <th>1</th>\n",
       "      <td>CC00777XX19</td>\n",
       "      <td>239102.0</td>\n",
       "      <td>39.714286</td>\n",
       "      <td>42.000000</td>\n",
       "      <td>500955.500</td>\n",
       "      <td>420747.125</td>\n",
       "      <td>1664.000</td>\n",
       "      <td>10856.875</td>\n",
       "      <td>10255.625</td>\n",
       "      <td>2783.500</td>\n",
       "      <td>...</td>\n",
       "      <td>-0.082890</td>\n",
       "      <td>0.083907</td>\n",
       "      <td>-0.249807</td>\n",
       "      <td>-0.038731</td>\n",
       "      <td>0.002003</td>\n",
       "      <td>-0.046144</td>\n",
       "      <td>-0.108383</td>\n",
       "      <td>0.045664</td>\n",
       "      <td>term</td>\n",
       "      <td>EUR</td>\n",
       "    </tr>\n",
       "    <tr>\n",
       "      <th>0</th>\n",
       "      <td>CC00798XX24</td>\n",
       "      <td>245400.0</td>\n",
       "      <td>39.000000</td>\n",
       "      <td>42.000000</td>\n",
       "      <td>564754.625</td>\n",
       "      <td>462612.875</td>\n",
       "      <td>1543.500</td>\n",
       "      <td>11471.750</td>\n",
       "      <td>11288.125</td>\n",
       "      <td>3067.500</td>\n",
       "      <td>...</td>\n",
       "      <td>-0.001272</td>\n",
       "      <td>-0.003007</td>\n",
       "      <td>-0.022648</td>\n",
       "      <td>0.058973</td>\n",
       "      <td>0.029235</td>\n",
       "      <td>-0.002510</td>\n",
       "      <td>-0.007953</td>\n",
       "      <td>-0.043311</td>\n",
       "      <td>term</td>\n",
       "      <td>EUR</td>\n",
       "    </tr>\n",
       "  </tbody>\n",
       "</table>\n",
       "<p>250 rows × 4531 columns</p>\n",
       "</div>"
      ],
      "text/plain": [
       "              ID   Session     GA_vol    PMA_vol  17 ICV (all except bone)  \\\n",
       "320  CC00749XX24    2600.0  40.142857  44.000000                517132.000   \n",
       "319  CC00803XX11    2700.0  39.000000  40.857143                427069.875   \n",
       "318  CC00818XX18    4020.0  41.142857  42.571429                495226.750   \n",
       "317  CC00815XX15    4120.0  37.714286  42.571429                454489.000   \n",
       "316  CC00766XX16    4200.0  41.857143  42.000000                442639.375   \n",
       "..           ...       ...        ...        ...                       ...   \n",
       "6    CC00685XX18  226100.0  42.000000  43.285714                537297.375   \n",
       "5    CC00713XX12  229000.0  41.571429  42.857143                550776.125   \n",
       "2    CC00740XX15  238400.0  39.000000  42.857143                507580.625   \n",
       "1    CC00777XX19  239102.0  39.714286  42.000000                500955.500   \n",
       "0    CC00798XX24  245400.0  39.000000  42.000000                564754.625   \n",
       "\n",
       "     17 TOTAL BRAIN TISSUE VOLUME (mm3)  \\\n",
       "320                          425957.875   \n",
       "319                          341120.250   \n",
       "318                          412848.375   \n",
       "317                          381684.875   \n",
       "316                          360125.000   \n",
       "..                                  ...   \n",
       "6                            424983.250   \n",
       "5                            434524.125   \n",
       "2                            407956.000   \n",
       "1                            420747.125   \n",
       "0                            462612.875   \n",
       "\n",
       "     19 Volume Pallidum (Bilateral) AAL, careful with preterm  \\\n",
       "320                                           1457.375          \n",
       "319                                           1333.125          \n",
       "318                                           1458.875          \n",
       "317                                           1337.125          \n",
       "316                                           1335.375          \n",
       "..                                                 ...          \n",
       "6                                             1578.250          \n",
       "5                                             1653.125          \n",
       "2                                             1489.000          \n",
       "1                                             1664.000          \n",
       "0                                             1543.500          \n",
       "\n",
       "     28 Volume Mesencephalon (right cerebellum) (AAL, careful with preterm!)  \\\n",
       "320                                          12763.125                         \n",
       "319                                           9084.125                         \n",
       "318                                          11586.625                         \n",
       "317                                          10101.500                         \n",
       "316                                          10410.125                         \n",
       "..                                                 ...                         \n",
       "6                                            11117.375                         \n",
       "5                                            11838.125                         \n",
       "2                                            11371.875                         \n",
       "1                                            10856.875                         \n",
       "0                                            11471.750                         \n",
       "\n",
       "     28 Volume Mesencephalon (left cerebellum) (AAL, careful with preterm!)  \\\n",
       "320                                          12213.750                        \n",
       "319                                           9237.875                        \n",
       "318                                          10824.875                        \n",
       "317                                           9245.125                        \n",
       "316                                           9897.625                        \n",
       "..                                                 ...                        \n",
       "6                                            10924.250                        \n",
       "5                                            11960.750                        \n",
       "2                                            11533.250                        \n",
       "1                                            10255.625                        \n",
       "0                                            11288.125                        \n",
       "\n",
       "     28 Volume Mesencephalon (vermis) (AAL, careful with preterm!)  ...  \\\n",
       "320                                           3459.125              ...   \n",
       "319                                           2509.250              ...   \n",
       "318                                           3032.875              ...   \n",
       "317                                           2742.250              ...   \n",
       "316                                           2848.625              ...   \n",
       "..                                                 ...              ...   \n",
       "6                                             3268.750              ...   \n",
       "5                                             3511.250              ...   \n",
       "2                                             3620.875              ...   \n",
       "1                                             2783.500              ...   \n",
       "0                                             3067.500              ...   \n",
       "\n",
       "     euro_Anc_PC23  euro_Anc_PC24  euro_Anc_PC25  euro_Anc_PC26  \\\n",
       "320      -0.036465      -0.006812      -0.041459       0.024776   \n",
       "319       0.034618      -0.004943       0.009847       0.014269   \n",
       "318      -0.055042      -0.032659      -0.012620      -0.052432   \n",
       "317      -0.041160       0.034031       0.025565       0.031279   \n",
       "316      -0.003800      -0.016265       0.032522      -0.041388   \n",
       "..             ...            ...            ...            ...   \n",
       "6         0.016514       0.032285       0.000688       0.028250   \n",
       "5        -0.016212      -0.001274      -0.035562       0.031314   \n",
       "2        -0.100184      -0.145018       0.109709      -0.002595   \n",
       "1        -0.082890       0.083907      -0.249807      -0.038731   \n",
       "0        -0.001272      -0.003007      -0.022648       0.058973   \n",
       "\n",
       "     euro_Anc_PC27  euro_Anc_PC28  euro_Anc_PC29  euro_Anc_PC30  termness  \\\n",
       "320       0.031175      -0.033195      -0.039940       0.021918      term   \n",
       "319      -0.029915       0.010270      -0.060714      -0.053542      term   \n",
       "318      -0.022697       0.017716      -0.048771      -0.007292      term   \n",
       "317      -0.070182      -0.006584      -0.018679       0.034949      term   \n",
       "316      -0.002648      -0.029708      -0.002721      -0.021798      term   \n",
       "..             ...            ...            ...            ...       ...   \n",
       "6         0.008809      -0.002242      -0.004925       0.006188      term   \n",
       "5         0.023088      -0.000468      -0.025357       0.002550      term   \n",
       "2        -0.103956      -0.032194       0.072047       0.067092      term   \n",
       "1         0.002003      -0.046144      -0.108383       0.045664      term   \n",
       "0         0.029235      -0.002510      -0.007953      -0.043311      term   \n",
       "\n",
       "     cohort  \n",
       "320     EUR  \n",
       "319     EUR  \n",
       "318     EUR  \n",
       "317     EUR  \n",
       "316     EUR  \n",
       "..      ...  \n",
       "6       EUR  \n",
       "5       EUR  \n",
       "2       EUR  \n",
       "1       EUR  \n",
       "0       EUR  \n",
       "\n",
       "[250 rows x 4531 columns]"
      ]
     },
     "execution_count": 54,
     "metadata": {},
     "output_type": "execute_result"
    }
   ],
   "source": [
    "european_cohort.volumetric_df"
   ]
  },
  {
   "cell_type": "code",
   "execution_count": 17,
   "metadata": {
    "ExecuteTime": {
     "end_time": "2022-06-29T12:52:17.334866Z",
     "start_time": "2022-06-29T12:52:17.318877Z"
    }
   },
   "outputs": [
    {
     "name": "stdout",
     "output_type": "stream",
     "text": [
      "available number of subjects in each dataset before removing outliers\n"
     ]
    },
    {
     "data": {
      "text/html": [
       "<div>\n",
       "<style scoped>\n",
       "    .dataframe tbody tr th:only-of-type {\n",
       "        vertical-align: middle;\n",
       "    }\n",
       "\n",
       "    .dataframe tbody tr th {\n",
       "        vertical-align: top;\n",
       "    }\n",
       "\n",
       "    .dataframe thead th {\n",
       "        text-align: right;\n",
       "    }\n",
       "</style>\n",
       "<table border=\"1\" class=\"dataframe\">\n",
       "  <thead>\n",
       "    <tr style=\"text-align: right;\">\n",
       "      <th></th>\n",
       "      <th>Dataset</th>\n",
       "      <th>euro_number</th>\n",
       "    </tr>\n",
       "  </thead>\n",
       "  <tbody>\n",
       "    <tr>\n",
       "      <th>0</th>\n",
       "      <td>Vol</td>\n",
       "      <td>55</td>\n",
       "    </tr>\n",
       "    <tr>\n",
       "      <th>1</th>\n",
       "      <td>Diff</td>\n",
       "      <td>44</td>\n",
       "    </tr>\n",
       "    <tr>\n",
       "      <th>2</th>\n",
       "      <td>Micro</td>\n",
       "      <td>35</td>\n",
       "    </tr>\n",
       "  </tbody>\n",
       "</table>\n",
       "</div>"
      ],
      "text/plain": [
       "  Dataset  euro_number\n",
       "0     Vol           55\n",
       "1    Diff           44\n",
       "2   Micro           35"
      ]
     },
     "execution_count": 17,
     "metadata": {},
     "output_type": "execute_result"
    }
   ],
   "source": [
    "print('available number of subjects in each dataset before removing outliers')\n",
    "pd.DataFrame({\n",
    "    'Dataset': ['Vol', 'Diff', 'Micro'],\n",
    "    'euro_number': [\n",
    "        european_cohort.volumetric_df.shape[0],\n",
    "        european_cohort.diffusion_df.shape[0],\n",
    "        european_cohort.micro_df.shape[0]]\n",
    "#     ],\n",
    "#     'mixed_number': [\n",
    "#         mixed_cohort.volumetric_df.shape[0],\n",
    "#         mixed_cohort.diffusion_df.shape[0],\n",
    "#         mixed_cohort.micro_df.shape[0]\n",
    "#     ],\n",
    "#     'full_number': [\n",
    "#         full_cohort.volumetric_df.shape[0],\n",
    "#         full_cohort.diffusion_df.shape[0],\n",
    "#         full_cohort.micro_df.shape[0]\n",
    "#     ]\n",
    "})"
   ]
  },
  {
   "cell_type": "markdown",
   "metadata": {},
   "source": [
    "Outliers are defined if they have more than 3.5 standard deviation on the AncPC2 and AncPC3"
   ]
  },
  {
   "cell_type": "code",
   "execution_count": 12,
   "metadata": {},
   "outputs": [
    {
     "data": {
      "image/png": "[encoded data removed]",
      "text/plain": [
       "<Figure size 432x288 with 1 Axes>"
      ]
     },
     "metadata": {
      "needs_background": "light"
     },
     "output_type": "display_data"
    }
   ],
   "source": [
    "european_cohort.volumetric_df, _ = genetic_file_preprocess.Cohort.remove_outliers(\n",
    "    european_cohort.volumetric_df,\n",
    "    to_examine=['euro_Anc_PC2', 'euro_Anc_PC3'],hue='cohort',\n",
    "    to_annotate='ID')"
   ]
  },
  {
   "cell_type": "code",
   "execution_count": 32,
   "metadata": {
    "ExecuteTime": {
     "end_time": "2022-06-29T12:52:22.669694Z",
     "start_time": "2022-06-29T12:52:20.845672Z"
    }
   },
   "outputs": [
    {
     "data": {
      "image/png": "[encoded data removed]",
      "text/plain": [
       "<Figure size 432x288 with 1 Axes>"
      ]
     },
     "metadata": {
      "needs_background": "light"
     },
     "output_type": "display_data"
    },
    {
     "data": {
      "image/png": "[encoded data removed]",
      "text/plain": [
       "<Figure size 432x288 with 1 Axes>"
      ]
     },
     "metadata": {
      "needs_background": "light"
     },
     "output_type": "display_data"
    },
    {
     "data": {
      "image/png": "[encoded data removed]",
      "text/plain": [
       "<Figure size 432x288 with 1 Axes>"
      ]
     },
     "metadata": {
      "needs_background": "light"
     },
     "output_type": "display_data"
    }
   ],
   "source": [
    "european_cohort.volumetric_df, _ = genetic_file_preprocess.Cohort.remove_outliers(\n",
    "    european_cohort.volumetric_df,\n",
    "    to_examine=['euro_Anc_PC2', 'euro_Anc_PC3'],hue='cohort',\n",
    "    to_annotate='ID')\n",
    "\n",
    "mixed_cohort.volumetric_df, _ = genetic_file_preprocess.Cohort.remove_outliers(\n",
    "    mixed_cohort.volumetric_df,\n",
    "    to_examine=['mixed_Anc_PC4', 'mixed_Anc_PC5'],hue='cohort',\n",
    "    to_annotate='ID')\n",
    "\n",
    "full_cohort.volumetric_df, _ = genetic_file_preprocess.Cohort.remove_outliers(\n",
    "    full_cohort.volumetric_df,\n",
    "    to_examine=['full_Anc_PC7', 'full_Anc_PC8'],hue='cohort',\n",
    "    to_annotate='ID')"
   ]
  },
  {
   "cell_type": "code",
   "execution_count": 16,
   "metadata": {
    "scrolled": true
   },
   "outputs": [
    {
     "data": {
      "image/png": "[encoded data removed]",
      "text/plain": [
       "<Figure size 432x288 with 1 Axes>"
      ]
     },
     "metadata": {
      "needs_background": "light"
     },
     "output_type": "display_data"
    },
    {
     "data": {
      "image/png": "[encoded data removed]",
      "text/plain": [
       "<Figure size 432x288 with 1 Axes>"
      ]
     },
     "metadata": {
      "needs_background": "light"
     },
     "output_type": "display_data"
    }
   ],
   "source": [
    "# european_cohort.diffusion_df, _ = genetic_file_preprocess.Cohort.remove_outliers(european_cohort.diffusion_df,\n",
    "#                                             ancestry_PCs=['euro_Anc_PC2','euro_Anc_PC3'])\n",
    "mixed_cohort.diffusion_df, _ = genetic_file_preprocess.Cohort.remove_outliers(mixed_cohort.diffusion_df,\n",
    "                                                     ancestry_PCs=['mixed_Anc_PC4','mixed_Anc_PC5'])\n",
    "full_cohort.diffusion_df, _ = genetic_file_preprocess.Cohort.remove_outliers(full_cohort.diffusion_df,\n",
    "                                                     ancestry_PCs=['full_Anc_PC7','full_Anc_PC8'])"
   ]
  },
  {
   "cell_type": "markdown",
   "metadata": {},
   "source": [
    "### saving preprocessed data without outliers"
   ]
  },
  {
   "cell_type": "code",
   "execution_count": 12,
   "metadata": {},
   "outputs": [],
   "source": [
    "european_cohort.diffusion_df.to_csv(f'{preprocessed_dataset_path}/imaging_data/diffusion/term/european_diffusion_df.csv')\n",
    "# mixed_cohort.diffusion_df.to_csv(f'{preprocessed_dataset_path}/imaging_data/diffusion/term/mixed_diffusion_df.csv')\n",
    "# full_cohort.diffusion_df.to_csv(f'{preprocessed_dataset_path}/imaging_data/diffusion/term/full_diffusion_df.csv')\n",
    "\n",
    "# european_volumetric_term_dataset.to_csv('./preprocessed_data/volumetric/term/european_volumetric_term_dataset.csv',index=False)\n",
    "# european_microstructure_term_dataset.to_csv('./preprocessed_data/microstructure/term/european_microstructure_term_dataset.csv',index=False)\n",
    "\n",
    "\n",
    "# mixed_diffusion_term_dataset.to_csv('./preprocessed_data/diffusion/term/mixed_diffusion_term_dataset.csv',index=False)\n",
    "# mixed_volumetric_term_dataset.to_csv('./preprocessed_data/volumetric/term/mixed_volumetric_term_dataset.csv',index=False)\n",
    "# mixed_microstructure_term_dataset.to_csv('./preprocessed_data/microstructure/term/mixed_microstructure_term_dataset.csv',index=False)\n",
    "\n",
    "# full_cohort_diffusion_term_dataset.to_csv('./preprocessed_data/diffusion/term/full_cohort_diffusion_term_dataset.csv',index=False)\n",
    "# full_cohort_volumetric_term_dataset.to_csv('./preprocessed_data/volumetric/term/full_cohort_volumetric_term_dataset.csv',index=False)\n",
    "# full_cohort_microstructure_term_dataset.to_csv('./preprocessed_data/microstructure/term/full_cohort_microstructure_term_dataset.csv',index=False)\n"
   ]
  },
  {
   "cell_type": "code",
   "execution_count": 19,
   "metadata": {},
   "outputs": [],
   "source": [
    "european_cohort.volumetric_df.to_csv(f'{preprocessed_dataset_path}/imaging_data/volumetric/preterm/european_volumetric_df.csv')\n",
    "# mixed_cohort.volumetric_df.to_csv(f'{preprocessed_dataset_path}/imaging_data/volumetric/term/mixed_volumetric_df.csv')"
   ]
  },
  {
   "cell_type": "code",
   "execution_count": 17,
   "metadata": {},
   "outputs": [],
   "source": [
    "mixed_cohort.volumetric_df.to_csv(f'{preprocessed_dataset_path}/imaging_data/volumetric/term/mixed_volumetric_df.csv')"
   ]
  },
  {
   "cell_type": "code",
   "execution_count": 11,
   "metadata": {},
   "outputs": [],
   "source": [
    "european_cohort_batch2.volumetric_df.to_csv(f'{preprocessed_dataset_path}/imaging_data/volumetric/term/european_volumetric_df_batch2.csv')"
   ]
  },
  {
   "cell_type": "code",
   "execution_count": 14,
   "metadata": {},
   "outputs": [],
   "source": [
    "european_cohort.volumetric_df.to_csv(f'{preprocessed_dataset_path}/asd/rel3_batch2/volumetric/european_cohort_term_volumetric_rel3_batch2.csv')"
   ]
  },
  {
   "cell_type": "code",
   "execution_count": null,
   "metadata": {},
   "outputs": [],
   "source": []
  }
 ],
 "metadata": {
  "hide_input": false,
  "kernelspec": {
   "display_name": "Python 3 (ipykernel)",
   "language": "python",
   "name": "python3"
  },
  "language_info": {
   "codemirror_mode": {
    "name": "ipython",
    "version": 3
   },
   "file_extension": ".py",
   "mimetype": "text/x-python",
   "name": "python",
   "nbconvert_exporter": "python",
   "pygments_lexer": "ipython3",
   "version": "3.9.12"
  },
  "varInspector": {
   "cols": {
    "lenName": 16,
    "lenType": 16,
    "lenVar": 40
   },
   "kernels_config": {
    "python": {
     "delete_cmd_postfix": "",
     "delete_cmd_prefix": "del ",
     "library": "var_list.py",
     "varRefreshCmd": "print(var_dic_list())"
    },
    "r": {
     "delete_cmd_postfix": ") ",
     "delete_cmd_prefix": "rm(",
     "library": "var_list.r",
     "varRefreshCmd": "cat(var_dic_list()) "
    }
   },
   "types_to_exclude": [
    "module",
    "function",
    "builtin_function_or_method",
    "instance",
    "_Feature"
   ],
   "window_display": false
  }
 },
 "nbformat": 4,
 "nbformat_minor": 2
}
