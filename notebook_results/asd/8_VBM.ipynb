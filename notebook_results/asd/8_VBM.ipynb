{
 "cells": [
  {
   "cell_type": "code",
   "execution_count": 1,
   "id": "b40a00f1",
   "metadata": {},
   "outputs": [],
   "source": [
    "import sys\n",
    "sys.path.append('../../')"
   ]
  },
  {
   "cell_type": "code",
   "execution_count": 2,
   "id": "10510ed0",
   "metadata": {},
   "outputs": [],
   "source": [
    "preprocessed_dataset_path = 'preprocessed_dataset/'"
   ]
  },
  {
   "cell_type": "code",
   "execution_count": 3,
   "id": "049e2ca0",
   "metadata": {},
   "outputs": [],
   "source": [
    "from codes.docs.analysis.nimagen import stats, visualisation, graph\n",
    "from codes.docs.analysis import data_preprocessing, genetic_file_preprocess"
   ]
  },
  {
   "cell_type": "code",
   "execution_count": 4,
   "id": "ba100b44",
   "metadata": {},
   "outputs": [],
   "source": [
    "# from codes.docs.analysis import data_preprocessing, data_exploration, visualisation, model_training\n",
    "# from codes.docs.analysis.gene_analysis import genetic_file_preprocess\n",
    "# from codes.docs.analysis.MLtraining import ML_utils\n",
    "# from codes.docs.analysis import graph_analysis"
   ]
  },
  {
   "cell_type": "code",
   "execution_count": 5,
   "id": "e0f93be7",
   "metadata": {},
   "outputs": [],
   "source": [
    "import matplotlib.pyplot as plt\n",
    "import seaborn as sns\n",
    "import numpy as np\n",
    "from sklearn.model_selection import train_test_split\n",
    "from sklearn.preprocessing import StandardScaler\n",
    "from collections import defaultdict\n",
    "%matplotlib inline\n",
    "import tqdm\n",
    "\n",
    "import statsmodels.api as sm\n",
    "import statsmodels.formula.api as sfm\n",
    "\n",
    "from scipy.stats import ttest_ind, pearsonr,zscore\n",
    "import pandas as pd\n",
    "import re\n",
    "\n"
   ]
  },
  {
   "cell_type": "markdown",
   "id": "d189e421",
   "metadata": {},
   "source": [
    "Here, the volumetric dataset is preprocessed to group the same brain regions.\\\n",
    "Then mass univariate test is preformed, across multiple regions."
   ]
  },
  {
   "cell_type": "markdown",
   "id": "aee8ccee",
   "metadata": {},
   "source": [
    "# Main analysis"
   ]
  },
  {
   "cell_type": "code",
   "execution_count": 6,
   "id": "fb517380",
   "metadata": {},
   "outputs": [],
   "source": [
    "european_volumetric_dataset_term = pd.read_csv('../../dataset/preprocessed_dataset/imaging_data/log_file/rel3/volumetric/european_volumetric_df_rel3_batch2.csv')"
   ]
  },
  {
   "cell_type": "code",
   "execution_count": 7,
   "id": "2b01f989",
   "metadata": {},
   "outputs": [],
   "source": [
    "european_volumetric_dataset_term = european_volumetric_dataset_term[(european_volumetric_dataset_term['radiology_score']<5)&(european_volumetric_dataset_term['radiology_low_image_quality']==False)]"
   ]
  },
  {
   "cell_type": "markdown",
   "id": "390a74e6",
   "metadata": {},
   "source": [
    "`european_volumetric_dataset_term` has 279 observations (after removal of low image quality and radiology score)"
   ]
  },
  {
   "cell_type": "code",
   "execution_count": 27,
   "id": "1f58be90",
   "metadata": {},
   "outputs": [],
   "source": [
    "df = european_volumetric_dataset_term.copy()\n",
    "\n",
    "ancestry = [f'euro_Anc_PC{i}'\n",
    "            for i in range(1, 4)]  # remove any ancestry outliers\n",
    "\n",
    "df = stats.MassUnivariate.remove_outliers(\n",
    "    df,\n",
    "    col=ancestry,\n",
    "    threshold=3.5,\n",
    "    remove_schemes='any',\n",
    "    percentage_of_outlier=0.1)"
   ]
  },
  {
   "cell_type": "code",
   "execution_count": 28,
   "id": "32c73d17",
   "metadata": {},
   "outputs": [],
   "source": [
    "batch2_ASD_PRS = genetic_file_preprocess.Cohort.preprocess_PRSice_PRS_Anc_files('../../codes/gene_set/PRSice/output/asd/ASD.all_score',column_prefix='ASD_PRS_')"
   ]
  },
  {
   "cell_type": "code",
   "execution_count": 29,
   "id": "aff8d550",
   "metadata": {},
   "outputs": [],
   "source": [
    "df = df.drop(columns=[i for i in df.columns if 'ASD' in i])\n",
    "df = df.merge(batch2_ASD_PRS,on='ID',how='left')"
   ]
  },
  {
   "cell_type": "code",
   "execution_count": 30,
   "id": "c6f071db",
   "metadata": {},
   "outputs": [],
   "source": [
    "pca, prs_pca, loading_matrix = stats.FeatureReduction.perform_PCA(df,\n",
    "                                                                dependentVar_cols=[i for i in df.columns if 'ASD_PRS' in i],scaling=True,n_components=1)\n",
    "\n",
    "df['PRS_pca'] = prs_pca"
   ]
  },
  {
   "cell_type": "code",
   "execution_count": 31,
   "id": "d48cffa5",
   "metadata": {},
   "outputs": [],
   "source": [
    "df['ID/Session'] = 'sub-'+df['ID']+'/'+'ses-'+df['Session'].astype('str')"
   ]
  },
  {
   "cell_type": "code",
   "execution_count": 35,
   "id": "01a8cd84",
   "metadata": {},
   "outputs": [],
   "source": [
    "df[['ID/Session','sex','GA','PMA','TBV','PRS_pca']+ancestry].to_csv('../../codes/DrawEMVol/available_subjects_ASDPRSPCA.csv',index=False,header=False)"
   ]
  },
  {
   "cell_type": "code",
   "execution_count": null,
   "id": "632b7dd3",
   "metadata": {},
   "outputs": [],
   "source": []
  }
 ],
 "metadata": {
  "kernelspec": {
   "display_name": "Python 3 (ipykernel)",
   "language": "python",
   "name": "python3"
  },
  "language_info": {
   "codemirror_mode": {
    "name": "ipython",
    "version": 3
   },
   "file_extension": ".py",
   "mimetype": "text/x-python",
   "name": "python",
   "nbconvert_exporter": "python",
   "pygments_lexer": "ipython3",
   "version": "3.9.13"
  }
 },
 "nbformat": 4,
 "nbformat_minor": 5
}
