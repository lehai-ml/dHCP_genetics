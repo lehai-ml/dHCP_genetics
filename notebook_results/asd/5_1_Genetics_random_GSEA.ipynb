{
 "cells": [
  {
   "cell_type": "code",
   "execution_count": 1,
   "id": "d1a195f2",
   "metadata": {},
   "outputs": [],
   "source": [
    "import sys\n",
    "sys.path.append('../../')\n",
    "sys.path.append('../')\n",
    "\n",
    "\n",
    "import pandas as pd\n",
    "import numpy as np\n",
    "\n",
    "from codes.docs.analysis.nimagen import stats, visualisation, graph,genes\n",
    "from codes.docs.analysis import data_preprocessing, genetic_file_preprocess"
   ]
  },
  {
   "cell_type": "code",
   "execution_count": 46,
   "id": "b464a84c",
   "metadata": {},
   "outputs": [],
   "source": [
    "from joblib import Parallel, delayed\n",
    "import time\n",
    "import tqdm\n",
    "import glob"
   ]
  },
  {
   "cell_type": "code",
   "execution_count": 30,
   "id": "a2d64936",
   "metadata": {},
   "outputs": [],
   "source": [
    "def my_function(x):\n",
    "    # Your function code here\n",
    "    time.sleep(5)\n",
    "    with open(\"output.txt\", \"a\") as f:\n",
    "        f.write(f\"Result for x={x}: {x + 1}\\n\")"
   ]
  },
  {
   "cell_type": "code",
   "execution_count": 35,
   "id": "1c7ba282",
   "metadata": {},
   "outputs": [],
   "source": [
    "snp_file = pd.read_table('../../dataset/SNPs/asd/ASD.snp')\n",
    "best_SNPs=genes.SNPsFunctionalAnalysis.get_the_best_SNPs(snp_file,threshold=0.05)"
   ]
  },
  {
   "cell_type": "code",
   "execution_count": 40,
   "id": "855475af",
   "metadata": {},
   "outputs": [],
   "source": [
    "def create_random_genesets(job):\n",
    "    random_SNPs = best_SNPs.sample(643)\n",
    "    random_SNPs_annot = genes.SNPsFunctionalAnalysis(\n",
    "        snps_list=random_SNPs.SNP.to_list(),\n",
    "        bed_file=\n",
    "        '../../dataset/genetic_dataset/target_files/batch2/euro_batch2_genotyped.bed'\n",
    "    )\n",
    "    random_SNPs_annot.genes_ID, random_SNPs_annot.snp_ID = random_SNPs_annot.SNPs_annotation_to_gene(\n",
    "        snps_list=random_SNPs.SNP.tolist(),\n",
    "        gene_build_path=\n",
    "        f'../../dataset/genetic_dataset/gene_build/NCBI37.3.gene.loc',\n",
    "        window_size=0)\n",
    "    random_SNPs_annot.genes_ID[['Gene_ID']].to_csv(\n",
    "        f'../../dataset/preprocessed_dataset/asd/GSEA/random/random_genes_all{job}.txt',\n",
    "        header=False,\n",
    "        index=False,\n",
    "        sep=' ')"
   ]
  },
  {
   "cell_type": "code",
   "execution_count": 66,
   "id": "1a07282e",
   "metadata": {},
   "outputs": [],
   "source": [
    "def generate_best_enriched_path(job):\n",
    "    msigdb_dataset ='../../dataset/genetic_dataset/pathway_database/MSigDB/MSigDB_custom_entrez.gmt'\n",
    "    background_gene = '../../dataset/genetic_dataset/gene_build/NCBI37_gene_loc.txt'\n",
    "    gene_job = f'../../dataset/preprocessed_dataset/asd/GSEA/random/random_genes_all{job}.txt'\n",
    "    res = genes.GeneSetEnrichment.ora(msigdb_dataset,background_gene,gene_job,disable_tqdm=True)\n",
    "    res['run'] = job\n",
    "    res = res.sort_values(by='adjP')\n",
    "    output_file = '../../dataset/preprocessed_dataset/asd/GSEA/random/random_enriched_paths.csv'\n",
    "    if not os.path.isfile(output_file):\n",
    "        res.head(3).to_csv(output_file, header='column_names')\n",
    "    else: # else it exists so append without writing the header\n",
    "        res.head(3).to_csv(output_file, mode='a', header=False)\n",
    "    "
   ]
  },
  {
   "cell_type": "code",
   "execution_count": 44,
   "id": "af30f39e",
   "metadata": {},
   "outputs": [
    {
     "name": "stderr",
     "output_type": "stream",
     "text": [
      "100%|███████████████████████████████████████████| 70/70 [01:00<00:00,  1.15it/s]\n"
     ]
    },
    {
     "name": "stdout",
     "output_type": "stream",
     "text": [
      "67.95244216918945\n"
     ]
    }
   ],
   "source": [
    "start=time.time()\n",
    "tasks = [delayed(create_random_genesets)(i) for i in range(30,100)]\n",
    "Parallel(n_jobs=-1)(tqdm.tqdm(tasks))\n",
    "end = time.time()\n",
    "print((end-start))"
   ]
  },
  {
   "cell_type": "code",
   "execution_count": 67,
   "id": "ca94a6d0",
   "metadata": {},
   "outputs": [
    {
     "name": "stderr",
     "output_type": "stream",
     "text": [
      "100%|████████████████████████████████████████████| 3/3 [00:00<00:00, 763.99it/s]\n"
     ]
    },
    {
     "name": "stdout",
     "output_type": "stream",
     "text": [
      "126.59573197364807\n"
     ]
    }
   ],
   "source": [
    "start=time.time()\n",
    "tasks = [delayed(generate_best_enriched_path)(i) for i in range(0,3)]\n",
    "Parallel(n_jobs=-1)(tqdm.tqdm(tasks))\n",
    "end = time.time()\n",
    "print((end-start))"
   ]
  },
  {
   "cell_type": "code",
   "execution_count": 43,
   "id": "6c7255ed",
   "metadata": {},
   "outputs": [
    {
     "name": "stderr",
     "output_type": "stream",
     "text": [
      "100%|███████████████████████████████████████████| 10/10 [00:18<00:00,  1.87s/it]"
     ]
    },
    {
     "name": "stdout",
     "output_type": "stream",
     "text": [
      "18.75246286392212\n"
     ]
    },
    {
     "name": "stderr",
     "output_type": "stream",
     "text": [
      "\n"
     ]
    }
   ],
   "source": [
    "start=time.time()\n",
    "results=[]\n",
    "for i in tqdm.tqdm(range(20,30)):\n",
    "    create_random_genesets(i)\n",
    "end = time.time()\n",
    "print((end-start))"
   ]
  }
 ],
 "metadata": {
  "hide_input": false,
  "kernelspec": {
   "display_name": "Python 3 (ipykernel)",
   "language": "python",
   "name": "python3"
  },
  "language_info": {
   "codemirror_mode": {
    "name": "ipython",
    "version": 3
   },
   "file_extension": ".py",
   "mimetype": "text/x-python",
   "name": "python",
   "nbconvert_exporter": "python",
   "pygments_lexer": "ipython3",
   "version": "3.9.12"
  }
 },
 "nbformat": 4,
 "nbformat_minor": 5
}
