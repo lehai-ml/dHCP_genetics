{
 "cells": [
  {
   "cell_type": "code",
   "execution_count": 1,
   "id": "47fc2d39",
   "metadata": {},
   "outputs": [],
   "source": [
    "import sys\n",
    "sys.path.append('../../')\n",
    "sys.path.append('../')\n",
    "\n",
    "\n",
    "import pandas as pd\n",
    "import numpy as np\n",
    "\n",
    "from codes.docs.analysis.nimagen import stats, visualisation, graph,genes\n",
    "from codes.docs.analysis import data_preprocessing, genetic_file_preprocess"
   ]
  },
  {
   "cell_type": "code",
   "execution_count": 28,
   "id": "404c25bf",
   "metadata": {},
   "outputs": [],
   "source": [
    "from joblib import Parallel, delayed\n",
    "import time\n",
    "import tqdm"
   ]
  },
  {
   "cell_type": "code",
   "execution_count": 30,
   "id": "9a21eb14",
   "metadata": {},
   "outputs": [],
   "source": [
    "def my_function(x):\n",
    "    # Your function code here\n",
    "    time.sleep(5)\n",
    "    with open(\"output.txt\", \"a\") as f:\n",
    "        f.write(f\"Result for x={x}: {x + 1}\\n\")"
   ]
  },
  {
   "cell_type": "code",
   "execution_count": 35,
   "id": "bb521444",
   "metadata": {},
   "outputs": [],
   "source": [
    "snp_file = pd.read_table('../../dataset/SNPs/asd/ASD.snp')\n",
    "best_SNPs=genes.SNPsFunctionalAnalysis.get_the_best_SNPs(snp_file,threshold=0.05)"
   ]
  },
  {
   "cell_type": "code",
   "execution_count": 40,
   "id": "322f5332",
   "metadata": {},
   "outputs": [],
   "source": [
    "def create_random_genesets(job):\n",
    "    random_SNPs = best_SNPs.sample(643)\n",
    "    random_SNPs_annot = genes.SNPsFunctionalAnalysis(\n",
    "        snps_list=random_SNPs.SNP.to_list(),\n",
    "        bed_file=\n",
    "        '../../dataset/genetic_dataset/target_files/batch2/euro_batch2_genotyped.bed'\n",
    "    )\n",
    "    random_SNPs_annot.genes_ID, random_SNPs_annot.snp_ID = random_SNPs_annot.SNPs_annotation_to_gene(\n",
    "        snps_list=random_SNPs.SNP.tolist(),\n",
    "        gene_build_path=\n",
    "        f'../../dataset/genetic_dataset/gene_build/NCBI37.3.gene.loc',\n",
    "        window_size=0)\n",
    "    random_SNPs_annot.genes_ID[['Gene_ID']].to_csv(\n",
    "        f'../../dataset/preprocessed_dataset/asd/GSEA/random/random_genes_all{job}.txt',\n",
    "        header=False,\n",
    "        index=False,\n",
    "        sep=' ')"
   ]
  },
  {
   "cell_type": "code",
   "execution_count": 44,
   "id": "cec49574",
   "metadata": {},
   "outputs": [
    {
     "name": "stderr",
     "output_type": "stream",
     "text": [
      "100%|███████████████████████████████████████████| 70/70 [01:00<00:00,  1.15it/s]\n"
     ]
    },
    {
     "name": "stdout",
     "output_type": "stream",
     "text": [
      "67.95244216918945\n"
     ]
    }
   ],
   "source": [
    "start=time.time()\n",
    "tasks = [delayed(create_random_genesets)(i) for i in range(30,100)]\n",
    "Parallel(n_jobs=-1)(tqdm.tqdm(tasks))\n",
    "end = time.time()\n",
    "print((end-start))"
   ]
  },
  {
   "cell_type": "code",
   "execution_count": 43,
   "id": "875ccd7b",
   "metadata": {},
   "outputs": [
    {
     "name": "stderr",
     "output_type": "stream",
     "text": [
      "100%|███████████████████████████████████████████| 10/10 [00:18<00:00,  1.87s/it]"
     ]
    },
    {
     "name": "stdout",
     "output_type": "stream",
     "text": [
      "18.75246286392212\n"
     ]
    },
    {
     "name": "stderr",
     "output_type": "stream",
     "text": [
      "\n"
     ]
    }
   ],
   "source": [
    "start=time.time()\n",
    "results=[]\n",
    "for i in tqdm.tqdm(range(20,30)):\n",
    "    create_random_genesets(i)\n",
    "end = time.time()\n",
    "print((end-start))"
   ]
  },
  {
   "cell_type": "code",
   "execution_count": 45,
   "id": "474330d5",
   "metadata": {},
   "outputs": [
    {
     "data": {
      "text/plain": [
       "130.9"
      ]
     },
     "execution_count": 45,
     "metadata": {},
     "output_type": "execute_result"
    }
   ],
   "source": [
    "1.87*70"
   ]
  },
  {
   "cell_type": "code",
   "execution_count": null,
   "id": "3eaa1887",
   "metadata": {},
   "outputs": [],
   "source": []
  }
 ],
 "metadata": {
  "hide_input": false,
  "kernelspec": {
   "display_name": "Python 3 (ipykernel)",
   "language": "python",
   "name": "python3"
  },
  "language_info": {
   "codemirror_mode": {
    "name": "ipython",
    "version": 3
   },
   "file_extension": ".py",
   "mimetype": "text/x-python",
   "name": "python",
   "nbconvert_exporter": "python",
   "pygments_lexer": "ipython3",
   "version": "3.9.12"
  }
 },
 "nbformat": 4,
 "nbformat_minor": 5
}
