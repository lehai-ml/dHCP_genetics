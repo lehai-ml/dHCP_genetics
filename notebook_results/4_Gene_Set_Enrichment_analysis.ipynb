{
 "cells": [
  {
   "cell_type": "markdown",
   "id": "44bd43a6",
   "metadata": {},
   "source": [
    "The following code provide the general workflow of gene-set enrichment analysis;\n",
    "Here we used the overrepresentation analysis\n",
    "\n",
    "    1) Once PRS and phenotype association has been confirmed. We select the $P_{T}$ threshold at which there is the PRS is most strongly associated with the phenotype of interest.\n",
    "    2) Next we select the SNPs contributing to that PRS at that $P_{T}$\n",
    "    3) We perform single univariate analysis for each one of the SNP with the phenotype. And select an arbitrary threshold of 0.05 as the cutoff for the SNPs. The SNPs are then reasoned to be strongly associated with both the disorder and the phenotype of interest.\n",
    "    4) SNPs are then mapped to genes, within the starting and stoping position of the gene.\n",
    "    5) The gene list is then tested for enrichment using FUMA code.\n",
    "    6) We randomly select n number of SNPs from step 2, and generate gene list and perform FUMA to see whether the process of doing single univariate analysis gives us a different set of pathways than from random alone.\n"
   ]
  },
  {
   "cell_type": "code",
   "execution_count": 1,
   "id": "54d8ee65",
   "metadata": {},
   "outputs": [],
   "source": [
    "import sys\n",
    "sys.path.append('../../')\n",
    "sys.path.append('../')\n",
    "\n",
    "\n",
    "import pandas as pd\n",
    "import numpy as np\n",
    "import matplotlib.pyplot as plt\n",
    "import seaborn as sns\n",
    "from matplotlib.colors import ListedColormap"
   ]
  },
  {
   "cell_type": "code",
   "execution_count": 2,
   "id": "ffaa3c56",
   "metadata": {},
   "outputs": [],
   "source": [
    "from codes.docs.analysis.nimagen import stats, visualisation, graph,genes\n",
    "from codes.docs.analysis import data_preprocessing, genetic_file_preprocess"
   ]
  },
  {
   "cell_type": "markdown",
   "id": "6a907e3d",
   "metadata": {},
   "source": [
    "The .snp file provided by PRSice-2 will generally hold the SNPs after LD-based clumping. Those are the ones you want to do GSEA with."
   ]
  },
  {
   "cell_type": "code",
   "execution_count": 8,
   "id": "5934a888",
   "metadata": {},
   "outputs": [],
   "source": [
    "def create_random_genesets(job,n_sample,bed_file,output_folder='.'):\n",
    "    random_SNPs = best_SNPs.sample(n_sample)\n",
    "    random_SNPs_annot = genes.SNPsFunctionalAnalysis(\n",
    "        snps_list=random_SNPs.SNP.to_list(),\n",
    "        bed_file=\n",
    "        bed_file\n",
    "    )\n",
    "    random_SNPs_annot.genes_ID, random_SNPs_annot.snp_ID = random_SNPs_annot.SNPs_annotation_to_gene(\n",
    "        snps_list=random_SNPs.SNP.tolist(),\n",
    "        gene_build_path=\n",
    "        f'../dataset/genetic_dataset/gene_build/NCBI37.3.gene.loc',\n",
    "        window_size=0)\n",
    "    random_SNPs_annot.genes_ID[['Gene_ID']].to_csv(\n",
    "        f'{output}/random_genes_all{job}.txt',\n",
    "        header=False,\n",
    "        index=False,\n",
    "        sep=' ')"
   ]
  },
  {
   "cell_type": "code",
   "execution_count": 9,
   "id": "5e564f2c",
   "metadata": {},
   "outputs": [],
   "source": [
    "def generate_best_enriched_path(job,input_folder='.',ouput_folder='.'):\n",
    "    msigdb_dataset ='../dataset/genetic_dataset/pathway_database/MSigDB/MSigDB_custom_entrez.gmt'\n",
    "    background_gene = '../dataset/genetic_dataset/gene_build/NCBI37_gene_loc.txt'\n",
    "    gene_job = f'{input_folder}/random_genes_all{job}.txt'\n",
    "    res = genes.GeneSetEnrichment.ora(msigdb_dataset,background_gene,gene_job,disable_tqdm=True)\n",
    "    res['run'] = job\n",
    "    res = res.sort_values(by='adjP')\n",
    "    output_file = f'{output_folder}/random_enriched_paths.csv'\n",
    "    if not os.path.isfile(output_file):\n",
    "        res.head(3).to_csv(output_file, header='column_names')\n",
    "    else: # else it exists so append without writing the header\n",
    "        res.head(3).to_csv(output_file, mode='a', header=False)"
   ]
  },
  {
   "cell_type": "markdown",
   "id": "1e4970d9",
   "metadata": {},
   "source": [
    "# SCZ analysis"
   ]
  },
  {
   "cell_type": "code",
   "execution_count": 3,
   "id": "72d038b1",
   "metadata": {},
   "outputs": [],
   "source": [
    "snp_file_core_eur = pd.read_table('../dataset/preprocessed_dataset/batch2_HAI/EUR/PRS/PRSice/batch2_EUR_genotyped.50.SCZ.european.ld_EUR_EAS.snp')"
   ]
  },
  {
   "cell_type": "code",
   "execution_count": 44,
   "id": "6f8e100b",
   "metadata": {},
   "outputs": [],
   "source": [
    "best_SNPs=genes.SNPsFunctionalAnalysis.get_the_best_SNPs(snp_file_core_eur,threshold=.01)"
   ]
  },
  {
   "cell_type": "code",
   "execution_count": 14,
   "id": "97922ae8",
   "metadata": {},
   "outputs": [
    {
     "data": {
      "text/html": [
       "<div>\n",
       "<style scoped>\n",
       "    .dataframe tbody tr th:only-of-type {\n",
       "        vertical-align: middle;\n",
       "    }\n",
       "\n",
       "    .dataframe tbody tr th {\n",
       "        vertical-align: top;\n",
       "    }\n",
       "\n",
       "    .dataframe thead th {\n",
       "        text-align: right;\n",
       "    }\n",
       "</style>\n",
       "<table border=\"1\" class=\"dataframe\">\n",
       "  <thead>\n",
       "    <tr style=\"text-align: right;\">\n",
       "      <th></th>\n",
       "      <th>CHR</th>\n",
       "      <th>SNP</th>\n",
       "      <th>BP</th>\n",
       "      <th>P</th>\n",
       "      <th>Base</th>\n",
       "    </tr>\n",
       "  </thead>\n",
       "  <tbody>\n",
       "    <tr>\n",
       "      <th>0</th>\n",
       "      <td>1</td>\n",
       "      <td>1:2379705</td>\n",
       "      <td>2379705</td>\n",
       "      <td>1.035000e-10</td>\n",
       "      <td>1</td>\n",
       "    </tr>\n",
       "    <tr>\n",
       "      <th>1</th>\n",
       "      <td>1</td>\n",
       "      <td>1:30430366</td>\n",
       "      <td>30430366</td>\n",
       "      <td>1.452000e-09</td>\n",
       "      <td>1</td>\n",
       "    </tr>\n",
       "    <tr>\n",
       "      <th>2</th>\n",
       "      <td>1</td>\n",
       "      <td>1:44100084</td>\n",
       "      <td>44100084</td>\n",
       "      <td>2.678000e-12</td>\n",
       "      <td>1</td>\n",
       "    </tr>\n",
       "    <tr>\n",
       "      <th>3</th>\n",
       "      <td>1</td>\n",
       "      <td>1:73305782</td>\n",
       "      <td>73305782</td>\n",
       "      <td>4.675000e-12</td>\n",
       "      <td>1</td>\n",
       "    </tr>\n",
       "    <tr>\n",
       "      <th>4</th>\n",
       "      <td>1</td>\n",
       "      <td>1:73559787</td>\n",
       "      <td>73559787</td>\n",
       "      <td>3.304000e-10</td>\n",
       "      <td>1</td>\n",
       "    </tr>\n",
       "    <tr>\n",
       "      <th>...</th>\n",
       "      <td>...</td>\n",
       "      <td>...</td>\n",
       "      <td>...</td>\n",
       "      <td>...</td>\n",
       "      <td>...</td>\n",
       "    </tr>\n",
       "    <tr>\n",
       "      <th>4839</th>\n",
       "      <td>22</td>\n",
       "      <td>22:50719976</td>\n",
       "      <td>50719976</td>\n",
       "      <td>8.884000e-04</td>\n",
       "      <td>1</td>\n",
       "    </tr>\n",
       "    <tr>\n",
       "      <th>4840</th>\n",
       "      <td>22</td>\n",
       "      <td>22:50762615</td>\n",
       "      <td>50762615</td>\n",
       "      <td>6.841000e-04</td>\n",
       "      <td>1</td>\n",
       "    </tr>\n",
       "    <tr>\n",
       "      <th>4841</th>\n",
       "      <td>22</td>\n",
       "      <td>22:50975753</td>\n",
       "      <td>50975753</td>\n",
       "      <td>4.283000e-04</td>\n",
       "      <td>1</td>\n",
       "    </tr>\n",
       "    <tr>\n",
       "      <th>4842</th>\n",
       "      <td>22</td>\n",
       "      <td>22:51078251</td>\n",
       "      <td>51078251</td>\n",
       "      <td>6.783000e-04</td>\n",
       "      <td>1</td>\n",
       "    </tr>\n",
       "    <tr>\n",
       "      <th>4843</th>\n",
       "      <td>22</td>\n",
       "      <td>22:51125913</td>\n",
       "      <td>51125913</td>\n",
       "      <td>4.384000e-04</td>\n",
       "      <td>1</td>\n",
       "    </tr>\n",
       "  </tbody>\n",
       "</table>\n",
       "<p>4844 rows × 5 columns</p>\n",
       "</div>"
      ],
      "text/plain": [
       "      CHR          SNP        BP             P  Base\n",
       "0       1    1:2379705   2379705  1.035000e-10     1\n",
       "1       1   1:30430366  30430366  1.452000e-09     1\n",
       "2       1   1:44100084  44100084  2.678000e-12     1\n",
       "3       1   1:73305782  73305782  4.675000e-12     1\n",
       "4       1   1:73559787  73559787  3.304000e-10     1\n",
       "...   ...          ...       ...           ...   ...\n",
       "4839   22  22:50719976  50719976  8.884000e-04     1\n",
       "4840   22  22:50762615  50762615  6.841000e-04     1\n",
       "4841   22  22:50975753  50975753  4.283000e-04     1\n",
       "4842   22  22:51078251  51078251  6.783000e-04     1\n",
       "4843   22  22:51125913  51125913  4.384000e-04     1\n",
       "\n",
       "[4844 rows x 5 columns]"
      ]
     },
     "execution_count": 14,
     "metadata": {},
     "output_type": "execute_result"
    }
   ],
   "source": [
    "best_SNPs"
   ]
  },
  {
   "cell_type": "code",
   "execution_count": 28,
   "id": "79707d9f",
   "metadata": {},
   "outputs": [],
   "source": [
    "best_SNPs_annot = genes.SNPsFunctionalAnalysis(snps_list=best_SNPs.SNP.to_list(),                                               bed_file='../dataset/preprocessed_dataset/batch2_HAI/EUR/batch2_EUR_genotyped.50.bed')"
   ]
  },
  {
   "cell_type": "code",
   "execution_count": 23,
   "id": "d65ab640",
   "metadata": {},
   "outputs": [],
   "source": [
    "df_euro = pd.read_csv('scz/eur_cohort_segmented_scz_prs_all.csv')"
   ]
  },
  {
   "cell_type": "code",
   "execution_count": 24,
   "id": "ee1d0795",
   "metadata": {},
   "outputs": [],
   "source": [
    "df_euro['FID'] = df_euro['IID'] = df_euro['ID']\n",
    "df_euro['sex_dummy'] = [1 if i == 'female' else 0 for i in df_euro['sex']]\n",
    "df_euro[['FID','IID','Imperial 79']].to_csv('scz/phenotype_EUR.txt',index=False,sep='\\t')\n",
    "df_euro[['FID','IID']+[f'euro_Anc_PC{i}' for i in range(1,4)]+['TBV','GA','PMA','sex_dummy']].to_csv('scz/covariate_EUR.txt',index=False,sep='\\t')"
   ]
  },
  {
   "cell_type": "code",
   "execution_count": 30,
   "id": "fb699bc1",
   "metadata": {},
   "outputs": [
    {
     "name": "stderr",
     "output_type": "stream",
     "text": [
      "100%|██████████████████████████████████████| 4844/4844 [00:34<00:00, 140.03it/s]\n"
     ]
    }
   ],
   "source": [
    "updated_bed_file,best_SNPs_annot.snp_association = best_SNPs_annot.do_mass_univariate_test(\n",
    "    orig_bed_file=best_SNPs_annot.orig_bed_file,\n",
    "    snps_list=best_SNPs_annot.snps_list,\n",
    "    pheno_file=\n",
    "    'scz/phenotype_EUR.txt',\n",
    "    covar_file=\n",
    "    'scz/covariate_EUR.txt',\n",
    "    phenotype=\"Imperial 79\")"
   ]
  },
  {
   "cell_type": "code",
   "execution_count": 33,
   "id": "2a2e7799",
   "metadata": {},
   "outputs": [],
   "source": [
    "best_SNPs_after_thresholded = best_SNPs_annot.snp_association[best_SNPs_annot.snp_association['P']<0.05]"
   ]
  },
  {
   "cell_type": "code",
   "execution_count": 34,
   "id": "b37d3267",
   "metadata": {},
   "outputs": [],
   "source": [
    "genes_ID, snp_ID = best_SNPs_annot.SNPs_annotation_to_gene(\n",
    "    snps_list=best_SNPs_after_thresholded.SNP.tolist(),\n",
    "    gene_build_path=\n",
    "    f'../dataset/genetic_dataset/gene_build/NCBI37.3.gene.loc',\n",
    "    window_size=0)"
   ]
  },
  {
   "cell_type": "code",
   "execution_count": 35,
   "id": "b71316a2",
   "metadata": {},
   "outputs": [
    {
     "name": "stderr",
     "output_type": "stream",
     "text": [
      "100%|████████████████████████████████████| 13159/13159 [01:58<00:00, 110.78it/s]\n"
     ]
    }
   ],
   "source": [
    "msigdb_dataset ='../dataset/genetic_dataset/pathway_database/MSigDB/MSigDB_custom_entrez.gmt'\n",
    "background_gene = '../dataset/genetic_dataset/gene_build/NCBI37_gene_loc.txt'\n",
    "SCZ_res = genes.GeneSetEnrichment.ora(msigdb_dataset,background_gene,genes_ID.Gene_ID.tolist(),disable_tqdm=False)"
   ]
  },
  {
   "cell_type": "code",
   "execution_count": null,
   "id": "c606ae17",
   "metadata": {},
   "outputs": [],
   "source": []
  }
 ],
 "metadata": {
  "hide_input": false,
  "kernelspec": {
   "display_name": "Python 3 (ipykernel)",
   "language": "python",
   "name": "python3"
  },
  "language_info": {
   "codemirror_mode": {
    "name": "ipython",
    "version": 3
   },
   "file_extension": ".py",
   "mimetype": "text/x-python",
   "name": "python",
   "nbconvert_exporter": "python",
   "pygments_lexer": "ipython3",
   "version": "3.9.12"
  }
 },
 "nbformat": 4,
 "nbformat_minor": 5
}
