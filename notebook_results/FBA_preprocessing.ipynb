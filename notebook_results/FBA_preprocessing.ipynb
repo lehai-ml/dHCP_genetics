{
 "cells": [
  {
   "cell_type": "code",
   "execution_count": 51,
   "id": "2612c1de",
   "metadata": {},
   "outputs": [],
   "source": [
    "import sys\n",
    "sys.path.append('../../')\n",
    "sys.path.append('../')\n",
    "\n",
    "from codes.docs.analysis import data_preprocessing, genetic_file_preprocess\n",
    "from codes.docs.analysis.nimagen import genes, stats, visualisation\n",
    "\n",
    "import matplotlib.pyplot as plt\n",
    "import seaborn as sns\n",
    "import numpy as np\n",
    "import pandas as pd\n",
    "import scipy.io\n",
    "import glob\n",
    "from collections import defaultdict\n",
    "%matplotlib inline"
   ]
  },
  {
   "cell_type": "code",
   "execution_count": 37,
   "id": "901580ca",
   "metadata": {},
   "outputs": [],
   "source": [
    "dHCP_participant_info = pd.read_table('../codes/FBA/dHCP_participant_info.csv')"
   ]
  },
  {
   "cell_type": "code",
   "execution_count": 38,
   "id": "998c4e0e",
   "metadata": {},
   "outputs": [],
   "source": [
    "dHCP_participant_info = dHCP_participant_info.rename(columns={'birth_age':'GA','scan_age':'PMA'})"
   ]
  },
  {
   "cell_type": "code",
   "execution_count": 39,
   "id": "f15ffb94",
   "metadata": {},
   "outputs": [],
   "source": [
    "dHCP_participant_info ['termness'] = genetic_file_preprocess.Cohort.get_termness(dHCP_participant_info)"
   ]
  },
  {
   "cell_type": "code",
   "execution_count": 40,
   "id": "d9f8151f",
   "metadata": {},
   "outputs": [],
   "source": [
    "dHCP_participant_info['participant_id'] = 'sub-' + dHCP_participant_info['participant_id']\n",
    "dHCP_participant_info['session_id'] = 'ses-' + dHCP_participant_info['session_id'].astype('str')\n",
    "dHCP_participant_info['particpant/session'] =  dHCP_participant_info['participant_id']+'/'+dHCP_participant_info['session_id']"
   ]
  },
  {
   "cell_type": "code",
   "execution_count": 6,
   "id": "8e908ba7",
   "metadata": {},
   "outputs": [],
   "source": [
    "! python ../codes/FBA/generate_ID_list.py generate --folder ../codes/FBA/data/ --pattern \"sub*/ses*\" --duplicates | python ../codes/FBA/generate_ID_list.py generate --folder ../codes/FBA/dhcp_neo_dMRI_derived/ --pattern \"sub*/ses*\" --no-duplicates | tail -n +3 | tr '/' ',' > ../codes/FBA/available_term_preterm.txt\n",
    "# ! tr '/' ',' < ../codes/FBA/available_term_preterm.txt > ../codes/FBA/available_term_preterm.txt"
   ]
  },
  {
   "cell_type": "code",
   "execution_count": 41,
   "id": "1e5be91b",
   "metadata": {},
   "outputs": [],
   "source": [
    "available_dmri = pd.read_csv('../codes/FBA/available_term_preterm.txt',header=None,names=['participant_id','session_id'])"
   ]
  },
  {
   "cell_type": "code",
   "execution_count": 42,
   "id": "cca1bcaf",
   "metadata": {},
   "outputs": [],
   "source": [
    "available_dmri['available_dmri'] = 'yes'"
   ]
  },
  {
   "cell_type": "code",
   "execution_count": 43,
   "id": "c7272649",
   "metadata": {},
   "outputs": [],
   "source": [
    "dHCP_participant_info = available_dmri.merge(dHCP_participant_info,on=['participant_id','session_id'],how='left')"
   ]
  },
  {
   "cell_type": "code",
   "execution_count": 44,
   "id": "37df0887",
   "metadata": {},
   "outputs": [],
   "source": [
    "to_exclude=[\"sub-CC00702BN09/ses-204500\",\n",
    "              \"sub-CC00666XX15/ses-212100\",\n",
    "              \"sub-CC00600XX06/ses-192200\",\n",
    "              \"sub-CC00702AN09/ses-204600\",\n",
    "              \"sub-CC00657XX14/ses-212200\",\n",
    "              \"sub-CC00572BN12/ses-161400\"]"
   ]
  },
  {
   "cell_type": "code",
   "execution_count": 45,
   "id": "f06472c8",
   "metadata": {},
   "outputs": [],
   "source": [
    "dHCP_participant_info = dHCP_participant_info[~dHCP_participant_info['particpant/session'].isin(to_exclude)]"
   ]
  },
  {
   "cell_type": "code",
   "execution_count": 46,
   "id": "f18a0dc5",
   "metadata": {},
   "outputs": [],
   "source": [
    "dHCP_participant_info = dHCP_participant_info[(dHCP_participant_info['termness']=='preterm/term_at_scan') | (dHCP_participant_info['termness']=='term')].copy()\n",
    "dHCP_participant_info = dHCP_participant_info.drop_duplicates(subset='participant_id',keep='last').copy()"
   ]
  },
  {
   "cell_type": "code",
   "execution_count": 47,
   "id": "1ed6655b",
   "metadata": {},
   "outputs": [],
   "source": [
    "preterm, term = stats.Stability_tests.nn_matching(dHCP_participant_info,\n",
    "                                                  cat_independentVar_cols=['sex'],\n",
    "                                 cont_independentVar_cols=['PMA'],\n",
    "                                  dependentVar_cols=['termness'],scaling=True,order='random',random_state=24)"
   ]
  },
  {
   "cell_type": "code",
   "execution_count": 48,
   "id": "b9b5a396",
   "metadata": {},
   "outputs": [],
   "source": [
    "dHCP_term_preterm = pd.concat([preterm,term])"
   ]
  },
  {
   "cell_type": "code",
   "execution_count": 50,
   "id": "7a0c5499",
   "metadata": {},
   "outputs": [
    {
     "data": {
      "text/plain": [
       "<AxesSubplot:xlabel='GA', ylabel='Count'>"
      ]
     },
     "execution_count": 50,
     "metadata": {},
     "output_type": "execute_result"
    },
    {
     "data": {
      "image/png": "[encoded data removed]",
      "text/plain": [
       "<Figure size 640x480 with 1 Axes>"
      ]
     },
     "metadata": {},
     "output_type": "display_data"
    }
   ],
   "source": [
    "sns.histplot(data=dHCP_term_preterm,x='GA',hue='termness',bins=10)"
   ]
  },
  {
   "cell_type": "code",
   "execution_count": null,
   "id": "06cd8458",
   "metadata": {},
   "outputs": [],
   "source": [
    "sns.histplot()"
   ]
  },
  {
   "cell_type": "code",
   "execution_count": 17,
   "id": "ade9c625",
   "metadata": {},
   "outputs": [],
   "source": [
    "neonatal_volumes = pd.read_csv('../dataset/preprocessed_dataset/imaging_data/log_file/volumetric_dataset_neonatal_release_3.csv')\n",
    "neonatal_volumes['participant_id'] = 'sub-' + neonatal_volumes['ID']\n",
    "neonatal_volumes['session_id'] = 'ses-' + neonatal_volumes['Session'].astype('str')"
   ]
  },
  {
   "cell_type": "code",
   "execution_count": 20,
   "id": "61e842a1",
   "metadata": {},
   "outputs": [],
   "source": [
    "dHCP_term_preterm = dHCP_term_preterm.merge(neonatal_volumes[['participant_id','session_id','ICV']],on=['participant_id','session_id'],how='inner')"
   ]
  },
  {
   "cell_type": "code",
   "execution_count": 26,
   "id": "679b2411",
   "metadata": {},
   "outputs": [],
   "source": [
    "dHCP_term_preterm[['particpant/session','GA','PMA','sex','termness','ICV','birth_weight']].to_csv('../codes/FBA/subject_lists_term_preterm.txt',header=None,index=False)"
   ]
  },
  {
   "cell_type": "markdown",
   "id": "a45d15d8",
   "metadata": {},
   "source": [
    "## Tractography"
   ]
  },
  {
   "cell_type": "code",
   "execution_count": 56,
   "id": "5a47e9a0",
   "metadata": {},
   "outputs": [],
   "source": [
    "ROIs_coord_AAL = visualisation.Brainmap.get_ROIs_coordinates('../codes/FBA/test/test_tract/regrid_KANA_in_template_space.nii.gz')"
   ]
  },
  {
   "cell_type": "code",
   "execution_count": 61,
   "id": "ba0f71b3",
   "metadata": {},
   "outputs": [
    {
     "data": {
      "text/html": [
       "<div>\n",
       "<style scoped>\n",
       "    .dataframe tbody tr th:only-of-type {\n",
       "        vertical-align: middle;\n",
       "    }\n",
       "\n",
       "    .dataframe tbody tr th {\n",
       "        vertical-align: top;\n",
       "    }\n",
       "\n",
       "    .dataframe thead th {\n",
       "        text-align: right;\n",
       "    }\n",
       "</style>\n",
       "<table border=\"1\" class=\"dataframe\">\n",
       "  <thead>\n",
       "    <tr style=\"text-align: right;\">\n",
       "      <th></th>\n",
       "      <th>Label</th>\n",
       "      <th>X_vox</th>\n",
       "      <th>Y_vox</th>\n",
       "      <th>Z_vox</th>\n",
       "      <th>X_sca</th>\n",
       "      <th>Y_sca</th>\n",
       "      <th>Z_sca</th>\n",
       "    </tr>\n",
       "  </thead>\n",
       "  <tbody>\n",
       "    <tr>\n",
       "      <th>82</th>\n",
       "      <td>83.0</td>\n",
       "      <td>17.589812</td>\n",
       "      <td>56.167560</td>\n",
       "      <td>22.280161</td>\n",
       "      <td>-24.014493</td>\n",
       "      <td>-2.913433</td>\n",
       "      <td>-7.293608</td>\n",
       "    </tr>\n",
       "    <tr>\n",
       "      <th>86</th>\n",
       "      <td>87.0</td>\n",
       "      <td>19.016340</td>\n",
       "      <td>55.905229</td>\n",
       "      <td>16.503268</td>\n",
       "      <td>-22.160007</td>\n",
       "      <td>-3.254464</td>\n",
       "      <td>-14.803569</td>\n",
       "    </tr>\n",
       "  </tbody>\n",
       "</table>\n",
       "</div>"
      ],
      "text/plain": [
       "    Label      X_vox      Y_vox      Z_vox      X_sca     Y_sca      Z_sca\n",
       "82   83.0  17.589812  56.167560  22.280161 -24.014493 -2.913433  -7.293608\n",
       "86   87.0  19.016340  55.905229  16.503268 -22.160007 -3.254464 -14.803569"
      ]
     },
     "execution_count": 61,
     "metadata": {},
     "output_type": "execute_result"
    }
   ],
   "source": [
    "ROIs_coord_AAL.iloc[[82,86]]"
   ]
  },
  {
   "cell_type": "code",
   "execution_count": 64,
   "id": "ca89f4cf",
   "metadata": {},
   "outputs": [
    {
     "data": {
      "text/plain": [
       "Label    12.000000\n",
       "X_vox    22.603738\n",
       "Y_vox    71.305588\n",
       "Z_vox    26.540809\n",
       "X_sca   -17.496390\n",
       "Y_sca    16.766002\n",
       "Z_sca    -1.754765\n",
       "dtype: float64"
      ]
     },
     "execution_count": 64,
     "metadata": {},
     "output_type": "execute_result"
    }
   ],
   "source": [
    "ROIs_coord_AAL.iloc[[8,14]].mean()"
   ]
  },
  {
   "cell_type": "code",
   "execution_count": null,
   "id": "8138ac54",
   "metadata": {},
   "outputs": [],
   "source": [
    "-24.18,-12.54,-4.63"
   ]
  },
  {
   "cell_type": "code",
   "execution_count": null,
   "id": "15812d78",
   "metadata": {},
   "outputs": [],
   "source": [
    "-17.5,19.31,3.469"
   ]
  },
  {
   "cell_type": "code",
   "execution_count": 40,
   "id": "35666695",
   "metadata": {},
   "outputs": [],
   "source": [
    "ROIs_coord_AAL['Label'] = ROIs_coord_AAL['Label'].astype('int64')"
   ]
  },
  {
   "cell_type": "code",
   "execution_count": 10,
   "id": "3152301e",
   "metadata": {},
   "outputs": [
    {
     "data": {
      "text/html": [
       "<div>\n",
       "<style scoped>\n",
       "    .dataframe tbody tr th:only-of-type {\n",
       "        vertical-align: middle;\n",
       "    }\n",
       "\n",
       "    .dataframe tbody tr th {\n",
       "        vertical-align: top;\n",
       "    }\n",
       "\n",
       "    .dataframe thead th {\n",
       "        text-align: right;\n",
       "    }\n",
       "</style>\n",
       "<table border=\"1\" class=\"dataframe\">\n",
       "  <thead>\n",
       "    <tr style=\"text-align: right;\">\n",
       "      <th></th>\n",
       "      <th>Label</th>\n",
       "      <th>X_vox</th>\n",
       "      <th>Y_vox</th>\n",
       "      <th>Z_vox</th>\n",
       "      <th>X_sca</th>\n",
       "      <th>Y_sca</th>\n",
       "      <th>Z_sca</th>\n",
       "    </tr>\n",
       "  </thead>\n",
       "  <tbody>\n",
       "    <tr>\n",
       "      <th>8</th>\n",
       "      <td>9.0</td>\n",
       "      <td>64.203451</td>\n",
       "      <td>197.721929</td>\n",
       "      <td>69.835632</td>\n",
       "      <td>-15.429524</td>\n",
       "      <td>22.829707</td>\n",
       "      <td>-1.590001</td>\n",
       "    </tr>\n",
       "  </tbody>\n",
       "</table>\n",
       "</div>"
      ],
      "text/plain": [
       "   Label      X_vox       Y_vox      Z_vox      X_sca      Y_sca     Z_sca\n",
       "8    9.0  64.203451  197.721929  69.835632 -15.429524  22.829707 -1.590001"
      ]
     },
     "execution_count": 10,
     "metadata": {},
     "output_type": "execute_result"
    }
   ],
   "source": [
    "ROIs_coord_AAL[ROIs_coord_AAL['Label'] == 9]"
   ]
  },
  {
   "cell_type": "code",
   "execution_count": 53,
   "id": "3cc563d7",
   "metadata": {},
   "outputs": [
    {
     "data": {
      "text/plain": [
       "array([-15.68,  22.87,  -2.46])"
      ]
     },
     "execution_count": 53,
     "metadata": {},
     "output_type": "execute_result"
    }
   ],
   "source": [
    "np.array([24,76,26]) *1.3 + np.array([-46.88,-75.93,-36.26]).T"
   ]
  },
  {
   "cell_type": "code",
   "execution_count": 92,
   "id": "0663167c",
   "metadata": {},
   "outputs": [
    {
     "data": {
      "text/plain": [
       "array([[ 3.120000e+01,  0.000000e+00,  0.000000e+00,  0.000000e+00],\n",
       "       [ 0.000000e+00,  9.880000e+01,  0.000000e+00,  0.000000e+00],\n",
       "       [ 0.000000e+00,  0.000000e+00,  3.380000e+01,  0.000000e+00],\n",
       "       [-1.125150e+03, -5.770775e+03, -9.426820e+02,  1.000000e+00]])"
      ]
     },
     "execution_count": 92,
     "metadata": {},
     "output_type": "execute_result"
    }
   ],
   "source": [
    "np.array([24,76,26,1]).T * np.array([[1.3,0,0,-46.88125],[0,1.3,0,-75.93125],[0,0,1.3,-36.257],[0,0,0,1]]).T"
   ]
  },
  {
   "cell_type": "code",
   "execution_count": 93,
   "id": "23bd9339",
   "metadata": {},
   "outputs": [],
   "source": [
    "transform = np.array([[1.3,0,0,-46.88125],[0,1.3,0,-75.93125],[0,0,1.3,-36.257],[0,0,0,1]])"
   ]
  },
  {
   "cell_type": "code",
   "execution_count": 120,
   "id": "a6811a12",
   "metadata": {},
   "outputs": [],
   "source": [
    "voxel=np.array([24,76,26,1])"
   ]
  },
  {
   "cell_type": "code",
   "execution_count": 122,
   "id": "4aae0d0a",
   "metadata": {},
   "outputs": [
    {
     "data": {
      "text/plain": [
       "array([-15.68125,  22.86875,  -2.457  ])"
      ]
     },
     "execution_count": 122,
     "metadata": {},
     "output_type": "execute_result"
    }
   ],
   "source": [
    "np.matmul(transform[:-1,:],voxel)"
   ]
  },
  {
   "cell_type": "code",
   "execution_count": 65,
   "id": "0897a560",
   "metadata": {},
   "outputs": [],
   "source": [
    "test = visualisation.Brainmap('../codes/FBA/test/test_tract/regrid_KANA_in_template_space.nii.gz')"
   ]
  },
  {
   "cell_type": "code",
   "execution_count": 89,
   "id": "1e7ff381",
   "metadata": {},
   "outputs": [
    {
     "data": {
      "text/plain": [
       "array([-46.881248  , -75.93125916, -36.25781631])"
      ]
     },
     "execution_count": 89,
     "metadata": {},
     "output_type": "execute_result"
    }
   ],
   "source": [
    "test.atlas_file.affine[:-1,-1]"
   ]
  },
  {
   "cell_type": "code",
   "execution_count": 78,
   "id": "df6bbae7",
   "metadata": {},
   "outputs": [
    {
     "data": {
      "text/plain": [
       "['__annotations__',\n",
       " '__class__',\n",
       " '__delattr__',\n",
       " '__dict__',\n",
       " '__dir__',\n",
       " '__doc__',\n",
       " '__eq__',\n",
       " '__format__',\n",
       " '__ge__',\n",
       " '__getattribute__',\n",
       " '__getitem__',\n",
       " '__gt__',\n",
       " '__hash__',\n",
       " '__init__',\n",
       " '__init_subclass__',\n",
       " '__iter__',\n",
       " '__le__',\n",
       " '__lt__',\n",
       " '__module__',\n",
       " '__ne__',\n",
       " '__new__',\n",
       " '__reduce__',\n",
       " '__reduce_ex__',\n",
       " '__repr__',\n",
       " '__setattr__',\n",
       " '__setitem__',\n",
       " '__sizeof__',\n",
       " '__str__',\n",
       " '__subclasshook__',\n",
       " '__weakref__',\n",
       " '_chk_bitpix',\n",
       " '_chk_datatype',\n",
       " '_chk_magic',\n",
       " '_chk_offset',\n",
       " '_chk_pixdims',\n",
       " '_chk_qfac',\n",
       " '_chk_qform_code',\n",
       " '_chk_sform_code',\n",
       " '_chk_sizeof_hdr',\n",
       " '_chk_xform_code',\n",
       " '_clean_after_mapping',\n",
       " '_data_type_codes',\n",
       " '_field_recoders',\n",
       " '_get_checks',\n",
       " '_slice_time_order',\n",
       " '_structarr',\n",
       " 'as_analyze_map',\n",
       " 'as_byteswapped',\n",
       " 'binaryblock',\n",
       " 'check_fix',\n",
       " 'copy',\n",
       " 'data_from_fileobj',\n",
       " 'data_layout',\n",
       " 'data_to_fileobj',\n",
       " 'default_structarr',\n",
       " 'default_x_flip',\n",
       " 'diagnose_binaryblock',\n",
       " 'endianness',\n",
       " 'extensions',\n",
       " 'exts_klass',\n",
       " 'from_fileobj',\n",
       " 'from_header',\n",
       " 'get',\n",
       " 'get_base_affine',\n",
       " 'get_best_affine',\n",
       " 'get_data_dtype',\n",
       " 'get_data_offset',\n",
       " 'get_data_shape',\n",
       " 'get_dim_info',\n",
       " 'get_intent',\n",
       " 'get_n_slices',\n",
       " 'get_qform',\n",
       " 'get_qform_quaternion',\n",
       " 'get_sform',\n",
       " 'get_slice_duration',\n",
       " 'get_slice_times',\n",
       " 'get_slope_inter',\n",
       " 'get_value_label',\n",
       " 'get_xyzt_units',\n",
       " 'get_zooms',\n",
       " 'guessed_endian',\n",
       " 'has_data_intercept',\n",
       " 'has_data_slope',\n",
       " 'is_single',\n",
       " 'items',\n",
       " 'keys',\n",
       " 'may_contain_header',\n",
       " 'pair_magic',\n",
       " 'pair_vox_offset',\n",
       " 'quaternion_threshold',\n",
       " 'raw_data_from_fileobj',\n",
       " 'set_data_dtype',\n",
       " 'set_data_offset',\n",
       " 'set_data_shape',\n",
       " 'set_dim_info',\n",
       " 'set_intent',\n",
       " 'set_qform',\n",
       " 'set_sform',\n",
       " 'set_slice_duration',\n",
       " 'set_slice_times',\n",
       " 'set_slope_inter',\n",
       " 'set_xyzt_units',\n",
       " 'set_zooms',\n",
       " 'single_magic',\n",
       " 'single_vox_offset',\n",
       " 'sizeof_hdr',\n",
       " 'structarr',\n",
       " 'template_dtype',\n",
       " 'values',\n",
       " 'write_to']"
      ]
     },
     "execution_count": 78,
     "metadata": {},
     "output_type": "execute_result"
    }
   ],
   "source": [
    "dir(test.atlas_file.header)"
   ]
  },
  {
   "cell_type": "code",
   "execution_count": 11,
   "id": "c9809d4e",
   "metadata": {},
   "outputs": [],
   "source": [
    "brain_map = visualisation.Brainmap('../codes/FBA/test/test_tract/regrid_KANA_in_template_space.nii.gz')"
   ]
  },
  {
   "cell_type": "code",
   "execution_count": 12,
   "id": "d147eb0d",
   "metadata": {},
   "outputs": [],
   "source": [
    "brain_map.atlas[np.isnan(brain_map.atlas)] = 0 # if nan exist set to 0\n",
    "transform_matrix = brain_map.atlas_file.affine[:-1,:]\n",
    "ROIs_coord = defaultdict(list)\n",
    "for label in np.unique(brain_map.atlas):\n",
    "    if label != 0:\n",
    "        ROIs_coord[label] = [coord.mean() for coord in np.where(brain_map.atlas == label)]\n",
    "        ROIs_coord[label].extend(list(np.matmul(transform_matrix,np.array(ROIs_coord[label] + [1]))))"
   ]
  },
  {
   "cell_type": "code",
   "execution_count": 13,
   "id": "f078c7a5",
   "metadata": {},
   "outputs": [
    {
     "data": {
      "text/plain": [
       "[24.096638655462186,\n",
       " 76.0266106442577,\n",
       " 26.69327731092437,\n",
       " -15.555618894200364,\n",
       " 22.90333105703027,\n",
       " -1.5565570833302331]"
      ]
     },
     "execution_count": 13,
     "metadata": {},
     "output_type": "execute_result"
    }
   ],
   "source": [
    "ROIs_coord[9]"
   ]
  },
  {
   "cell_type": "code",
   "execution_count": 15,
   "id": "9d42a956",
   "metadata": {},
   "outputs": [],
   "source": [
    "ROIs_coord = visualisation.Brainmap.get_ROIs_coordinates('../codes/FBA/test/test_tract/regrid_KANA_in_template_space.nii.gz')"
   ]
  },
  {
   "cell_type": "code",
   "execution_count": 17,
   "id": "4f4857aa",
   "metadata": {},
   "outputs": [],
   "source": [
    "ROIs_coord['Label'] = ROIs_coord['Label'].astype('int64')"
   ]
  },
  {
   "cell_type": "code",
   "execution_count": 18,
   "id": "c2f8186b",
   "metadata": {},
   "outputs": [],
   "source": [
    "ROIs_coord.to_csv('../codes/FBA/test/test_tract/ROIs_coord.txt',sep='\\t',header=None,index=False)"
   ]
  },
  {
   "cell_type": "code",
   "execution_count": 1,
   "id": "b3be1afe",
   "metadata": {},
   "outputs": [],
   "source": [
    "import pandas as pd"
   ]
  },
  {
   "cell_type": "code",
   "execution_count": 18,
   "id": "a8bd8b2d",
   "metadata": {},
   "outputs": [],
   "source": [
    "cc_fdc = pd.read_csv('../codes/FBA/output_term_preterm/tractography/fba/all_subj_fdc_smooth/mean_cc.txt',header=None,names=['MeanFDC'])"
   ]
  },
  {
   "cell_type": "code",
   "execution_count": 19,
   "id": "1e212ed6",
   "metadata": {},
   "outputs": [],
   "source": [
    "design_matrix = pd.read_table('../codes/FBA/output_term_preterm/tractography/fba/design_matrix.txt',delim_whitespace=True)"
   ]
  },
  {
   "cell_type": "code",
   "execution_count": 21,
   "id": "1582ce68",
   "metadata": {},
   "outputs": [],
   "source": [
    "design_matrix = pd.concat([design_matrix,cc_fdc],axis=1)"
   ]
  },
  {
   "cell_type": "code",
   "execution_count": 23,
   "id": "623faca5",
   "metadata": {},
   "outputs": [
    {
     "data": {
      "text/html": [
       "<div>\n",
       "<style scoped>\n",
       "    .dataframe tbody tr th:only-of-type {\n",
       "        vertical-align: middle;\n",
       "    }\n",
       "\n",
       "    .dataframe tbody tr th {\n",
       "        vertical-align: top;\n",
       "    }\n",
       "\n",
       "    .dataframe thead th {\n",
       "        text-align: right;\n",
       "    }\n",
       "</style>\n",
       "<table border=\"1\" class=\"dataframe\">\n",
       "  <thead>\n",
       "    <tr style=\"text-align: right;\">\n",
       "      <th></th>\n",
       "      <th>#intercept</th>\n",
       "      <th>sex_female=1</th>\n",
       "      <th>termness_preterm/term_at_scan=1</th>\n",
       "      <th>PMA</th>\n",
       "      <th>ICV</th>\n",
       "      <th>MeanFDC</th>\n",
       "    </tr>\n",
       "  </thead>\n",
       "  <tbody>\n",
       "    <tr>\n",
       "      <th>0</th>\n",
       "      <td>1</td>\n",
       "      <td>-1</td>\n",
       "      <td>1</td>\n",
       "      <td>-0.522116</td>\n",
       "      <td>-0.540728</td>\n",
       "      <td>0.458592</td>\n",
       "    </tr>\n",
       "    <tr>\n",
       "      <th>1</th>\n",
       "      <td>1</td>\n",
       "      <td>1</td>\n",
       "      <td>1</td>\n",
       "      <td>0.511738</td>\n",
       "      <td>1.110910</td>\n",
       "      <td>0.444781</td>\n",
       "    </tr>\n",
       "    <tr>\n",
       "      <th>2</th>\n",
       "      <td>1</td>\n",
       "      <td>1</td>\n",
       "      <td>1</td>\n",
       "      <td>1.477956</td>\n",
       "      <td>1.384596</td>\n",
       "      <td>0.488684</td>\n",
       "    </tr>\n",
       "    <tr>\n",
       "      <th>3</th>\n",
       "      <td>1</td>\n",
       "      <td>-1</td>\n",
       "      <td>1</td>\n",
       "      <td>0.579373</td>\n",
       "      <td>0.780190</td>\n",
       "      <td>0.482940</td>\n",
       "    </tr>\n",
       "    <tr>\n",
       "      <th>4</th>\n",
       "      <td>1</td>\n",
       "      <td>-1</td>\n",
       "      <td>1</td>\n",
       "      <td>1.134948</td>\n",
       "      <td>-0.325077</td>\n",
       "      <td>0.348040</td>\n",
       "    </tr>\n",
       "    <tr>\n",
       "      <th>...</th>\n",
       "      <td>...</td>\n",
       "      <td>...</td>\n",
       "      <td>...</td>\n",
       "      <td>...</td>\n",
       "      <td>...</td>\n",
       "      <td>...</td>\n",
       "    </tr>\n",
       "    <tr>\n",
       "      <th>157</th>\n",
       "      <td>1</td>\n",
       "      <td>1</td>\n",
       "      <td>-1</td>\n",
       "      <td>-1.280597</td>\n",
       "      <td>-1.578493</td>\n",
       "      <td>0.455303</td>\n",
       "    </tr>\n",
       "    <tr>\n",
       "      <th>158</th>\n",
       "      <td>1</td>\n",
       "      <td>-1</td>\n",
       "      <td>-1</td>\n",
       "      <td>1.477956</td>\n",
       "      <td>1.173707</td>\n",
       "      <td>0.626924</td>\n",
       "    </tr>\n",
       "    <tr>\n",
       "      <th>159</th>\n",
       "      <td>1</td>\n",
       "      <td>-1</td>\n",
       "      <td>-1</td>\n",
       "      <td>-1.145326</td>\n",
       "      <td>-1.242368</td>\n",
       "      <td>0.409103</td>\n",
       "    </tr>\n",
       "    <tr>\n",
       "      <th>160</th>\n",
       "      <td>1</td>\n",
       "      <td>1</td>\n",
       "      <td>-1</td>\n",
       "      <td>0.168730</td>\n",
       "      <td>-0.255715</td>\n",
       "      <td>0.563484</td>\n",
       "    </tr>\n",
       "    <tr>\n",
       "      <th>161</th>\n",
       "      <td>1</td>\n",
       "      <td>-1</td>\n",
       "      <td>-1</td>\n",
       "      <td>-0.386845</td>\n",
       "      <td>-0.330596</td>\n",
       "      <td>0.440292</td>\n",
       "    </tr>\n",
       "  </tbody>\n",
       "</table>\n",
       "<p>162 rows × 6 columns</p>\n",
       "</div>"
      ],
      "text/plain": [
       "     #intercept  sex_female=1  termness_preterm/term_at_scan=1       PMA  \\\n",
       "0             1            -1                                1 -0.522116   \n",
       "1             1             1                                1  0.511738   \n",
       "2             1             1                                1  1.477956   \n",
       "3             1            -1                                1  0.579373   \n",
       "4             1            -1                                1  1.134948   \n",
       "..          ...           ...                              ...       ...   \n",
       "157           1             1                               -1 -1.280597   \n",
       "158           1            -1                               -1  1.477956   \n",
       "159           1            -1                               -1 -1.145326   \n",
       "160           1             1                               -1  0.168730   \n",
       "161           1            -1                               -1 -0.386845   \n",
       "\n",
       "          ICV   MeanFDC  \n",
       "0   -0.540728  0.458592  \n",
       "1    1.110910  0.444781  \n",
       "2    1.384596  0.488684  \n",
       "3    0.780190  0.482940  \n",
       "4   -0.325077  0.348040  \n",
       "..        ...       ...  \n",
       "157 -1.578493  0.455303  \n",
       "158  1.173707  0.626924  \n",
       "159 -1.242368  0.409103  \n",
       "160 -0.255715  0.563484  \n",
       "161 -0.330596  0.440292  \n",
       "\n",
       "[162 rows x 6 columns]"
      ]
     },
     "execution_count": 23,
     "metadata": {},
     "output_type": "execute_result"
    }
   ],
   "source": [
    "design_matrix"
   ]
  },
  {
   "cell_type": "code",
   "execution_count": 33,
   "id": "53a46e40",
   "metadata": {},
   "outputs": [],
   "source": [
    "model_ICV,_ = stats.MassUnivariate.mass_univariate(df=design_matrix,\n",
    "                                    cat_independentVar_cols=['sex_female=1','termness_preterm/term_at_scan=1'],\n",
    "                                    cont_independentVar_cols=['ICV'],\n",
    "                                    dependentVar_cols=['MeanFDC'])"
   ]
  },
  {
   "cell_type": "code",
   "execution_count": 36,
   "id": "79b7978b",
   "metadata": {},
   "outputs": [
    {
     "data": {
      "text/plain": [
       "array([[1.        , 0.72525698],\n",
       "       [0.72525698, 1.        ]])"
      ]
     },
     "execution_count": 36,
     "metadata": {},
     "output_type": "execute_result"
    }
   ],
   "source": [
    "np.corrcoef(design_matrix['PMA'],design_matrix['ICV'])"
   ]
  },
  {
   "cell_type": "code",
   "execution_count": 35,
   "id": "10e9f3a5",
   "metadata": {},
   "outputs": [
    {
     "data": {
      "text/html": [
       "<table class=\"simpletable\">\n",
       "<caption>OLS Regression Results</caption>\n",
       "<tr>\n",
       "  <th>Dep. Variable:</th>         <td>MeanFDC</td>     <th>  R-squared:         </th> <td>   0.319</td>\n",
       "</tr>\n",
       "<tr>\n",
       "  <th>Model:</th>                   <td>OLS</td>       <th>  Adj. R-squared:    </th> <td>   0.306</td>\n",
       "</tr>\n",
       "<tr>\n",
       "  <th>Method:</th>             <td>Least Squares</td>  <th>  F-statistic:       </th> <td>   24.66</td>\n",
       "</tr>\n",
       "<tr>\n",
       "  <th>Date:</th>             <td>Thu, 09 Feb 2023</td> <th>  Prob (F-statistic):</th> <td>3.86e-13</td>\n",
       "</tr>\n",
       "<tr>\n",
       "  <th>Time:</th>                 <td>11:36:32</td>     <th>  Log-Likelihood:    </th> <td>  202.86</td>\n",
       "</tr>\n",
       "<tr>\n",
       "  <th>No. Observations:</th>      <td>   162</td>      <th>  AIC:               </th> <td>  -397.7</td>\n",
       "</tr>\n",
       "<tr>\n",
       "  <th>Df Residuals:</th>          <td>   158</td>      <th>  BIC:               </th> <td>  -385.4</td>\n",
       "</tr>\n",
       "<tr>\n",
       "  <th>Df Model:</th>              <td>     3</td>      <th>                     </th>     <td> </td>   \n",
       "</tr>\n",
       "<tr>\n",
       "  <th>Covariance Type:</th>      <td>nonrobust</td>    <th>                     </th>     <td> </td>   \n",
       "</tr>\n",
       "</table>\n",
       "<table class=\"simpletable\">\n",
       "<tr>\n",
       "                  <td></td>                     <th>coef</th>     <th>std err</th>      <th>t</th>      <th>P>|t|</th>  <th>[0.025</th>    <th>0.975]</th>  \n",
       "</tr>\n",
       "<tr>\n",
       "  <th>const</th>                             <td>    0.5071</td> <td>    0.009</td> <td>   58.524</td> <td> 0.000</td> <td>    0.490</td> <td>    0.524</td>\n",
       "</tr>\n",
       "<tr>\n",
       "  <th>ICV</th>                               <td>    0.0298</td> <td>    0.006</td> <td>    5.291</td> <td> 0.000</td> <td>    0.019</td> <td>    0.041</td>\n",
       "</tr>\n",
       "<tr>\n",
       "  <th>sex_female=1_1</th>                    <td>-8.365e-06</td> <td>    0.012</td> <td>   -0.001</td> <td> 0.999</td> <td>   -0.023</td> <td>    0.023</td>\n",
       "</tr>\n",
       "<tr>\n",
       "  <th>termness_preterm/term_at_scan=1_1</th> <td>   -0.0809</td> <td>    0.011</td> <td>   -7.260</td> <td> 0.000</td> <td>   -0.103</td> <td>   -0.059</td>\n",
       "</tr>\n",
       "</table>\n",
       "<table class=\"simpletable\">\n",
       "<tr>\n",
       "  <th>Omnibus:</th>       <td>11.330</td> <th>  Durbin-Watson:     </th> <td>   2.061</td>\n",
       "</tr>\n",
       "<tr>\n",
       "  <th>Prob(Omnibus):</th> <td> 0.003</td> <th>  Jarque-Bera (JB):  </th> <td>  13.116</td>\n",
       "</tr>\n",
       "<tr>\n",
       "  <th>Skew:</th>          <td>-0.503</td> <th>  Prob(JB):          </th> <td> 0.00142</td>\n",
       "</tr>\n",
       "<tr>\n",
       "  <th>Kurtosis:</th>      <td> 3.966</td> <th>  Cond. No.          </th> <td>    2.88</td>\n",
       "</tr>\n",
       "</table><br/><br/>Notes:<br/>[1] Standard Errors assume that the covariance matrix of the errors is correctly specified."
      ],
      "text/plain": [
       "<class 'statsmodels.iolib.summary.Summary'>\n",
       "\"\"\"\n",
       "                            OLS Regression Results                            \n",
       "==============================================================================\n",
       "Dep. Variable:                MeanFDC   R-squared:                       0.319\n",
       "Model:                            OLS   Adj. R-squared:                  0.306\n",
       "Method:                 Least Squares   F-statistic:                     24.66\n",
       "Date:                Thu, 09 Feb 2023   Prob (F-statistic):           3.86e-13\n",
       "Time:                        11:36:32   Log-Likelihood:                 202.86\n",
       "No. Observations:                 162   AIC:                            -397.7\n",
       "Df Residuals:                     158   BIC:                            -385.4\n",
       "Df Model:                           3                                         \n",
       "Covariance Type:            nonrobust                                         \n",
       "=====================================================================================================\n",
       "                                        coef    std err          t      P>|t|      [0.025      0.975]\n",
       "-----------------------------------------------------------------------------------------------------\n",
       "const                                 0.5071      0.009     58.524      0.000       0.490       0.524\n",
       "ICV                                   0.0298      0.006      5.291      0.000       0.019       0.041\n",
       "sex_female=1_1                    -8.365e-06      0.012     -0.001      0.999      -0.023       0.023\n",
       "termness_preterm/term_at_scan=1_1    -0.0809      0.011     -7.260      0.000      -0.103      -0.059\n",
       "==============================================================================\n",
       "Omnibus:                       11.330   Durbin-Watson:                   2.061\n",
       "Prob(Omnibus):                  0.003   Jarque-Bera (JB):               13.116\n",
       "Skew:                          -0.503   Prob(JB):                      0.00142\n",
       "Kurtosis:                       3.966   Cond. No.                         2.88\n",
       "==============================================================================\n",
       "\n",
       "Notes:\n",
       "[1] Standard Errors assume that the covariance matrix of the errors is correctly specified.\n",
       "\"\"\""
      ]
     },
     "execution_count": 35,
     "metadata": {},
     "output_type": "execute_result"
    }
   ],
   "source": [
    "model_ICV.summary()"
   ]
  },
  {
   "cell_type": "code",
   "execution_count": 30,
   "id": "6d4cefc3",
   "metadata": {},
   "outputs": [
    {
     "data": {
      "text/html": [
       "<table class=\"simpletable\">\n",
       "<caption>OLS Regression Results</caption>\n",
       "<tr>\n",
       "  <th>Dep. Variable:</th>         <td>MeanFDC</td>     <th>  R-squared:         </th> <td>   0.258</td>\n",
       "</tr>\n",
       "<tr>\n",
       "  <th>Model:</th>                   <td>OLS</td>       <th>  Adj. R-squared:    </th> <td>   0.244</td>\n",
       "</tr>\n",
       "<tr>\n",
       "  <th>Method:</th>             <td>Least Squares</td>  <th>  F-statistic:       </th> <td>   18.34</td>\n",
       "</tr>\n",
       "<tr>\n",
       "  <th>Date:</th>             <td>Thu, 09 Feb 2023</td> <th>  Prob (F-statistic):</th> <td>2.94e-10</td>\n",
       "</tr>\n",
       "<tr>\n",
       "  <th>Time:</th>                 <td>11:33:46</td>     <th>  Log-Likelihood:    </th> <td>  195.95</td>\n",
       "</tr>\n",
       "<tr>\n",
       "  <th>No. Observations:</th>      <td>   162</td>      <th>  AIC:               </th> <td>  -383.9</td>\n",
       "</tr>\n",
       "<tr>\n",
       "  <th>Df Residuals:</th>          <td>   158</td>      <th>  BIC:               </th> <td>  -371.5</td>\n",
       "</tr>\n",
       "<tr>\n",
       "  <th>Df Model:</th>              <td>     3</td>      <th>                     </th>     <td> </td>   \n",
       "</tr>\n",
       "<tr>\n",
       "  <th>Covariance Type:</th>      <td>nonrobust</td>    <th>                     </th>     <td> </td>   \n",
       "</tr>\n",
       "</table>\n",
       "<table class=\"simpletable\">\n",
       "<tr>\n",
       "                  <td></td>                     <th>coef</th>     <th>std err</th>      <th>t</th>      <th>P>|t|</th>  <th>[0.025</th>    <th>0.975]</th>  \n",
       "</tr>\n",
       "<tr>\n",
       "  <th>const</th>                             <td>    0.5078</td> <td>    0.009</td> <td>   56.149</td> <td> 0.000</td> <td>    0.490</td> <td>    0.526</td>\n",
       "</tr>\n",
       "<tr>\n",
       "  <th>PMA</th>                               <td>    0.0206</td> <td>    0.006</td> <td>    3.577</td> <td> 0.000</td> <td>    0.009</td> <td>    0.032</td>\n",
       "</tr>\n",
       "<tr>\n",
       "  <th>sex_female=1_1</th>                    <td>   -0.0143</td> <td>    0.012</td> <td>   -1.198</td> <td> 0.233</td> <td>   -0.038</td> <td>    0.009</td>\n",
       "</tr>\n",
       "<tr>\n",
       "  <th>termness_preterm/term_at_scan=1_1</th> <td>   -0.0715</td> <td>    0.012</td> <td>   -6.207</td> <td> 0.000</td> <td>   -0.094</td> <td>   -0.049</td>\n",
       "</tr>\n",
       "</table>\n",
       "<table class=\"simpletable\">\n",
       "<tr>\n",
       "  <th>Omnibus:</th>       <td> 8.394</td> <th>  Durbin-Watson:     </th> <td>   2.070</td>\n",
       "</tr>\n",
       "<tr>\n",
       "  <th>Prob(Omnibus):</th> <td> 0.015</td> <th>  Jarque-Bera (JB):  </th> <td>   8.353</td>\n",
       "</tr>\n",
       "<tr>\n",
       "  <th>Skew:</th>          <td>-0.473</td> <th>  Prob(JB):          </th> <td>  0.0154</td>\n",
       "</tr>\n",
       "<tr>\n",
       "  <th>Kurtosis:</th>      <td> 3.586</td> <th>  Cond. No.          </th> <td>    2.88</td>\n",
       "</tr>\n",
       "</table><br/><br/>Notes:<br/>[1] Standard Errors assume that the covariance matrix of the errors is correctly specified."
      ],
      "text/plain": [
       "<class 'statsmodels.iolib.summary.Summary'>\n",
       "\"\"\"\n",
       "                            OLS Regression Results                            \n",
       "==============================================================================\n",
       "Dep. Variable:                MeanFDC   R-squared:                       0.258\n",
       "Model:                            OLS   Adj. R-squared:                  0.244\n",
       "Method:                 Least Squares   F-statistic:                     18.34\n",
       "Date:                Thu, 09 Feb 2023   Prob (F-statistic):           2.94e-10\n",
       "Time:                        11:33:46   Log-Likelihood:                 195.95\n",
       "No. Observations:                 162   AIC:                            -383.9\n",
       "Df Residuals:                     158   BIC:                            -371.5\n",
       "Df Model:                           3                                         \n",
       "Covariance Type:            nonrobust                                         \n",
       "=====================================================================================================\n",
       "                                        coef    std err          t      P>|t|      [0.025      0.975]\n",
       "-----------------------------------------------------------------------------------------------------\n",
       "const                                 0.5078      0.009     56.149      0.000       0.490       0.526\n",
       "PMA                                   0.0206      0.006      3.577      0.000       0.009       0.032\n",
       "sex_female=1_1                       -0.0143      0.012     -1.198      0.233      -0.038       0.009\n",
       "termness_preterm/term_at_scan=1_1    -0.0715      0.012     -6.207      0.000      -0.094      -0.049\n",
       "==============================================================================\n",
       "Omnibus:                        8.394   Durbin-Watson:                   2.070\n",
       "Prob(Omnibus):                  0.015   Jarque-Bera (JB):                8.353\n",
       "Skew:                          -0.473   Prob(JB):                       0.0154\n",
       "Kurtosis:                       3.586   Cond. No.                         2.88\n",
       "==============================================================================\n",
       "\n",
       "Notes:\n",
       "[1] Standard Errors assume that the covariance matrix of the errors is correctly specified.\n",
       "\"\"\""
      ]
     },
     "execution_count": 30,
     "metadata": {},
     "output_type": "execute_result"
    }
   ],
   "source": [
    "model_PMAonly.summary()"
   ]
  },
  {
   "cell_type": "code",
   "execution_count": 32,
   "id": "6f159811",
   "metadata": {},
   "outputs": [
    {
     "data": {
      "text/html": [
       "<table class=\"simpletable\">\n",
       "<caption>OLS Regression Results</caption>\n",
       "<tr>\n",
       "  <th>Dep. Variable:</th>         <td>MeanFDC</td>     <th>  R-squared:         </th> <td>   0.320</td>\n",
       "</tr>\n",
       "<tr>\n",
       "  <th>Model:</th>                   <td>OLS</td>       <th>  Adj. R-squared:    </th> <td>   0.302</td>\n",
       "</tr>\n",
       "<tr>\n",
       "  <th>Method:</th>             <td>Least Squares</td>  <th>  F-statistic:       </th> <td>   18.45</td>\n",
       "</tr>\n",
       "<tr>\n",
       "  <th>Date:</th>             <td>Thu, 09 Feb 2023</td> <th>  Prob (F-statistic):</th> <td>1.90e-12</td>\n",
       "</tr>\n",
       "<tr>\n",
       "  <th>Time:</th>                 <td>11:34:11</td>     <th>  Log-Likelihood:    </th> <td>  202.97</td>\n",
       "</tr>\n",
       "<tr>\n",
       "  <th>No. Observations:</th>      <td>   162</td>      <th>  AIC:               </th> <td>  -395.9</td>\n",
       "</tr>\n",
       "<tr>\n",
       "  <th>Df Residuals:</th>          <td>   157</td>      <th>  BIC:               </th> <td>  -380.5</td>\n",
       "</tr>\n",
       "<tr>\n",
       "  <th>Df Model:</th>              <td>     4</td>      <th>                     </th>     <td> </td>   \n",
       "</tr>\n",
       "<tr>\n",
       "  <th>Covariance Type:</th>      <td>nonrobust</td>    <th>                     </th>     <td> </td>   \n",
       "</tr>\n",
       "</table>\n",
       "<table class=\"simpletable\">\n",
       "<tr>\n",
       "                  <td></td>                     <th>coef</th>     <th>std err</th>      <th>t</th>      <th>P>|t|</th>  <th>[0.025</th>    <th>0.975]</th>  \n",
       "</tr>\n",
       "<tr>\n",
       "  <th>const</th>                             <td>    0.5070</td> <td>    0.009</td> <td>   58.349</td> <td> 0.000</td> <td>    0.490</td> <td>    0.524</td>\n",
       "</tr>\n",
       "<tr>\n",
       "  <th>PMA</th>                               <td>   -0.0039</td> <td>    0.009</td> <td>   -0.459</td> <td> 0.647</td> <td>   -0.021</td> <td>    0.013</td>\n",
       "</tr>\n",
       "<tr>\n",
       "  <th>ICV</th>                               <td>    0.0329</td> <td>    0.009</td> <td>    3.769</td> <td> 0.000</td> <td>    0.016</td> <td>    0.050</td>\n",
       "</tr>\n",
       "<tr>\n",
       "  <th>sex_female=1_1</th>                    <td>    0.0017</td> <td>    0.012</td> <td>    0.140</td> <td> 0.889</td> <td>   -0.022</td> <td>    0.026</td>\n",
       "</tr>\n",
       "<tr>\n",
       "  <th>termness_preterm/term_at_scan=1_1</th> <td>   -0.0820</td> <td>    0.011</td> <td>   -7.181</td> <td> 0.000</td> <td>   -0.105</td> <td>   -0.059</td>\n",
       "</tr>\n",
       "</table>\n",
       "<table class=\"simpletable\">\n",
       "<tr>\n",
       "  <th>Omnibus:</th>       <td>12.048</td> <th>  Durbin-Watson:     </th> <td>   2.058</td>\n",
       "</tr>\n",
       "<tr>\n",
       "  <th>Prob(Omnibus):</th> <td> 0.002</td> <th>  Jarque-Bera (JB):  </th> <td>  14.174</td>\n",
       "</tr>\n",
       "<tr>\n",
       "  <th>Skew:</th>          <td>-0.522</td> <th>  Prob(JB):          </th> <td>0.000836</td>\n",
       "</tr>\n",
       "<tr>\n",
       "  <th>Kurtosis:</th>      <td> 4.005</td> <th>  Cond. No.          </th> <td>    3.44</td>\n",
       "</tr>\n",
       "</table><br/><br/>Notes:<br/>[1] Standard Errors assume that the covariance matrix of the errors is correctly specified."
      ],
      "text/plain": [
       "<class 'statsmodels.iolib.summary.Summary'>\n",
       "\"\"\"\n",
       "                            OLS Regression Results                            \n",
       "==============================================================================\n",
       "Dep. Variable:                MeanFDC   R-squared:                       0.320\n",
       "Model:                            OLS   Adj. R-squared:                  0.302\n",
       "Method:                 Least Squares   F-statistic:                     18.45\n",
       "Date:                Thu, 09 Feb 2023   Prob (F-statistic):           1.90e-12\n",
       "Time:                        11:34:11   Log-Likelihood:                 202.97\n",
       "No. Observations:                 162   AIC:                            -395.9\n",
       "Df Residuals:                     157   BIC:                            -380.5\n",
       "Df Model:                           4                                         \n",
       "Covariance Type:            nonrobust                                         \n",
       "=====================================================================================================\n",
       "                                        coef    std err          t      P>|t|      [0.025      0.975]\n",
       "-----------------------------------------------------------------------------------------------------\n",
       "const                                 0.5070      0.009     58.349      0.000       0.490       0.524\n",
       "PMA                                  -0.0039      0.009     -0.459      0.647      -0.021       0.013\n",
       "ICV                                   0.0329      0.009      3.769      0.000       0.016       0.050\n",
       "sex_female=1_1                        0.0017      0.012      0.140      0.889      -0.022       0.026\n",
       "termness_preterm/term_at_scan=1_1    -0.0820      0.011     -7.181      0.000      -0.105      -0.059\n",
       "==============================================================================\n",
       "Omnibus:                       12.048   Durbin-Watson:                   2.058\n",
       "Prob(Omnibus):                  0.002   Jarque-Bera (JB):               14.174\n",
       "Skew:                          -0.522   Prob(JB):                     0.000836\n",
       "Kurtosis:                       4.005   Cond. No.                         3.44\n",
       "==============================================================================\n",
       "\n",
       "Notes:\n",
       "[1] Standard Errors assume that the covariance matrix of the errors is correctly specified.\n",
       "\"\"\""
      ]
     },
     "execution_count": 32,
     "metadata": {},
     "output_type": "execute_result"
    }
   ],
   "source": [
    "model_PMA_ICV.summary()"
   ]
  },
  {
   "cell_type": "code",
   "execution_count": null,
   "id": "74d32c5b",
   "metadata": {},
   "outputs": [],
   "source": []
  }
 ],
 "metadata": {
  "kernelspec": {
   "display_name": "Python 3 (ipykernel)",
   "language": "python",
   "name": "python3"
  },
  "language_info": {
   "codemirror_mode": {
    "name": "ipython",
    "version": 3
   },
   "file_extension": ".py",
   "mimetype": "text/x-python",
   "name": "python",
   "nbconvert_exporter": "python",
   "pygments_lexer": "ipython3",
   "version": "3.9.13"
  }
 },
 "nbformat": 4,
 "nbformat_minor": 5
}
