{
 "cells": [
  {
   "cell_type": "code",
   "execution_count": 28,
   "id": "abfd65fd",
   "metadata": {},
   "outputs": [],
   "source": [
    "import sys\n",
    "sys.path.append('../../')\n",
    "sys.path.append('../')\n",
    "\n",
    "dataset_path = \"../dataset\"\n",
    "preprocessed_dataset_path = \"../dataset/preprocessed_dataset\"\n",
    "\n",
    "from codes.docs.analysis import data_preprocessing, genetic_file_preprocess\n",
    "from codes.docs.analysis.nimagen import genes, stats, visualisation\n",
    "\n",
    "import matplotlib.pyplot as plt\n",
    "import numpy as np\n",
    "import pandas as pd\n",
    "import scipy.io\n",
    "import glob\n",
    "from collections import defaultdict\n",
    "%matplotlib inline"
   ]
  },
  {
   "cell_type": "code",
   "execution_count": 2,
   "id": "fb517380",
   "metadata": {},
   "outputs": [],
   "source": [
    "european_volumetric_dataset_term = pd.read_csv('../dataset/preprocessed_dataset/imaging_data/log_file/rel3/volumetric/european_volumetric_df_rel3_batch2.csv')"
   ]
  },
  {
   "cell_type": "code",
   "execution_count": 3,
   "id": "2b01f989",
   "metadata": {},
   "outputs": [],
   "source": [
    "european_volumetric_dataset_term = european_volumetric_dataset_term[(european_volumetric_dataset_term['radiology_score']<5)&(european_volumetric_dataset_term['radiology_low_image_quality']==False)]"
   ]
  },
  {
   "cell_type": "markdown",
   "id": "390a74e6",
   "metadata": {},
   "source": [
    "`european_volumetric_dataset_term` has 279 observations (after removal of low image quality and radiology score)"
   ]
  },
  {
   "cell_type": "code",
   "execution_count": 4,
   "id": "b9c17370",
   "metadata": {},
   "outputs": [],
   "source": [
    "# tract_volumes = pd.read_csv('../codes/FBA/output/aba/wm_parcellation_volume.txt',delim_whitespace=True,header=None)"
   ]
  },
  {
   "cell_type": "code",
   "execution_count": 51,
   "id": "c244be98",
   "metadata": {},
   "outputs": [],
   "source": [
    "tract_volumes = tract_volumes.iloc[:,np.r_[[0]+[i for i in range(94,148)]]]\n",
    "tract_volumes.columns = ['ID/Ses']+[f'l_{i}' for i in range(94,148)]"
   ]
  },
  {
   "cell_type": "code",
   "execution_count": 52,
   "id": "1f58be90",
   "metadata": {},
   "outputs": [],
   "source": [
    "df = european_volumetric_dataset_term.copy()\n",
    "\n",
    "ancestry = [f'euro_Anc_PC{i}'\n",
    "            for i in range(1, 4)]  # remove any ancestry outliers\n",
    "\n",
    "df = stats.MassUnivariate.remove_outliers(\n",
    "    df,\n",
    "    col=ancestry,\n",
    "    threshold=3.5,\n",
    "    remove_schemes='any',\n",
    "    percentage_of_outlier=0.1)"
   ]
  },
  {
   "cell_type": "code",
   "execution_count": 53,
   "id": "0342b783",
   "metadata": {},
   "outputs": [],
   "source": [
    "df = stats.MassUnivariate.remove_outliers(\n",
    "    df,\n",
    "    col=['WM','GM','TBV','ICV'],\n",
    "    threshold=3.5,\n",
    "    remove_schemes='any')"
   ]
  },
  {
   "cell_type": "code",
   "execution_count": 6,
   "id": "8497b747",
   "metadata": {},
   "outputs": [],
   "source": [
    "fd_mean = pd.read_csv('../codes/FBA/output/aba/mean_fa.txt',delim_whitespace=True,header=None,\n",
    "                     names=['ID/Ses']+[f'l_{i}' for i in range(94,148)])"
   ]
  },
  {
   "cell_type": "code",
   "execution_count": 54,
   "id": "e42a617e",
   "metadata": {},
   "outputs": [],
   "source": [
    "df['ID/Ses'] = 'sub-'+df['ID']+'/ses-'+df['Session'].astype('str')"
   ]
  },
  {
   "cell_type": "code",
   "execution_count": 9,
   "id": "20b183ce",
   "metadata": {},
   "outputs": [
    {
     "data": {
      "text/plain": [
       "(229, 55)"
      ]
     },
     "execution_count": 9,
     "metadata": {},
     "output_type": "execute_result"
    }
   ],
   "source": [
    "fd_mean.shape"
   ]
  },
  {
   "cell_type": "code",
   "execution_count": 10,
   "id": "6d67a80d",
   "metadata": {},
   "outputs": [],
   "source": [
    "fd_mean = pd.merge(df,fd_mean,on=['ID/Ses'])"
   ]
  },
  {
   "cell_type": "code",
   "execution_count": 55,
   "id": "be1d6642",
   "metadata": {},
   "outputs": [],
   "source": [
    "tract_volumes = pd.merge(df,tract_volumes,on=['ID/Ses'])"
   ]
  },
  {
   "cell_type": "code",
   "execution_count": 56,
   "id": "5b1d81d8",
   "metadata": {},
   "outputs": [],
   "source": [
    "tract_volumes = tract_volumes.drop_duplicates(subset=['ID/Ses'])"
   ]
  },
  {
   "cell_type": "code",
   "execution_count": 58,
   "id": "cebd4a80",
   "metadata": {},
   "outputs": [],
   "source": [
    "tract_volumes = tract_volumes.dropna(subset=['l_94'])"
   ]
  },
  {
   "cell_type": "code",
   "execution_count": 75,
   "id": "85ba10bc",
   "metadata": {},
   "outputs": [
    {
     "name": "stderr",
     "output_type": "stream",
     "text": [
      "/tmp/ipykernel_884251/2115912514.py:8: SettingWithCopyWarning: \n",
      "A value is trying to be set on a copy of a slice from a DataFrame.\n",
      "Try using .loc[row_indexer,col_indexer] = value instead\n",
      "\n",
      "See the caveats in the documentation: https://pandas.pydata.org/pandas-docs/stable/user_guide/indexing.html#returning-a-view-versus-a-copy\n",
      "  tract_volumes['PRS_pca'] = prs_pca\n"
     ]
    }
   ],
   "source": [
    "pca, prs_pca, loading_matrix = stats.FeatureReduction.perform_PCA(\n",
    "    tract_volumes,\n",
    "    dependentVar_cols=[i for i in df.columns if 'ASD_PRS' in i],\n",
    "    scaling=True,\n",
    "    n_components=1\n",
    ")\n",
    "\n",
    "tract_volumes['PRS_pca'] = prs_pca"
   ]
  },
  {
   "cell_type": "code",
   "execution_count": 88,
   "id": "974b0cb9",
   "metadata": {},
   "outputs": [
    {
     "name": "stderr",
     "output_type": "stream",
     "text": [
      "100%|███████████████████████████████████████████████████████████████████████████████████████████████████████████████████| 11/11 [00:11<00:00,  1.00s/it]\n"
     ]
    }
   ],
   "source": [
    "test = stats.MassUnivariate.calculate_mass_univariate_across_multiple_thresholds(\n",
    "    tract_volumes,\n",
    "    thresholds=[i for i in tract_volumes.columns if 'ASD_PRS' in i],\n",
    "    cat_independentVar_cols=['sex'],\n",
    "    cont_independentVar_cols=['GA','PMA','TBV']+ancestry,\n",
    "    dependentVar_cols=[f'l_{i}' for i in range(94,148)])"
   ]
  },
  {
   "cell_type": "code",
   "execution_count": 89,
   "id": "f4dc13c0",
   "metadata": {},
   "outputs": [
    {
     "name": "stdout",
     "output_type": "stream",
     "text": [
      "Effective Number of Independent Variables [Veff] is 29.588147823710116\n",
      "Effective Number of Independent Variables [VeffLi] (Using equation 5 of Li and Ji 2005) is 17.0\n",
      "The adjusted multiple testing correction p-val is alpha/lower(Meff) = 0.002941176470588242\n"
     ]
    },
    {
     "data": {
      "text/plain": [
       "16.99999999999996"
      ]
     },
     "execution_count": 89,
     "metadata": {},
     "output_type": "execute_result"
    }
   ],
   "source": [
    "stats.MultipleCorrection.matSpDLite(np.corrcoef(tract_volumes[[f'l_{i}' for i in range(94,148)]],rowvar=False))"
   ]
  },
  {
   "cell_type": "code",
   "execution_count": 82,
   "id": "66242dd3",
   "metadata": {},
   "outputs": [
    {
     "name": "stdout",
     "output_type": "stream",
     "text": [
      "Effective Number of Independent Variables [Veff] is 5.110944751786361\n",
      "Effective Number of Independent Variables [VeffLi] (Using equation 5 of Li and Ji 2005) is 4.0\n",
      "The adjusted multiple testing correction p-val is alpha/lower(Meff) = 0.01250000000000001\n"
     ]
    },
    {
     "data": {
      "text/plain": [
       "3.9999999999999973"
      ]
     },
     "execution_count": 82,
     "metadata": {},
     "output_type": "execute_result"
    }
   ],
   "source": [
    "stats.MultipleCorrection.matSpDLite(np.corrcoef(tract_volumes[[i for i in tract_volumes.columns if 'SCZ_PRS' in i]],rowvar=False))"
   ]
  },
  {
   "cell_type": "code",
   "execution_count": 91,
   "id": "d1e067b3",
   "metadata": {},
   "outputs": [
    {
     "data": {
      "text/plain": [
       "0.0004901960784313725"
      ]
     },
     "execution_count": 91,
     "metadata": {},
     "output_type": "execute_result"
    }
   ],
   "source": [
    "0.05/17/6"
   ]
  },
  {
   "cell_type": "code",
   "execution_count": 80,
   "id": "27b48a9a",
   "metadata": {},
   "outputs": [
    {
     "data": {
      "text/plain": [
       "<AxesSubplot:xlabel='standardize(Adj. l_102)', ylabel='standardize(Adj. PRS_pca)'>"
      ]
     },
     "execution_count": 80,
     "metadata": {},
     "output_type": "execute_result"
    },
    {
     "data": {
      "image/png": "[encoded data removed]",
      "text/plain": [
       "<Figure size 640x480 with 1 Axes>"
      ]
     },
     "metadata": {},
     "output_type": "display_data"
    }
   ],
   "source": [
    "visualisation.SimplePlots.Scatter(x='l_102',y='PRS_pca',data=tract_volumes,adjust_covar={'x':['GA','PMA','sex','TBV'],'y':ancestry})"
   ]
  },
  {
   "cell_type": "code",
   "execution_count": 90,
   "id": "86371d4d",
   "metadata": {},
   "outputs": [
    {
     "data": {
      "text/html": [
       "<div>\n",
       "<style scoped>\n",
       "    .dataframe tbody tr th:only-of-type {\n",
       "        vertical-align: middle;\n",
       "    }\n",
       "\n",
       "    .dataframe tbody tr th {\n",
       "        vertical-align: top;\n",
       "    }\n",
       "\n",
       "    .dataframe thead th {\n",
       "        text-align: right;\n",
       "    }\n",
       "</style>\n",
       "<table border=\"1\" class=\"dataframe\">\n",
       "  <thead>\n",
       "    <tr style=\"text-align: right;\">\n",
       "      <th></th>\n",
       "      <th>Connection</th>\n",
       "      <th>Intercept_coef</th>\n",
       "      <th>Intercept_pval</th>\n",
       "      <th>C(sex)[T.male]_coef</th>\n",
       "      <th>C(sex)[T.male]_pval</th>\n",
       "      <th>standardize(GA)_coef</th>\n",
       "      <th>standardize(GA)_pval</th>\n",
       "      <th>standardize(PMA)_coef</th>\n",
       "      <th>standardize(PMA)_pval</th>\n",
       "      <th>standardize(TBV)_coef</th>\n",
       "      <th>standardize(TBV)_pval</th>\n",
       "      <th>standardize(Q('euro_Anc_PC1'))_coef</th>\n",
       "      <th>standardize(Q('euro_Anc_PC1'))_pval</th>\n",
       "      <th>standardize(Q('euro_Anc_PC2'))_coef</th>\n",
       "      <th>standardize(Q('euro_Anc_PC2'))_pval</th>\n",
       "      <th>standardize(Q('euro_Anc_PC3'))_coef</th>\n",
       "      <th>standardize(Q('euro_Anc_PC3'))_pval</th>\n",
       "      <th>PRS_coef</th>\n",
       "      <th>PRS_pval</th>\n",
       "      <th>threshold</th>\n",
       "    </tr>\n",
       "  </thead>\n",
       "  <tbody>\n",
       "    <tr>\n",
       "      <th>327</th>\n",
       "      <td>l_97</td>\n",
       "      <td>514.466991</td>\n",
       "      <td>4.976418e-225</td>\n",
       "      <td>-6.291478</td>\n",
       "      <td>0.179247</td>\n",
       "      <td>2.212935</td>\n",
       "      <td>0.428374</td>\n",
       "      <td>9.130521</td>\n",
       "      <td>0.026913</td>\n",
       "      <td>52.545261</td>\n",
       "      <td>7.543391e-35</td>\n",
       "      <td>1.642909</td>\n",
       "      <td>0.441354</td>\n",
       "      <td>1.177829</td>\n",
       "      <td>0.574092</td>\n",
       "      <td>-0.055334</td>\n",
       "      <td>0.979240</td>\n",
       "      <td>8.954820</td>\n",
       "      <td>0.000028</td>\n",
       "      <td>ASD_PRS_Pt_0.01</td>\n",
       "    </tr>\n",
       "    <tr>\n",
       "      <th>332</th>\n",
       "      <td>l_102</td>\n",
       "      <td>2987.718294</td>\n",
       "      <td>1.942696e-240</td>\n",
       "      <td>-16.061297</td>\n",
       "      <td>0.483351</td>\n",
       "      <td>19.144025</td>\n",
       "      <td>0.162650</td>\n",
       "      <td>-45.497369</td>\n",
       "      <td>0.024442</td>\n",
       "      <td>360.415736</td>\n",
       "      <td>3.146476e-53</td>\n",
       "      <td>5.550795</td>\n",
       "      <td>0.595327</td>\n",
       "      <td>-1.546457</td>\n",
       "      <td>0.880235</td>\n",
       "      <td>4.685809</td>\n",
       "      <td>0.652962</td>\n",
       "      <td>37.693239</td>\n",
       "      <td>0.000295</td>\n",
       "      <td>ASD_PRS_Pt_0.01</td>\n",
       "    </tr>\n",
       "    <tr>\n",
       "      <th>333</th>\n",
       "      <td>l_103</td>\n",
       "      <td>2896.927625</td>\n",
       "      <td>3.065462e-239</td>\n",
       "      <td>22.961927</td>\n",
       "      <td>0.308085</td>\n",
       "      <td>14.908968</td>\n",
       "      <td>0.268008</td>\n",
       "      <td>-31.151091</td>\n",
       "      <td>0.115742</td>\n",
       "      <td>356.746789</td>\n",
       "      <td>1.092957e-53</td>\n",
       "      <td>-2.541757</td>\n",
       "      <td>0.804439</td>\n",
       "      <td>4.152610</td>\n",
       "      <td>0.680543</td>\n",
       "      <td>-4.845537</td>\n",
       "      <td>0.636038</td>\n",
       "      <td>34.447102</td>\n",
       "      <td>0.000742</td>\n",
       "      <td>ASD_PRS_Pt_0.01</td>\n",
       "    </tr>\n",
       "    <tr>\n",
       "      <th>326</th>\n",
       "      <td>l_96</td>\n",
       "      <td>471.511395</td>\n",
       "      <td>1.599301e-217</td>\n",
       "      <td>-5.723582</td>\n",
       "      <td>0.219662</td>\n",
       "      <td>-2.678960</td>\n",
       "      <td>0.335822</td>\n",
       "      <td>14.241777</td>\n",
       "      <td>0.000587</td>\n",
       "      <td>44.681934</td>\n",
       "      <td>5.796623e-28</td>\n",
       "      <td>0.555533</td>\n",
       "      <td>0.793632</td>\n",
       "      <td>-1.317438</td>\n",
       "      <td>0.527885</td>\n",
       "      <td>-4.726777</td>\n",
       "      <td>0.026483</td>\n",
       "      <td>6.801581</td>\n",
       "      <td>0.001265</td>\n",
       "      <td>ASD_PRS_Pt_0.01</td>\n",
       "    </tr>\n",
       "    <tr>\n",
       "      <th>386</th>\n",
       "      <td>l_102</td>\n",
       "      <td>2987.467214</td>\n",
       "      <td>1.331239e-239</td>\n",
       "      <td>-15.556834</td>\n",
       "      <td>0.501187</td>\n",
       "      <td>13.234524</td>\n",
       "      <td>0.332577</td>\n",
       "      <td>-38.435339</td>\n",
       "      <td>0.056707</td>\n",
       "      <td>356.167365</td>\n",
       "      <td>2.792135e-52</td>\n",
       "      <td>6.204634</td>\n",
       "      <td>0.557588</td>\n",
       "      <td>-2.312677</td>\n",
       "      <td>0.823614</td>\n",
       "      <td>7.766524</td>\n",
       "      <td>0.458414</td>\n",
       "      <td>31.698876</td>\n",
       "      <td>0.002180</td>\n",
       "      <td>ASD_PRS_Pt_0.05</td>\n",
       "    </tr>\n",
       "    <tr>\n",
       "      <th>...</th>\n",
       "      <td>...</td>\n",
       "      <td>...</td>\n",
       "      <td>...</td>\n",
       "      <td>...</td>\n",
       "      <td>...</td>\n",
       "      <td>...</td>\n",
       "      <td>...</td>\n",
       "      <td>...</td>\n",
       "      <td>...</td>\n",
       "      <td>...</td>\n",
       "      <td>...</td>\n",
       "      <td>...</td>\n",
       "      <td>...</td>\n",
       "      <td>...</td>\n",
       "      <td>...</td>\n",
       "      <td>...</td>\n",
       "      <td>...</td>\n",
       "      <td>...</td>\n",
       "      <td>...</td>\n",
       "      <td>...</td>\n",
       "    </tr>\n",
       "    <tr>\n",
       "      <th>472</th>\n",
       "      <td>l_134</td>\n",
       "      <td>415.141047</td>\n",
       "      <td>3.243594e-182</td>\n",
       "      <td>-8.330407</td>\n",
       "      <td>0.170190</td>\n",
       "      <td>4.761627</td>\n",
       "      <td>0.185870</td>\n",
       "      <td>21.248028</td>\n",
       "      <td>0.000080</td>\n",
       "      <td>36.772043</td>\n",
       "      <td>4.769430e-14</td>\n",
       "      <td>-2.311419</td>\n",
       "      <td>0.405920</td>\n",
       "      <td>0.120848</td>\n",
       "      <td>0.964813</td>\n",
       "      <td>0.633530</td>\n",
       "      <td>0.818857</td>\n",
       "      <td>0.035309</td>\n",
       "      <td>0.989583</td>\n",
       "      <td>ASD_PRS_Pt_0.1</td>\n",
       "    </tr>\n",
       "    <tr>\n",
       "      <th>453</th>\n",
       "      <td>l_115</td>\n",
       "      <td>324.817777</td>\n",
       "      <td>2.140075e-170</td>\n",
       "      <td>6.933778</td>\n",
       "      <td>0.201101</td>\n",
       "      <td>3.517972</td>\n",
       "      <td>0.273570</td>\n",
       "      <td>-15.821825</td>\n",
       "      <td>0.000942</td>\n",
       "      <td>38.749688</td>\n",
       "      <td>3.723964e-18</td>\n",
       "      <td>2.924984</td>\n",
       "      <td>0.239437</td>\n",
       "      <td>2.248946</td>\n",
       "      <td>0.358553</td>\n",
       "      <td>0.948325</td>\n",
       "      <td>0.701180</td>\n",
       "      <td>0.027518</td>\n",
       "      <td>0.990911</td>\n",
       "      <td>ASD_PRS_Pt_0.1</td>\n",
       "    </tr>\n",
       "    <tr>\n",
       "      <th>419</th>\n",
       "      <td>l_135</td>\n",
       "      <td>435.119466</td>\n",
       "      <td>9.037472e-186</td>\n",
       "      <td>-8.775579</td>\n",
       "      <td>0.152129</td>\n",
       "      <td>2.051052</td>\n",
       "      <td>0.569862</td>\n",
       "      <td>19.940191</td>\n",
       "      <td>0.000221</td>\n",
       "      <td>39.920396</td>\n",
       "      <td>8.173964e-16</td>\n",
       "      <td>-1.847939</td>\n",
       "      <td>0.509005</td>\n",
       "      <td>-0.202863</td>\n",
       "      <td>0.941058</td>\n",
       "      <td>-0.191337</td>\n",
       "      <td>0.944894</td>\n",
       "      <td>-0.030520</td>\n",
       "      <td>0.990997</td>\n",
       "      <td>ASD_PRS_Pt_0.05</td>\n",
       "    </tr>\n",
       "    <tr>\n",
       "      <th>146</th>\n",
       "      <td>l_132</td>\n",
       "      <td>204.424027</td>\n",
       "      <td>5.902766e-188</td>\n",
       "      <td>-5.320981</td>\n",
       "      <td>0.058659</td>\n",
       "      <td>3.513588</td>\n",
       "      <td>0.034972</td>\n",
       "      <td>1.805981</td>\n",
       "      <td>0.457770</td>\n",
       "      <td>17.211267</td>\n",
       "      <td>2.134129e-14</td>\n",
       "      <td>-1.189378</td>\n",
       "      <td>0.351629</td>\n",
       "      <td>-0.394766</td>\n",
       "      <td>0.753074</td>\n",
       "      <td>0.179853</td>\n",
       "      <td>0.887886</td>\n",
       "      <td>-0.012479</td>\n",
       "      <td>0.991942</td>\n",
       "      <td>ASD_PRS_Pt_1e-06</td>\n",
       "    </tr>\n",
       "    <tr>\n",
       "      <th>514</th>\n",
       "      <td>l_122</td>\n",
       "      <td>935.039377</td>\n",
       "      <td>1.894733e-220</td>\n",
       "      <td>0.970197</td>\n",
       "      <td>0.913443</td>\n",
       "      <td>10.476220</td>\n",
       "      <td>0.048581</td>\n",
       "      <td>-10.199680</td>\n",
       "      <td>0.192320</td>\n",
       "      <td>101.768744</td>\n",
       "      <td>1.066855e-35</td>\n",
       "      <td>1.590407</td>\n",
       "      <td>0.696922</td>\n",
       "      <td>0.403790</td>\n",
       "      <td>0.920532</td>\n",
       "      <td>0.919372</td>\n",
       "      <td>0.821753</td>\n",
       "      <td>0.035598</td>\n",
       "      <td>0.992900</td>\n",
       "      <td>ASD_PRS_Pt_0.5</td>\n",
       "    </tr>\n",
       "  </tbody>\n",
       "</table>\n",
       "<p>594 rows × 20 columns</p>\n",
       "</div>"
      ],
      "text/plain": [
       "    Connection  Intercept_coef  Intercept_pval  C(sex)[T.male]_coef  \\\n",
       "327       l_97      514.466991   4.976418e-225            -6.291478   \n",
       "332      l_102     2987.718294   1.942696e-240           -16.061297   \n",
       "333      l_103     2896.927625   3.065462e-239            22.961927   \n",
       "326       l_96      471.511395   1.599301e-217            -5.723582   \n",
       "386      l_102     2987.467214   1.331239e-239           -15.556834   \n",
       "..         ...             ...             ...                  ...   \n",
       "472      l_134      415.141047   3.243594e-182            -8.330407   \n",
       "453      l_115      324.817777   2.140075e-170             6.933778   \n",
       "419      l_135      435.119466   9.037472e-186            -8.775579   \n",
       "146      l_132      204.424027   5.902766e-188            -5.320981   \n",
       "514      l_122      935.039377   1.894733e-220             0.970197   \n",
       "\n",
       "     C(sex)[T.male]_pval  standardize(GA)_coef  standardize(GA)_pval  \\\n",
       "327             0.179247              2.212935              0.428374   \n",
       "332             0.483351             19.144025              0.162650   \n",
       "333             0.308085             14.908968              0.268008   \n",
       "326             0.219662             -2.678960              0.335822   \n",
       "386             0.501187             13.234524              0.332577   \n",
       "..                   ...                   ...                   ...   \n",
       "472             0.170190              4.761627              0.185870   \n",
       "453             0.201101              3.517972              0.273570   \n",
       "419             0.152129              2.051052              0.569862   \n",
       "146             0.058659              3.513588              0.034972   \n",
       "514             0.913443             10.476220              0.048581   \n",
       "\n",
       "     standardize(PMA)_coef  standardize(PMA)_pval  standardize(TBV)_coef  \\\n",
       "327               9.130521               0.026913              52.545261   \n",
       "332             -45.497369               0.024442             360.415736   \n",
       "333             -31.151091               0.115742             356.746789   \n",
       "326              14.241777               0.000587              44.681934   \n",
       "386             -38.435339               0.056707             356.167365   \n",
       "..                     ...                    ...                    ...   \n",
       "472              21.248028               0.000080              36.772043   \n",
       "453             -15.821825               0.000942              38.749688   \n",
       "419              19.940191               0.000221              39.920396   \n",
       "146               1.805981               0.457770              17.211267   \n",
       "514             -10.199680               0.192320             101.768744   \n",
       "\n",
       "     standardize(TBV)_pval  standardize(Q('euro_Anc_PC1'))_coef  \\\n",
       "327           7.543391e-35                             1.642909   \n",
       "332           3.146476e-53                             5.550795   \n",
       "333           1.092957e-53                            -2.541757   \n",
       "326           5.796623e-28                             0.555533   \n",
       "386           2.792135e-52                             6.204634   \n",
       "..                     ...                                  ...   \n",
       "472           4.769430e-14                            -2.311419   \n",
       "453           3.723964e-18                             2.924984   \n",
       "419           8.173964e-16                            -1.847939   \n",
       "146           2.134129e-14                            -1.189378   \n",
       "514           1.066855e-35                             1.590407   \n",
       "\n",
       "     standardize(Q('euro_Anc_PC1'))_pval  standardize(Q('euro_Anc_PC2'))_coef  \\\n",
       "327                             0.441354                             1.177829   \n",
       "332                             0.595327                            -1.546457   \n",
       "333                             0.804439                             4.152610   \n",
       "326                             0.793632                            -1.317438   \n",
       "386                             0.557588                            -2.312677   \n",
       "..                                   ...                                  ...   \n",
       "472                             0.405920                             0.120848   \n",
       "453                             0.239437                             2.248946   \n",
       "419                             0.509005                            -0.202863   \n",
       "146                             0.351629                            -0.394766   \n",
       "514                             0.696922                             0.403790   \n",
       "\n",
       "     standardize(Q('euro_Anc_PC2'))_pval  standardize(Q('euro_Anc_PC3'))_coef  \\\n",
       "327                             0.574092                            -0.055334   \n",
       "332                             0.880235                             4.685809   \n",
       "333                             0.680543                            -4.845537   \n",
       "326                             0.527885                            -4.726777   \n",
       "386                             0.823614                             7.766524   \n",
       "..                                   ...                                  ...   \n",
       "472                             0.964813                             0.633530   \n",
       "453                             0.358553                             0.948325   \n",
       "419                             0.941058                            -0.191337   \n",
       "146                             0.753074                             0.179853   \n",
       "514                             0.920532                             0.919372   \n",
       "\n",
       "     standardize(Q('euro_Anc_PC3'))_pval   PRS_coef  PRS_pval  \\\n",
       "327                             0.979240   8.954820  0.000028   \n",
       "332                             0.652962  37.693239  0.000295   \n",
       "333                             0.636038  34.447102  0.000742   \n",
       "326                             0.026483   6.801581  0.001265   \n",
       "386                             0.458414  31.698876  0.002180   \n",
       "..                                   ...        ...       ...   \n",
       "472                             0.818857   0.035309  0.989583   \n",
       "453                             0.701180   0.027518  0.990911   \n",
       "419                             0.944894  -0.030520  0.990997   \n",
       "146                             0.887886  -0.012479  0.991942   \n",
       "514                             0.821753   0.035598  0.992900   \n",
       "\n",
       "            threshold  \n",
       "327   ASD_PRS_Pt_0.01  \n",
       "332   ASD_PRS_Pt_0.01  \n",
       "333   ASD_PRS_Pt_0.01  \n",
       "326   ASD_PRS_Pt_0.01  \n",
       "386   ASD_PRS_Pt_0.05  \n",
       "..                ...  \n",
       "472    ASD_PRS_Pt_0.1  \n",
       "453    ASD_PRS_Pt_0.1  \n",
       "419   ASD_PRS_Pt_0.05  \n",
       "146  ASD_PRS_Pt_1e-06  \n",
       "514    ASD_PRS_Pt_0.5  \n",
       "\n",
       "[594 rows x 20 columns]"
      ]
     },
     "execution_count": 90,
     "metadata": {},
     "output_type": "execute_result"
    }
   ],
   "source": [
    "test.sort_values(by='PRS_pval')"
   ]
  },
  {
   "cell_type": "code",
   "execution_count": 9,
   "id": "a1c6bfde",
   "metadata": {},
   "outputs": [
    {
     "name": "stderr",
     "output_type": "stream",
     "text": [
      "100%|███████████████████████████████████████████| 11/11 [00:09<00:00,  1.11it/s]\n"
     ]
    }
   ],
   "source": [
    "test = stats.MassUnivariate.calculate_mass_univariate_across_multiple_thresholds(\n",
    "    fd_mean,\n",
    "    thresholds=[i for i in fd_mean.columns if 'ASD_PRS' in i],\n",
    "    cat_independentVar_cols=['sex'],\n",
    "    cont_independentVar_cols=['GA','PMA']+ancestry,\n",
    "    dependentVar_cols=[f'l_{i}' for i in range(94,148)])"
   ]
  },
  {
   "cell_type": "code",
   "execution_count": 12,
   "id": "166f3ea0",
   "metadata": {
    "scrolled": true
   },
   "outputs": [
    {
     "data": {
      "text/html": [
       "<div>\n",
       "<style scoped>\n",
       "    .dataframe tbody tr th:only-of-type {\n",
       "        vertical-align: middle;\n",
       "    }\n",
       "\n",
       "    .dataframe tbody tr th {\n",
       "        vertical-align: top;\n",
       "    }\n",
       "\n",
       "    .dataframe thead th {\n",
       "        text-align: right;\n",
       "    }\n",
       "</style>\n",
       "<table border=\"1\" class=\"dataframe\">\n",
       "  <thead>\n",
       "    <tr style=\"text-align: right;\">\n",
       "      <th></th>\n",
       "      <th>Connection</th>\n",
       "      <th>Intercept_coef</th>\n",
       "      <th>Intercept_pval</th>\n",
       "      <th>C(sex)[T.male]_coef</th>\n",
       "      <th>C(sex)[T.male]_pval</th>\n",
       "      <th>standardize(GA)_coef</th>\n",
       "      <th>standardize(GA)_pval</th>\n",
       "      <th>standardize(PMA)_coef</th>\n",
       "      <th>standardize(PMA)_pval</th>\n",
       "      <th>standardize(Q('euro_Anc_PC1'))_coef</th>\n",
       "      <th>standardize(Q('euro_Anc_PC1'))_pval</th>\n",
       "      <th>standardize(Q('euro_Anc_PC2'))_coef</th>\n",
       "      <th>standardize(Q('euro_Anc_PC2'))_pval</th>\n",
       "      <th>standardize(Q('euro_Anc_PC3'))_coef</th>\n",
       "      <th>standardize(Q('euro_Anc_PC3'))_pval</th>\n",
       "      <th>PRS_coef</th>\n",
       "      <th>PRS_pval</th>\n",
       "      <th>threshold</th>\n",
       "    </tr>\n",
       "  </thead>\n",
       "  <tbody>\n",
       "    <tr>\n",
       "      <th>80</th>\n",
       "      <td>l_120</td>\n",
       "      <td>0.259224</td>\n",
       "      <td>4.735118e-200</td>\n",
       "      <td>-0.003638</td>\n",
       "      <td>0.218000</td>\n",
       "      <td>-0.002256</td>\n",
       "      <td>0.234934</td>\n",
       "      <td>0.018182</td>\n",
       "      <td>4.345872e-18</td>\n",
       "      <td>0.001481</td>\n",
       "      <td>0.325996</td>\n",
       "      <td>-0.001884</td>\n",
       "      <td>0.209613</td>\n",
       "      <td>0.000140</td>\n",
       "      <td>0.926895</td>\n",
       "      <td>0.004300</td>\n",
       "      <td>0.003914</td>\n",
       "      <td>ASD_PRS_Pt_1e-07</td>\n",
       "    </tr>\n",
       "    <tr>\n",
       "      <th>441</th>\n",
       "      <td>l_103</td>\n",
       "      <td>0.261484</td>\n",
       "      <td>8.708963e-203</td>\n",
       "      <td>-0.009644</td>\n",
       "      <td>0.000953</td>\n",
       "      <td>0.003041</td>\n",
       "      <td>0.103204</td>\n",
       "      <td>0.012681</td>\n",
       "      <td>1.345084e-10</td>\n",
       "      <td>0.000494</td>\n",
       "      <td>0.739352</td>\n",
       "      <td>-0.002185</td>\n",
       "      <td>0.140839</td>\n",
       "      <td>-0.001520</td>\n",
       "      <td>0.310121</td>\n",
       "      <td>0.004243</td>\n",
       "      <td>0.004047</td>\n",
       "      <td>ASD_PRS_Pt_0.1</td>\n",
       "    </tr>\n",
       "    <tr>\n",
       "      <th>511</th>\n",
       "      <td>l_119</td>\n",
       "      <td>0.227801</td>\n",
       "      <td>8.484606e-216</td>\n",
       "      <td>-0.002683</td>\n",
       "      <td>0.217963</td>\n",
       "      <td>0.003784</td>\n",
       "      <td>0.007506</td>\n",
       "      <td>0.007153</td>\n",
       "      <td>1.077239e-06</td>\n",
       "      <td>-0.000995</td>\n",
       "      <td>0.373081</td>\n",
       "      <td>-0.002257</td>\n",
       "      <td>0.044975</td>\n",
       "      <td>0.000443</td>\n",
       "      <td>0.695125</td>\n",
       "      <td>0.003052</td>\n",
       "      <td>0.006336</td>\n",
       "      <td>ASD_PRS_Pt_0.5</td>\n",
       "    </tr>\n",
       "    <tr>\n",
       "      <th>565</th>\n",
       "      <td>l_119</td>\n",
       "      <td>0.227804</td>\n",
       "      <td>8.745662e-216</td>\n",
       "      <td>-0.002691</td>\n",
       "      <td>0.216702</td>\n",
       "      <td>0.003810</td>\n",
       "      <td>0.007149</td>\n",
       "      <td>0.007126</td>\n",
       "      <td>1.207199e-06</td>\n",
       "      <td>-0.000949</td>\n",
       "      <td>0.396201</td>\n",
       "      <td>-0.002236</td>\n",
       "      <td>0.046790</td>\n",
       "      <td>0.000428</td>\n",
       "      <td>0.705040</td>\n",
       "      <td>0.003044</td>\n",
       "      <td>0.006591</td>\n",
       "      <td>ASD_PRS_Pt_1</td>\n",
       "    </tr>\n",
       "    <tr>\n",
       "      <th>26</th>\n",
       "      <td>l_120</td>\n",
       "      <td>0.259236</td>\n",
       "      <td>9.265846e-200</td>\n",
       "      <td>-0.003663</td>\n",
       "      <td>0.216554</td>\n",
       "      <td>-0.002847</td>\n",
       "      <td>0.136756</td>\n",
       "      <td>0.018261</td>\n",
       "      <td>4.104138e-18</td>\n",
       "      <td>0.001470</td>\n",
       "      <td>0.330988</td>\n",
       "      <td>-0.002189</td>\n",
       "      <td>0.146851</td>\n",
       "      <td>0.000127</td>\n",
       "      <td>0.933976</td>\n",
       "      <td>0.004004</td>\n",
       "      <td>0.007650</td>\n",
       "      <td>ASD_PRS_Pt_1e-08</td>\n",
       "    </tr>\n",
       "    <tr>\n",
       "      <th>...</th>\n",
       "      <td>...</td>\n",
       "      <td>...</td>\n",
       "      <td>...</td>\n",
       "      <td>...</td>\n",
       "      <td>...</td>\n",
       "      <td>...</td>\n",
       "      <td>...</td>\n",
       "      <td>...</td>\n",
       "      <td>...</td>\n",
       "      <td>...</td>\n",
       "      <td>...</td>\n",
       "      <td>...</td>\n",
       "      <td>...</td>\n",
       "      <td>...</td>\n",
       "      <td>...</td>\n",
       "      <td>...</td>\n",
       "      <td>...</td>\n",
       "      <td>...</td>\n",
       "    </tr>\n",
       "    <tr>\n",
       "      <th>518</th>\n",
       "      <td>l_126</td>\n",
       "      <td>0.202799</td>\n",
       "      <td>2.781590e-145</td>\n",
       "      <td>-0.002595</td>\n",
       "      <td>0.541846</td>\n",
       "      <td>0.001430</td>\n",
       "      <td>0.602583</td>\n",
       "      <td>0.016240</td>\n",
       "      <td>2.038265e-08</td>\n",
       "      <td>0.002212</td>\n",
       "      <td>0.311522</td>\n",
       "      <td>-0.002775</td>\n",
       "      <td>0.206104</td>\n",
       "      <td>0.000719</td>\n",
       "      <td>0.745188</td>\n",
       "      <td>0.000039</td>\n",
       "      <td>0.985689</td>\n",
       "      <td>ASD_PRS_Pt_0.5</td>\n",
       "    </tr>\n",
       "    <tr>\n",
       "      <th>78</th>\n",
       "      <td>l_118</td>\n",
       "      <td>0.240940</td>\n",
       "      <td>3.353366e-218</td>\n",
       "      <td>-0.000628</td>\n",
       "      <td>0.779516</td>\n",
       "      <td>0.002744</td>\n",
       "      <td>0.058139</td>\n",
       "      <td>0.009452</td>\n",
       "      <td>5.664322e-10</td>\n",
       "      <td>0.000101</td>\n",
       "      <td>0.929751</td>\n",
       "      <td>-0.001524</td>\n",
       "      <td>0.182313</td>\n",
       "      <td>-0.000547</td>\n",
       "      <td>0.637035</td>\n",
       "      <td>0.000017</td>\n",
       "      <td>0.988012</td>\n",
       "      <td>ASD_PRS_Pt_1e-07</td>\n",
       "    </tr>\n",
       "    <tr>\n",
       "      <th>61</th>\n",
       "      <td>l_101</td>\n",
       "      <td>0.178422</td>\n",
       "      <td>5.355182e-147</td>\n",
       "      <td>-0.008827</td>\n",
       "      <td>0.017034</td>\n",
       "      <td>-0.001865</td>\n",
       "      <td>0.430310</td>\n",
       "      <td>0.027965</td>\n",
       "      <td>7.933445e-25</td>\n",
       "      <td>0.000210</td>\n",
       "      <td>0.910931</td>\n",
       "      <td>-0.002756</td>\n",
       "      <td>0.141286</td>\n",
       "      <td>0.001753</td>\n",
       "      <td>0.356442</td>\n",
       "      <td>-0.000020</td>\n",
       "      <td>0.991248</td>\n",
       "      <td>ASD_PRS_Pt_1e-07</td>\n",
       "    </tr>\n",
       "    <tr>\n",
       "      <th>498</th>\n",
       "      <td>l_106</td>\n",
       "      <td>0.208184</td>\n",
       "      <td>1.042988e-165</td>\n",
       "      <td>-0.000319</td>\n",
       "      <td>0.926639</td>\n",
       "      <td>0.003001</td>\n",
       "      <td>0.180654</td>\n",
       "      <td>-0.004072</td>\n",
       "      <td>7.415675e-02</td>\n",
       "      <td>-0.001744</td>\n",
       "      <td>0.327456</td>\n",
       "      <td>-0.001683</td>\n",
       "      <td>0.346445</td>\n",
       "      <td>-0.002073</td>\n",
       "      <td>0.250553</td>\n",
       "      <td>-0.000009</td>\n",
       "      <td>0.995723</td>\n",
       "      <td>ASD_PRS_Pt_0.5</td>\n",
       "    </tr>\n",
       "    <tr>\n",
       "      <th>161</th>\n",
       "      <td>l_147</td>\n",
       "      <td>0.442058</td>\n",
       "      <td>2.966030e-191</td>\n",
       "      <td>-0.019135</td>\n",
       "      <td>0.000659</td>\n",
       "      <td>-0.002902</td>\n",
       "      <td>0.417002</td>\n",
       "      <td>0.013917</td>\n",
       "      <td>1.428049e-04</td>\n",
       "      <td>-0.002870</td>\n",
       "      <td>0.311233</td>\n",
       "      <td>0.001563</td>\n",
       "      <td>0.579239</td>\n",
       "      <td>-0.000066</td>\n",
       "      <td>0.981645</td>\n",
       "      <td>0.000014</td>\n",
       "      <td>0.995856</td>\n",
       "      <td>ASD_PRS_Pt_1e-06</td>\n",
       "    </tr>\n",
       "  </tbody>\n",
       "</table>\n",
       "<p>594 rows × 18 columns</p>\n",
       "</div>"
      ],
      "text/plain": [
       "    Connection  Intercept_coef  Intercept_pval  C(sex)[T.male]_coef  \\\n",
       "80       l_120        0.259224   4.735118e-200            -0.003638   \n",
       "441      l_103        0.261484   8.708963e-203            -0.009644   \n",
       "511      l_119        0.227801   8.484606e-216            -0.002683   \n",
       "565      l_119        0.227804   8.745662e-216            -0.002691   \n",
       "26       l_120        0.259236   9.265846e-200            -0.003663   \n",
       "..         ...             ...             ...                  ...   \n",
       "518      l_126        0.202799   2.781590e-145            -0.002595   \n",
       "78       l_118        0.240940   3.353366e-218            -0.000628   \n",
       "61       l_101        0.178422   5.355182e-147            -0.008827   \n",
       "498      l_106        0.208184   1.042988e-165            -0.000319   \n",
       "161      l_147        0.442058   2.966030e-191            -0.019135   \n",
       "\n",
       "     C(sex)[T.male]_pval  standardize(GA)_coef  standardize(GA)_pval  \\\n",
       "80              0.218000             -0.002256              0.234934   \n",
       "441             0.000953              0.003041              0.103204   \n",
       "511             0.217963              0.003784              0.007506   \n",
       "565             0.216702              0.003810              0.007149   \n",
       "26              0.216554             -0.002847              0.136756   \n",
       "..                   ...                   ...                   ...   \n",
       "518             0.541846              0.001430              0.602583   \n",
       "78              0.779516              0.002744              0.058139   \n",
       "61              0.017034             -0.001865              0.430310   \n",
       "498             0.926639              0.003001              0.180654   \n",
       "161             0.000659             -0.002902              0.417002   \n",
       "\n",
       "     standardize(PMA)_coef  standardize(PMA)_pval  \\\n",
       "80                0.018182           4.345872e-18   \n",
       "441               0.012681           1.345084e-10   \n",
       "511               0.007153           1.077239e-06   \n",
       "565               0.007126           1.207199e-06   \n",
       "26                0.018261           4.104138e-18   \n",
       "..                     ...                    ...   \n",
       "518               0.016240           2.038265e-08   \n",
       "78                0.009452           5.664322e-10   \n",
       "61                0.027965           7.933445e-25   \n",
       "498              -0.004072           7.415675e-02   \n",
       "161               0.013917           1.428049e-04   \n",
       "\n",
       "     standardize(Q('euro_Anc_PC1'))_coef  standardize(Q('euro_Anc_PC1'))_pval  \\\n",
       "80                              0.001481                             0.325996   \n",
       "441                             0.000494                             0.739352   \n",
       "511                            -0.000995                             0.373081   \n",
       "565                            -0.000949                             0.396201   \n",
       "26                              0.001470                             0.330988   \n",
       "..                                   ...                                  ...   \n",
       "518                             0.002212                             0.311522   \n",
       "78                              0.000101                             0.929751   \n",
       "61                              0.000210                             0.910931   \n",
       "498                            -0.001744                             0.327456   \n",
       "161                            -0.002870                             0.311233   \n",
       "\n",
       "     standardize(Q('euro_Anc_PC2'))_coef  standardize(Q('euro_Anc_PC2'))_pval  \\\n",
       "80                             -0.001884                             0.209613   \n",
       "441                            -0.002185                             0.140839   \n",
       "511                            -0.002257                             0.044975   \n",
       "565                            -0.002236                             0.046790   \n",
       "26                             -0.002189                             0.146851   \n",
       "..                                   ...                                  ...   \n",
       "518                            -0.002775                             0.206104   \n",
       "78                             -0.001524                             0.182313   \n",
       "61                             -0.002756                             0.141286   \n",
       "498                            -0.001683                             0.346445   \n",
       "161                             0.001563                             0.579239   \n",
       "\n",
       "     standardize(Q('euro_Anc_PC3'))_coef  standardize(Q('euro_Anc_PC3'))_pval  \\\n",
       "80                              0.000140                             0.926895   \n",
       "441                            -0.001520                             0.310121   \n",
       "511                             0.000443                             0.695125   \n",
       "565                             0.000428                             0.705040   \n",
       "26                              0.000127                             0.933976   \n",
       "..                                   ...                                  ...   \n",
       "518                             0.000719                             0.745188   \n",
       "78                             -0.000547                             0.637035   \n",
       "61                              0.001753                             0.356442   \n",
       "498                            -0.002073                             0.250553   \n",
       "161                            -0.000066                             0.981645   \n",
       "\n",
       "     PRS_coef  PRS_pval         threshold  \n",
       "80   0.004300  0.003914  ASD_PRS_Pt_1e-07  \n",
       "441  0.004243  0.004047    ASD_PRS_Pt_0.1  \n",
       "511  0.003052  0.006336    ASD_PRS_Pt_0.5  \n",
       "565  0.003044  0.006591      ASD_PRS_Pt_1  \n",
       "26   0.004004  0.007650  ASD_PRS_Pt_1e-08  \n",
       "..        ...       ...               ...  \n",
       "518  0.000039  0.985689    ASD_PRS_Pt_0.5  \n",
       "78   0.000017  0.988012  ASD_PRS_Pt_1e-07  \n",
       "61  -0.000020  0.991248  ASD_PRS_Pt_1e-07  \n",
       "498 -0.000009  0.995723    ASD_PRS_Pt_0.5  \n",
       "161  0.000014  0.995856  ASD_PRS_Pt_1e-06  \n",
       "\n",
       "[594 rows x 18 columns]"
      ]
     },
     "execution_count": 12,
     "metadata": {},
     "output_type": "execute_result"
    }
   ],
   "source": [
    "test.sort_values(by='PRS_pval')"
   ]
  },
  {
   "cell_type": "code",
   "execution_count": 18,
   "id": "fd8faf6a",
   "metadata": {},
   "outputs": [
    {
     "data": {
      "text/plain": [
       "{'l_103',\n",
       " 'l_107',\n",
       " 'l_110',\n",
       " 'l_115',\n",
       " 'l_117',\n",
       " 'l_118',\n",
       " 'l_119',\n",
       " 'l_120',\n",
       " 'l_122',\n",
       " 'l_129',\n",
       " 'l_132',\n",
       " 'l_133',\n",
       " 'l_134',\n",
       " 'l_135',\n",
       " 'l_136',\n",
       " 'l_140',\n",
       " 'l_143',\n",
       " 'l_94',\n",
       " 'l_96',\n",
       " 'l_97'}"
      ]
     },
     "execution_count": 18,
     "metadata": {},
     "output_type": "execute_result"
    }
   ],
   "source": [
    "set(test[test['PRS_pval']<0.05].Connection.unique())"
   ]
  },
  {
   "cell_type": "code",
   "execution_count": null,
   "id": "cd3c9e98",
   "metadata": {},
   "outputs": [],
   "source": [
    "t"
   ]
  },
  {
   "cell_type": "code",
   "execution_count": 308,
   "id": "4193726e",
   "metadata": {},
   "outputs": [
    {
     "name": "stderr",
     "output_type": "stream",
     "text": [
      "100%|███████████████████████████████████████████| 11/11 [00:00<00:00, 42.09it/s]\n"
     ]
    }
   ],
   "source": [
    "test = stats.MassUnivariate.calculate_mass_univariate_across_multiple_thresholds(\n",
    "    fd_mean,\n",
    "    thresholds=[i for i in fd_mean.columns if 'SCZ_PRS' in i],\n",
    "    cat_independentVar_cols=['sex'],\n",
    "    cont_independentVar_cols=['GA','PMA']+ancestry,\n",
    "    dependentVar_cols=['l_111'])"
   ]
  },
  {
   "cell_type": "code",
   "execution_count": 309,
   "id": "b0cff7ab",
   "metadata": {},
   "outputs": [
    {
     "data": {
      "text/plain": [
       "Text(0.5, 1.0, 'Right Fornix MD ~ SCZ PRS')"
      ]
     },
     "execution_count": 309,
     "metadata": {},
     "output_type": "execute_result"
    },
    {
     "data": {
      "image/png": "[encoded data removed]",
      "text/plain": [
       "<Figure size 640x480 with 2 Axes>"
      ]
     },
     "metadata": {},
     "output_type": "display_data"
    }
   ],
   "source": [
    "fig,ax = plt.subplots(1,1)\n",
    "visualisation.SimplePlots.Bar(x='threshold',y='PRS_pval',\n",
    "                              data=test,\n",
    "                              yscalelog=True,order={'x':[i for i in fd_mean.columns if 'SCZ_PRS' in i]},\n",
    "                              colorby='PRS_coef',cmap='Blues',rotation_x=90,hline=0.0004,hline_label='p<0.0004',legend_loc='upper right',ax=ax,fig=fig,\n",
    "                             ylabel='log10(p-value)')\n",
    "ax.hlines(0.05,xmin=0.5,xmax=11,label='p<0.05')\n",
    "ax.legend(['p<0.0004','p<0.05'],loc='upper left')\n",
    "ax.set_title('Right Fornix MD ~ SCZ PRS')"
   ]
  },
  {
   "cell_type": "code",
   "execution_count": 333,
   "id": "4230e175",
   "metadata": {},
   "outputs": [
    {
     "data": {
      "text/plain": [
       "<AxesSubplot:xlabel='standardize(Adj. Fornix R. FA)', ylabel='standardize(Adj. SCZ_PRS_Pt_0.5)'>"
      ]
     },
     "execution_count": 333,
     "metadata": {},
     "output_type": "execute_result"
    },
    {
     "data": {
      "image/png": "[encoded data removed]",
      "text/plain": [
       "<Figure size 640x480 with 1 Axes>"
      ]
     },
     "metadata": {},
     "output_type": "display_data"
    }
   ],
   "source": [
    "visualisation.SimplePlots.Scatter(x='l_111',\n",
    "                                  y='SCZ_PRS_Pt_0.5',\n",
    "                                  adjust_covar={'x':['GA','PMA','sex'],'y':ancestry},\n",
    "                                  data=fd_mean,xlabel='Fornix R. FA',legend_loc='upper left')"
   ]
  },
  {
   "cell_type": "code",
   "execution_count": 72,
   "id": "5de272fe",
   "metadata": {},
   "outputs": [
    {
     "name": "stdout",
     "output_type": "stream",
     "text": [
      "Effective Number of Independent Variables [Veff] is 43.51634360884992\n",
      "Effective Number of Independent Variables [VeffLi] (Using equation 5 of Li and Ji 2005) is 26.0\n",
      "The adjusted multiple testing correction p-val is alpha/lower(Meff) = 0.0019230769230769227\n"
     ]
    },
    {
     "data": {
      "text/plain": [
       "26.000000000000007"
      ]
     },
     "execution_count": 72,
     "metadata": {},
     "output_type": "execute_result"
    }
   ],
   "source": [
    "stats.MultipleCorrection.matSpDLite(np.corrcoef(fd_mean[[f'l_{i}' for i in range(94,148)]],rowvar=False))"
   ]
  },
  {
   "cell_type": "code",
   "execution_count": 73,
   "id": "991499de",
   "metadata": {},
   "outputs": [
    {
     "name": "stdout",
     "output_type": "stream",
     "text": [
      "Effective Number of Independent Variables [Veff] is 5.110944751786361\n",
      "Effective Number of Independent Variables [VeffLi] (Using equation 5 of Li and Ji 2005) is 4.0\n",
      "The adjusted multiple testing correction p-val is alpha/lower(Meff) = 0.01250000000000001\n"
     ]
    },
    {
     "data": {
      "text/plain": [
       "3.9999999999999973"
      ]
     },
     "execution_count": 73,
     "metadata": {},
     "output_type": "execute_result"
    }
   ],
   "source": [
    "stats.MultipleCorrection.matSpDLite(np.corrcoef(fd_mean[[i for i in fd_mean.columns if 'SCZ_PRS' in i]],rowvar=False))"
   ]
  },
  {
   "cell_type": "code",
   "execution_count": 5,
   "id": "1347d75f",
   "metadata": {},
   "outputs": [],
   "source": [
    "wm_parcellations = {int(k.replace('wm_','')):v['abbr'] for k,v in data_preprocessing.Diffusion.WM_parcellation.get_wm_parcellation().items()}"
   ]
  },
  {
   "cell_type": "code",
   "execution_count": 26,
   "id": "129e3f47",
   "metadata": {},
   "outputs": [
    {
     "data": {
      "text/plain": [
       "{110: 'FORN.left', 111: 'FORN.right'}"
      ]
     },
     "execution_count": 26,
     "metadata": {},
     "output_type": "execute_result"
    }
   ],
   "source": [
    "{110:'FORN.left',111:'FORN.right'}"
   ]
  },
  {
   "cell_type": "code",
   "execution_count": null,
   "id": "a16b19dc",
   "metadata": {},
   "outputs": [],
   "source": [
    "{97: 'IC.right.posterior',102: 'SCR.left'}"
   ]
  },
  {
   "cell_type": "code",
   "execution_count": 34,
   "id": "8775a2be",
   "metadata": {},
   "outputs": [
    {
     "data": {
      "image/png": "[encoded data removed]",
      "text/plain": [
       "<Figure size 1440x720 with 4 Axes>"
      ]
     },
     "metadata": {
      "needs_background": "light"
     },
     "output_type": "display_data"
    }
   ],
   "source": [
    "fig = plt.figure(figsize=(20,10))\n",
    "gs = fig.add_gridspec(3,3)\n",
    "axes1 = fig.add_subplot(gs[0:2, 0])\n",
    "axes2 = fig.add_subplot(gs[0:2, 1])\n",
    "axes3 = fig.add_subplot(gs[0:2, 2])\n",
    "axes4 = fig.add_subplot(gs[2, :])\n",
    "axes4.set_axis_off()\n",
    "_,_ = visualisation.Brainmap.plot_segmentation(\n",
    "    atlas_file='../dataset/visualise/wm_parcellation/parcellation_maps_05mm/reference-05mm-dHCP-structure-parcellation.nii.gz',\n",
    "    atlas_slice=130,\n",
    "    regions_to_hide=[i for i in range(88)],\n",
    "    outline_alpha=0.1,\n",
    "    outline_colour='green',\n",
    "    axes=[axes1,axes2,axes3])\n",
    "_,_ = visualisation.Brainmap.plot_segmentation(\n",
    "    atlas_file='../dataset/visualise/wm_parcellation/parcellation_maps_05mm/reference-05mm-WM-parcellation.nii.gz',\n",
    "    label_legend={97: 'IC.right.posterior',102: 'SCR.left'},\n",
    "    atlas_slice=130,\n",
    "    cmap='tab20',\n",
    "    axes=[axes1,axes2,axes3],\n",
    "    label_legend_axis=axes4,\n",
    "    legends=True,\n",
    "    label_legend_loc='upper center',label_legend_bbox_to_anchor=None,label_legend_ncol=6)\n",
    "\n",
    "plt.tight_layout()\n",
    "# plt.savefig('../../nimagen/docs/example/images/overlaying.png',dpi=300)"
   ]
  },
  {
   "cell_type": "code",
   "execution_count": null,
   "id": "9847de4e",
   "metadata": {},
   "outputs": [],
   "source": []
  }
 ],
 "metadata": {
  "hide_input": false,
  "kernelspec": {
   "display_name": "Python 3 (ipykernel)",
   "language": "python",
   "name": "python3"
  },
  "language_info": {
   "codemirror_mode": {
    "name": "ipython",
    "version": 3
   },
   "file_extension": ".py",
   "mimetype": "text/x-python",
   "name": "python",
   "nbconvert_exporter": "python",
   "pygments_lexer": "ipython3",
   "version": "3.9.12"
  }
 },
 "nbformat": 4,
 "nbformat_minor": 5
}
